{
 "cells": [
  {
   "cell_type": "code",
   "execution_count": 1,
   "id": "74ac1fd0",
   "metadata": {
    "execution": {
     "iopub.execute_input": "2024-01-07T02:06:00.250408Z",
     "iopub.status.busy": "2024-01-07T02:06:00.250055Z",
     "iopub.status.idle": "2024-01-07T02:06:00.260864Z",
     "shell.execute_reply": "2024-01-07T02:06:00.259098Z"
    },
    "papermill": {
     "duration": 0.02641,
     "end_time": "2024-01-07T02:06:00.263774",
     "exception": false,
     "start_time": "2024-01-07T02:06:00.237364",
     "status": "completed"
    },
    "tags": []
   },
   "outputs": [],
   "source": [
    "import warnings\n",
    "warnings.filterwarnings(\"ignore\")"
   ]
  },
  {
   "cell_type": "code",
   "execution_count": 2,
   "id": "2c0691a0",
   "metadata": {
    "_cell_guid": "b1076dfc-b9ad-4769-8c92-a6c4dae69d19",
    "_uuid": "8f2839f25d086af736a60e9eeb907d3b93b6e0e5",
    "execution": {
     "iopub.execute_input": "2024-01-07T02:06:00.286489Z",
     "iopub.status.busy": "2024-01-07T02:06:00.286035Z",
     "iopub.status.idle": "2024-01-07T02:06:02.490253Z",
     "shell.execute_reply": "2024-01-07T02:06:02.488946Z"
    },
    "papermill": {
     "duration": 2.218602,
     "end_time": "2024-01-07T02:06:02.492988",
     "exception": false,
     "start_time": "2024-01-07T02:06:00.274386",
     "status": "completed"
    },
    "tags": []
   },
   "outputs": [],
   "source": [
    "# This Python 3 environment comes with many helpful analytics libraries installed\n",
    "# It is defined by the kaggle/python Docker image: https://github.com/kaggle/docker-python\n",
    "# For example, here's several helpful packages to load\n",
    "\n",
    "import numpy as np # linear algebra\n",
    "import pandas as pd # data processing, CSV file I/O (e.g. pd.read_csv)\n",
    "import matplotlib.pyplot as plt\n",
    "import seaborn as sns\n",
    "from sklearn.model_selection import train_test_split\n",
    "from sklearn.linear_model import LogisticRegression\n",
    "from sklearn.svm import LinearSVC\n",
    "from sklearn.svm import SVC\n",
    "from sklearn.model_selection import GridSearchCV\n",
    "from sklearn.metrics import accuracy_score"
   ]
  },
  {
   "cell_type": "code",
   "execution_count": 3,
   "id": "016ffc49",
   "metadata": {
    "execution": {
     "iopub.execute_input": "2024-01-07T02:06:02.515335Z",
     "iopub.status.busy": "2024-01-07T02:06:02.514836Z",
     "iopub.status.idle": "2024-01-07T02:06:02.557302Z",
     "shell.execute_reply": "2024-01-07T02:06:02.555626Z"
    },
    "papermill": {
     "duration": 0.056494,
     "end_time": "2024-01-07T02:06:02.559813",
     "exception": false,
     "start_time": "2024-01-07T02:06:02.503319",
     "status": "completed"
    },
    "tags": []
   },
   "outputs": [],
   "source": [
    "train = pd.read_csv(\"/kaggle/input/titanic/train.csv\")\n",
    "test = pd.read_csv(\"/kaggle/input/titanic/test.csv\")\n",
    "submission = pd.read_csv(\"/kaggle/input/titanic/gender_submission.csv\")"
   ]
  },
  {
   "cell_type": "code",
   "execution_count": 4,
   "id": "5538e4e7",
   "metadata": {
    "execution": {
     "iopub.execute_input": "2024-01-07T02:06:02.583583Z",
     "iopub.status.busy": "2024-01-07T02:06:02.583006Z",
     "iopub.status.idle": "2024-01-07T02:06:02.587936Z",
     "shell.execute_reply": "2024-01-07T02:06:02.586921Z"
    },
    "papermill": {
     "duration": 0.019393,
     "end_time": "2024-01-07T02:06:02.589795",
     "exception": false,
     "start_time": "2024-01-07T02:06:02.570402",
     "status": "completed"
    },
    "tags": []
   },
   "outputs": [
    {
     "name": "stdout",
     "output_type": "stream",
     "text": [
      "Train Data: Number of Houses are: 891 and the number of features for each house are 12\n",
      "Test Data: Number of Houses are: 418 and the number of features for each house are 11\n"
     ]
    }
   ],
   "source": [
    "# print Dimesnions\n",
    "print(f\"Train Data: Number of Houses are: {train.shape[0]} and the number of features for each house are {train.shape[1]}\")\n",
    "print(f\"Test Data: Number of Houses are: {test.shape[0]} and the number of features for each house are {test.shape[1]}\")"
   ]
  },
  {
   "cell_type": "code",
   "execution_count": 5,
   "id": "de3bc4d9",
   "metadata": {
    "execution": {
     "iopub.execute_input": "2024-01-07T02:06:02.614024Z",
     "iopub.status.busy": "2024-01-07T02:06:02.612988Z",
     "iopub.status.idle": "2024-01-07T02:06:02.634433Z",
     "shell.execute_reply": "2024-01-07T02:06:02.633118Z"
    },
    "papermill": {
     "duration": 0.036144,
     "end_time": "2024-01-07T02:06:02.636850",
     "exception": false,
     "start_time": "2024-01-07T02:06:02.600706",
     "status": "completed"
    },
    "tags": []
   },
   "outputs": [
    {
     "data": {
      "text/plain": [
       "PassengerId      0\n",
       "Survived         0\n",
       "Pclass           0\n",
       "Name             0\n",
       "Sex              0\n",
       "Age            177\n",
       "SibSp            0\n",
       "Parch            0\n",
       "Ticket           0\n",
       "Fare             0\n",
       "Cabin          687\n",
       "Embarked         2\n",
       "dtype: int64"
      ]
     },
     "execution_count": 5,
     "metadata": {},
     "output_type": "execute_result"
    }
   ],
   "source": [
    " train.isnull().sum()"
   ]
  },
  {
   "cell_type": "code",
   "execution_count": 6,
   "id": "48812a77",
   "metadata": {
    "execution": {
     "iopub.execute_input": "2024-01-07T02:06:02.661542Z",
     "iopub.status.busy": "2024-01-07T02:06:02.660532Z",
     "iopub.status.idle": "2024-01-07T02:06:02.666377Z",
     "shell.execute_reply": "2024-01-07T02:06:02.665232Z"
    },
    "papermill": {
     "duration": 0.020552,
     "end_time": "2024-01-07T02:06:02.669144",
     "exception": false,
     "start_time": "2024-01-07T02:06:02.648592",
     "status": "completed"
    },
    "tags": []
   },
   "outputs": [
    {
     "data": {
      "text/plain": [
       "0.19865319865319866"
      ]
     },
     "execution_count": 6,
     "metadata": {},
     "output_type": "execute_result"
    }
   ],
   "source": [
    "177/891"
   ]
  },
  {
   "cell_type": "code",
   "execution_count": 7,
   "id": "ba222af8",
   "metadata": {
    "execution": {
     "iopub.execute_input": "2024-01-07T02:06:02.696874Z",
     "iopub.status.busy": "2024-01-07T02:06:02.696078Z",
     "iopub.status.idle": "2024-01-07T02:06:02.714406Z",
     "shell.execute_reply": "2024-01-07T02:06:02.713335Z"
    },
    "papermill": {
     "duration": 0.036127,
     "end_time": "2024-01-07T02:06:02.716918",
     "exception": false,
     "start_time": "2024-01-07T02:06:02.680791",
     "status": "completed"
    },
    "tags": []
   },
   "outputs": [],
   "source": [
    "#drop column 'cabin' as more than 70% rows are null\n",
    "train_1 = train.drop(['PassengerId','Cabin','Ticket','Name'], axis=1)\n",
    "test_1 = test.drop(['PassengerId','Cabin','Ticket','Name'], axis=1)"
   ]
  },
  {
   "cell_type": "code",
   "execution_count": 8,
   "id": "0b31e7dc",
   "metadata": {
    "execution": {
     "iopub.execute_input": "2024-01-07T02:06:02.740516Z",
     "iopub.status.busy": "2024-01-07T02:06:02.740170Z",
     "iopub.status.idle": "2024-01-07T02:06:02.746465Z",
     "shell.execute_reply": "2024-01-07T02:06:02.744938Z"
    },
    "papermill": {
     "duration": 0.021065,
     "end_time": "2024-01-07T02:06:02.749185",
     "exception": false,
     "start_time": "2024-01-07T02:06:02.728120",
     "status": "completed"
    },
    "tags": []
   },
   "outputs": [
    {
     "name": "stdout",
     "output_type": "stream",
     "text": [
      "Train Data: Number of Houses are: 891 and the number of features for each house are 8\n",
      "Test Data: Number of Houses are: 418 and the number of features for each house are 7\n"
     ]
    }
   ],
   "source": [
    "# print Dimesnions\n",
    "print(f\"Train Data: Number of Houses are: {train_1.shape[0]} and the number of features for each house are {train_1.shape[1]}\")\n",
    "print(f\"Test Data: Number of Houses are: {test_1.shape[0]} and the number of features for each house are {test_1.shape[1]}\")"
   ]
  },
  {
   "cell_type": "code",
   "execution_count": 9,
   "id": "ae4f930d",
   "metadata": {
    "execution": {
     "iopub.execute_input": "2024-01-07T02:06:02.772386Z",
     "iopub.status.busy": "2024-01-07T02:06:02.772079Z",
     "iopub.status.idle": "2024-01-07T02:06:02.779959Z",
     "shell.execute_reply": "2024-01-07T02:06:02.778524Z"
    },
    "papermill": {
     "duration": 0.021952,
     "end_time": "2024-01-07T02:06:02.782121",
     "exception": false,
     "start_time": "2024-01-07T02:06:02.760169",
     "status": "completed"
    },
    "tags": []
   },
   "outputs": [
    {
     "data": {
      "text/plain": [
       "Survived      0\n",
       "Pclass        0\n",
       "Sex           0\n",
       "Age         177\n",
       "SibSp         0\n",
       "Parch         0\n",
       "Fare          0\n",
       "Embarked      2\n",
       "dtype: int64"
      ]
     },
     "execution_count": 9,
     "metadata": {},
     "output_type": "execute_result"
    }
   ],
   "source": [
    " train_1.isnull().sum()"
   ]
  },
  {
   "cell_type": "code",
   "execution_count": 10,
   "id": "54436f06",
   "metadata": {
    "execution": {
     "iopub.execute_input": "2024-01-07T02:06:02.805579Z",
     "iopub.status.busy": "2024-01-07T02:06:02.805271Z",
     "iopub.status.idle": "2024-01-07T02:06:02.814395Z",
     "shell.execute_reply": "2024-01-07T02:06:02.813270Z"
    },
    "papermill": {
     "duration": 0.023318,
     "end_time": "2024-01-07T02:06:02.816413",
     "exception": false,
     "start_time": "2024-01-07T02:06:02.793095",
     "status": "completed"
    },
    "tags": []
   },
   "outputs": [
    {
     "data": {
      "text/plain": [
       "0      22.0\n",
       "1      38.0\n",
       "2      26.0\n",
       "3      35.0\n",
       "4      35.0\n",
       "       ... \n",
       "886    27.0\n",
       "887    19.0\n",
       "888     NaN\n",
       "889    26.0\n",
       "890    32.0\n",
       "Name: Age, Length: 891, dtype: float64"
      ]
     },
     "execution_count": 10,
     "metadata": {},
     "output_type": "execute_result"
    }
   ],
   "source": [
    "train_1['Age']"
   ]
  },
  {
   "cell_type": "code",
   "execution_count": 11,
   "id": "d5f56cdb",
   "metadata": {
    "execution": {
     "iopub.execute_input": "2024-01-07T02:06:02.839477Z",
     "iopub.status.busy": "2024-01-07T02:06:02.839103Z",
     "iopub.status.idle": "2024-01-07T02:06:02.851323Z",
     "shell.execute_reply": "2024-01-07T02:06:02.849789Z"
    },
    "papermill": {
     "duration": 0.027193,
     "end_time": "2024-01-07T02:06:02.854352",
     "exception": false,
     "start_time": "2024-01-07T02:06:02.827159",
     "status": "completed"
    },
    "tags": []
   },
   "outputs": [
    {
     "data": {
      "text/plain": [
       "array([1, 0, 3, 4, 2, 5, 8])"
      ]
     },
     "execution_count": 11,
     "metadata": {},
     "output_type": "execute_result"
    }
   ],
   "source": [
    "train_1['SibSp'].unique()"
   ]
  },
  {
   "cell_type": "code",
   "execution_count": 12,
   "id": "93370fb1",
   "metadata": {
    "execution": {
     "iopub.execute_input": "2024-01-07T02:06:02.941918Z",
     "iopub.status.busy": "2024-01-07T02:06:02.941546Z",
     "iopub.status.idle": "2024-01-07T02:06:02.949819Z",
     "shell.execute_reply": "2024-01-07T02:06:02.948267Z"
    },
    "papermill": {
     "duration": 0.023863,
     "end_time": "2024-01-07T02:06:02.952553",
     "exception": false,
     "start_time": "2024-01-07T02:06:02.928690",
     "status": "completed"
    },
    "tags": []
   },
   "outputs": [
    {
     "data": {
      "text/plain": [
       "array([0, 1, 2, 5, 3, 4, 6])"
      ]
     },
     "execution_count": 12,
     "metadata": {},
     "output_type": "execute_result"
    }
   ],
   "source": [
    "train_1['Parch'].unique()"
   ]
  },
  {
   "cell_type": "code",
   "execution_count": 13,
   "id": "7ac3dee9",
   "metadata": {
    "execution": {
     "iopub.execute_input": "2024-01-07T02:06:02.978479Z",
     "iopub.status.busy": "2024-01-07T02:06:02.978130Z",
     "iopub.status.idle": "2024-01-07T02:06:02.987861Z",
     "shell.execute_reply": "2024-01-07T02:06:02.986317Z"
    },
    "papermill": {
     "duration": 0.026286,
     "end_time": "2024-01-07T02:06:02.990759",
     "exception": false,
     "start_time": "2024-01-07T02:06:02.964473",
     "status": "completed"
    },
    "tags": []
   },
   "outputs": [
    {
     "data": {
      "text/plain": [
       "array(['S', 'C', 'Q', nan], dtype=object)"
      ]
     },
     "execution_count": 13,
     "metadata": {},
     "output_type": "execute_result"
    }
   ],
   "source": [
    "train_1['Embarked'].unique()"
   ]
  },
  {
   "cell_type": "code",
   "execution_count": 14,
   "id": "d2b2afd9",
   "metadata": {
    "execution": {
     "iopub.execute_input": "2024-01-07T02:06:03.016165Z",
     "iopub.status.busy": "2024-01-07T02:06:03.015743Z",
     "iopub.status.idle": "2024-01-07T02:06:03.024654Z",
     "shell.execute_reply": "2024-01-07T02:06:03.023293Z"
    },
    "papermill": {
     "duration": 0.023986,
     "end_time": "2024-01-07T02:06:03.027141",
     "exception": false,
     "start_time": "2024-01-07T02:06:03.003155",
     "status": "completed"
    },
    "tags": []
   },
   "outputs": [],
   "source": [
    "\n",
    "Sex_counts = train_1['Sex'].value_counts()\n"
   ]
  },
  {
   "cell_type": "code",
   "execution_count": 15,
   "id": "afc579ad",
   "metadata": {
    "execution": {
     "iopub.execute_input": "2024-01-07T02:06:03.053698Z",
     "iopub.status.busy": "2024-01-07T02:06:03.053267Z",
     "iopub.status.idle": "2024-01-07T02:06:03.059938Z",
     "shell.execute_reply": "2024-01-07T02:06:03.058983Z"
    },
    "papermill": {
     "duration": 0.023417,
     "end_time": "2024-01-07T02:06:03.062727",
     "exception": false,
     "start_time": "2024-01-07T02:06:03.039310",
     "status": "completed"
    },
    "tags": []
   },
   "outputs": [
    {
     "data": {
      "text/plain": [
       "Sex\n",
       "male      577\n",
       "female    314\n",
       "Name: count, dtype: int64"
      ]
     },
     "execution_count": 15,
     "metadata": {},
     "output_type": "execute_result"
    }
   ],
   "source": [
    "Sex_counts"
   ]
  },
  {
   "cell_type": "code",
   "execution_count": 16,
   "id": "1a25e89a",
   "metadata": {
    "execution": {
     "iopub.execute_input": "2024-01-07T02:06:03.088270Z",
     "iopub.status.busy": "2024-01-07T02:06:03.087840Z",
     "iopub.status.idle": "2024-01-07T02:06:03.303406Z",
     "shell.execute_reply": "2024-01-07T02:06:03.302009Z"
    },
    "papermill": {
     "duration": 0.231246,
     "end_time": "2024-01-07T02:06:03.305772",
     "exception": false,
     "start_time": "2024-01-07T02:06:03.074526",
     "status": "completed"
    },
    "tags": []
   },
   "outputs": [
    {
     "data": {
      "image/png": "[encoded data removed]",
      "text/plain": [
       "<Figure size 400x300 with 1 Axes>"
      ]
     },
     "metadata": {},
     "output_type": "display_data"
    }
   ],
   "source": [
    "# Plotting\n",
    "plt.figure(figsize=(4, 3))\n",
    "plt.bar(Sex_counts.index, Sex_counts)\n",
    "plt.xlabel('Category')\n",
    "plt.ylabel('Count')\n",
    "plt.title('Histogram of Sex Data')\n",
    "plt.show()"
   ]
  },
  {
   "cell_type": "code",
   "execution_count": 17,
   "id": "6a605ff2",
   "metadata": {
    "execution": {
     "iopub.execute_input": "2024-01-07T02:06:03.331989Z",
     "iopub.status.busy": "2024-01-07T02:06:03.331571Z",
     "iopub.status.idle": "2024-01-07T02:06:03.530473Z",
     "shell.execute_reply": "2024-01-07T02:06:03.528704Z"
    },
    "papermill": {
     "duration": 0.215552,
     "end_time": "2024-01-07T02:06:03.533260",
     "exception": false,
     "start_time": "2024-01-07T02:06:03.317708",
     "status": "completed"
    },
    "tags": []
   },
   "outputs": [
    {
     "data": {
      "image/png": "[encoded data removed]",
      "text/plain": [
       "<Figure size 500x400 with 1 Axes>"
      ]
     },
     "metadata": {},
     "output_type": "display_data"
    }
   ],
   "source": [
    "plt.figure(figsize=(5, 4))\n",
    "sns.boxplot(x='Sex', y='Age', data=train_1)\n",
    "plt.title('Quantile Graph of Age for Different Genders')\n",
    "plt.show()"
   ]
  },
  {
   "cell_type": "code",
   "execution_count": 18,
   "id": "2a2e9c32",
   "metadata": {
    "execution": {
     "iopub.execute_input": "2024-01-07T02:06:03.559537Z",
     "iopub.status.busy": "2024-01-07T02:06:03.559098Z",
     "iopub.status.idle": "2024-01-07T02:06:03.567730Z",
     "shell.execute_reply": "2024-01-07T02:06:03.566313Z"
    },
    "papermill": {
     "duration": 0.024657,
     "end_time": "2024-01-07T02:06:03.570248",
     "exception": false,
     "start_time": "2024-01-07T02:06:03.545591",
     "status": "completed"
    },
    "tags": []
   },
   "outputs": [
    {
     "data": {
      "text/plain": [
       "Survived      0\n",
       "Pclass        0\n",
       "Sex           0\n",
       "Age         177\n",
       "SibSp         0\n",
       "Parch         0\n",
       "Fare          0\n",
       "Embarked      2\n",
       "dtype: int64"
      ]
     },
     "execution_count": 18,
     "metadata": {},
     "output_type": "execute_result"
    }
   ],
   "source": [
    " train_1.isnull().sum()"
   ]
  },
  {
   "cell_type": "code",
   "execution_count": 19,
   "id": "525c10af",
   "metadata": {
    "execution": {
     "iopub.execute_input": "2024-01-07T02:06:03.596388Z",
     "iopub.status.busy": "2024-01-07T02:06:03.595998Z",
     "iopub.status.idle": "2024-01-07T02:06:03.602665Z",
     "shell.execute_reply": "2024-01-07T02:06:03.601247Z"
    },
    "papermill": {
     "duration": 0.022554,
     "end_time": "2024-01-07T02:06:03.605046",
     "exception": false,
     "start_time": "2024-01-07T02:06:03.582492",
     "status": "completed"
    },
    "tags": []
   },
   "outputs": [
    {
     "data": {
      "text/plain": [
       "array(['S', 'C', 'Q', nan], dtype=object)"
      ]
     },
     "execution_count": 19,
     "metadata": {},
     "output_type": "execute_result"
    }
   ],
   "source": [
    "train_1['Embarked'].unique()"
   ]
  },
  {
   "cell_type": "code",
   "execution_count": 20,
   "id": "dffda9bd",
   "metadata": {
    "execution": {
     "iopub.execute_input": "2024-01-07T02:06:03.631086Z",
     "iopub.status.busy": "2024-01-07T02:06:03.630655Z",
     "iopub.status.idle": "2024-01-07T02:06:03.637142Z",
     "shell.execute_reply": "2024-01-07T02:06:03.635593Z"
    },
    "papermill": {
     "duration": 0.022487,
     "end_time": "2024-01-07T02:06:03.639959",
     "exception": false,
     "start_time": "2024-01-07T02:06:03.617472",
     "status": "completed"
    },
    "tags": []
   },
   "outputs": [],
   "source": [
    "Replacement_nums ={\n",
    "    \"Sex\": {\"female\": 1,\"male\": 0},\n",
    "    \"Embarked\": {'S': 1, 'C':2, 'Q':3, 'nan' : 0},\n",
    "}"
   ]
  },
  {
   "cell_type": "code",
   "execution_count": 21,
   "id": "6f5fca8c",
   "metadata": {
    "execution": {
     "iopub.execute_input": "2024-01-07T02:06:03.666190Z",
     "iopub.status.busy": "2024-01-07T02:06:03.665778Z",
     "iopub.status.idle": "2024-01-07T02:06:03.677010Z",
     "shell.execute_reply": "2024-01-07T02:06:03.675837Z"
    },
    "papermill": {
     "duration": 0.027213,
     "end_time": "2024-01-07T02:06:03.679529",
     "exception": false,
     "start_time": "2024-01-07T02:06:03.652316",
     "status": "completed"
    },
    "tags": []
   },
   "outputs": [],
   "source": [
    "train_2 = train_1.replace(Replacement_nums)\n",
    "test_2 = test_1.replace(Replacement_nums)"
   ]
  },
  {
   "cell_type": "code",
   "execution_count": 22,
   "id": "ffb68d76",
   "metadata": {
    "execution": {
     "iopub.execute_input": "2024-01-07T02:06:03.706927Z",
     "iopub.status.busy": "2024-01-07T02:06:03.706528Z",
     "iopub.status.idle": "2024-01-07T02:06:03.713449Z",
     "shell.execute_reply": "2024-01-07T02:06:03.712156Z"
    },
    "papermill": {
     "duration": 0.023148,
     "end_time": "2024-01-07T02:06:03.715543",
     "exception": false,
     "start_time": "2024-01-07T02:06:03.692395",
     "status": "completed"
    },
    "tags": []
   },
   "outputs": [],
   "source": [
    "train_2['Embarked'] = train_2['Embarked'].fillna(0)\n",
    "test_2['Embarked'] = test_2['Embarked'].fillna(0)"
   ]
  },
  {
   "cell_type": "code",
   "execution_count": 23,
   "id": "67247f82",
   "metadata": {
    "execution": {
     "iopub.execute_input": "2024-01-07T02:06:03.741938Z",
     "iopub.status.busy": "2024-01-07T02:06:03.741193Z",
     "iopub.status.idle": "2024-01-07T02:06:03.747488Z",
     "shell.execute_reply": "2024-01-07T02:06:03.746672Z"
    },
    "papermill": {
     "duration": 0.021795,
     "end_time": "2024-01-07T02:06:03.749326",
     "exception": false,
     "start_time": "2024-01-07T02:06:03.727531",
     "status": "completed"
    },
    "tags": []
   },
   "outputs": [
    {
     "data": {
      "text/plain": [
       "array([0, 1])"
      ]
     },
     "execution_count": 23,
     "metadata": {},
     "output_type": "execute_result"
    }
   ],
   "source": [
    "train_2['Sex'].unique()"
   ]
  },
  {
   "cell_type": "code",
   "execution_count": 24,
   "id": "bd9fa422",
   "metadata": {
    "execution": {
     "iopub.execute_input": "2024-01-07T02:06:03.775268Z",
     "iopub.status.busy": "2024-01-07T02:06:03.774652Z",
     "iopub.status.idle": "2024-01-07T02:06:03.780633Z",
     "shell.execute_reply": "2024-01-07T02:06:03.779949Z"
    },
    "papermill": {
     "duration": 0.021034,
     "end_time": "2024-01-07T02:06:03.782307",
     "exception": false,
     "start_time": "2024-01-07T02:06:03.761273",
     "status": "completed"
    },
    "tags": []
   },
   "outputs": [
    {
     "data": {
      "text/plain": [
       "array([1., 2., 3., 0.])"
      ]
     },
     "execution_count": 24,
     "metadata": {},
     "output_type": "execute_result"
    }
   ],
   "source": [
    "train_2['Embarked'].unique()"
   ]
  },
  {
   "cell_type": "code",
   "execution_count": 25,
   "id": "2a1eb1aa",
   "metadata": {
    "execution": {
     "iopub.execute_input": "2024-01-07T02:06:03.809176Z",
     "iopub.status.busy": "2024-01-07T02:06:03.808778Z",
     "iopub.status.idle": "2024-01-07T02:06:03.828651Z",
     "shell.execute_reply": "2024-01-07T02:06:03.826771Z"
    },
    "papermill": {
     "duration": 0.037111,
     "end_time": "2024-01-07T02:06:03.831979",
     "exception": false,
     "start_time": "2024-01-07T02:06:03.794868",
     "status": "completed"
    },
    "tags": []
   },
   "outputs": [
    {
     "data": {
      "text/html": [
       "<div>\n",
       "<style scoped>\n",
       "    .dataframe tbody tr th:only-of-type {\n",
       "        vertical-align: middle;\n",
       "    }\n",
       "\n",
       "    .dataframe tbody tr th {\n",
       "        vertical-align: top;\n",
       "    }\n",
       "\n",
       "    .dataframe thead th {\n",
       "        text-align: right;\n",
       "    }\n",
       "</style>\n",
       "<table border=\"1\" class=\"dataframe\">\n",
       "  <thead>\n",
       "    <tr style=\"text-align: right;\">\n",
       "      <th></th>\n",
       "      <th>Survived</th>\n",
       "      <th>Pclass</th>\n",
       "      <th>Sex</th>\n",
       "      <th>Age</th>\n",
       "      <th>SibSp</th>\n",
       "      <th>Parch</th>\n",
       "      <th>Fare</th>\n",
       "      <th>Embarked</th>\n",
       "    </tr>\n",
       "  </thead>\n",
       "  <tbody>\n",
       "    <tr>\n",
       "      <th>0</th>\n",
       "      <td>0</td>\n",
       "      <td>3</td>\n",
       "      <td>0</td>\n",
       "      <td>22.0</td>\n",
       "      <td>1</td>\n",
       "      <td>0</td>\n",
       "      <td>7.2500</td>\n",
       "      <td>1.0</td>\n",
       "    </tr>\n",
       "    <tr>\n",
       "      <th>1</th>\n",
       "      <td>1</td>\n",
       "      <td>1</td>\n",
       "      <td>1</td>\n",
       "      <td>38.0</td>\n",
       "      <td>1</td>\n",
       "      <td>0</td>\n",
       "      <td>71.2833</td>\n",
       "      <td>2.0</td>\n",
       "    </tr>\n",
       "    <tr>\n",
       "      <th>2</th>\n",
       "      <td>1</td>\n",
       "      <td>3</td>\n",
       "      <td>1</td>\n",
       "      <td>26.0</td>\n",
       "      <td>0</td>\n",
       "      <td>0</td>\n",
       "      <td>7.9250</td>\n",
       "      <td>1.0</td>\n",
       "    </tr>\n",
       "    <tr>\n",
       "      <th>3</th>\n",
       "      <td>1</td>\n",
       "      <td>1</td>\n",
       "      <td>1</td>\n",
       "      <td>35.0</td>\n",
       "      <td>1</td>\n",
       "      <td>0</td>\n",
       "      <td>53.1000</td>\n",
       "      <td>1.0</td>\n",
       "    </tr>\n",
       "  </tbody>\n",
       "</table>\n",
       "</div>"
      ],
      "text/plain": [
       "   Survived  Pclass  Sex   Age  SibSp  Parch     Fare  Embarked\n",
       "0         0       3    0  22.0      1      0   7.2500       1.0\n",
       "1         1       1    1  38.0      1      0  71.2833       2.0\n",
       "2         1       3    1  26.0      0      0   7.9250       1.0\n",
       "3         1       1    1  35.0      1      0  53.1000       1.0"
      ]
     },
     "execution_count": 25,
     "metadata": {},
     "output_type": "execute_result"
    }
   ],
   "source": [
    "train_2.head(4)"
   ]
  },
  {
   "cell_type": "code",
   "execution_count": 26,
   "id": "9b52bbb1",
   "metadata": {
    "execution": {
     "iopub.execute_input": "2024-01-07T02:06:03.859676Z",
     "iopub.status.busy": "2024-01-07T02:06:03.859054Z",
     "iopub.status.idle": "2024-01-07T02:06:03.866643Z",
     "shell.execute_reply": "2024-01-07T02:06:03.865815Z"
    },
    "papermill": {
     "duration": 0.024372,
     "end_time": "2024-01-07T02:06:03.869098",
     "exception": false,
     "start_time": "2024-01-07T02:06:03.844726",
     "status": "completed"
    },
    "tags": []
   },
   "outputs": [],
   "source": [
    "median_age_per_gender = train_1.groupby('Sex')['Age'].median()"
   ]
  },
  {
   "cell_type": "code",
   "execution_count": 27,
   "id": "d77a5f0b",
   "metadata": {
    "execution": {
     "iopub.execute_input": "2024-01-07T02:06:03.897133Z",
     "iopub.status.busy": "2024-01-07T02:06:03.896760Z",
     "iopub.status.idle": "2024-01-07T02:06:03.903746Z",
     "shell.execute_reply": "2024-01-07T02:06:03.902319Z"
    },
    "papermill": {
     "duration": 0.024436,
     "end_time": "2024-01-07T02:06:03.906391",
     "exception": false,
     "start_time": "2024-01-07T02:06:03.881955",
     "status": "completed"
    },
    "tags": []
   },
   "outputs": [],
   "source": [
    "train_2['Age'] = train_2['Age'].fillna(train_1['Sex'].map(median_age_per_gender))\n",
    "test_2['Age'] = test_2['Age'].fillna(test_1['Sex'].map(median_age_per_gender))\n"
   ]
  },
  {
   "cell_type": "code",
   "execution_count": 28,
   "id": "cc353ac2",
   "metadata": {
    "execution": {
     "iopub.execute_input": "2024-01-07T02:06:03.933411Z",
     "iopub.status.busy": "2024-01-07T02:06:03.933023Z",
     "iopub.status.idle": "2024-01-07T02:06:03.940128Z",
     "shell.execute_reply": "2024-01-07T02:06:03.938910Z"
    },
    "papermill": {
     "duration": 0.023399,
     "end_time": "2024-01-07T02:06:03.942809",
     "exception": false,
     "start_time": "2024-01-07T02:06:03.919410",
     "status": "completed"
    },
    "tags": []
   },
   "outputs": [
    {
     "data": {
      "text/plain": [
       "Sex\n",
       "female    27.0\n",
       "male      29.0\n",
       "Name: Age, dtype: float64"
      ]
     },
     "execution_count": 28,
     "metadata": {},
     "output_type": "execute_result"
    }
   ],
   "source": [
    "median_age_per_gender"
   ]
  },
  {
   "cell_type": "code",
   "execution_count": 29,
   "id": "1b7b6c11",
   "metadata": {
    "execution": {
     "iopub.execute_input": "2024-01-07T02:06:03.971460Z",
     "iopub.status.busy": "2024-01-07T02:06:03.971103Z",
     "iopub.status.idle": "2024-01-07T02:06:03.979483Z",
     "shell.execute_reply": "2024-01-07T02:06:03.978142Z"
    },
    "papermill": {
     "duration": 0.025086,
     "end_time": "2024-01-07T02:06:03.981571",
     "exception": false,
     "start_time": "2024-01-07T02:06:03.956485",
     "status": "completed"
    },
    "tags": []
   },
   "outputs": [
    {
     "data": {
      "text/plain": [
       "Survived    0\n",
       "Pclass      0\n",
       "Sex         0\n",
       "Age         0\n",
       "SibSp       0\n",
       "Parch       0\n",
       "Fare        0\n",
       "Embarked    0\n",
       "dtype: int64"
      ]
     },
     "execution_count": 29,
     "metadata": {},
     "output_type": "execute_result"
    }
   ],
   "source": [
    " train_2.isnull().sum()"
   ]
  },
  {
   "cell_type": "code",
   "execution_count": 30,
   "id": "831f9296",
   "metadata": {
    "execution": {
     "iopub.execute_input": "2024-01-07T02:06:04.010479Z",
     "iopub.status.busy": "2024-01-07T02:06:04.009768Z",
     "iopub.status.idle": "2024-01-07T02:06:04.017923Z",
     "shell.execute_reply": "2024-01-07T02:06:04.016846Z"
    },
    "papermill": {
     "duration": 0.025893,
     "end_time": "2024-01-07T02:06:04.020370",
     "exception": false,
     "start_time": "2024-01-07T02:06:03.994477",
     "status": "completed"
    },
    "tags": []
   },
   "outputs": [
    {
     "data": {
      "text/plain": [
       "Pclass      0\n",
       "Sex         0\n",
       "Age         0\n",
       "SibSp       0\n",
       "Parch       0\n",
       "Fare        1\n",
       "Embarked    0\n",
       "dtype: int64"
      ]
     },
     "execution_count": 30,
     "metadata": {},
     "output_type": "execute_result"
    }
   ],
   "source": [
    "test_2.isnull().sum()"
   ]
  },
  {
   "cell_type": "code",
   "execution_count": 31,
   "id": "08f65b95",
   "metadata": {
    "execution": {
     "iopub.execute_input": "2024-01-07T02:06:04.049759Z",
     "iopub.status.busy": "2024-01-07T02:06:04.048690Z",
     "iopub.status.idle": "2024-01-07T02:06:04.061909Z",
     "shell.execute_reply": "2024-01-07T02:06:04.060954Z"
    },
    "papermill": {
     "duration": 0.0293,
     "end_time": "2024-01-07T02:06:04.063640",
     "exception": false,
     "start_time": "2024-01-07T02:06:04.034340",
     "status": "completed"
    },
    "tags": []
   },
   "outputs": [
    {
     "data": {
      "text/html": [
       "<div>\n",
       "<style scoped>\n",
       "    .dataframe tbody tr th:only-of-type {\n",
       "        vertical-align: middle;\n",
       "    }\n",
       "\n",
       "    .dataframe tbody tr th {\n",
       "        vertical-align: top;\n",
       "    }\n",
       "\n",
       "    .dataframe thead th {\n",
       "        text-align: right;\n",
       "    }\n",
       "</style>\n",
       "<table border=\"1\" class=\"dataframe\">\n",
       "  <thead>\n",
       "    <tr style=\"text-align: right;\">\n",
       "      <th></th>\n",
       "      <th>Survived</th>\n",
       "      <th>Pclass</th>\n",
       "      <th>Sex</th>\n",
       "      <th>Age</th>\n",
       "      <th>SibSp</th>\n",
       "      <th>Parch</th>\n",
       "      <th>Fare</th>\n",
       "      <th>Embarked</th>\n",
       "    </tr>\n",
       "  </thead>\n",
       "  <tbody>\n",
       "    <tr>\n",
       "      <th>0</th>\n",
       "      <td>0</td>\n",
       "      <td>3</td>\n",
       "      <td>0</td>\n",
       "      <td>22.0</td>\n",
       "      <td>1</td>\n",
       "      <td>0</td>\n",
       "      <td>7.2500</td>\n",
       "      <td>1.0</td>\n",
       "    </tr>\n",
       "    <tr>\n",
       "      <th>1</th>\n",
       "      <td>1</td>\n",
       "      <td>1</td>\n",
       "      <td>1</td>\n",
       "      <td>38.0</td>\n",
       "      <td>1</td>\n",
       "      <td>0</td>\n",
       "      <td>71.2833</td>\n",
       "      <td>2.0</td>\n",
       "    </tr>\n",
       "    <tr>\n",
       "      <th>2</th>\n",
       "      <td>1</td>\n",
       "      <td>3</td>\n",
       "      <td>1</td>\n",
       "      <td>26.0</td>\n",
       "      <td>0</td>\n",
       "      <td>0</td>\n",
       "      <td>7.9250</td>\n",
       "      <td>1.0</td>\n",
       "    </tr>\n",
       "    <tr>\n",
       "      <th>3</th>\n",
       "      <td>1</td>\n",
       "      <td>1</td>\n",
       "      <td>1</td>\n",
       "      <td>35.0</td>\n",
       "      <td>1</td>\n",
       "      <td>0</td>\n",
       "      <td>53.1000</td>\n",
       "      <td>1.0</td>\n",
       "    </tr>\n",
       "    <tr>\n",
       "      <th>4</th>\n",
       "      <td>0</td>\n",
       "      <td>3</td>\n",
       "      <td>0</td>\n",
       "      <td>35.0</td>\n",
       "      <td>0</td>\n",
       "      <td>0</td>\n",
       "      <td>8.0500</td>\n",
       "      <td>1.0</td>\n",
       "    </tr>\n",
       "  </tbody>\n",
       "</table>\n",
       "</div>"
      ],
      "text/plain": [
       "   Survived  Pclass  Sex   Age  SibSp  Parch     Fare  Embarked\n",
       "0         0       3    0  22.0      1      0   7.2500       1.0\n",
       "1         1       1    1  38.0      1      0  71.2833       2.0\n",
       "2         1       3    1  26.0      0      0   7.9250       1.0\n",
       "3         1       1    1  35.0      1      0  53.1000       1.0\n",
       "4         0       3    0  35.0      0      0   8.0500       1.0"
      ]
     },
     "execution_count": 31,
     "metadata": {},
     "output_type": "execute_result"
    }
   ],
   "source": [
    "train_2.head(5)"
   ]
  },
  {
   "cell_type": "code",
   "execution_count": 32,
   "id": "2c47bf6e",
   "metadata": {
    "execution": {
     "iopub.execute_input": "2024-01-07T02:06:04.091096Z",
     "iopub.status.busy": "2024-01-07T02:06:04.090329Z",
     "iopub.status.idle": "2024-01-07T02:06:04.094662Z",
     "shell.execute_reply": "2024-01-07T02:06:04.094070Z"
    },
    "papermill": {
     "duration": 0.019937,
     "end_time": "2024-01-07T02:06:04.096370",
     "exception": false,
     "start_time": "2024-01-07T02:06:04.076433",
     "status": "completed"
    },
    "tags": []
   },
   "outputs": [],
   "source": [
    "# def normalise_data(train_data, test_data):\n",
    "\n",
    "#     print(\"Normalising numerical columns between 0 and 1....\")\n",
    "#     min_Age = train_data['Age'].min()\n",
    "#     max_Age = train_data['Age'].max()\n",
    "\n",
    "#     max_Fare = train_data['Fare'].max()\n",
    "#     min_Fare = train_data['Fare'].min()\n",
    "#     print(max_Fare, min_Fare)\n",
    "#     train_data['Age'] = (train_data['Age'] - min_Age)/(max_Age-min_Age)\n",
    "#     train_data['Fare'] = (train_data['Fare']  - min_Fare)/(max_Fare-min_Fare)\n",
    "\n",
    "#     test_data['Age'] = (test_data['Age'] - min_Age)/(max_Age-min_Age)\n",
    "#     test_data['Fare'] = (test_data['Fare']  - min_Fare)/(max_Fare-min_Fare)\n",
    "    \n",
    "#     print(\"Done\")\n",
    "#     return train_data, test_data\n"
   ]
  },
  {
   "cell_type": "code",
   "execution_count": 33,
   "id": "fb5ef164",
   "metadata": {
    "execution": {
     "iopub.execute_input": "2024-01-07T02:06:04.124698Z",
     "iopub.status.busy": "2024-01-07T02:06:04.124162Z",
     "iopub.status.idle": "2024-01-07T02:06:04.129917Z",
     "shell.execute_reply": "2024-01-07T02:06:04.128970Z"
    },
    "papermill": {
     "duration": 0.022164,
     "end_time": "2024-01-07T02:06:04.132003",
     "exception": false,
     "start_time": "2024-01-07T02:06:04.109839",
     "status": "completed"
    },
    "tags": []
   },
   "outputs": [],
   "source": [
    "def normalise_data(train_data, test_data):\n",
    "\n",
    "    print(\"Normalising numerical columns between 0 and 1....\")\n",
    "    min_ = train_data.min()\n",
    "    max_ = train_data.max()\n",
    "\n",
    "#     max_Fare = train_data['Fare'].max()\n",
    "#     min_Fare = train_data['Fare'].min()\n",
    "    print(min_, max_)\n",
    "    train_data = (train_data - min_)/(max_-min_)\n",
    "\n",
    "    test_data = (test_data - min_)/(max_-min_)    \n",
    "    print(\"Done\")\n",
    "    return train_data, test_data\n"
   ]
  },
  {
   "cell_type": "code",
   "execution_count": 34,
   "id": "409b085f",
   "metadata": {
    "execution": {
     "iopub.execute_input": "2024-01-07T02:06:04.161583Z",
     "iopub.status.busy": "2024-01-07T02:06:04.160994Z",
     "iopub.status.idle": "2024-01-07T02:06:04.166945Z",
     "shell.execute_reply": "2024-01-07T02:06:04.166186Z"
    },
    "papermill": {
     "duration": 0.023802,
     "end_time": "2024-01-07T02:06:04.169009",
     "exception": false,
     "start_time": "2024-01-07T02:06:04.145207",
     "status": "completed"
    },
    "tags": []
   },
   "outputs": [],
   "source": [
    "X = train_2.copy()\n",
    "X = X.drop(columns=['Survived'])\n",
    "Y = train_2['Survived']"
   ]
  },
  {
   "cell_type": "code",
   "execution_count": 35,
   "id": "82882f0d",
   "metadata": {
    "execution": {
     "iopub.execute_input": "2024-01-07T02:06:04.199412Z",
     "iopub.status.busy": "2024-01-07T02:06:04.198431Z",
     "iopub.status.idle": "2024-01-07T02:06:04.211969Z",
     "shell.execute_reply": "2024-01-07T02:06:04.210061Z"
    },
    "papermill": {
     "duration": 0.032041,
     "end_time": "2024-01-07T02:06:04.214404",
     "exception": false,
     "start_time": "2024-01-07T02:06:04.182363",
     "status": "completed"
    },
    "tags": []
   },
   "outputs": [
    {
     "name": "stdout",
     "output_type": "stream",
     "text": [
      "Normalising numerical columns between 0 and 1....\n",
      "Pclass      1.00\n",
      "Sex         0.00\n",
      "Age         0.42\n",
      "SibSp       0.00\n",
      "Parch       0.00\n",
      "Fare        0.00\n",
      "Embarked    0.00\n",
      "dtype: float64 Pclass        3.0000\n",
      "Sex           1.0000\n",
      "Age          80.0000\n",
      "SibSp         8.0000\n",
      "Parch         6.0000\n",
      "Fare        512.3292\n",
      "Embarked      3.0000\n",
      "dtype: float64\n",
      "Done\n"
     ]
    }
   ],
   "source": [
    "X, test_2 = normalise_data(X, test_2)"
   ]
  },
  {
   "cell_type": "code",
   "execution_count": 36,
   "id": "2c5c497e",
   "metadata": {
    "execution": {
     "iopub.execute_input": "2024-01-07T02:06:04.245205Z",
     "iopub.status.busy": "2024-01-07T02:06:04.244790Z",
     "iopub.status.idle": "2024-01-07T02:06:04.252277Z",
     "shell.execute_reply": "2024-01-07T02:06:04.250661Z"
    },
    "papermill": {
     "duration": 0.026232,
     "end_time": "2024-01-07T02:06:04.255001",
     "exception": false,
     "start_time": "2024-01-07T02:06:04.228769",
     "status": "completed"
    },
    "tags": []
   },
   "outputs": [],
   "source": [
    "X_train, X_test, y_train, y_test = train_test_split(X, Y, test_size=0.20, random_state=1)"
   ]
  },
  {
   "cell_type": "code",
   "execution_count": 37,
   "id": "a7f10b19",
   "metadata": {
    "execution": {
     "iopub.execute_input": "2024-01-07T02:06:04.290416Z",
     "iopub.status.busy": "2024-01-07T02:06:04.289971Z",
     "iopub.status.idle": "2024-01-07T02:06:04.309667Z",
     "shell.execute_reply": "2024-01-07T02:06:04.308636Z"
    },
    "papermill": {
     "duration": 0.040477,
     "end_time": "2024-01-07T02:06:04.311705",
     "exception": false,
     "start_time": "2024-01-07T02:06:04.271228",
     "status": "completed"
    },
    "tags": []
   },
   "outputs": [
    {
     "data": {
      "text/html": [
       "<div>\n",
       "<style scoped>\n",
       "    .dataframe tbody tr th:only-of-type {\n",
       "        vertical-align: middle;\n",
       "    }\n",
       "\n",
       "    .dataframe tbody tr th {\n",
       "        vertical-align: top;\n",
       "    }\n",
       "\n",
       "    .dataframe thead th {\n",
       "        text-align: right;\n",
       "    }\n",
       "</style>\n",
       "<table border=\"1\" class=\"dataframe\">\n",
       "  <thead>\n",
       "    <tr style=\"text-align: right;\">\n",
       "      <th></th>\n",
       "      <th>Pclass</th>\n",
       "      <th>Sex</th>\n",
       "      <th>Age</th>\n",
       "      <th>SibSp</th>\n",
       "      <th>Parch</th>\n",
       "      <th>Fare</th>\n",
       "      <th>Embarked</th>\n",
       "    </tr>\n",
       "  </thead>\n",
       "  <tbody>\n",
       "    <tr>\n",
       "      <th>301</th>\n",
       "      <td>1.0</td>\n",
       "      <td>0.0</td>\n",
       "      <td>0.359135</td>\n",
       "      <td>0.25</td>\n",
       "      <td>0.0</td>\n",
       "      <td>0.045381</td>\n",
       "      <td>1.000000</td>\n",
       "    </tr>\n",
       "    <tr>\n",
       "      <th>309</th>\n",
       "      <td>0.0</td>\n",
       "      <td>1.0</td>\n",
       "      <td>0.371701</td>\n",
       "      <td>0.00</td>\n",
       "      <td>0.0</td>\n",
       "      <td>0.111118</td>\n",
       "      <td>0.666667</td>\n",
       "    </tr>\n",
       "    <tr>\n",
       "      <th>516</th>\n",
       "      <td>0.5</td>\n",
       "      <td>1.0</td>\n",
       "      <td>0.421965</td>\n",
       "      <td>0.00</td>\n",
       "      <td>0.0</td>\n",
       "      <td>0.020495</td>\n",
       "      <td>0.333333</td>\n",
       "    </tr>\n",
       "    <tr>\n",
       "      <th>120</th>\n",
       "      <td>0.5</td>\n",
       "      <td>0.0</td>\n",
       "      <td>0.258608</td>\n",
       "      <td>0.25</td>\n",
       "      <td>0.0</td>\n",
       "      <td>0.143462</td>\n",
       "      <td>0.333333</td>\n",
       "    </tr>\n",
       "    <tr>\n",
       "      <th>570</th>\n",
       "      <td>0.5</td>\n",
       "      <td>0.0</td>\n",
       "      <td>0.773813</td>\n",
       "      <td>0.00</td>\n",
       "      <td>0.0</td>\n",
       "      <td>0.020495</td>\n",
       "      <td>0.333333</td>\n",
       "    </tr>\n",
       "    <tr>\n",
       "      <th>...</th>\n",
       "      <td>...</td>\n",
       "      <td>...</td>\n",
       "      <td>...</td>\n",
       "      <td>...</td>\n",
       "      <td>...</td>\n",
       "      <td>...</td>\n",
       "      <td>...</td>\n",
       "    </tr>\n",
       "    <tr>\n",
       "      <th>715</th>\n",
       "      <td>1.0</td>\n",
       "      <td>0.0</td>\n",
       "      <td>0.233476</td>\n",
       "      <td>0.00</td>\n",
       "      <td>0.0</td>\n",
       "      <td>0.014932</td>\n",
       "      <td>0.333333</td>\n",
       "    </tr>\n",
       "    <tr>\n",
       "      <th>767</th>\n",
       "      <td>1.0</td>\n",
       "      <td>1.0</td>\n",
       "      <td>0.377984</td>\n",
       "      <td>0.00</td>\n",
       "      <td>0.0</td>\n",
       "      <td>0.015127</td>\n",
       "      <td>1.000000</td>\n",
       "    </tr>\n",
       "    <tr>\n",
       "      <th>72</th>\n",
       "      <td>0.5</td>\n",
       "      <td>0.0</td>\n",
       "      <td>0.258608</td>\n",
       "      <td>0.00</td>\n",
       "      <td>0.0</td>\n",
       "      <td>0.143462</td>\n",
       "      <td>0.333333</td>\n",
       "    </tr>\n",
       "    <tr>\n",
       "      <th>235</th>\n",
       "      <td>1.0</td>\n",
       "      <td>1.0</td>\n",
       "      <td>0.334004</td>\n",
       "      <td>0.00</td>\n",
       "      <td>0.0</td>\n",
       "      <td>0.014737</td>\n",
       "      <td>0.333333</td>\n",
       "    </tr>\n",
       "    <tr>\n",
       "      <th>37</th>\n",
       "      <td>1.0</td>\n",
       "      <td>0.0</td>\n",
       "      <td>0.258608</td>\n",
       "      <td>0.00</td>\n",
       "      <td>0.0</td>\n",
       "      <td>0.015713</td>\n",
       "      <td>0.333333</td>\n",
       "    </tr>\n",
       "  </tbody>\n",
       "</table>\n",
       "<p>712 rows × 7 columns</p>\n",
       "</div>"
      ],
      "text/plain": [
       "     Pclass  Sex       Age  SibSp  Parch      Fare  Embarked\n",
       "301     1.0  0.0  0.359135   0.25    0.0  0.045381  1.000000\n",
       "309     0.0  1.0  0.371701   0.00    0.0  0.111118  0.666667\n",
       "516     0.5  1.0  0.421965   0.00    0.0  0.020495  0.333333\n",
       "120     0.5  0.0  0.258608   0.25    0.0  0.143462  0.333333\n",
       "570     0.5  0.0  0.773813   0.00    0.0  0.020495  0.333333\n",
       "..      ...  ...       ...    ...    ...       ...       ...\n",
       "715     1.0  0.0  0.233476   0.00    0.0  0.014932  0.333333\n",
       "767     1.0  1.0  0.377984   0.00    0.0  0.015127  1.000000\n",
       "72      0.5  0.0  0.258608   0.00    0.0  0.143462  0.333333\n",
       "235     1.0  1.0  0.334004   0.00    0.0  0.014737  0.333333\n",
       "37      1.0  0.0  0.258608   0.00    0.0  0.015713  0.333333\n",
       "\n",
       "[712 rows x 7 columns]"
      ]
     },
     "execution_count": 37,
     "metadata": {},
     "output_type": "execute_result"
    }
   ],
   "source": [
    "X_train"
   ]
  },
  {
   "cell_type": "markdown",
   "id": "eeff0540",
   "metadata": {
    "papermill": {
     "duration": 0.013404,
     "end_time": "2024-01-07T02:06:04.338665",
     "exception": false,
     "start_time": "2024-01-07T02:06:04.325261",
     "status": "completed"
    },
    "tags": []
   },
   "source": [
    "# Logistic Regression"
   ]
  },
  {
   "cell_type": "code",
   "execution_count": 38,
   "id": "14520c17",
   "metadata": {
    "execution": {
     "iopub.execute_input": "2024-01-07T02:06:04.370374Z",
     "iopub.status.busy": "2024-01-07T02:06:04.369988Z",
     "iopub.status.idle": "2024-01-07T02:06:04.390516Z",
     "shell.execute_reply": "2024-01-07T02:06:04.389009Z"
    },
    "papermill": {
     "duration": 0.039616,
     "end_time": "2024-01-07T02:06:04.392835",
     "exception": false,
     "start_time": "2024-01-07T02:06:04.353219",
     "status": "completed"
    },
    "tags": []
   },
   "outputs": [],
   "source": [
    "log_regr = LogisticRegression(random_state=0).fit(X_train, y_train)"
   ]
  },
  {
   "cell_type": "code",
   "execution_count": 39,
   "id": "44d5a0ad",
   "metadata": {
    "execution": {
     "iopub.execute_input": "2024-01-07T02:06:04.421126Z",
     "iopub.status.busy": "2024-01-07T02:06:04.420794Z",
     "iopub.status.idle": "2024-01-07T02:06:04.430586Z",
     "shell.execute_reply": "2024-01-07T02:06:04.429557Z"
    },
    "papermill": {
     "duration": 0.026159,
     "end_time": "2024-01-07T02:06:04.432446",
     "exception": false,
     "start_time": "2024-01-07T02:06:04.406287",
     "status": "completed"
    },
    "tags": []
   },
   "outputs": [
    {
     "data": {
      "text/plain": [
       "0.8033707865168539"
      ]
     },
     "execution_count": 39,
     "metadata": {},
     "output_type": "execute_result"
    }
   ],
   "source": [
    "log_regr.score(X_train, y_train)"
   ]
  },
  {
   "cell_type": "code",
   "execution_count": 40,
   "id": "ab978aba",
   "metadata": {
    "execution": {
     "iopub.execute_input": "2024-01-07T02:06:04.460933Z",
     "iopub.status.busy": "2024-01-07T02:06:04.460517Z",
     "iopub.status.idle": "2024-01-07T02:06:04.470544Z",
     "shell.execute_reply": "2024-01-07T02:06:04.469478Z"
    },
    "papermill": {
     "duration": 0.027233,
     "end_time": "2024-01-07T02:06:04.472872",
     "exception": false,
     "start_time": "2024-01-07T02:06:04.445639",
     "status": "completed"
    },
    "tags": []
   },
   "outputs": [
    {
     "data": {
      "text/plain": [
       "0.7877094972067039"
      ]
     },
     "execution_count": 40,
     "metadata": {},
     "output_type": "execute_result"
    }
   ],
   "source": [
    "log_regr.score(X_test, y_test)"
   ]
  },
  {
   "cell_type": "markdown",
   "id": "342a291c",
   "metadata": {
    "papermill": {
     "duration": 0.013552,
     "end_time": "2024-01-07T02:06:04.500079",
     "exception": false,
     "start_time": "2024-01-07T02:06:04.486527",
     "status": "completed"
    },
    "tags": []
   },
   "source": [
    "# Support Vector Machine"
   ]
  },
  {
   "cell_type": "code",
   "execution_count": 41,
   "id": "42edc765",
   "metadata": {
    "execution": {
     "iopub.execute_input": "2024-01-07T02:06:04.529672Z",
     "iopub.status.busy": "2024-01-07T02:06:04.529279Z",
     "iopub.status.idle": "2024-01-07T02:06:04.552546Z",
     "shell.execute_reply": "2024-01-07T02:06:04.551229Z"
    },
    "papermill": {
     "duration": 0.041896,
     "end_time": "2024-01-07T02:06:04.555356",
     "exception": false,
     "start_time": "2024-01-07T02:06:04.513460",
     "status": "completed"
    },
    "tags": []
   },
   "outputs": [],
   "source": [
    "s_v_c = SVC(C = 15,random_state=0, tol=1e-5, max_iter = 10000, kernel = 'rbf').fit(X_train, y_train)"
   ]
  },
  {
   "cell_type": "code",
   "execution_count": 42,
   "id": "c10041fb",
   "metadata": {
    "execution": {
     "iopub.execute_input": "2024-01-07T02:06:04.585400Z",
     "iopub.status.busy": "2024-01-07T02:06:04.585070Z",
     "iopub.status.idle": "2024-01-07T02:06:04.602430Z",
     "shell.execute_reply": "2024-01-07T02:06:04.601554Z"
    },
    "papermill": {
     "duration": 0.034774,
     "end_time": "2024-01-07T02:06:04.604247",
     "exception": false,
     "start_time": "2024-01-07T02:06:04.569473",
     "status": "completed"
    },
    "tags": []
   },
   "outputs": [
    {
     "data": {
      "text/plain": [
       "0.8539325842696629"
      ]
     },
     "execution_count": 42,
     "metadata": {},
     "output_type": "execute_result"
    }
   ],
   "source": [
    "s_v_c.score(X_train, y_train)"
   ]
  },
  {
   "cell_type": "code",
   "execution_count": 43,
   "id": "6296053e",
   "metadata": {
    "execution": {
     "iopub.execute_input": "2024-01-07T02:06:04.636393Z",
     "iopub.status.busy": "2024-01-07T02:06:04.636031Z",
     "iopub.status.idle": "2024-01-07T02:06:04.646599Z",
     "shell.execute_reply": "2024-01-07T02:06:04.645735Z"
    },
    "papermill": {
     "duration": 0.0302,
     "end_time": "2024-01-07T02:06:04.649030",
     "exception": false,
     "start_time": "2024-01-07T02:06:04.618830",
     "status": "completed"
    },
    "tags": []
   },
   "outputs": [
    {
     "data": {
      "text/plain": [
       "0.7821229050279329"
      ]
     },
     "execution_count": 43,
     "metadata": {},
     "output_type": "execute_result"
    }
   ],
   "source": [
    "s_v_c.score(X_test, y_test)"
   ]
  },
  {
   "cell_type": "code",
   "execution_count": 44,
   "id": "45365a0b",
   "metadata": {
    "execution": {
     "iopub.execute_input": "2024-01-07T02:06:04.678211Z",
     "iopub.status.busy": "2024-01-07T02:06:04.677869Z",
     "iopub.status.idle": "2024-01-07T02:06:04.682400Z",
     "shell.execute_reply": "2024-01-07T02:06:04.681208Z"
    },
    "papermill": {
     "duration": 0.021354,
     "end_time": "2024-01-07T02:06:04.684233",
     "exception": false,
     "start_time": "2024-01-07T02:06:04.662879",
     "status": "completed"
    },
    "tags": []
   },
   "outputs": [],
   "source": [
    "s_v_c = SVC()"
   ]
  },
  {
   "cell_type": "code",
   "execution_count": 45,
   "id": "c6cb4f27",
   "metadata": {
    "execution": {
     "iopub.execute_input": "2024-01-07T02:06:04.714439Z",
     "iopub.status.busy": "2024-01-07T02:06:04.714084Z",
     "iopub.status.idle": "2024-01-07T02:06:04.719737Z",
     "shell.execute_reply": "2024-01-07T02:06:04.718563Z"
    },
    "papermill": {
     "duration": 0.023925,
     "end_time": "2024-01-07T02:06:04.722087",
     "exception": false,
     "start_time": "2024-01-07T02:06:04.698162",
     "status": "completed"
    },
    "tags": []
   },
   "outputs": [],
   "source": [
    "param = {'C' : np.linspace(8,15,4),\n",
    "              'max_iter' : [5000],\n",
    "              'kernel': ['rbf'],\n",
    "              'tol' : [1e-04, 1e-05, 1e-06]}"
   ]
  },
  {
   "cell_type": "code",
   "execution_count": 46,
   "id": "51990cf6",
   "metadata": {
    "execution": {
     "iopub.execute_input": "2024-01-07T02:06:04.751094Z",
     "iopub.status.busy": "2024-01-07T02:06:04.750739Z",
     "iopub.status.idle": "2024-01-07T02:06:06.969930Z",
     "shell.execute_reply": "2024-01-07T02:06:06.969108Z"
    },
    "papermill": {
     "duration": 2.23558,
     "end_time": "2024-01-07T02:06:06.971655",
     "exception": false,
     "start_time": "2024-01-07T02:06:04.736075",
     "status": "completed"
    },
    "tags": []
   },
   "outputs": [
    {
     "name": "stdout",
     "output_type": "stream",
     "text": [
      "Fitting 5 folds for each of 12 candidates, totalling 60 fits\n"
     ]
    },
    {
     "name": "stderr",
     "output_type": "stream",
     "text": [
      "/opt/conda/lib/python3.10/site-packages/sklearn/svm/_base.py:299: ConvergenceWarning: Solver terminated early (max_iter=5000).  Consider pre-processing your data with StandardScaler or MinMaxScaler.\n",
      "  warnings.warn(\n",
      "/opt/conda/lib/python3.10/site-packages/sklearn/svm/_base.py:299: ConvergenceWarning: Solver terminated early (max_iter=5000).  Consider pre-processing your data with StandardScaler or MinMaxScaler.\n",
      "  warnings.warn(\n",
      "/opt/conda/lib/python3.10/site-packages/sklearn/svm/_base.py:299: ConvergenceWarning: Solver terminated early (max_iter=5000).  Consider pre-processing your data with StandardScaler or MinMaxScaler.\n",
      "  warnings.warn(\n",
      "/opt/conda/lib/python3.10/site-packages/sklearn/svm/_base.py:299: ConvergenceWarning: Solver terminated early (max_iter=5000).  Consider pre-processing your data with StandardScaler or MinMaxScaler.\n",
      "  warnings.warn(\n",
      "/opt/conda/lib/python3.10/site-packages/sklearn/svm/_base.py:299: ConvergenceWarning: Solver terminated early (max_iter=5000).  Consider pre-processing your data with StandardScaler or MinMaxScaler.\n",
      "  warnings.warn(\n",
      "/opt/conda/lib/python3.10/site-packages/sklearn/svm/_base.py:299: ConvergenceWarning: Solver terminated early (max_iter=5000).  Consider pre-processing your data with StandardScaler or MinMaxScaler.\n",
      "  warnings.warn(\n",
      "/opt/conda/lib/python3.10/site-packages/sklearn/svm/_base.py:299: ConvergenceWarning: Solver terminated early (max_iter=5000).  Consider pre-processing your data with StandardScaler or MinMaxScaler.\n",
      "  warnings.warn(\n"
     ]
    },
    {
     "data": {
      "text/html": [
       "<style>#sk-container-id-1 {color: black;background-color: white;}#sk-container-id-1 pre{padding: 0;}#sk-container-id-1 div.sk-toggleable {background-color: white;}#sk-container-id-1 label.sk-toggleable__label {cursor: pointer;display: block;width: 100%;margin-bottom: 0;padding: 0.3em;box-sizing: border-box;text-align: center;}#sk-container-id-1 label.sk-toggleable__label-arrow:before {content: \"▸\";float: left;margin-right: 0.25em;color: #696969;}#sk-container-id-1 label.sk-toggleable__label-arrow:hover:before {color: black;}#sk-container-id-1 div.sk-estimator:hover label.sk-toggleable__label-arrow:before {color: black;}#sk-container-id-1 div.sk-toggleable__content {max-height: 0;max-width: 0;overflow: hidden;text-align: left;background-color: #f0f8ff;}#sk-container-id-1 div.sk-toggleable__content pre {margin: 0.2em;color: black;border-radius: 0.25em;background-color: #f0f8ff;}#sk-container-id-1 input.sk-toggleable__control:checked~div.sk-toggleable__content {max-height: 200px;max-width: 100%;overflow: auto;}#sk-container-id-1 input.sk-toggleable__control:checked~label.sk-toggleable__label-arrow:before {content: \"▾\";}#sk-container-id-1 div.sk-estimator input.sk-toggleable__control:checked~label.sk-toggleable__label {background-color: #d4ebff;}#sk-container-id-1 div.sk-label input.sk-toggleable__control:checked~label.sk-toggleable__label {background-color: #d4ebff;}#sk-container-id-1 input.sk-hidden--visually {border: 0;clip: rect(1px 1px 1px 1px);clip: rect(1px, 1px, 1px, 1px);height: 1px;margin: -1px;overflow: hidden;padding: 0;position: absolute;width: 1px;}#sk-container-id-1 div.sk-estimator {font-family: monospace;background-color: #f0f8ff;border: 1px dotted black;border-radius: 0.25em;box-sizing: border-box;margin-bottom: 0.5em;}#sk-container-id-1 div.sk-estimator:hover {background-color: #d4ebff;}#sk-container-id-1 div.sk-parallel-item::after {content: \"\";width: 100%;border-bottom: 1px solid gray;flex-grow: 1;}#sk-container-id-1 div.sk-label:hover label.sk-toggleable__label {background-color: #d4ebff;}#sk-container-id-1 div.sk-serial::before {content: \"\";position: absolute;border-left: 1px solid gray;box-sizing: border-box;top: 0;bottom: 0;left: 50%;z-index: 0;}#sk-container-id-1 div.sk-serial {display: flex;flex-direction: column;align-items: center;background-color: white;padding-right: 0.2em;padding-left: 0.2em;position: relative;}#sk-container-id-1 div.sk-item {position: relative;z-index: 1;}#sk-container-id-1 div.sk-parallel {display: flex;align-items: stretch;justify-content: center;background-color: white;position: relative;}#sk-container-id-1 div.sk-item::before, #sk-container-id-1 div.sk-parallel-item::before {content: \"\";position: absolute;border-left: 1px solid gray;box-sizing: border-box;top: 0;bottom: 0;left: 50%;z-index: -1;}#sk-container-id-1 div.sk-parallel-item {display: flex;flex-direction: column;z-index: 1;position: relative;background-color: white;}#sk-container-id-1 div.sk-parallel-item:first-child::after {align-self: flex-end;width: 50%;}#sk-container-id-1 div.sk-parallel-item:last-child::after {align-self: flex-start;width: 50%;}#sk-container-id-1 div.sk-parallel-item:only-child::after {width: 0;}#sk-container-id-1 div.sk-dashed-wrapped {border: 1px dashed gray;margin: 0 0.4em 0.5em 0.4em;box-sizing: border-box;padding-bottom: 0.4em;background-color: white;}#sk-container-id-1 div.sk-label label {font-family: monospace;font-weight: bold;display: inline-block;line-height: 1.2em;}#sk-container-id-1 div.sk-label-container {text-align: center;}#sk-container-id-1 div.sk-container {/* jupyter's `normalize.less` sets `[hidden] { display: none; }` but bootstrap.min.css set `[hidden] { display: none !important; }` so we also need the `!important` here to be able to override the default hidden behavior on the sphinx rendered scikit-learn.org. See: https://github.com/scikit-learn/scikit-learn/issues/21755 */display: inline-block !important;position: relative;}#sk-container-id-1 div.sk-text-repr-fallback {display: none;}</style><div id=\"sk-container-id-1\" class=\"sk-top-container\"><div class=\"sk-text-repr-fallback\"><pre>GridSearchCV(estimator=SVC(), n_jobs=5,\n",
       "             param_grid={&#x27;C&#x27;: array([ 8.        , 10.33333333, 12.66666667, 15.        ]),\n",
       "                         &#x27;kernel&#x27;: [&#x27;rbf&#x27;], &#x27;max_iter&#x27;: [5000],\n",
       "                         &#x27;tol&#x27;: [0.0001, 1e-05, 1e-06]},\n",
       "             scoring=&#x27;accuracy&#x27;, verbose=True)</pre><b>In a Jupyter environment, please rerun this cell to show the HTML representation or trust the notebook. <br />On GitHub, the HTML representation is unable to render, please try loading this page with nbviewer.org.</b></div><div class=\"sk-container\" hidden><div class=\"sk-item sk-dashed-wrapped\"><div class=\"sk-label-container\"><div class=\"sk-label sk-toggleable\"><input class=\"sk-toggleable__control sk-hidden--visually\" id=\"sk-estimator-id-1\" type=\"checkbox\" ><label for=\"sk-estimator-id-1\" class=\"sk-toggleable__label sk-toggleable__label-arrow\">GridSearchCV</label><div class=\"sk-toggleable__content\"><pre>GridSearchCV(estimator=SVC(), n_jobs=5,\n",
       "             param_grid={&#x27;C&#x27;: array([ 8.        , 10.33333333, 12.66666667, 15.        ]),\n",
       "                         &#x27;kernel&#x27;: [&#x27;rbf&#x27;], &#x27;max_iter&#x27;: [5000],\n",
       "                         &#x27;tol&#x27;: [0.0001, 1e-05, 1e-06]},\n",
       "             scoring=&#x27;accuracy&#x27;, verbose=True)</pre></div></div></div><div class=\"sk-parallel\"><div class=\"sk-parallel-item\"><div class=\"sk-item\"><div class=\"sk-label-container\"><div class=\"sk-label sk-toggleable\"><input class=\"sk-toggleable__control sk-hidden--visually\" id=\"sk-estimator-id-2\" type=\"checkbox\" ><label for=\"sk-estimator-id-2\" class=\"sk-toggleable__label sk-toggleable__label-arrow\">estimator: SVC</label><div class=\"sk-toggleable__content\"><pre>SVC()</pre></div></div></div><div class=\"sk-serial\"><div class=\"sk-item\"><div class=\"sk-estimator sk-toggleable\"><input class=\"sk-toggleable__control sk-hidden--visually\" id=\"sk-estimator-id-3\" type=\"checkbox\" ><label for=\"sk-estimator-id-3\" class=\"sk-toggleable__label sk-toggleable__label-arrow\">SVC</label><div class=\"sk-toggleable__content\"><pre>SVC()</pre></div></div></div></div></div></div></div></div></div></div>"
      ],
      "text/plain": [
       "GridSearchCV(estimator=SVC(), n_jobs=5,\n",
       "             param_grid={'C': array([ 8.        , 10.33333333, 12.66666667, 15.        ]),\n",
       "                         'kernel': ['rbf'], 'max_iter': [5000],\n",
       "                         'tol': [0.0001, 1e-05, 1e-06]},\n",
       "             scoring='accuracy', verbose=True)"
      ]
     },
     "execution_count": 46,
     "metadata": {},
     "output_type": "execute_result"
    }
   ],
   "source": [
    "grid_search = GridSearchCV(estimator = s_v_c, param_grid=param, scoring='accuracy', n_jobs=5, verbose=True)\n",
    "grid_search.fit(X_train, y_train)"
   ]
  },
  {
   "cell_type": "code",
   "execution_count": 47,
   "id": "5d81c68f",
   "metadata": {
    "execution": {
     "iopub.execute_input": "2024-01-07T02:06:07.002507Z",
     "iopub.status.busy": "2024-01-07T02:06:07.001549Z",
     "iopub.status.idle": "2024-01-07T02:06:07.010321Z",
     "shell.execute_reply": "2024-01-07T02:06:07.009202Z"
    },
    "papermill": {
     "duration": 0.026691,
     "end_time": "2024-01-07T02:06:07.012728",
     "exception": false,
     "start_time": "2024-01-07T02:06:06.986037",
     "status": "completed"
    },
    "tags": []
   },
   "outputs": [
    {
     "name": "stdout",
     "output_type": "stream",
     "text": [
      "The parameters with lowest Ecv error are: {'C': 12.666666666666668, 'kernel': 'rbf', 'max_iter': 5000, 'tol': 0.0001}\n",
      "The error Ecv: 0.1586821629075149\n"
     ]
    }
   ],
   "source": [
    "print(\"The parameters with lowest Ecv error are: \"+ str(grid_search.best_params_))\n",
    "# Finding smallest cross-validation error\n",
    "GRID_Results = pd.DataFrame(data=grid_search.cv_results_)\n",
    "Ecv = 1 - GRID_Results[GRID_Results['rank_test_score']==1]['mean_test_score'].mean()\n",
    "print(f\"The error Ecv: {Ecv}\")"
   ]
  },
  {
   "cell_type": "code",
   "execution_count": 48,
   "id": "a79864b2",
   "metadata": {
    "execution": {
     "iopub.execute_input": "2024-01-07T02:06:07.043521Z",
     "iopub.status.busy": "2024-01-07T02:06:07.042899Z",
     "iopub.status.idle": "2024-01-07T02:06:07.060245Z",
     "shell.execute_reply": "2024-01-07T02:06:07.058712Z"
    },
    "papermill": {
     "duration": 0.035419,
     "end_time": "2024-01-07T02:06:07.062739",
     "exception": false,
     "start_time": "2024-01-07T02:06:07.027320",
     "status": "completed"
    },
    "tags": []
   },
   "outputs": [
    {
     "data": {
      "text/plain": [
       "0.8539325842696629"
      ]
     },
     "execution_count": 48,
     "metadata": {},
     "output_type": "execute_result"
    }
   ],
   "source": [
    "grid_search.best_estimator_.score(X_train, y_train)"
   ]
  },
  {
   "cell_type": "code",
   "execution_count": 49,
   "id": "5d82e314",
   "metadata": {
    "execution": {
     "iopub.execute_input": "2024-01-07T02:06:07.092693Z",
     "iopub.status.busy": "2024-01-07T02:06:07.092297Z",
     "iopub.status.idle": "2024-01-07T02:06:07.104441Z",
     "shell.execute_reply": "2024-01-07T02:06:07.103355Z"
    },
    "papermill": {
     "duration": 0.029576,
     "end_time": "2024-01-07T02:06:07.106617",
     "exception": false,
     "start_time": "2024-01-07T02:06:07.077041",
     "status": "completed"
    },
    "tags": []
   },
   "outputs": [
    {
     "data": {
      "text/plain": [
       "0.7821229050279329"
      ]
     },
     "execution_count": 49,
     "metadata": {},
     "output_type": "execute_result"
    }
   ],
   "source": [
    "grid_search.best_estimator_.score(X_test, y_test)"
   ]
  },
  {
   "cell_type": "code",
   "execution_count": 50,
   "id": "86733ca1",
   "metadata": {
    "execution": {
     "iopub.execute_input": "2024-01-07T02:06:07.137482Z",
     "iopub.status.busy": "2024-01-07T02:06:07.136943Z",
     "iopub.status.idle": "2024-01-07T02:06:07.153951Z",
     "shell.execute_reply": "2024-01-07T02:06:07.153202Z"
    },
    "papermill": {
     "duration": 0.035101,
     "end_time": "2024-01-07T02:06:07.156345",
     "exception": false,
     "start_time": "2024-01-07T02:06:07.121244",
     "status": "completed"
    },
    "tags": []
   },
   "outputs": [],
   "source": [
    "yhat_train = grid_search.best_estimator_.predict(X_train)\n",
    "yhat_test = grid_search.best_estimator_.predict(X_test)"
   ]
  },
  {
   "cell_type": "code",
   "execution_count": 51,
   "id": "fc430790",
   "metadata": {
    "execution": {
     "iopub.execute_input": "2024-01-07T02:06:07.193333Z",
     "iopub.status.busy": "2024-01-07T02:06:07.192617Z",
     "iopub.status.idle": "2024-01-07T02:06:07.200017Z",
     "shell.execute_reply": "2024-01-07T02:06:07.199063Z"
    },
    "papermill": {
     "duration": 0.028526,
     "end_time": "2024-01-07T02:06:07.201796",
     "exception": false,
     "start_time": "2024-01-07T02:06:07.173270",
     "status": "completed"
    },
    "tags": []
   },
   "outputs": [
    {
     "data": {
      "text/plain": [
       "0.7821229050279329"
      ]
     },
     "execution_count": 51,
     "metadata": {},
     "output_type": "execute_result"
    }
   ],
   "source": [
    "accuracy_score(y_test, yhat_test)"
   ]
  },
  {
   "cell_type": "code",
   "execution_count": 52,
   "id": "f8ad790d",
   "metadata": {
    "execution": {
     "iopub.execute_input": "2024-01-07T02:06:07.240859Z",
     "iopub.status.busy": "2024-01-07T02:06:07.240184Z",
     "iopub.status.idle": "2024-01-07T02:06:07.250299Z",
     "shell.execute_reply": "2024-01-07T02:06:07.249043Z"
    },
    "papermill": {
     "duration": 0.032412,
     "end_time": "2024-01-07T02:06:07.252908",
     "exception": false,
     "start_time": "2024-01-07T02:06:07.220496",
     "status": "completed"
    },
    "tags": []
   },
   "outputs": [
    {
     "data": {
      "text/plain": [
       "0.8539325842696629"
      ]
     },
     "execution_count": 52,
     "metadata": {},
     "output_type": "execute_result"
    }
   ],
   "source": [
    "accuracy_score(y_train, yhat_train)"
   ]
  },
  {
   "cell_type": "code",
   "execution_count": null,
   "id": "0753d63a",
   "metadata": {
    "papermill": {
     "duration": 0.018768,
     "end_time": "2024-01-07T02:06:07.290201",
     "exception": false,
     "start_time": "2024-01-07T02:06:07.271433",
     "status": "completed"
    },
    "tags": []
   },
   "outputs": [],
   "source": []
  }
 ],
 "metadata": {
  "kaggle": {
   "accelerator": "none",
   "dataSources": [
    {
     "databundleVersionId": 26502,
     "sourceId": 3136,
     "sourceType": "competition"
    }
   ],
   "dockerImageVersionId": 30626,
   "isGpuEnabled": false,
   "isInternetEnabled": true,
   "language": "python",
   "sourceType": "notebook"
  },
  "kernelspec": {
   "display_name": "Python 3",
   "language": "python",
   "name": "python3"
  },
  "language_info": {
   "codemirror_mode": {
    "name": "ipython",
    "version": 3
   },
   "file_extension": ".py",
   "mimetype": "text/x-python",
   "name": "python",
   "nbconvert_exporter": "python",
   "pygments_lexer": "ipython3",
   "version": "3.10.12"
  },
  "papermill": {
   "default_parameters": {},
   "duration": 12.392352,
   "end_time": "2024-01-07T02:06:09.926812",
   "environment_variables": {},
   "exception": null,
   "input_path": "__notebook__.ipynb",
   "output_path": "__notebook__.ipynb",
   "parameters": {},
   "start_time": "2024-01-07T02:05:57.534460",
   "version": "2.4.0"
  }
 },
 "nbformat": 4,
 "nbformat_minor": 5
}
