{
 "cells": [
  {
   "cell_type": "code",
   "execution_count": 1,
   "id": "4a9f46f3",
   "metadata": {
    "_cell_guid": "b1076dfc-b9ad-4769-8c92-a6c4dae69d19",
    "_uuid": "8f2839f25d086af736a60e9eeb907d3b93b6e0e5",
    "execution": {
     "iopub.execute_input": "2024-01-03T20:40:44.982885Z",
     "iopub.status.busy": "2024-01-03T20:40:44.982014Z",
     "iopub.status.idle": "2024-01-03T20:40:47.025294Z",
     "shell.execute_reply": "2024-01-03T20:40:47.024305Z"
    },
    "papermill": {
     "duration": 2.055541,
     "end_time": "2024-01-03T20:40:47.027436",
     "exception": false,
     "start_time": "2024-01-03T20:40:44.971895",
     "status": "completed"
    },
    "tags": []
   },
   "outputs": [],
   "source": [
    "# This Python 3 environment comes with many helpful analytics libraries installed\n",
    "# It is defined by the kaggle/python Docker image: https://github.com/kaggle/docker-python\n",
    "# For example, here's several helpful packages to load\n",
    "\n",
    "import numpy as np # linear algebra\n",
    "import pandas as pd # data processing, CSV file I/O (e.g. pd.read_csv)\n",
    "import matplotlib.pyplot as plt\n",
    "import seaborn as sns\n",
    "from sklearn.model_selection import train_test_split\n",
    "from sklearn.linear_model import LogisticRegression\n"
   ]
  },
  {
   "cell_type": "code",
   "execution_count": 2,
   "id": "9e0fc000",
   "metadata": {
    "execution": {
     "iopub.execute_input": "2024-01-03T20:40:47.046955Z",
     "iopub.status.busy": "2024-01-03T20:40:47.046277Z",
     "iopub.status.idle": "2024-01-03T20:40:47.081384Z",
     "shell.execute_reply": "2024-01-03T20:40:47.079983Z"
    },
    "papermill": {
     "duration": 0.047635,
     "end_time": "2024-01-03T20:40:47.083981",
     "exception": false,
     "start_time": "2024-01-03T20:40:47.036346",
     "status": "completed"
    },
    "tags": []
   },
   "outputs": [],
   "source": [
    "train = pd.read_csv(\"/kaggle/input/titanic/train.csv\")\n",
    "test = pd.read_csv(\"/kaggle/input/titanic/test.csv\")\n",
    "submission = pd.read_csv(\"/kaggle/input/titanic/gender_submission.csv\")"
   ]
  },
  {
   "cell_type": "code",
   "execution_count": 3,
   "id": "c82faa26",
   "metadata": {
    "execution": {
     "iopub.execute_input": "2024-01-03T20:40:47.103458Z",
     "iopub.status.busy": "2024-01-03T20:40:47.103038Z",
     "iopub.status.idle": "2024-01-03T20:40:47.108474Z",
     "shell.execute_reply": "2024-01-03T20:40:47.107003Z"
    },
    "papermill": {
     "duration": 0.017775,
     "end_time": "2024-01-03T20:40:47.110755",
     "exception": false,
     "start_time": "2024-01-03T20:40:47.092980",
     "status": "completed"
    },
    "tags": []
   },
   "outputs": [
    {
     "name": "stdout",
     "output_type": "stream",
     "text": [
      "Train Data: Number of Houses are: 891 and the number of features for each house are 12\n",
      "Test Data: Number of Houses are: 418 and the number of features for each house are 11\n"
     ]
    }
   ],
   "source": [
    "# print Dimesnions\n",
    "print(f\"Train Data: Number of Houses are: {train.shape[0]} and the number of features for each house are {train.shape[1]}\")\n",
    "print(f\"Test Data: Number of Houses are: {test.shape[0]} and the number of features for each house are {test.shape[1]}\")"
   ]
  },
  {
   "cell_type": "code",
   "execution_count": 4,
   "id": "730b4bcf",
   "metadata": {
    "execution": {
     "iopub.execute_input": "2024-01-03T20:40:47.129839Z",
     "iopub.status.busy": "2024-01-03T20:40:47.129446Z",
     "iopub.status.idle": "2024-01-03T20:40:47.144897Z",
     "shell.execute_reply": "2024-01-03T20:40:47.143994Z"
    },
    "papermill": {
     "duration": 0.027822,
     "end_time": "2024-01-03T20:40:47.147393",
     "exception": false,
     "start_time": "2024-01-03T20:40:47.119571",
     "status": "completed"
    },
    "tags": []
   },
   "outputs": [
    {
     "data": {
      "text/plain": [
       "PassengerId      0\n",
       "Survived         0\n",
       "Pclass           0\n",
       "Name             0\n",
       "Sex              0\n",
       "Age            177\n",
       "SibSp            0\n",
       "Parch            0\n",
       "Ticket           0\n",
       "Fare             0\n",
       "Cabin          687\n",
       "Embarked         2\n",
       "dtype: int64"
      ]
     },
     "execution_count": 4,
     "metadata": {},
     "output_type": "execute_result"
    }
   ],
   "source": [
    " train.isnull().sum()"
   ]
  },
  {
   "cell_type": "code",
   "execution_count": 5,
   "id": "249a672f",
   "metadata": {
    "execution": {
     "iopub.execute_input": "2024-01-03T20:40:47.166932Z",
     "iopub.status.busy": "2024-01-03T20:40:47.166532Z",
     "iopub.status.idle": "2024-01-03T20:40:47.172597Z",
     "shell.execute_reply": "2024-01-03T20:40:47.171047Z"
    },
    "papermill": {
     "duration": 0.018515,
     "end_time": "2024-01-03T20:40:47.174824",
     "exception": false,
     "start_time": "2024-01-03T20:40:47.156309",
     "status": "completed"
    },
    "tags": []
   },
   "outputs": [
    {
     "data": {
      "text/plain": [
       "0.19865319865319866"
      ]
     },
     "execution_count": 5,
     "metadata": {},
     "output_type": "execute_result"
    }
   ],
   "source": [
    "177/891"
   ]
  },
  {
   "cell_type": "code",
   "execution_count": 6,
   "id": "049f412b",
   "metadata": {
    "execution": {
     "iopub.execute_input": "2024-01-03T20:40:47.196181Z",
     "iopub.status.busy": "2024-01-03T20:40:47.195846Z",
     "iopub.status.idle": "2024-01-03T20:40:47.210741Z",
     "shell.execute_reply": "2024-01-03T20:40:47.209219Z"
    },
    "papermill": {
     "duration": 0.02817,
     "end_time": "2024-01-03T20:40:47.213135",
     "exception": false,
     "start_time": "2024-01-03T20:40:47.184965",
     "status": "completed"
    },
    "tags": []
   },
   "outputs": [],
   "source": [
    "#drop column 'cabin' as more than 70% rows are null\n",
    "train_1 = train.drop(['PassengerId','Cabin','Ticket','Name'], axis=1)\n",
    "test_1 = test.drop(['PassengerId','Cabin','Ticket','Name'], axis=1)"
   ]
  },
  {
   "cell_type": "code",
   "execution_count": 7,
   "id": "cf2aa079",
   "metadata": {
    "execution": {
     "iopub.execute_input": "2024-01-03T20:40:47.232775Z",
     "iopub.status.busy": "2024-01-03T20:40:47.232244Z",
     "iopub.status.idle": "2024-01-03T20:40:47.237456Z",
     "shell.execute_reply": "2024-01-03T20:40:47.236466Z"
    },
    "papermill": {
     "duration": 0.017707,
     "end_time": "2024-01-03T20:40:47.239845",
     "exception": false,
     "start_time": "2024-01-03T20:40:47.222138",
     "status": "completed"
    },
    "tags": []
   },
   "outputs": [
    {
     "name": "stdout",
     "output_type": "stream",
     "text": [
      "Train Data: Number of Houses are: 891 and the number of features for each house are 8\n",
      "Test Data: Number of Houses are: 418 and the number of features for each house are 7\n"
     ]
    }
   ],
   "source": [
    "# print Dimesnions\n",
    "print(f\"Train Data: Number of Houses are: {train_1.shape[0]} and the number of features for each house are {train_1.shape[1]}\")\n",
    "print(f\"Test Data: Number of Houses are: {test_1.shape[0]} and the number of features for each house are {test_1.shape[1]}\")"
   ]
  },
  {
   "cell_type": "code",
   "execution_count": 8,
   "id": "02f252fc",
   "metadata": {
    "execution": {
     "iopub.execute_input": "2024-01-03T20:40:47.259825Z",
     "iopub.status.busy": "2024-01-03T20:40:47.258829Z",
     "iopub.status.idle": "2024-01-03T20:40:47.268089Z",
     "shell.execute_reply": "2024-01-03T20:40:47.266614Z"
    },
    "papermill": {
     "duration": 0.021628,
     "end_time": "2024-01-03T20:40:47.270273",
     "exception": false,
     "start_time": "2024-01-03T20:40:47.248645",
     "status": "completed"
    },
    "tags": []
   },
   "outputs": [
    {
     "data": {
      "text/plain": [
       "Survived      0\n",
       "Pclass        0\n",
       "Sex           0\n",
       "Age         177\n",
       "SibSp         0\n",
       "Parch         0\n",
       "Fare          0\n",
       "Embarked      2\n",
       "dtype: int64"
      ]
     },
     "execution_count": 8,
     "metadata": {},
     "output_type": "execute_result"
    }
   ],
   "source": [
    " train_1.isnull().sum()"
   ]
  },
  {
   "cell_type": "code",
   "execution_count": 9,
   "id": "e02a0249",
   "metadata": {
    "execution": {
     "iopub.execute_input": "2024-01-03T20:40:47.290440Z",
     "iopub.status.busy": "2024-01-03T20:40:47.290089Z",
     "iopub.status.idle": "2024-01-03T20:40:47.297366Z",
     "shell.execute_reply": "2024-01-03T20:40:47.296740Z"
    },
    "papermill": {
     "duration": 0.019647,
     "end_time": "2024-01-03T20:40:47.299218",
     "exception": false,
     "start_time": "2024-01-03T20:40:47.279571",
     "status": "completed"
    },
    "tags": []
   },
   "outputs": [
    {
     "data": {
      "text/plain": [
       "0      22.0\n",
       "1      38.0\n",
       "2      26.0\n",
       "3      35.0\n",
       "4      35.0\n",
       "       ... \n",
       "886    27.0\n",
       "887    19.0\n",
       "888     NaN\n",
       "889    26.0\n",
       "890    32.0\n",
       "Name: Age, Length: 891, dtype: float64"
      ]
     },
     "execution_count": 9,
     "metadata": {},
     "output_type": "execute_result"
    }
   ],
   "source": [
    "train_1['Age']"
   ]
  },
  {
   "cell_type": "code",
   "execution_count": 10,
   "id": "eec4d2c7",
   "metadata": {
    "execution": {
     "iopub.execute_input": "2024-01-03T20:40:47.320210Z",
     "iopub.status.busy": "2024-01-03T20:40:47.319856Z",
     "iopub.status.idle": "2024-01-03T20:40:47.329405Z",
     "shell.execute_reply": "2024-01-03T20:40:47.328462Z"
    },
    "papermill": {
     "duration": 0.022537,
     "end_time": "2024-01-03T20:40:47.331903",
     "exception": false,
     "start_time": "2024-01-03T20:40:47.309366",
     "status": "completed"
    },
    "tags": []
   },
   "outputs": [
    {
     "data": {
      "text/plain": [
       "array([1, 0, 3, 4, 2, 5, 8])"
      ]
     },
     "execution_count": 10,
     "metadata": {},
     "output_type": "execute_result"
    }
   ],
   "source": [
    "train_1['SibSp'].unique()"
   ]
  },
  {
   "cell_type": "code",
   "execution_count": 11,
   "id": "0141f96a",
   "metadata": {
    "execution": {
     "iopub.execute_input": "2024-01-03T20:40:47.352030Z",
     "iopub.status.busy": "2024-01-03T20:40:47.351680Z",
     "iopub.status.idle": "2024-01-03T20:40:47.358018Z",
     "shell.execute_reply": "2024-01-03T20:40:47.356866Z"
    },
    "papermill": {
     "duration": 0.018681,
     "end_time": "2024-01-03T20:40:47.359831",
     "exception": false,
     "start_time": "2024-01-03T20:40:47.341150",
     "status": "completed"
    },
    "tags": []
   },
   "outputs": [
    {
     "data": {
      "text/plain": [
       "array([0, 1, 2, 5, 3, 4, 6])"
      ]
     },
     "execution_count": 11,
     "metadata": {},
     "output_type": "execute_result"
    }
   ],
   "source": [
    "train_1['Parch'].unique()"
   ]
  },
  {
   "cell_type": "code",
   "execution_count": 12,
   "id": "3275fe6b",
   "metadata": {
    "execution": {
     "iopub.execute_input": "2024-01-03T20:40:47.380187Z",
     "iopub.status.busy": "2024-01-03T20:40:47.379835Z",
     "iopub.status.idle": "2024-01-03T20:40:47.387235Z",
     "shell.execute_reply": "2024-01-03T20:40:47.386395Z"
    },
    "papermill": {
     "duration": 0.020593,
     "end_time": "2024-01-03T20:40:47.389773",
     "exception": false,
     "start_time": "2024-01-03T20:40:47.369180",
     "status": "completed"
    },
    "tags": []
   },
   "outputs": [
    {
     "data": {
      "text/plain": [
       "array(['S', 'C', 'Q', nan], dtype=object)"
      ]
     },
     "execution_count": 12,
     "metadata": {},
     "output_type": "execute_result"
    }
   ],
   "source": [
    "train_1['Embarked'].unique()"
   ]
  },
  {
   "cell_type": "code",
   "execution_count": 13,
   "id": "0568e8e8",
   "metadata": {
    "execution": {
     "iopub.execute_input": "2024-01-03T20:40:47.411102Z",
     "iopub.status.busy": "2024-01-03T20:40:47.410713Z",
     "iopub.status.idle": "2024-01-03T20:40:47.418202Z",
     "shell.execute_reply": "2024-01-03T20:40:47.417260Z"
    },
    "papermill": {
     "duration": 0.020576,
     "end_time": "2024-01-03T20:40:47.420061",
     "exception": false,
     "start_time": "2024-01-03T20:40:47.399485",
     "status": "completed"
    },
    "tags": []
   },
   "outputs": [],
   "source": [
    "# Plot the histogram\n",
    "Sex_counts = train_1['Sex'].value_counts()\n"
   ]
  },
  {
   "cell_type": "code",
   "execution_count": 14,
   "id": "d09d842f",
   "metadata": {
    "execution": {
     "iopub.execute_input": "2024-01-03T20:40:47.494574Z",
     "iopub.status.busy": "2024-01-03T20:40:47.494249Z",
     "iopub.status.idle": "2024-01-03T20:40:47.500267Z",
     "shell.execute_reply": "2024-01-03T20:40:47.499187Z"
    },
    "papermill": {
     "duration": 0.019869,
     "end_time": "2024-01-03T20:40:47.503006",
     "exception": false,
     "start_time": "2024-01-03T20:40:47.483137",
     "status": "completed"
    },
    "tags": []
   },
   "outputs": [
    {
     "data": {
      "text/plain": [
       "Sex\n",
       "male      577\n",
       "female    314\n",
       "Name: count, dtype: int64"
      ]
     },
     "execution_count": 14,
     "metadata": {},
     "output_type": "execute_result"
    }
   ],
   "source": [
    "Sex_counts"
   ]
  },
  {
   "cell_type": "code",
   "execution_count": 15,
   "id": "f34f59a8",
   "metadata": {
    "execution": {
     "iopub.execute_input": "2024-01-03T20:40:47.524486Z",
     "iopub.status.busy": "2024-01-03T20:40:47.524102Z",
     "iopub.status.idle": "2024-01-03T20:40:47.704106Z",
     "shell.execute_reply": "2024-01-03T20:40:47.702528Z"
    },
    "papermill": {
     "duration": 0.193412,
     "end_time": "2024-01-03T20:40:47.706519",
     "exception": false,
     "start_time": "2024-01-03T20:40:47.513107",
     "status": "completed"
    },
    "tags": []
   },
   "outputs": [
    {
     "data": {
      "image/png": "[encoded data removed]",
      "text/plain": [
       "<Figure size 400x300 with 1 Axes>"
      ]
     },
     "metadata": {},
     "output_type": "display_data"
    }
   ],
   "source": [
    "# Plotting\n",
    "plt.figure(figsize=(4, 3))\n",
    "plt.bar(Sex_counts.index, Sex_counts)\n",
    "plt.xlabel('Category')\n",
    "plt.ylabel('Count')\n",
    "plt.title('Histogram of Sex Data')\n",
    "plt.show()"
   ]
  },
  {
   "cell_type": "code",
   "execution_count": 16,
   "id": "2b2f4564",
   "metadata": {
    "execution": {
     "iopub.execute_input": "2024-01-03T20:40:47.729195Z",
     "iopub.status.busy": "2024-01-03T20:40:47.728052Z",
     "iopub.status.idle": "2024-01-03T20:40:47.910543Z",
     "shell.execute_reply": "2024-01-03T20:40:47.909495Z"
    },
    "papermill": {
     "duration": 0.195607,
     "end_time": "2024-01-03T20:40:47.912633",
     "exception": false,
     "start_time": "2024-01-03T20:40:47.717026",
     "status": "completed"
    },
    "tags": []
   },
   "outputs": [
    {
     "data": {
      "image/png": "[encoded data removed]",
      "text/plain": [
       "<Figure size 500x400 with 1 Axes>"
      ]
     },
     "metadata": {},
     "output_type": "display_data"
    }
   ],
   "source": [
    "plt.figure(figsize=(5, 4))\n",
    "sns.boxplot(x='Sex', y='Age', data=train_1)\n",
    "plt.title('Quantile Graph of Age for Different Genders')\n",
    "plt.show()"
   ]
  },
  {
   "cell_type": "code",
   "execution_count": 17,
   "id": "6b7b69e9",
   "metadata": {
    "execution": {
     "iopub.execute_input": "2024-01-03T20:40:47.933815Z",
     "iopub.status.busy": "2024-01-03T20:40:47.933487Z",
     "iopub.status.idle": "2024-01-03T20:40:47.942467Z",
     "shell.execute_reply": "2024-01-03T20:40:47.940855Z"
    },
    "papermill": {
     "duration": 0.022513,
     "end_time": "2024-01-03T20:40:47.945008",
     "exception": false,
     "start_time": "2024-01-03T20:40:47.922495",
     "status": "completed"
    },
    "tags": []
   },
   "outputs": [
    {
     "data": {
      "text/plain": [
       "Survived      0\n",
       "Pclass        0\n",
       "Sex           0\n",
       "Age         177\n",
       "SibSp         0\n",
       "Parch         0\n",
       "Fare          0\n",
       "Embarked      2\n",
       "dtype: int64"
      ]
     },
     "execution_count": 17,
     "metadata": {},
     "output_type": "execute_result"
    }
   ],
   "source": [
    " train_1.isnull().sum()"
   ]
  },
  {
   "cell_type": "code",
   "execution_count": 18,
   "id": "2e592a0b",
   "metadata": {
    "execution": {
     "iopub.execute_input": "2024-01-03T20:40:47.967345Z",
     "iopub.status.busy": "2024-01-03T20:40:47.966988Z",
     "iopub.status.idle": "2024-01-03T20:40:47.974257Z",
     "shell.execute_reply": "2024-01-03T20:40:47.973028Z"
    },
    "papermill": {
     "duration": 0.021283,
     "end_time": "2024-01-03T20:40:47.976808",
     "exception": false,
     "start_time": "2024-01-03T20:40:47.955525",
     "status": "completed"
    },
    "tags": []
   },
   "outputs": [
    {
     "data": {
      "text/plain": [
       "array(['S', 'C', 'Q', nan], dtype=object)"
      ]
     },
     "execution_count": 18,
     "metadata": {},
     "output_type": "execute_result"
    }
   ],
   "source": [
    "train_1['Embarked'].unique()"
   ]
  },
  {
   "cell_type": "code",
   "execution_count": 19,
   "id": "9379695f",
   "metadata": {
    "execution": {
     "iopub.execute_input": "2024-01-03T20:40:47.998783Z",
     "iopub.status.busy": "2024-01-03T20:40:47.998406Z",
     "iopub.status.idle": "2024-01-03T20:40:48.004103Z",
     "shell.execute_reply": "2024-01-03T20:40:48.002482Z"
    },
    "papermill": {
     "duration": 0.019358,
     "end_time": "2024-01-03T20:40:48.006567",
     "exception": false,
     "start_time": "2024-01-03T20:40:47.987209",
     "status": "completed"
    },
    "tags": []
   },
   "outputs": [],
   "source": [
    "Replacement_nums ={\n",
    "    \"Sex\": {\"female\": 1,\"male\": 0},\n",
    "    \"Embarked\": {'S': 1, 'C':2, 'Q':3, 'nan' : 0},\n",
    "}"
   ]
  },
  {
   "cell_type": "code",
   "execution_count": 20,
   "id": "572e05bb",
   "metadata": {
    "execution": {
     "iopub.execute_input": "2024-01-03T20:40:48.029467Z",
     "iopub.status.busy": "2024-01-03T20:40:48.029086Z",
     "iopub.status.idle": "2024-01-03T20:40:48.038573Z",
     "shell.execute_reply": "2024-01-03T20:40:48.037942Z"
    },
    "papermill": {
     "duration": 0.023289,
     "end_time": "2024-01-03T20:40:48.040425",
     "exception": false,
     "start_time": "2024-01-03T20:40:48.017136",
     "status": "completed"
    },
    "tags": []
   },
   "outputs": [],
   "source": [
    "train_2 = train_1.replace(Replacement_nums)\n",
    "test_2 = test_1.replace(Replacement_nums)"
   ]
  },
  {
   "cell_type": "code",
   "execution_count": 21,
   "id": "e8102a15",
   "metadata": {
    "execution": {
     "iopub.execute_input": "2024-01-03T20:40:48.063262Z",
     "iopub.status.busy": "2024-01-03T20:40:48.062930Z",
     "iopub.status.idle": "2024-01-03T20:40:48.067814Z",
     "shell.execute_reply": "2024-01-03T20:40:48.066841Z"
    },
    "papermill": {
     "duration": 0.018609,
     "end_time": "2024-01-03T20:40:48.069520",
     "exception": false,
     "start_time": "2024-01-03T20:40:48.050911",
     "status": "completed"
    },
    "tags": []
   },
   "outputs": [],
   "source": [
    "train_2['Embarked'] = train_2['Embarked'].fillna(0)\n",
    "test_2['Embarked'] = test_2['Embarked'].fillna(0)"
   ]
  },
  {
   "cell_type": "code",
   "execution_count": 22,
   "id": "14590306",
   "metadata": {
    "execution": {
     "iopub.execute_input": "2024-01-03T20:40:48.092714Z",
     "iopub.status.busy": "2024-01-03T20:40:48.092189Z",
     "iopub.status.idle": "2024-01-03T20:40:48.097553Z",
     "shell.execute_reply": "2024-01-03T20:40:48.096764Z"
    },
    "papermill": {
     "duration": 0.019012,
     "end_time": "2024-01-03T20:40:48.099455",
     "exception": false,
     "start_time": "2024-01-03T20:40:48.080443",
     "status": "completed"
    },
    "tags": []
   },
   "outputs": [
    {
     "data": {
      "text/plain": [
       "array([0, 1])"
      ]
     },
     "execution_count": 22,
     "metadata": {},
     "output_type": "execute_result"
    }
   ],
   "source": [
    "train_2['Sex'].unique()"
   ]
  },
  {
   "cell_type": "code",
   "execution_count": 23,
   "id": "bfc3c35e",
   "metadata": {
    "execution": {
     "iopub.execute_input": "2024-01-03T20:40:48.122462Z",
     "iopub.status.busy": "2024-01-03T20:40:48.121957Z",
     "iopub.status.idle": "2024-01-03T20:40:48.129857Z",
     "shell.execute_reply": "2024-01-03T20:40:48.128581Z"
    },
    "papermill": {
     "duration": 0.022038,
     "end_time": "2024-01-03T20:40:48.132143",
     "exception": false,
     "start_time": "2024-01-03T20:40:48.110105",
     "status": "completed"
    },
    "tags": []
   },
   "outputs": [
    {
     "data": {
      "text/plain": [
       "array([1., 2., 3., 0.])"
      ]
     },
     "execution_count": 23,
     "metadata": {},
     "output_type": "execute_result"
    }
   ],
   "source": [
    "train_2['Embarked'].unique()"
   ]
  },
  {
   "cell_type": "code",
   "execution_count": 24,
   "id": "e1a9cc4c",
   "metadata": {
    "execution": {
     "iopub.execute_input": "2024-01-03T20:40:48.154981Z",
     "iopub.status.busy": "2024-01-03T20:40:48.154610Z",
     "iopub.status.idle": "2024-01-03T20:40:48.170667Z",
     "shell.execute_reply": "2024-01-03T20:40:48.169743Z"
    },
    "papermill": {
     "duration": 0.029699,
     "end_time": "2024-01-03T20:40:48.172477",
     "exception": false,
     "start_time": "2024-01-03T20:40:48.142778",
     "status": "completed"
    },
    "tags": []
   },
   "outputs": [
    {
     "data": {
      "text/html": [
       "<div>\n",
       "<style scoped>\n",
       "    .dataframe tbody tr th:only-of-type {\n",
       "        vertical-align: middle;\n",
       "    }\n",
       "\n",
       "    .dataframe tbody tr th {\n",
       "        vertical-align: top;\n",
       "    }\n",
       "\n",
       "    .dataframe thead th {\n",
       "        text-align: right;\n",
       "    }\n",
       "</style>\n",
       "<table border=\"1\" class=\"dataframe\">\n",
       "  <thead>\n",
       "    <tr style=\"text-align: right;\">\n",
       "      <th></th>\n",
       "      <th>Survived</th>\n",
       "      <th>Pclass</th>\n",
       "      <th>Sex</th>\n",
       "      <th>Age</th>\n",
       "      <th>SibSp</th>\n",
       "      <th>Parch</th>\n",
       "      <th>Fare</th>\n",
       "      <th>Embarked</th>\n",
       "    </tr>\n",
       "  </thead>\n",
       "  <tbody>\n",
       "    <tr>\n",
       "      <th>0</th>\n",
       "      <td>0</td>\n",
       "      <td>3</td>\n",
       "      <td>0</td>\n",
       "      <td>22.0</td>\n",
       "      <td>1</td>\n",
       "      <td>0</td>\n",
       "      <td>7.2500</td>\n",
       "      <td>1.0</td>\n",
       "    </tr>\n",
       "    <tr>\n",
       "      <th>1</th>\n",
       "      <td>1</td>\n",
       "      <td>1</td>\n",
       "      <td>1</td>\n",
       "      <td>38.0</td>\n",
       "      <td>1</td>\n",
       "      <td>0</td>\n",
       "      <td>71.2833</td>\n",
       "      <td>2.0</td>\n",
       "    </tr>\n",
       "    <tr>\n",
       "      <th>2</th>\n",
       "      <td>1</td>\n",
       "      <td>3</td>\n",
       "      <td>1</td>\n",
       "      <td>26.0</td>\n",
       "      <td>0</td>\n",
       "      <td>0</td>\n",
       "      <td>7.9250</td>\n",
       "      <td>1.0</td>\n",
       "    </tr>\n",
       "    <tr>\n",
       "      <th>3</th>\n",
       "      <td>1</td>\n",
       "      <td>1</td>\n",
       "      <td>1</td>\n",
       "      <td>35.0</td>\n",
       "      <td>1</td>\n",
       "      <td>0</td>\n",
       "      <td>53.1000</td>\n",
       "      <td>1.0</td>\n",
       "    </tr>\n",
       "  </tbody>\n",
       "</table>\n",
       "</div>"
      ],
      "text/plain": [
       "   Survived  Pclass  Sex   Age  SibSp  Parch     Fare  Embarked\n",
       "0         0       3    0  22.0      1      0   7.2500       1.0\n",
       "1         1       1    1  38.0      1      0  71.2833       2.0\n",
       "2         1       3    1  26.0      0      0   7.9250       1.0\n",
       "3         1       1    1  35.0      1      0  53.1000       1.0"
      ]
     },
     "execution_count": 24,
     "metadata": {},
     "output_type": "execute_result"
    }
   ],
   "source": [
    "train_2.head(4)"
   ]
  },
  {
   "cell_type": "code",
   "execution_count": 25,
   "id": "1de5e700",
   "metadata": {
    "execution": {
     "iopub.execute_input": "2024-01-03T20:40:48.197880Z",
     "iopub.status.busy": "2024-01-03T20:40:48.197297Z",
     "iopub.status.idle": "2024-01-03T20:40:48.204962Z",
     "shell.execute_reply": "2024-01-03T20:40:48.203951Z"
    },
    "papermill": {
     "duration": 0.023631,
     "end_time": "2024-01-03T20:40:48.207373",
     "exception": false,
     "start_time": "2024-01-03T20:40:48.183742",
     "status": "completed"
    },
    "tags": []
   },
   "outputs": [],
   "source": [
    "median_age_per_gender = train_1.groupby('Sex')['Age'].median()"
   ]
  },
  {
   "cell_type": "code",
   "execution_count": 26,
   "id": "d1bffcb3",
   "metadata": {
    "execution": {
     "iopub.execute_input": "2024-01-03T20:40:48.231357Z",
     "iopub.status.busy": "2024-01-03T20:40:48.230820Z",
     "iopub.status.idle": "2024-01-03T20:40:48.238407Z",
     "shell.execute_reply": "2024-01-03T20:40:48.236910Z"
    },
    "papermill": {
     "duration": 0.022407,
     "end_time": "2024-01-03T20:40:48.240719",
     "exception": false,
     "start_time": "2024-01-03T20:40:48.218312",
     "status": "completed"
    },
    "tags": []
   },
   "outputs": [],
   "source": [
    "train_2['Age'] = train_2['Age'].fillna(train_1['Sex'].map(median_age_per_gender))\n",
    "test_2['Age'] = test_2['Age'].fillna(test_1['Sex'].map(median_age_per_gender))\n"
   ]
  },
  {
   "cell_type": "code",
   "execution_count": 27,
   "id": "cc9b4be6",
   "metadata": {
    "execution": {
     "iopub.execute_input": "2024-01-03T20:40:48.264379Z",
     "iopub.status.busy": "2024-01-03T20:40:48.263804Z",
     "iopub.status.idle": "2024-01-03T20:40:48.270912Z",
     "shell.execute_reply": "2024-01-03T20:40:48.269859Z"
    },
    "papermill": {
     "duration": 0.021296,
     "end_time": "2024-01-03T20:40:48.272974",
     "exception": false,
     "start_time": "2024-01-03T20:40:48.251678",
     "status": "completed"
    },
    "tags": []
   },
   "outputs": [
    {
     "data": {
      "text/plain": [
       "Sex\n",
       "female    27.0\n",
       "male      29.0\n",
       "Name: Age, dtype: float64"
      ]
     },
     "execution_count": 27,
     "metadata": {},
     "output_type": "execute_result"
    }
   ],
   "source": [
    "median_age_per_gender"
   ]
  },
  {
   "cell_type": "code",
   "execution_count": 28,
   "id": "12d0dc58",
   "metadata": {
    "execution": {
     "iopub.execute_input": "2024-01-03T20:40:48.296748Z",
     "iopub.status.busy": "2024-01-03T20:40:48.296365Z",
     "iopub.status.idle": "2024-01-03T20:40:48.305163Z",
     "shell.execute_reply": "2024-01-03T20:40:48.304013Z"
    },
    "papermill": {
     "duration": 0.023125,
     "end_time": "2024-01-03T20:40:48.307164",
     "exception": false,
     "start_time": "2024-01-03T20:40:48.284039",
     "status": "completed"
    },
    "tags": []
   },
   "outputs": [
    {
     "data": {
      "text/plain": [
       "Survived    0\n",
       "Pclass      0\n",
       "Sex         0\n",
       "Age         0\n",
       "SibSp       0\n",
       "Parch       0\n",
       "Fare        0\n",
       "Embarked    0\n",
       "dtype: int64"
      ]
     },
     "execution_count": 28,
     "metadata": {},
     "output_type": "execute_result"
    }
   ],
   "source": [
    " train_2.isnull().sum()"
   ]
  },
  {
   "cell_type": "code",
   "execution_count": 29,
   "id": "c9a27169",
   "metadata": {
    "execution": {
     "iopub.execute_input": "2024-01-03T20:40:48.331237Z",
     "iopub.status.busy": "2024-01-03T20:40:48.330650Z",
     "iopub.status.idle": "2024-01-03T20:40:48.339224Z",
     "shell.execute_reply": "2024-01-03T20:40:48.338143Z"
    },
    "papermill": {
     "duration": 0.02266,
     "end_time": "2024-01-03T20:40:48.341196",
     "exception": false,
     "start_time": "2024-01-03T20:40:48.318536",
     "status": "completed"
    },
    "tags": []
   },
   "outputs": [
    {
     "data": {
      "text/plain": [
       "Pclass      0\n",
       "Sex         0\n",
       "Age         0\n",
       "SibSp       0\n",
       "Parch       0\n",
       "Fare        1\n",
       "Embarked    0\n",
       "dtype: int64"
      ]
     },
     "execution_count": 29,
     "metadata": {},
     "output_type": "execute_result"
    }
   ],
   "source": [
    "test_2.isnull().sum()"
   ]
  },
  {
   "cell_type": "code",
   "execution_count": 30,
   "id": "d6e26170",
   "metadata": {
    "execution": {
     "iopub.execute_input": "2024-01-03T20:40:48.364450Z",
     "iopub.status.busy": "2024-01-03T20:40:48.364101Z",
     "iopub.status.idle": "2024-01-03T20:40:48.377652Z",
     "shell.execute_reply": "2024-01-03T20:40:48.376658Z"
    },
    "papermill": {
     "duration": 0.028227,
     "end_time": "2024-01-03T20:40:48.380282",
     "exception": false,
     "start_time": "2024-01-03T20:40:48.352055",
     "status": "completed"
    },
    "tags": []
   },
   "outputs": [
    {
     "data": {
      "text/html": [
       "<div>\n",
       "<style scoped>\n",
       "    .dataframe tbody tr th:only-of-type {\n",
       "        vertical-align: middle;\n",
       "    }\n",
       "\n",
       "    .dataframe tbody tr th {\n",
       "        vertical-align: top;\n",
       "    }\n",
       "\n",
       "    .dataframe thead th {\n",
       "        text-align: right;\n",
       "    }\n",
       "</style>\n",
       "<table border=\"1\" class=\"dataframe\">\n",
       "  <thead>\n",
       "    <tr style=\"text-align: right;\">\n",
       "      <th></th>\n",
       "      <th>Survived</th>\n",
       "      <th>Pclass</th>\n",
       "      <th>Sex</th>\n",
       "      <th>Age</th>\n",
       "      <th>SibSp</th>\n",
       "      <th>Parch</th>\n",
       "      <th>Fare</th>\n",
       "      <th>Embarked</th>\n",
       "    </tr>\n",
       "  </thead>\n",
       "  <tbody>\n",
       "    <tr>\n",
       "      <th>0</th>\n",
       "      <td>0</td>\n",
       "      <td>3</td>\n",
       "      <td>0</td>\n",
       "      <td>22.0</td>\n",
       "      <td>1</td>\n",
       "      <td>0</td>\n",
       "      <td>7.2500</td>\n",
       "      <td>1.0</td>\n",
       "    </tr>\n",
       "    <tr>\n",
       "      <th>1</th>\n",
       "      <td>1</td>\n",
       "      <td>1</td>\n",
       "      <td>1</td>\n",
       "      <td>38.0</td>\n",
       "      <td>1</td>\n",
       "      <td>0</td>\n",
       "      <td>71.2833</td>\n",
       "      <td>2.0</td>\n",
       "    </tr>\n",
       "    <tr>\n",
       "      <th>2</th>\n",
       "      <td>1</td>\n",
       "      <td>3</td>\n",
       "      <td>1</td>\n",
       "      <td>26.0</td>\n",
       "      <td>0</td>\n",
       "      <td>0</td>\n",
       "      <td>7.9250</td>\n",
       "      <td>1.0</td>\n",
       "    </tr>\n",
       "    <tr>\n",
       "      <th>3</th>\n",
       "      <td>1</td>\n",
       "      <td>1</td>\n",
       "      <td>1</td>\n",
       "      <td>35.0</td>\n",
       "      <td>1</td>\n",
       "      <td>0</td>\n",
       "      <td>53.1000</td>\n",
       "      <td>1.0</td>\n",
       "    </tr>\n",
       "    <tr>\n",
       "      <th>4</th>\n",
       "      <td>0</td>\n",
       "      <td>3</td>\n",
       "      <td>0</td>\n",
       "      <td>35.0</td>\n",
       "      <td>0</td>\n",
       "      <td>0</td>\n",
       "      <td>8.0500</td>\n",
       "      <td>1.0</td>\n",
       "    </tr>\n",
       "  </tbody>\n",
       "</table>\n",
       "</div>"
      ],
      "text/plain": [
       "   Survived  Pclass  Sex   Age  SibSp  Parch     Fare  Embarked\n",
       "0         0       3    0  22.0      1      0   7.2500       1.0\n",
       "1         1       1    1  38.0      1      0  71.2833       2.0\n",
       "2         1       3    1  26.0      0      0   7.9250       1.0\n",
       "3         1       1    1  35.0      1      0  53.1000       1.0\n",
       "4         0       3    0  35.0      0      0   8.0500       1.0"
      ]
     },
     "execution_count": 30,
     "metadata": {},
     "output_type": "execute_result"
    }
   ],
   "source": [
    "train_2.head(5)"
   ]
  },
  {
   "cell_type": "code",
   "execution_count": 31,
   "id": "b5d00d9b",
   "metadata": {
    "execution": {
     "iopub.execute_input": "2024-01-03T20:40:48.405481Z",
     "iopub.status.busy": "2024-01-03T20:40:48.404272Z",
     "iopub.status.idle": "2024-01-03T20:40:48.411027Z",
     "shell.execute_reply": "2024-01-03T20:40:48.409952Z"
    },
    "papermill": {
     "duration": 0.021637,
     "end_time": "2024-01-03T20:40:48.413218",
     "exception": false,
     "start_time": "2024-01-03T20:40:48.391581",
     "status": "completed"
    },
    "tags": []
   },
   "outputs": [],
   "source": [
    "def normalise_data(train_data, test_data):\n",
    "\n",
    "    print(\"Normalising numerical columns between 0 and 1....\")\n",
    "    min_Age = train_data['Age'].min()\n",
    "    max_Age = train_data['Age'].max()\n",
    "\n",
    "    max_Fare = train_data['Fare'].max()\n",
    "    min_Fare = train_data['Fare'].min()\n",
    "    print(max_Fare, min_Fare)\n",
    "    train_data['Age'] = (train_data['Age'] - min_Age)/(max_Age-min_Age)\n",
    "    train_data['Fare'] = (train_data['Fare']  - min_Fare)/(max_Fare-min_Fare)\n",
    "\n",
    "    test_data['Age'] = (test_data['Age'] - min_Age)/(max_Age-min_Age)\n",
    "    test_data['Fare'] = (test_data['Fare']  - min_Fare)/(max_Fare-min_Fare)\n",
    "    \n",
    "    print(\"Done\")\n",
    "    return train_data, test_data\n"
   ]
  },
  {
   "cell_type": "code",
   "execution_count": null,
   "id": "e9fa9faa",
   "metadata": {
    "papermill": {
     "duration": 0.01071,
     "end_time": "2024-01-03T20:40:48.435159",
     "exception": false,
     "start_time": "2024-01-03T20:40:48.424449",
     "status": "completed"
    },
    "tags": []
   },
   "outputs": [],
   "source": []
  },
  {
   "cell_type": "code",
   "execution_count": 32,
   "id": "b78fe69f",
   "metadata": {
    "execution": {
     "iopub.execute_input": "2024-01-03T20:40:48.459280Z",
     "iopub.status.busy": "2024-01-03T20:40:48.458716Z",
     "iopub.status.idle": "2024-01-03T20:40:48.465729Z",
     "shell.execute_reply": "2024-01-03T20:40:48.464661Z"
    },
    "papermill": {
     "duration": 0.021127,
     "end_time": "2024-01-03T20:40:48.467345",
     "exception": false,
     "start_time": "2024-01-03T20:40:48.446218",
     "status": "completed"
    },
    "tags": []
   },
   "outputs": [
    {
     "name": "stdout",
     "output_type": "stream",
     "text": [
      "Normalising numerical columns between 0 and 1....\n",
      "512.3292 0.0\n",
      "Done\n"
     ]
    }
   ],
   "source": [
    "train_2, test_2 = normalise_data(train_2, test_2)"
   ]
  },
  {
   "cell_type": "code",
   "execution_count": 33,
   "id": "9b6d79a7",
   "metadata": {
    "execution": {
     "iopub.execute_input": "2024-01-03T20:40:48.491806Z",
     "iopub.status.busy": "2024-01-03T20:40:48.490856Z",
     "iopub.status.idle": "2024-01-03T20:40:48.504431Z",
     "shell.execute_reply": "2024-01-03T20:40:48.503455Z"
    },
    "papermill": {
     "duration": 0.027776,
     "end_time": "2024-01-03T20:40:48.506198",
     "exception": false,
     "start_time": "2024-01-03T20:40:48.478422",
     "status": "completed"
    },
    "tags": []
   },
   "outputs": [
    {
     "data": {
      "text/html": [
       "<div>\n",
       "<style scoped>\n",
       "    .dataframe tbody tr th:only-of-type {\n",
       "        vertical-align: middle;\n",
       "    }\n",
       "\n",
       "    .dataframe tbody tr th {\n",
       "        vertical-align: top;\n",
       "    }\n",
       "\n",
       "    .dataframe thead th {\n",
       "        text-align: right;\n",
       "    }\n",
       "</style>\n",
       "<table border=\"1\" class=\"dataframe\">\n",
       "  <thead>\n",
       "    <tr style=\"text-align: right;\">\n",
       "      <th></th>\n",
       "      <th>Survived</th>\n",
       "      <th>Pclass</th>\n",
       "      <th>Sex</th>\n",
       "      <th>Age</th>\n",
       "      <th>SibSp</th>\n",
       "      <th>Parch</th>\n",
       "      <th>Fare</th>\n",
       "      <th>Embarked</th>\n",
       "    </tr>\n",
       "  </thead>\n",
       "  <tbody>\n",
       "    <tr>\n",
       "      <th>0</th>\n",
       "      <td>0</td>\n",
       "      <td>3</td>\n",
       "      <td>0</td>\n",
       "      <td>0.271174</td>\n",
       "      <td>1</td>\n",
       "      <td>0</td>\n",
       "      <td>0.014151</td>\n",
       "      <td>1.0</td>\n",
       "    </tr>\n",
       "    <tr>\n",
       "      <th>1</th>\n",
       "      <td>1</td>\n",
       "      <td>1</td>\n",
       "      <td>1</td>\n",
       "      <td>0.472229</td>\n",
       "      <td>1</td>\n",
       "      <td>0</td>\n",
       "      <td>0.139136</td>\n",
       "      <td>2.0</td>\n",
       "    </tr>\n",
       "    <tr>\n",
       "      <th>2</th>\n",
       "      <td>1</td>\n",
       "      <td>3</td>\n",
       "      <td>1</td>\n",
       "      <td>0.321438</td>\n",
       "      <td>0</td>\n",
       "      <td>0</td>\n",
       "      <td>0.015469</td>\n",
       "      <td>1.0</td>\n",
       "    </tr>\n",
       "    <tr>\n",
       "      <th>3</th>\n",
       "      <td>1</td>\n",
       "      <td>1</td>\n",
       "      <td>1</td>\n",
       "      <td>0.434531</td>\n",
       "      <td>1</td>\n",
       "      <td>0</td>\n",
       "      <td>0.103644</td>\n",
       "      <td>1.0</td>\n",
       "    </tr>\n",
       "    <tr>\n",
       "      <th>4</th>\n",
       "      <td>0</td>\n",
       "      <td>3</td>\n",
       "      <td>0</td>\n",
       "      <td>0.434531</td>\n",
       "      <td>0</td>\n",
       "      <td>0</td>\n",
       "      <td>0.015713</td>\n",
       "      <td>1.0</td>\n",
       "    </tr>\n",
       "    <tr>\n",
       "      <th>5</th>\n",
       "      <td>0</td>\n",
       "      <td>3</td>\n",
       "      <td>0</td>\n",
       "      <td>0.359135</td>\n",
       "      <td>0</td>\n",
       "      <td>0</td>\n",
       "      <td>0.016510</td>\n",
       "      <td>3.0</td>\n",
       "    </tr>\n",
       "    <tr>\n",
       "      <th>6</th>\n",
       "      <td>0</td>\n",
       "      <td>1</td>\n",
       "      <td>0</td>\n",
       "      <td>0.673285</td>\n",
       "      <td>0</td>\n",
       "      <td>0</td>\n",
       "      <td>0.101229</td>\n",
       "      <td>1.0</td>\n",
       "    </tr>\n",
       "    <tr>\n",
       "      <th>7</th>\n",
       "      <td>0</td>\n",
       "      <td>3</td>\n",
       "      <td>0</td>\n",
       "      <td>0.019854</td>\n",
       "      <td>3</td>\n",
       "      <td>1</td>\n",
       "      <td>0.041136</td>\n",
       "      <td>1.0</td>\n",
       "    </tr>\n",
       "    <tr>\n",
       "      <th>8</th>\n",
       "      <td>1</td>\n",
       "      <td>3</td>\n",
       "      <td>1</td>\n",
       "      <td>0.334004</td>\n",
       "      <td>0</td>\n",
       "      <td>2</td>\n",
       "      <td>0.021731</td>\n",
       "      <td>1.0</td>\n",
       "    </tr>\n",
       "    <tr>\n",
       "      <th>9</th>\n",
       "      <td>1</td>\n",
       "      <td>2</td>\n",
       "      <td>1</td>\n",
       "      <td>0.170646</td>\n",
       "      <td>1</td>\n",
       "      <td>0</td>\n",
       "      <td>0.058694</td>\n",
       "      <td>2.0</td>\n",
       "    </tr>\n",
       "  </tbody>\n",
       "</table>\n",
       "</div>"
      ],
      "text/plain": [
       "   Survived  Pclass  Sex       Age  SibSp  Parch      Fare  Embarked\n",
       "0         0       3    0  0.271174      1      0  0.014151       1.0\n",
       "1         1       1    1  0.472229      1      0  0.139136       2.0\n",
       "2         1       3    1  0.321438      0      0  0.015469       1.0\n",
       "3         1       1    1  0.434531      1      0  0.103644       1.0\n",
       "4         0       3    0  0.434531      0      0  0.015713       1.0\n",
       "5         0       3    0  0.359135      0      0  0.016510       3.0\n",
       "6         0       1    0  0.673285      0      0  0.101229       1.0\n",
       "7         0       3    0  0.019854      3      1  0.041136       1.0\n",
       "8         1       3    1  0.334004      0      2  0.021731       1.0\n",
       "9         1       2    1  0.170646      1      0  0.058694       2.0"
      ]
     },
     "execution_count": 33,
     "metadata": {},
     "output_type": "execute_result"
    }
   ],
   "source": [
    "train_2.head(10)"
   ]
  },
  {
   "cell_type": "code",
   "execution_count": 34,
   "id": "3e5076c2",
   "metadata": {
    "execution": {
     "iopub.execute_input": "2024-01-03T20:40:48.531443Z",
     "iopub.status.busy": "2024-01-03T20:40:48.530868Z",
     "iopub.status.idle": "2024-01-03T20:40:48.538792Z",
     "shell.execute_reply": "2024-01-03T20:40:48.537668Z"
    },
    "papermill": {
     "duration": 0.023084,
     "end_time": "2024-01-03T20:40:48.541146",
     "exception": false,
     "start_time": "2024-01-03T20:40:48.518062",
     "status": "completed"
    },
    "tags": []
   },
   "outputs": [],
   "source": [
    "X = train_2.copy()\n",
    "X = X.drop(columns=['Survived'])\n",
    "Y = train_2['Survived']"
   ]
  },
  {
   "cell_type": "code",
   "execution_count": 35,
   "id": "12536894",
   "metadata": {
    "execution": {
     "iopub.execute_input": "2024-01-03T20:40:48.566538Z",
     "iopub.status.busy": "2024-01-03T20:40:48.566205Z",
     "iopub.status.idle": "2024-01-03T20:40:48.574883Z",
     "shell.execute_reply": "2024-01-03T20:40:48.573296Z"
    },
    "papermill": {
     "duration": 0.024087,
     "end_time": "2024-01-03T20:40:48.577074",
     "exception": false,
     "start_time": "2024-01-03T20:40:48.552987",
     "status": "completed"
    },
    "tags": []
   },
   "outputs": [],
   "source": [
    "X_train, X_test, y_train, y_test = train_test_split(X, Y, test_size=0.20, random_state=1)"
   ]
  },
  {
   "cell_type": "code",
   "execution_count": 36,
   "id": "4cc32f00",
   "metadata": {
    "execution": {
     "iopub.execute_input": "2024-01-03T20:40:48.603053Z",
     "iopub.status.busy": "2024-01-03T20:40:48.602630Z",
     "iopub.status.idle": "2024-01-03T20:40:48.619178Z",
     "shell.execute_reply": "2024-01-03T20:40:48.617705Z"
    },
    "papermill": {
     "duration": 0.033261,
     "end_time": "2024-01-03T20:40:48.621725",
     "exception": false,
     "start_time": "2024-01-03T20:40:48.588464",
     "status": "completed"
    },
    "tags": []
   },
   "outputs": [
    {
     "data": {
      "text/html": [
       "<div>\n",
       "<style scoped>\n",
       "    .dataframe tbody tr th:only-of-type {\n",
       "        vertical-align: middle;\n",
       "    }\n",
       "\n",
       "    .dataframe tbody tr th {\n",
       "        vertical-align: top;\n",
       "    }\n",
       "\n",
       "    .dataframe thead th {\n",
       "        text-align: right;\n",
       "    }\n",
       "</style>\n",
       "<table border=\"1\" class=\"dataframe\">\n",
       "  <thead>\n",
       "    <tr style=\"text-align: right;\">\n",
       "      <th></th>\n",
       "      <th>Pclass</th>\n",
       "      <th>Sex</th>\n",
       "      <th>Age</th>\n",
       "      <th>SibSp</th>\n",
       "      <th>Parch</th>\n",
       "      <th>Fare</th>\n",
       "      <th>Embarked</th>\n",
       "    </tr>\n",
       "  </thead>\n",
       "  <tbody>\n",
       "    <tr>\n",
       "      <th>301</th>\n",
       "      <td>3</td>\n",
       "      <td>0</td>\n",
       "      <td>0.359135</td>\n",
       "      <td>2</td>\n",
       "      <td>0</td>\n",
       "      <td>0.045381</td>\n",
       "      <td>3.0</td>\n",
       "    </tr>\n",
       "    <tr>\n",
       "      <th>309</th>\n",
       "      <td>1</td>\n",
       "      <td>1</td>\n",
       "      <td>0.371701</td>\n",
       "      <td>0</td>\n",
       "      <td>0</td>\n",
       "      <td>0.111118</td>\n",
       "      <td>2.0</td>\n",
       "    </tr>\n",
       "    <tr>\n",
       "      <th>516</th>\n",
       "      <td>2</td>\n",
       "      <td>1</td>\n",
       "      <td>0.421965</td>\n",
       "      <td>0</td>\n",
       "      <td>0</td>\n",
       "      <td>0.020495</td>\n",
       "      <td>1.0</td>\n",
       "    </tr>\n",
       "    <tr>\n",
       "      <th>120</th>\n",
       "      <td>2</td>\n",
       "      <td>0</td>\n",
       "      <td>0.258608</td>\n",
       "      <td>2</td>\n",
       "      <td>0</td>\n",
       "      <td>0.143462</td>\n",
       "      <td>1.0</td>\n",
       "    </tr>\n",
       "    <tr>\n",
       "      <th>570</th>\n",
       "      <td>2</td>\n",
       "      <td>0</td>\n",
       "      <td>0.773813</td>\n",
       "      <td>0</td>\n",
       "      <td>0</td>\n",
       "      <td>0.020495</td>\n",
       "      <td>1.0</td>\n",
       "    </tr>\n",
       "    <tr>\n",
       "      <th>...</th>\n",
       "      <td>...</td>\n",
       "      <td>...</td>\n",
       "      <td>...</td>\n",
       "      <td>...</td>\n",
       "      <td>...</td>\n",
       "      <td>...</td>\n",
       "      <td>...</td>\n",
       "    </tr>\n",
       "    <tr>\n",
       "      <th>715</th>\n",
       "      <td>3</td>\n",
       "      <td>0</td>\n",
       "      <td>0.233476</td>\n",
       "      <td>0</td>\n",
       "      <td>0</td>\n",
       "      <td>0.014932</td>\n",
       "      <td>1.0</td>\n",
       "    </tr>\n",
       "    <tr>\n",
       "      <th>767</th>\n",
       "      <td>3</td>\n",
       "      <td>1</td>\n",
       "      <td>0.377984</td>\n",
       "      <td>0</td>\n",
       "      <td>0</td>\n",
       "      <td>0.015127</td>\n",
       "      <td>3.0</td>\n",
       "    </tr>\n",
       "    <tr>\n",
       "      <th>72</th>\n",
       "      <td>2</td>\n",
       "      <td>0</td>\n",
       "      <td>0.258608</td>\n",
       "      <td>0</td>\n",
       "      <td>0</td>\n",
       "      <td>0.143462</td>\n",
       "      <td>1.0</td>\n",
       "    </tr>\n",
       "    <tr>\n",
       "      <th>235</th>\n",
       "      <td>3</td>\n",
       "      <td>1</td>\n",
       "      <td>0.334004</td>\n",
       "      <td>0</td>\n",
       "      <td>0</td>\n",
       "      <td>0.014737</td>\n",
       "      <td>1.0</td>\n",
       "    </tr>\n",
       "    <tr>\n",
       "      <th>37</th>\n",
       "      <td>3</td>\n",
       "      <td>0</td>\n",
       "      <td>0.258608</td>\n",
       "      <td>0</td>\n",
       "      <td>0</td>\n",
       "      <td>0.015713</td>\n",
       "      <td>1.0</td>\n",
       "    </tr>\n",
       "  </tbody>\n",
       "</table>\n",
       "<p>712 rows × 7 columns</p>\n",
       "</div>"
      ],
      "text/plain": [
       "     Pclass  Sex       Age  SibSp  Parch      Fare  Embarked\n",
       "301       3    0  0.359135      2      0  0.045381       3.0\n",
       "309       1    1  0.371701      0      0  0.111118       2.0\n",
       "516       2    1  0.421965      0      0  0.020495       1.0\n",
       "120       2    0  0.258608      2      0  0.143462       1.0\n",
       "570       2    0  0.773813      0      0  0.020495       1.0\n",
       "..      ...  ...       ...    ...    ...       ...       ...\n",
       "715       3    0  0.233476      0      0  0.014932       1.0\n",
       "767       3    1  0.377984      0      0  0.015127       3.0\n",
       "72        2    0  0.258608      0      0  0.143462       1.0\n",
       "235       3    1  0.334004      0      0  0.014737       1.0\n",
       "37        3    0  0.258608      0      0  0.015713       1.0\n",
       "\n",
       "[712 rows x 7 columns]"
      ]
     },
     "execution_count": 36,
     "metadata": {},
     "output_type": "execute_result"
    }
   ],
   "source": [
    "X_train"
   ]
  },
  {
   "cell_type": "markdown",
   "id": "f5e6e540",
   "metadata": {
    "papermill": {
     "duration": 0.011455,
     "end_time": "2024-01-03T20:40:48.645392",
     "exception": false,
     "start_time": "2024-01-03T20:40:48.633937",
     "status": "completed"
    },
    "tags": []
   },
   "source": [
    "# Logistic Regression"
   ]
  },
  {
   "cell_type": "code",
   "execution_count": 37,
   "id": "58e525d3",
   "metadata": {
    "execution": {
     "iopub.execute_input": "2024-01-03T20:40:48.670587Z",
     "iopub.status.busy": "2024-01-03T20:40:48.670270Z",
     "iopub.status.idle": "2024-01-03T20:40:48.689733Z",
     "shell.execute_reply": "2024-01-03T20:40:48.688536Z"
    },
    "papermill": {
     "duration": 0.034433,
     "end_time": "2024-01-03T20:40:48.691891",
     "exception": false,
     "start_time": "2024-01-03T20:40:48.657458",
     "status": "completed"
    },
    "tags": []
   },
   "outputs": [],
   "source": [
    "log_regr = LogisticRegression(random_state=0).fit(X_train, y_train)"
   ]
  },
  {
   "cell_type": "code",
   "execution_count": 38,
   "id": "2d57c08f",
   "metadata": {
    "execution": {
     "iopub.execute_input": "2024-01-03T20:40:48.717300Z",
     "iopub.status.busy": "2024-01-03T20:40:48.716784Z",
     "iopub.status.idle": "2024-01-03T20:40:48.725263Z",
     "shell.execute_reply": "2024-01-03T20:40:48.724385Z"
    },
    "papermill": {
     "duration": 0.023131,
     "end_time": "2024-01-03T20:40:48.726987",
     "exception": false,
     "start_time": "2024-01-03T20:40:48.703856",
     "status": "completed"
    },
    "tags": []
   },
   "outputs": [
    {
     "data": {
      "text/plain": [
       "0.8061797752808989"
      ]
     },
     "execution_count": 38,
     "metadata": {},
     "output_type": "execute_result"
    }
   ],
   "source": [
    "log_regr.score(X_train, y_train)"
   ]
  },
  {
   "cell_type": "code",
   "execution_count": 39,
   "id": "0830bbb8",
   "metadata": {
    "execution": {
     "iopub.execute_input": "2024-01-03T20:40:48.752277Z",
     "iopub.status.busy": "2024-01-03T20:40:48.751815Z",
     "iopub.status.idle": "2024-01-03T20:40:48.760210Z",
     "shell.execute_reply": "2024-01-03T20:40:48.759026Z"
    },
    "papermill": {
     "duration": 0.023164,
     "end_time": "2024-01-03T20:40:48.761939",
     "exception": false,
     "start_time": "2024-01-03T20:40:48.738775",
     "status": "completed"
    },
    "tags": []
   },
   "outputs": [
    {
     "data": {
      "text/plain": [
       "0.7932960893854749"
      ]
     },
     "execution_count": 39,
     "metadata": {},
     "output_type": "execute_result"
    }
   ],
   "source": [
    "log_regr.score(X_test, y_test)"
   ]
  },
  {
   "cell_type": "code",
   "execution_count": null,
   "id": "53bd1266",
   "metadata": {
    "papermill": {
     "duration": 0.011266,
     "end_time": "2024-01-03T20:40:48.784927",
     "exception": false,
     "start_time": "2024-01-03T20:40:48.773661",
     "status": "completed"
    },
    "tags": []
   },
   "outputs": [],
   "source": []
  },
  {
   "cell_type": "code",
   "execution_count": null,
   "id": "f312ae18",
   "metadata": {
    "papermill": {
     "duration": 0.010991,
     "end_time": "2024-01-03T20:40:48.807166",
     "exception": false,
     "start_time": "2024-01-03T20:40:48.796175",
     "status": "completed"
    },
    "tags": []
   },
   "outputs": [],
   "source": []
  },
  {
   "cell_type": "code",
   "execution_count": null,
   "id": "875f410d",
   "metadata": {
    "papermill": {
     "duration": 0.011043,
     "end_time": "2024-01-03T20:40:48.829493",
     "exception": false,
     "start_time": "2024-01-03T20:40:48.818450",
     "status": "completed"
    },
    "tags": []
   },
   "outputs": [],
   "source": []
  },
  {
   "cell_type": "code",
   "execution_count": null,
   "id": "f55eea2f",
   "metadata": {
    "papermill": {
     "duration": 0.011199,
     "end_time": "2024-01-03T20:40:48.852030",
     "exception": false,
     "start_time": "2024-01-03T20:40:48.840831",
     "status": "completed"
    },
    "tags": []
   },
   "outputs": [],
   "source": []
  }
 ],
 "metadata": {
  "kaggle": {
   "accelerator": "none",
   "dataSources": [
    {
     "databundleVersionId": 26502,
     "sourceId": 3136,
     "sourceType": "competition"
    }
   ],
   "dockerImageVersionId": 30626,
   "isGpuEnabled": false,
   "isInternetEnabled": true,
   "language": "python",
   "sourceType": "notebook"
  },
  "kernelspec": {
   "display_name": "Python 3",
   "language": "python",
   "name": "python3"
  },
  "language_info": {
   "codemirror_mode": {
    "name": "ipython",
    "version": 3
   },
   "file_extension": ".py",
   "mimetype": "text/x-python",
   "name": "python",
   "nbconvert_exporter": "python",
   "pygments_lexer": "ipython3",
   "version": "3.10.12"
  },
  "papermill": {
   "default_parameters": {},
   "duration": 7.203365,
   "end_time": "2024-01-03T20:40:49.484247",
   "environment_variables": {},
   "exception": null,
   "input_path": "__notebook__.ipynb",
   "output_path": "__notebook__.ipynb",
   "parameters": {},
   "start_time": "2024-01-03T20:40:42.280882",
   "version": "2.4.0"
  }
 },
 "nbformat": 4,
 "nbformat_minor": 5
}
