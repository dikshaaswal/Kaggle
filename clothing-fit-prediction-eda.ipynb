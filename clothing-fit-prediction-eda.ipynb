{
 "cells": [
  {
   "cell_type": "code",
   "execution_count": 1,
   "id": "9d5d4330",
   "metadata": {
    "_cell_guid": "b1076dfc-b9ad-4769-8c92-a6c4dae69d19",
    "_uuid": "8f2839f25d086af736a60e9eeb907d3b93b6e0e5",
    "execution": {
     "iopub.execute_input": "2024-03-11T00:44:57.793127Z",
     "iopub.status.busy": "2024-03-11T00:44:57.792490Z",
     "iopub.status.idle": "2024-03-11T00:45:00.001820Z",
     "shell.execute_reply": "2024-03-11T00:45:00.000608Z"
    },
    "papermill": {
     "duration": 2.223592,
     "end_time": "2024-03-11T00:45:00.004049",
     "exception": false,
     "start_time": "2024-03-11T00:44:57.780457",
     "status": "completed"
    },
    "tags": []
   },
   "outputs": [
    {
     "name": "stdout",
     "output_type": "stream",
     "text": [
      "/kaggle/input/clothing-fit-dataset-for-size-recommendation/modcloth_final_data.json\n",
      "/kaggle/input/clothing-fit-dataset-for-size-recommendation/renttherunway_final_data.json\n"
     ]
    }
   ],
   "source": [
    "# This Python 3 environment comes with many helpful analytics libraries installed\n",
    "# It is defined by the kaggle/python Docker image: https://github.com/kaggle/docker-python\n",
    "# For example, here's several helpful packages to load\n",
    "\n",
    "import numpy as np # linear algebra\n",
    "import pandas as pd # data processing, CSV file I/O (e.g. pd.read_csv)\n",
    "import seaborn as sns\n",
    "# Input data files are available in the read-only \"../input/\" directory\n",
    "# For example, running this (by clicking run or pressing Shift+Enter) will list all files under the input directory\n",
    "import matplotlib.pyplot as plt\n",
    "import os\n",
    "for dirname, _, filenames in os.walk('/kaggle/input'):\n",
    "    for filename in filenames:\n",
    "        print(os.path.join(dirname, filename))\n",
    "\n",
    "# You can write up to 20GB to the current directory (/kaggle/working/) that gets preserved as output when you create a version using \"Save & Run All\" \n",
    "# You can also write temporary files to /kaggle/temp/, but they won't be saved outside of the current session"
   ]
  },
  {
   "cell_type": "code",
   "execution_count": 2,
   "id": "23474694",
   "metadata": {
    "execution": {
     "iopub.execute_input": "2024-03-11T00:45:00.025830Z",
     "iopub.status.busy": "2024-03-11T00:45:00.024018Z",
     "iopub.status.idle": "2024-03-11T00:45:05.067205Z",
     "shell.execute_reply": "2024-03-11T00:45:05.066074Z"
    },
    "papermill": {
     "duration": 5.056121,
     "end_time": "2024-03-11T00:45:05.069616",
     "exception": false,
     "start_time": "2024-03-11T00:45:00.013495",
     "status": "completed"
    },
    "tags": []
   },
   "outputs": [],
   "source": [
    "#if dataset is in json format, pd.read_json()\n",
    "modcloth_data = pd.read_json(\"/kaggle/input/clothing-fit-dataset-for-size-recommendation/modcloth_final_data.json\", lines = True)\n",
    "renttherunway_data = pd.read_json(\"/kaggle/input/clothing-fit-dataset-for-size-recommendation/renttherunway_final_data.json\", lines = True)"
   ]
  },
  {
   "cell_type": "code",
   "execution_count": 3,
   "id": "fdfdf661",
   "metadata": {
    "execution": {
     "iopub.execute_input": "2024-03-11T00:45:05.092017Z",
     "iopub.status.busy": "2024-03-11T00:45:05.091672Z",
     "iopub.status.idle": "2024-03-11T00:45:05.116607Z",
     "shell.execute_reply": "2024-03-11T00:45:05.115354Z"
    },
    "papermill": {
     "duration": 0.039172,
     "end_time": "2024-03-11T00:45:05.119255",
     "exception": false,
     "start_time": "2024-03-11T00:45:05.080083",
     "status": "completed"
    },
    "tags": []
   },
   "outputs": [
    {
     "data": {
      "text/html": [
       "<div>\n",
       "<style scoped>\n",
       "    .dataframe tbody tr th:only-of-type {\n",
       "        vertical-align: middle;\n",
       "    }\n",
       "\n",
       "    .dataframe tbody tr th {\n",
       "        vertical-align: top;\n",
       "    }\n",
       "\n",
       "    .dataframe thead th {\n",
       "        text-align: right;\n",
       "    }\n",
       "</style>\n",
       "<table border=\"1\" class=\"dataframe\">\n",
       "  <thead>\n",
       "    <tr style=\"text-align: right;\">\n",
       "      <th></th>\n",
       "      <th>item_id</th>\n",
       "      <th>waist</th>\n",
       "      <th>size</th>\n",
       "      <th>quality</th>\n",
       "      <th>cup size</th>\n",
       "      <th>hips</th>\n",
       "      <th>bra size</th>\n",
       "      <th>category</th>\n",
       "      <th>bust</th>\n",
       "      <th>height</th>\n",
       "      <th>user_name</th>\n",
       "      <th>length</th>\n",
       "      <th>fit</th>\n",
       "      <th>user_id</th>\n",
       "      <th>shoe size</th>\n",
       "      <th>shoe width</th>\n",
       "      <th>review_summary</th>\n",
       "      <th>review_text</th>\n",
       "    </tr>\n",
       "  </thead>\n",
       "  <tbody>\n",
       "    <tr>\n",
       "      <th>0</th>\n",
       "      <td>123373</td>\n",
       "      <td>29.0</td>\n",
       "      <td>7</td>\n",
       "      <td>5.0</td>\n",
       "      <td>d</td>\n",
       "      <td>38.0</td>\n",
       "      <td>34.0</td>\n",
       "      <td>new</td>\n",
       "      <td>36</td>\n",
       "      <td>5ft 6in</td>\n",
       "      <td>Emily</td>\n",
       "      <td>just right</td>\n",
       "      <td>small</td>\n",
       "      <td>991571</td>\n",
       "      <td>NaN</td>\n",
       "      <td>NaN</td>\n",
       "      <td>NaN</td>\n",
       "      <td>NaN</td>\n",
       "    </tr>\n",
       "    <tr>\n",
       "      <th>1</th>\n",
       "      <td>123373</td>\n",
       "      <td>31.0</td>\n",
       "      <td>13</td>\n",
       "      <td>3.0</td>\n",
       "      <td>b</td>\n",
       "      <td>30.0</td>\n",
       "      <td>36.0</td>\n",
       "      <td>new</td>\n",
       "      <td>NaN</td>\n",
       "      <td>5ft 2in</td>\n",
       "      <td>sydneybraden2001</td>\n",
       "      <td>just right</td>\n",
       "      <td>small</td>\n",
       "      <td>587883</td>\n",
       "      <td>NaN</td>\n",
       "      <td>NaN</td>\n",
       "      <td>NaN</td>\n",
       "      <td>NaN</td>\n",
       "    </tr>\n",
       "    <tr>\n",
       "      <th>2</th>\n",
       "      <td>123373</td>\n",
       "      <td>30.0</td>\n",
       "      <td>7</td>\n",
       "      <td>2.0</td>\n",
       "      <td>b</td>\n",
       "      <td>NaN</td>\n",
       "      <td>32.0</td>\n",
       "      <td>new</td>\n",
       "      <td>NaN</td>\n",
       "      <td>5ft 7in</td>\n",
       "      <td>Ugggh</td>\n",
       "      <td>slightly long</td>\n",
       "      <td>small</td>\n",
       "      <td>395665</td>\n",
       "      <td>9.0</td>\n",
       "      <td>NaN</td>\n",
       "      <td>NaN</td>\n",
       "      <td>NaN</td>\n",
       "    </tr>\n",
       "    <tr>\n",
       "      <th>3</th>\n",
       "      <td>123373</td>\n",
       "      <td>NaN</td>\n",
       "      <td>21</td>\n",
       "      <td>5.0</td>\n",
       "      <td>dd/e</td>\n",
       "      <td>NaN</td>\n",
       "      <td>NaN</td>\n",
       "      <td>new</td>\n",
       "      <td>NaN</td>\n",
       "      <td>NaN</td>\n",
       "      <td>alexmeyer626</td>\n",
       "      <td>just right</td>\n",
       "      <td>fit</td>\n",
       "      <td>875643</td>\n",
       "      <td>NaN</td>\n",
       "      <td>NaN</td>\n",
       "      <td>NaN</td>\n",
       "      <td>NaN</td>\n",
       "    </tr>\n",
       "  </tbody>\n",
       "</table>\n",
       "</div>"
      ],
      "text/plain": [
       "   item_id  waist  size  quality cup size  hips  bra size category bust  \\\n",
       "0   123373   29.0     7      5.0        d  38.0      34.0      new   36   \n",
       "1   123373   31.0    13      3.0        b  30.0      36.0      new  NaN   \n",
       "2   123373   30.0     7      2.0        b   NaN      32.0      new  NaN   \n",
       "3   123373    NaN    21      5.0     dd/e   NaN       NaN      new  NaN   \n",
       "\n",
       "    height         user_name         length    fit  user_id  shoe size  \\\n",
       "0  5ft 6in             Emily     just right  small   991571        NaN   \n",
       "1  5ft 2in  sydneybraden2001     just right  small   587883        NaN   \n",
       "2  5ft 7in             Ugggh  slightly long  small   395665        9.0   \n",
       "3      NaN      alexmeyer626     just right    fit   875643        NaN   \n",
       "\n",
       "  shoe width review_summary review_text  \n",
       "0        NaN            NaN         NaN  \n",
       "1        NaN            NaN         NaN  \n",
       "2        NaN            NaN         NaN  \n",
       "3        NaN            NaN         NaN  "
      ]
     },
     "execution_count": 3,
     "metadata": {},
     "output_type": "execute_result"
    }
   ],
   "source": [
    "modcloth_data.head(4)"
   ]
  },
  {
   "cell_type": "code",
   "execution_count": 4,
   "id": "18b57853",
   "metadata": {
    "execution": {
     "iopub.execute_input": "2024-03-11T00:45:05.141732Z",
     "iopub.status.busy": "2024-03-11T00:45:05.141363Z",
     "iopub.status.idle": "2024-03-11T00:45:05.148695Z",
     "shell.execute_reply": "2024-03-11T00:45:05.147341Z"
    },
    "papermill": {
     "duration": 0.021511,
     "end_time": "2024-03-11T00:45:05.150515",
     "exception": false,
     "start_time": "2024-03-11T00:45:05.129004",
     "status": "completed"
    },
    "tags": []
   },
   "outputs": [
    {
     "data": {
      "text/plain": [
       "(82790, 18)"
      ]
     },
     "execution_count": 4,
     "metadata": {},
     "output_type": "execute_result"
    }
   ],
   "source": [
    "modcloth_data.shape"
   ]
  },
  {
   "cell_type": "code",
   "execution_count": 5,
   "id": "9936e8b2",
   "metadata": {
    "execution": {
     "iopub.execute_input": "2024-03-11T00:45:05.171347Z",
     "iopub.status.busy": "2024-03-11T00:45:05.170984Z",
     "iopub.status.idle": "2024-03-11T00:45:05.177925Z",
     "shell.execute_reply": "2024-03-11T00:45:05.176924Z"
    },
    "papermill": {
     "duration": 0.019689,
     "end_time": "2024-03-11T00:45:05.179803",
     "exception": false,
     "start_time": "2024-03-11T00:45:05.160114",
     "status": "completed"
    },
    "tags": []
   },
   "outputs": [
    {
     "data": {
      "text/plain": [
       "Index(['item_id', 'waist', 'size', 'quality', 'cup size', 'hips', 'bra size',\n",
       "       'category', 'bust', 'height', 'user_name', 'length', 'fit', 'user_id',\n",
       "       'shoe size', 'shoe width', 'review_summary', 'review_text'],\n",
       "      dtype='object')"
      ]
     },
     "execution_count": 5,
     "metadata": {},
     "output_type": "execute_result"
    }
   ],
   "source": [
    "modcloth_data.columns"
   ]
  },
  {
   "cell_type": "code",
   "execution_count": 6,
   "id": "4f06d2ae",
   "metadata": {
    "execution": {
     "iopub.execute_input": "2024-03-11T00:45:05.201180Z",
     "iopub.status.busy": "2024-03-11T00:45:05.200807Z",
     "iopub.status.idle": "2024-03-11T00:45:05.230478Z",
     "shell.execute_reply": "2024-03-11T00:45:05.229551Z"
    },
    "papermill": {
     "duration": 0.043025,
     "end_time": "2024-03-11T00:45:05.232566",
     "exception": false,
     "start_time": "2024-03-11T00:45:05.189541",
     "status": "completed"
    },
    "tags": []
   },
   "outputs": [],
   "source": [
    "modcloth_data = modcloth_data.drop('item_id', axis=1)"
   ]
  },
  {
   "cell_type": "code",
   "execution_count": 7,
   "id": "484b2133",
   "metadata": {
    "execution": {
     "iopub.execute_input": "2024-03-11T00:45:05.254177Z",
     "iopub.status.busy": "2024-03-11T00:45:05.253001Z",
     "iopub.status.idle": "2024-03-11T00:45:05.350252Z",
     "shell.execute_reply": "2024-03-11T00:45:05.349407Z"
    },
    "papermill": {
     "duration": 0.110155,
     "end_time": "2024-03-11T00:45:05.352579",
     "exception": false,
     "start_time": "2024-03-11T00:45:05.242424",
     "status": "completed"
    },
    "tags": []
   },
   "outputs": [
    {
     "data": {
      "text/plain": [
       "waist             79908\n",
       "size                  0\n",
       "quality              68\n",
       "cup size           6255\n",
       "hips              26726\n",
       "bra size           6018\n",
       "category              0\n",
       "bust              70936\n",
       "height             1107\n",
       "user_name             0\n",
       "length               35\n",
       "fit                   0\n",
       "user_id               0\n",
       "shoe size         54875\n",
       "shoe width        64183\n",
       "review_summary     6725\n",
       "review_text        6725\n",
       "dtype: int64"
      ]
     },
     "execution_count": 7,
     "metadata": {},
     "output_type": "execute_result"
    }
   ],
   "source": [
    "modcloth_data.isnull().sum()"
   ]
  },
  {
   "cell_type": "code",
   "execution_count": 8,
   "id": "073de5c1",
   "metadata": {
    "execution": {
     "iopub.execute_input": "2024-03-11T00:45:05.374182Z",
     "iopub.status.busy": "2024-03-11T00:45:05.373861Z",
     "iopub.status.idle": "2024-03-11T00:45:05.566819Z",
     "shell.execute_reply": "2024-03-11T00:45:05.564521Z"
    },
    "papermill": {
     "duration": 0.2075,
     "end_time": "2024-03-11T00:45:05.570246",
     "exception": false,
     "start_time": "2024-03-11T00:45:05.362746",
     "status": "completed"
    },
    "tags": []
   },
   "outputs": [],
   "source": [
    "percentage_of_null = pd.DataFrame({'missing_data': modcloth_data.isnull().sum(), 'percentag_missing': (modcloth_data.isnull().sum()*100.00)/len(modcloth_data)})"
   ]
  },
  {
   "cell_type": "code",
   "execution_count": 9,
   "id": "09d6585a",
   "metadata": {
    "execution": {
     "iopub.execute_input": "2024-03-11T00:45:05.595651Z",
     "iopub.status.busy": "2024-03-11T00:45:05.595311Z",
     "iopub.status.idle": "2024-03-11T00:45:05.605533Z",
     "shell.execute_reply": "2024-03-11T00:45:05.604434Z"
    },
    "papermill": {
     "duration": 0.025691,
     "end_time": "2024-03-11T00:45:05.607503",
     "exception": false,
     "start_time": "2024-03-11T00:45:05.581812",
     "status": "completed"
    },
    "tags": []
   },
   "outputs": [
    {
     "data": {
      "text/html": [
       "<div>\n",
       "<style scoped>\n",
       "    .dataframe tbody tr th:only-of-type {\n",
       "        vertical-align: middle;\n",
       "    }\n",
       "\n",
       "    .dataframe tbody tr th {\n",
       "        vertical-align: top;\n",
       "    }\n",
       "\n",
       "    .dataframe thead th {\n",
       "        text-align: right;\n",
       "    }\n",
       "</style>\n",
       "<table border=\"1\" class=\"dataframe\">\n",
       "  <thead>\n",
       "    <tr style=\"text-align: right;\">\n",
       "      <th></th>\n",
       "      <th>missing_data</th>\n",
       "      <th>percentag_missing</th>\n",
       "    </tr>\n",
       "  </thead>\n",
       "  <tbody>\n",
       "    <tr>\n",
       "      <th>waist</th>\n",
       "      <td>79908</td>\n",
       "      <td>96.518903</td>\n",
       "    </tr>\n",
       "    <tr>\n",
       "      <th>size</th>\n",
       "      <td>0</td>\n",
       "      <td>0.000000</td>\n",
       "    </tr>\n",
       "    <tr>\n",
       "      <th>quality</th>\n",
       "      <td>68</td>\n",
       "      <td>0.082136</td>\n",
       "    </tr>\n",
       "    <tr>\n",
       "      <th>cup size</th>\n",
       "      <td>6255</td>\n",
       "      <td>7.555260</td>\n",
       "    </tr>\n",
       "    <tr>\n",
       "      <th>hips</th>\n",
       "      <td>26726</td>\n",
       "      <td>32.281677</td>\n",
       "    </tr>\n",
       "    <tr>\n",
       "      <th>bra size</th>\n",
       "      <td>6018</td>\n",
       "      <td>7.268994</td>\n",
       "    </tr>\n",
       "    <tr>\n",
       "      <th>category</th>\n",
       "      <td>0</td>\n",
       "      <td>0.000000</td>\n",
       "    </tr>\n",
       "    <tr>\n",
       "      <th>bust</th>\n",
       "      <td>70936</td>\n",
       "      <td>85.681846</td>\n",
       "    </tr>\n",
       "    <tr>\n",
       "      <th>height</th>\n",
       "      <td>1107</td>\n",
       "      <td>1.337118</td>\n",
       "    </tr>\n",
       "    <tr>\n",
       "      <th>user_name</th>\n",
       "      <td>0</td>\n",
       "      <td>0.000000</td>\n",
       "    </tr>\n",
       "    <tr>\n",
       "      <th>length</th>\n",
       "      <td>35</td>\n",
       "      <td>0.042276</td>\n",
       "    </tr>\n",
       "    <tr>\n",
       "      <th>fit</th>\n",
       "      <td>0</td>\n",
       "      <td>0.000000</td>\n",
       "    </tr>\n",
       "    <tr>\n",
       "      <th>user_id</th>\n",
       "      <td>0</td>\n",
       "      <td>0.000000</td>\n",
       "    </tr>\n",
       "    <tr>\n",
       "      <th>shoe size</th>\n",
       "      <td>54875</td>\n",
       "      <td>66.282160</td>\n",
       "    </tr>\n",
       "    <tr>\n",
       "      <th>shoe width</th>\n",
       "      <td>64183</td>\n",
       "      <td>77.525063</td>\n",
       "    </tr>\n",
       "    <tr>\n",
       "      <th>review_summary</th>\n",
       "      <td>6725</td>\n",
       "      <td>8.122962</td>\n",
       "    </tr>\n",
       "    <tr>\n",
       "      <th>review_text</th>\n",
       "      <td>6725</td>\n",
       "      <td>8.122962</td>\n",
       "    </tr>\n",
       "  </tbody>\n",
       "</table>\n",
       "</div>"
      ],
      "text/plain": [
       "                missing_data  percentag_missing\n",
       "waist                  79908          96.518903\n",
       "size                       0           0.000000\n",
       "quality                   68           0.082136\n",
       "cup size                6255           7.555260\n",
       "hips                   26726          32.281677\n",
       "bra size                6018           7.268994\n",
       "category                   0           0.000000\n",
       "bust                   70936          85.681846\n",
       "height                  1107           1.337118\n",
       "user_name                  0           0.000000\n",
       "length                    35           0.042276\n",
       "fit                        0           0.000000\n",
       "user_id                    0           0.000000\n",
       "shoe size              54875          66.282160\n",
       "shoe width             64183          77.525063\n",
       "review_summary          6725           8.122962\n",
       "review_text             6725           8.122962"
      ]
     },
     "execution_count": 9,
     "metadata": {},
     "output_type": "execute_result"
    }
   ],
   "source": [
    "percentage_of_null"
   ]
  },
  {
   "cell_type": "code",
   "execution_count": null,
   "id": "05f6b3dc",
   "metadata": {
    "papermill": {
     "duration": 0.012144,
     "end_time": "2024-03-11T00:45:05.630198",
     "exception": false,
     "start_time": "2024-03-11T00:45:05.618054",
     "status": "completed"
    },
    "tags": []
   },
   "outputs": [],
   "source": []
  },
  {
   "cell_type": "code",
   "execution_count": 10,
   "id": "ee146f00",
   "metadata": {
    "execution": {
     "iopub.execute_input": "2024-03-11T00:45:05.651951Z",
     "iopub.status.busy": "2024-03-11T00:45:05.651633Z",
     "iopub.status.idle": "2024-03-11T00:45:05.661308Z",
     "shell.execute_reply": "2024-03-11T00:45:05.660296Z"
    },
    "papermill": {
     "duration": 0.02278,
     "end_time": "2024-03-11T00:45:05.663197",
     "exception": false,
     "start_time": "2024-03-11T00:45:05.640417",
     "status": "completed"
    },
    "tags": []
   },
   "outputs": [
    {
     "data": {
      "text/plain": [
       "array([38., 30., nan, 41., 42., 50., 49., 60., 36., 44., 39., 35., 34.,\n",
       "       32., 48., 52., 40., 46., 37., 45., 55., 51., 33., 53., 54., 47.,\n",
       "       59., 43., 57., 58., 31., 56.])"
      ]
     },
     "execution_count": 10,
     "metadata": {},
     "output_type": "execute_result"
    }
   ],
   "source": [
    "modcloth_data['hips'].unique()"
   ]
  },
  {
   "cell_type": "code",
   "execution_count": 11,
   "id": "cd938ad8",
   "metadata": {
    "execution": {
     "iopub.execute_input": "2024-03-11T00:45:05.685011Z",
     "iopub.status.busy": "2024-03-11T00:45:05.684668Z",
     "iopub.status.idle": "2024-03-11T00:45:05.733791Z",
     "shell.execute_reply": "2024-03-11T00:45:05.732645Z"
    },
    "papermill": {
     "duration": 0.062551,
     "end_time": "2024-03-11T00:45:05.735918",
     "exception": false,
     "start_time": "2024-03-11T00:45:05.673367",
     "status": "completed"
    },
    "tags": []
   },
   "outputs": [
    {
     "data": {
      "text/html": [
       "<div>\n",
       "<style scoped>\n",
       "    .dataframe tbody tr th:only-of-type {\n",
       "        vertical-align: middle;\n",
       "    }\n",
       "\n",
       "    .dataframe tbody tr th {\n",
       "        vertical-align: top;\n",
       "    }\n",
       "\n",
       "    .dataframe thead th {\n",
       "        text-align: right;\n",
       "    }\n",
       "</style>\n",
       "<table border=\"1\" class=\"dataframe\">\n",
       "  <thead>\n",
       "    <tr style=\"text-align: right;\">\n",
       "      <th></th>\n",
       "      <th>waist</th>\n",
       "      <th>size</th>\n",
       "      <th>quality</th>\n",
       "      <th>hips</th>\n",
       "      <th>bra size</th>\n",
       "      <th>user_id</th>\n",
       "      <th>shoe size</th>\n",
       "    </tr>\n",
       "  </thead>\n",
       "  <tbody>\n",
       "    <tr>\n",
       "      <th>count</th>\n",
       "      <td>2882.000000</td>\n",
       "      <td>82790.000000</td>\n",
       "      <td>82722.000000</td>\n",
       "      <td>56064.000000</td>\n",
       "      <td>76772.000000</td>\n",
       "      <td>82790.000000</td>\n",
       "      <td>27915.000000</td>\n",
       "    </tr>\n",
       "    <tr>\n",
       "      <th>mean</th>\n",
       "      <td>31.319223</td>\n",
       "      <td>12.661602</td>\n",
       "      <td>3.949058</td>\n",
       "      <td>40.358501</td>\n",
       "      <td>35.972125</td>\n",
       "      <td>498849.564718</td>\n",
       "      <td>8.145818</td>\n",
       "    </tr>\n",
       "    <tr>\n",
       "      <th>std</th>\n",
       "      <td>5.302849</td>\n",
       "      <td>8.271952</td>\n",
       "      <td>0.992783</td>\n",
       "      <td>5.827166</td>\n",
       "      <td>3.224907</td>\n",
       "      <td>286356.969459</td>\n",
       "      <td>1.336109</td>\n",
       "    </tr>\n",
       "    <tr>\n",
       "      <th>min</th>\n",
       "      <td>20.000000</td>\n",
       "      <td>0.000000</td>\n",
       "      <td>1.000000</td>\n",
       "      <td>30.000000</td>\n",
       "      <td>28.000000</td>\n",
       "      <td>6.000000</td>\n",
       "      <td>5.000000</td>\n",
       "    </tr>\n",
       "    <tr>\n",
       "      <th>25%</th>\n",
       "      <td>28.000000</td>\n",
       "      <td>8.000000</td>\n",
       "      <td>3.000000</td>\n",
       "      <td>36.000000</td>\n",
       "      <td>34.000000</td>\n",
       "      <td>252897.750000</td>\n",
       "      <td>7.000000</td>\n",
       "    </tr>\n",
       "    <tr>\n",
       "      <th>50%</th>\n",
       "      <td>30.000000</td>\n",
       "      <td>12.000000</td>\n",
       "      <td>4.000000</td>\n",
       "      <td>39.000000</td>\n",
       "      <td>36.000000</td>\n",
       "      <td>497913.500000</td>\n",
       "      <td>8.000000</td>\n",
       "    </tr>\n",
       "    <tr>\n",
       "      <th>75%</th>\n",
       "      <td>34.000000</td>\n",
       "      <td>15.000000</td>\n",
       "      <td>5.000000</td>\n",
       "      <td>43.000000</td>\n",
       "      <td>38.000000</td>\n",
       "      <td>744745.250000</td>\n",
       "      <td>9.000000</td>\n",
       "    </tr>\n",
       "    <tr>\n",
       "      <th>max</th>\n",
       "      <td>50.000000</td>\n",
       "      <td>38.000000</td>\n",
       "      <td>5.000000</td>\n",
       "      <td>60.000000</td>\n",
       "      <td>48.000000</td>\n",
       "      <td>999972.000000</td>\n",
       "      <td>38.000000</td>\n",
       "    </tr>\n",
       "  </tbody>\n",
       "</table>\n",
       "</div>"
      ],
      "text/plain": [
       "             waist          size       quality          hips      bra size  \\\n",
       "count  2882.000000  82790.000000  82722.000000  56064.000000  76772.000000   \n",
       "mean     31.319223     12.661602      3.949058     40.358501     35.972125   \n",
       "std       5.302849      8.271952      0.992783      5.827166      3.224907   \n",
       "min      20.000000      0.000000      1.000000     30.000000     28.000000   \n",
       "25%      28.000000      8.000000      3.000000     36.000000     34.000000   \n",
       "50%      30.000000     12.000000      4.000000     39.000000     36.000000   \n",
       "75%      34.000000     15.000000      5.000000     43.000000     38.000000   \n",
       "max      50.000000     38.000000      5.000000     60.000000     48.000000   \n",
       "\n",
       "             user_id     shoe size  \n",
       "count   82790.000000  27915.000000  \n",
       "mean   498849.564718      8.145818  \n",
       "std    286356.969459      1.336109  \n",
       "min         6.000000      5.000000  \n",
       "25%    252897.750000      7.000000  \n",
       "50%    497913.500000      8.000000  \n",
       "75%    744745.250000      9.000000  \n",
       "max    999972.000000     38.000000  "
      ]
     },
     "execution_count": 11,
     "metadata": {},
     "output_type": "execute_result"
    }
   ],
   "source": [
    "modcloth_data.describe()"
   ]
  },
  {
   "cell_type": "code",
   "execution_count": 12,
   "id": "9126cad7",
   "metadata": {
    "execution": {
     "iopub.execute_input": "2024-03-11T00:45:05.758298Z",
     "iopub.status.busy": "2024-03-11T00:45:05.757202Z",
     "iopub.status.idle": "2024-03-11T00:45:05.868429Z",
     "shell.execute_reply": "2024-03-11T00:45:05.867447Z"
    },
    "papermill": {
     "duration": 0.124488,
     "end_time": "2024-03-11T00:45:05.870535",
     "exception": false,
     "start_time": "2024-03-11T00:45:05.746047",
     "status": "completed"
    },
    "tags": []
   },
   "outputs": [
    {
     "name": "stdout",
     "output_type": "stream",
     "text": [
      "<class 'pandas.core.frame.DataFrame'>\n",
      "Index: 82790 entries, 0 to 82789\n",
      "Data columns (total 17 columns):\n",
      " #   Column          Non-Null Count  Dtype  \n",
      "---  ------          --------------  -----  \n",
      " 0   waist           2882 non-null   float64\n",
      " 1   size            82790 non-null  int64  \n",
      " 2   quality         82722 non-null  float64\n",
      " 3   cup size        76535 non-null  object \n",
      " 4   hips            56064 non-null  float64\n",
      " 5   bra size        76772 non-null  float64\n",
      " 6   category        82790 non-null  object \n",
      " 7   bust            11854 non-null  object \n",
      " 8   height          81683 non-null  object \n",
      " 9   user_name       82790 non-null  object \n",
      " 10  length          82755 non-null  object \n",
      " 11  fit             82790 non-null  object \n",
      " 12  user_id         82790 non-null  int64  \n",
      " 13  shoe size       27915 non-null  float64\n",
      " 14  shoe width      18607 non-null  object \n",
      " 15  review_summary  76065 non-null  object \n",
      " 16  review_text     76065 non-null  object \n",
      "dtypes: float64(5), int64(2), object(10)\n",
      "memory usage: 11.4+ MB\n"
     ]
    }
   ],
   "source": [
    "modcloth_data.info()"
   ]
  },
  {
   "cell_type": "code",
   "execution_count": 13,
   "id": "c9d30f8f",
   "metadata": {
    "execution": {
     "iopub.execute_input": "2024-03-11T00:45:05.897773Z",
     "iopub.status.busy": "2024-03-11T00:45:05.896706Z",
     "iopub.status.idle": "2024-03-11T00:45:05.902129Z",
     "shell.execute_reply": "2024-03-11T00:45:05.901240Z"
    },
    "papermill": {
     "duration": 0.023932,
     "end_time": "2024-03-11T00:45:05.905659",
     "exception": false,
     "start_time": "2024-03-11T00:45:05.881727",
     "status": "completed"
    },
    "tags": []
   },
   "outputs": [],
   "source": [
    "categorical_columns = ['cup size', 'category', 'bust', 'height', 'length', 'fit', 'shoe width']"
   ]
  },
  {
   "cell_type": "code",
   "execution_count": 14,
   "id": "b106b632",
   "metadata": {
    "execution": {
     "iopub.execute_input": "2024-03-11T00:45:05.930741Z",
     "iopub.status.busy": "2024-03-11T00:45:05.930431Z",
     "iopub.status.idle": "2024-03-11T00:45:05.934597Z",
     "shell.execute_reply": "2024-03-11T00:45:05.933725Z"
    },
    "papermill": {
     "duration": 0.018623,
     "end_time": "2024-03-11T00:45:05.936834",
     "exception": false,
     "start_time": "2024-03-11T00:45:05.918211",
     "status": "completed"
    },
    "tags": []
   },
   "outputs": [],
   "source": [
    "numerical_columns = ['waist', 'size', 'quality', 'hips', 'bra size', 'shoe size']"
   ]
  },
  {
   "cell_type": "code",
   "execution_count": 15,
   "id": "32786056",
   "metadata": {
    "execution": {
     "iopub.execute_input": "2024-03-11T00:45:05.959303Z",
     "iopub.status.busy": "2024-03-11T00:45:05.958895Z",
     "iopub.status.idle": "2024-03-11T00:45:06.504631Z",
     "shell.execute_reply": "2024-03-11T00:45:06.503704Z"
    },
    "papermill": {
     "duration": 0.559068,
     "end_time": "2024-03-11T00:45:06.506525",
     "exception": false,
     "start_time": "2024-03-11T00:45:05.947457",
     "status": "completed"
    },
    "tags": []
   },
   "outputs": [
    {
     "data": {
      "image/png": "[encoded data removed]",
      "text/plain": [
       "<Figure size 1700x900 with 1 Axes>"
      ]
     },
     "metadata": {},
     "output_type": "display_data"
    }
   ],
   "source": [
    "#box plot to see outliers\n",
    "plt.figure(figsize=(17,9))\n",
    "modcloth_data[numerical_columns].boxplot()\n",
    "plt.show()"
   ]
  },
  {
   "cell_type": "code",
   "execution_count": 16,
   "id": "75217252",
   "metadata": {
    "execution": {
     "iopub.execute_input": "2024-03-11T00:45:06.530301Z",
     "iopub.status.busy": "2024-03-11T00:45:06.529285Z",
     "iopub.status.idle": "2024-03-11T00:45:06.547430Z",
     "shell.execute_reply": "2024-03-11T00:45:06.546428Z"
    },
    "papermill": {
     "duration": 0.032122,
     "end_time": "2024-03-11T00:45:06.549565",
     "exception": false,
     "start_time": "2024-03-11T00:45:06.517443",
     "status": "completed"
    },
    "tags": []
   },
   "outputs": [
    {
     "data": {
      "text/html": [
       "<div>\n",
       "<style scoped>\n",
       "    .dataframe tbody tr th:only-of-type {\n",
       "        vertical-align: middle;\n",
       "    }\n",
       "\n",
       "    .dataframe tbody tr th {\n",
       "        vertical-align: top;\n",
       "    }\n",
       "\n",
       "    .dataframe thead th {\n",
       "        text-align: right;\n",
       "    }\n",
       "</style>\n",
       "<table border=\"1\" class=\"dataframe\">\n",
       "  <thead>\n",
       "    <tr style=\"text-align: right;\">\n",
       "      <th></th>\n",
       "      <th>waist</th>\n",
       "      <th>size</th>\n",
       "      <th>quality</th>\n",
       "      <th>cup size</th>\n",
       "      <th>hips</th>\n",
       "      <th>bra size</th>\n",
       "      <th>category</th>\n",
       "      <th>bust</th>\n",
       "      <th>height</th>\n",
       "      <th>user_name</th>\n",
       "      <th>length</th>\n",
       "      <th>fit</th>\n",
       "      <th>user_id</th>\n",
       "      <th>shoe size</th>\n",
       "      <th>shoe width</th>\n",
       "      <th>review_summary</th>\n",
       "      <th>review_text</th>\n",
       "    </tr>\n",
       "  </thead>\n",
       "  <tbody>\n",
       "    <tr>\n",
       "      <th>37313</th>\n",
       "      <td>35.0</td>\n",
       "      <td>12</td>\n",
       "      <td>5.0</td>\n",
       "      <td>d</td>\n",
       "      <td>46.0</td>\n",
       "      <td>36.0</td>\n",
       "      <td>new</td>\n",
       "      <td>37-39</td>\n",
       "      <td>5ft 5in</td>\n",
       "      <td>Catslittle</td>\n",
       "      <td>just right</td>\n",
       "      <td>fit</td>\n",
       "      <td>237498</td>\n",
       "      <td>38.0</td>\n",
       "      <td>average</td>\n",
       "      <td>Cardigans are best item Mod Cloth has</td>\n",
       "      <td>I love these cardigans, my favorite, good fabr...</td>\n",
       "    </tr>\n",
       "  </tbody>\n",
       "</table>\n",
       "</div>"
      ],
      "text/plain": [
       "       waist  size  quality cup size  hips  bra size category   bust   height  \\\n",
       "37313   35.0    12      5.0        d  46.0      36.0      new  37-39  5ft 5in   \n",
       "\n",
       "        user_name      length  fit  user_id  shoe size shoe width  \\\n",
       "37313  Catslittle  just right  fit   237498       38.0    average   \n",
       "\n",
       "                              review_summary  \\\n",
       "37313  Cardigans are best item Mod Cloth has   \n",
       "\n",
       "                                             review_text  \n",
       "37313  I love these cardigans, my favorite, good fabr...  "
      ]
     },
     "execution_count": 16,
     "metadata": {},
     "output_type": "execute_result"
    }
   ],
   "source": [
    "#Shoe size has only one value out of box plot, so it can be an outlier\n",
    "modcloth_data[modcloth_data['shoe size']==38]"
   ]
  },
  {
   "cell_type": "code",
   "execution_count": 17,
   "id": "c521a010",
   "metadata": {
    "execution": {
     "iopub.execute_input": "2024-03-11T00:45:06.574012Z",
     "iopub.status.busy": "2024-03-11T00:45:06.573315Z",
     "iopub.status.idle": "2024-03-11T00:45:06.582616Z",
     "shell.execute_reply": "2024-03-11T00:45:06.581785Z"
    },
    "papermill": {
     "duration": 0.023266,
     "end_time": "2024-03-11T00:45:06.584360",
     "exception": false,
     "start_time": "2024-03-11T00:45:06.561094",
     "status": "completed"
    },
    "tags": []
   },
   "outputs": [
    {
     "data": {
      "text/html": [
       "<div>\n",
       "<style scoped>\n",
       "    .dataframe tbody tr th:only-of-type {\n",
       "        vertical-align: middle;\n",
       "    }\n",
       "\n",
       "    .dataframe tbody tr th {\n",
       "        vertical-align: top;\n",
       "    }\n",
       "\n",
       "    .dataframe thead th {\n",
       "        text-align: right;\n",
       "    }\n",
       "</style>\n",
       "<table border=\"1\" class=\"dataframe\">\n",
       "  <thead>\n",
       "    <tr style=\"text-align: right;\">\n",
       "      <th></th>\n",
       "      <th>missing_data</th>\n",
       "      <th>percentag_missing</th>\n",
       "    </tr>\n",
       "  </thead>\n",
       "  <tbody>\n",
       "    <tr>\n",
       "      <th>waist</th>\n",
       "      <td>79908</td>\n",
       "      <td>96.518903</td>\n",
       "    </tr>\n",
       "    <tr>\n",
       "      <th>size</th>\n",
       "      <td>0</td>\n",
       "      <td>0.000000</td>\n",
       "    </tr>\n",
       "    <tr>\n",
       "      <th>quality</th>\n",
       "      <td>68</td>\n",
       "      <td>0.082136</td>\n",
       "    </tr>\n",
       "    <tr>\n",
       "      <th>cup size</th>\n",
       "      <td>6255</td>\n",
       "      <td>7.555260</td>\n",
       "    </tr>\n",
       "    <tr>\n",
       "      <th>hips</th>\n",
       "      <td>26726</td>\n",
       "      <td>32.281677</td>\n",
       "    </tr>\n",
       "    <tr>\n",
       "      <th>bra size</th>\n",
       "      <td>6018</td>\n",
       "      <td>7.268994</td>\n",
       "    </tr>\n",
       "    <tr>\n",
       "      <th>category</th>\n",
       "      <td>0</td>\n",
       "      <td>0.000000</td>\n",
       "    </tr>\n",
       "    <tr>\n",
       "      <th>bust</th>\n",
       "      <td>70936</td>\n",
       "      <td>85.681846</td>\n",
       "    </tr>\n",
       "    <tr>\n",
       "      <th>height</th>\n",
       "      <td>1107</td>\n",
       "      <td>1.337118</td>\n",
       "    </tr>\n",
       "    <tr>\n",
       "      <th>user_name</th>\n",
       "      <td>0</td>\n",
       "      <td>0.000000</td>\n",
       "    </tr>\n",
       "    <tr>\n",
       "      <th>length</th>\n",
       "      <td>35</td>\n",
       "      <td>0.042276</td>\n",
       "    </tr>\n",
       "    <tr>\n",
       "      <th>fit</th>\n",
       "      <td>0</td>\n",
       "      <td>0.000000</td>\n",
       "    </tr>\n",
       "    <tr>\n",
       "      <th>user_id</th>\n",
       "      <td>0</td>\n",
       "      <td>0.000000</td>\n",
       "    </tr>\n",
       "    <tr>\n",
       "      <th>shoe size</th>\n",
       "      <td>54875</td>\n",
       "      <td>66.282160</td>\n",
       "    </tr>\n",
       "    <tr>\n",
       "      <th>shoe width</th>\n",
       "      <td>64183</td>\n",
       "      <td>77.525063</td>\n",
       "    </tr>\n",
       "    <tr>\n",
       "      <th>review_summary</th>\n",
       "      <td>6725</td>\n",
       "      <td>8.122962</td>\n",
       "    </tr>\n",
       "    <tr>\n",
       "      <th>review_text</th>\n",
       "      <td>6725</td>\n",
       "      <td>8.122962</td>\n",
       "    </tr>\n",
       "  </tbody>\n",
       "</table>\n",
       "</div>"
      ],
      "text/plain": [
       "                missing_data  percentag_missing\n",
       "waist                  79908          96.518903\n",
       "size                       0           0.000000\n",
       "quality                   68           0.082136\n",
       "cup size                6255           7.555260\n",
       "hips                   26726          32.281677\n",
       "bra size                6018           7.268994\n",
       "category                   0           0.000000\n",
       "bust                   70936          85.681846\n",
       "height                  1107           1.337118\n",
       "user_name                  0           0.000000\n",
       "length                    35           0.042276\n",
       "fit                        0           0.000000\n",
       "user_id                    0           0.000000\n",
       "shoe size              54875          66.282160\n",
       "shoe width             64183          77.525063\n",
       "review_summary          6725           8.122962\n",
       "review_text             6725           8.122962"
      ]
     },
     "execution_count": 17,
     "metadata": {},
     "output_type": "execute_result"
    }
   ],
   "source": [
    "percentage_of_null"
   ]
  },
  {
   "cell_type": "code",
   "execution_count": 18,
   "id": "d04f2528",
   "metadata": {
    "_kg_hide-input": false,
    "_kg_hide-output": false,
    "execution": {
     "iopub.execute_input": "2024-03-11T00:45:06.609776Z",
     "iopub.status.busy": "2024-03-11T00:45:06.609208Z",
     "iopub.status.idle": "2024-03-11T00:45:08.747523Z",
     "shell.execute_reply": "2024-03-11T00:45:08.746755Z"
    },
    "papermill": {
     "duration": 2.155321,
     "end_time": "2024-03-11T00:45:08.750956",
     "exception": false,
     "start_time": "2024-03-11T00:45:06.595635",
     "status": "completed"
    },
    "tags": []
   },
   "outputs": [
    {
     "data": {
      "image/png": "[encoded data removed]",
      "text/plain": [
       "<Figure size 400x400 with 1 Axes>"
      ]
     },
     "metadata": {},
     "output_type": "display_data"
    },
    {
     "data": {
      "image/png": "[encoded data removed]",
      "text/plain": [
       "<Figure size 640x480 with 1 Axes>"
      ]
     },
     "metadata": {},
     "output_type": "display_data"
    },
    {
     "data": {
      "image/png": "[encoded data removed]",
      "text/plain": [
       "<Figure size 640x480 with 1 Axes>"
      ]
     },
     "metadata": {},
     "output_type": "display_data"
    },
    {
     "data": {
      "image/png": "[encoded data removed]",
      "text/plain": [
       "<Figure size 640x480 with 1 Axes>"
      ]
     },
     "metadata": {},
     "output_type": "display_data"
    },
    {
     "data": {
      "image/png": "[encoded data removed]",
      "text/plain": [
       "<Figure size 640x480 with 1 Axes>"
      ]
     },
     "metadata": {},
     "output_type": "display_data"
    },
    {
     "data": {
      "image/png": "[encoded data removed]",
      "text/plain": [
       "<Figure size 640x480 with 1 Axes>"
      ]
     },
     "metadata": {},
     "output_type": "display_data"
    },
    {
     "data": {
      "image/png": "[encoded data removed]",
      "text/plain": [
       "<Figure size 640x480 with 1 Axes>"
      ]
     },
     "metadata": {},
     "output_type": "display_data"
    }
   ],
   "source": [
    "  plt.figure(figsize = (4,4))\n",
    "for category in categorical_columns:\n",
    "    ax = plt.subplot(1,1,1)\n",
    "  \n",
    "    sns.countplot(data=modcloth_data, x = category)\n",
    "    ax.set_xlabel(f\"{category}\")\n",
    "    plt.xticks(rotation=45)\n",
    "    plt.show()"
   ]
  },
  {
   "cell_type": "code",
   "execution_count": 19,
   "id": "75226e2c",
   "metadata": {
    "execution": {
     "iopub.execute_input": "2024-03-11T00:45:08.785348Z",
     "iopub.status.busy": "2024-03-11T00:45:08.784999Z",
     "iopub.status.idle": "2024-03-11T00:45:08.791055Z",
     "shell.execute_reply": "2024-03-11T00:45:08.790432Z"
    },
    "papermill": {
     "duration": 0.022823,
     "end_time": "2024-03-11T00:45:08.792654",
     "exception": false,
     "start_time": "2024-03-11T00:45:08.769831",
     "status": "completed"
    },
    "tags": []
   },
   "outputs": [
    {
     "data": {
      "text/plain": [
       "array([34., 36., 32., nan, 38., 42., 40., 44., 46., 30., 48., 28.])"
      ]
     },
     "execution_count": 19,
     "metadata": {},
     "output_type": "execute_result"
    }
   ],
   "source": [
    "modcloth_data['bra size'].unique()"
   ]
  },
  {
   "cell_type": "code",
   "execution_count": 20,
   "id": "9ece984e",
   "metadata": {
    "execution": {
     "iopub.execute_input": "2024-03-11T00:45:08.822126Z",
     "iopub.status.busy": "2024-03-11T00:45:08.820865Z",
     "iopub.status.idle": "2024-03-11T00:45:08.825169Z",
     "shell.execute_reply": "2024-03-11T00:45:08.824520Z"
    },
    "papermill": {
     "duration": 0.020821,
     "end_time": "2024-03-11T00:45:08.826846",
     "exception": false,
     "start_time": "2024-03-11T00:45:08.806025",
     "status": "completed"
    },
    "tags": []
   },
   "outputs": [],
   "source": [
    "#Bra size should be categorical variable"
   ]
  },
  {
   "cell_type": "code",
   "execution_count": 21,
   "id": "de0081e3",
   "metadata": {
    "execution": {
     "iopub.execute_input": "2024-03-11T00:45:08.855698Z",
     "iopub.status.busy": "2024-03-11T00:45:08.854512Z",
     "iopub.status.idle": "2024-03-11T00:45:08.858743Z",
     "shell.execute_reply": "2024-03-11T00:45:08.857887Z"
    },
    "papermill": {
     "duration": 0.020307,
     "end_time": "2024-03-11T00:45:08.860429",
     "exception": false,
     "start_time": "2024-03-11T00:45:08.840122",
     "status": "completed"
    },
    "tags": []
   },
   "outputs": [],
   "source": [
    "#Dropping all the columns whose missing value is more than 60%"
   ]
  },
  {
   "cell_type": "code",
   "execution_count": 22,
   "id": "7f9bf0bc",
   "metadata": {
    "execution": {
     "iopub.execute_input": "2024-03-11T00:45:08.943734Z",
     "iopub.status.busy": "2024-03-11T00:45:08.943341Z",
     "iopub.status.idle": "2024-03-11T00:45:08.954965Z",
     "shell.execute_reply": "2024-03-11T00:45:08.953642Z"
    },
    "papermill": {
     "duration": 0.028674,
     "end_time": "2024-03-11T00:45:08.957285",
     "exception": false,
     "start_time": "2024-03-11T00:45:08.928611",
     "status": "completed"
    },
    "tags": []
   },
   "outputs": [
    {
     "data": {
      "text/html": [
       "<div>\n",
       "<style scoped>\n",
       "    .dataframe tbody tr th:only-of-type {\n",
       "        vertical-align: middle;\n",
       "    }\n",
       "\n",
       "    .dataframe tbody tr th {\n",
       "        vertical-align: top;\n",
       "    }\n",
       "\n",
       "    .dataframe thead th {\n",
       "        text-align: right;\n",
       "    }\n",
       "</style>\n",
       "<table border=\"1\" class=\"dataframe\">\n",
       "  <thead>\n",
       "    <tr style=\"text-align: right;\">\n",
       "      <th></th>\n",
       "      <th>missing_data</th>\n",
       "      <th>percentag_missing</th>\n",
       "    </tr>\n",
       "  </thead>\n",
       "  <tbody>\n",
       "    <tr>\n",
       "      <th>waist</th>\n",
       "      <td>79908</td>\n",
       "      <td>96.518903</td>\n",
       "    </tr>\n",
       "    <tr>\n",
       "      <th>size</th>\n",
       "      <td>0</td>\n",
       "      <td>0.000000</td>\n",
       "    </tr>\n",
       "    <tr>\n",
       "      <th>quality</th>\n",
       "      <td>68</td>\n",
       "      <td>0.082136</td>\n",
       "    </tr>\n",
       "    <tr>\n",
       "      <th>cup size</th>\n",
       "      <td>6255</td>\n",
       "      <td>7.555260</td>\n",
       "    </tr>\n",
       "    <tr>\n",
       "      <th>hips</th>\n",
       "      <td>26726</td>\n",
       "      <td>32.281677</td>\n",
       "    </tr>\n",
       "    <tr>\n",
       "      <th>bra size</th>\n",
       "      <td>6018</td>\n",
       "      <td>7.268994</td>\n",
       "    </tr>\n",
       "    <tr>\n",
       "      <th>category</th>\n",
       "      <td>0</td>\n",
       "      <td>0.000000</td>\n",
       "    </tr>\n",
       "    <tr>\n",
       "      <th>bust</th>\n",
       "      <td>70936</td>\n",
       "      <td>85.681846</td>\n",
       "    </tr>\n",
       "    <tr>\n",
       "      <th>height</th>\n",
       "      <td>1107</td>\n",
       "      <td>1.337118</td>\n",
       "    </tr>\n",
       "    <tr>\n",
       "      <th>user_name</th>\n",
       "      <td>0</td>\n",
       "      <td>0.000000</td>\n",
       "    </tr>\n",
       "    <tr>\n",
       "      <th>length</th>\n",
       "      <td>35</td>\n",
       "      <td>0.042276</td>\n",
       "    </tr>\n",
       "    <tr>\n",
       "      <th>fit</th>\n",
       "      <td>0</td>\n",
       "      <td>0.000000</td>\n",
       "    </tr>\n",
       "    <tr>\n",
       "      <th>user_id</th>\n",
       "      <td>0</td>\n",
       "      <td>0.000000</td>\n",
       "    </tr>\n",
       "    <tr>\n",
       "      <th>shoe size</th>\n",
       "      <td>54875</td>\n",
       "      <td>66.282160</td>\n",
       "    </tr>\n",
       "    <tr>\n",
       "      <th>shoe width</th>\n",
       "      <td>64183</td>\n",
       "      <td>77.525063</td>\n",
       "    </tr>\n",
       "    <tr>\n",
       "      <th>review_summary</th>\n",
       "      <td>6725</td>\n",
       "      <td>8.122962</td>\n",
       "    </tr>\n",
       "    <tr>\n",
       "      <th>review_text</th>\n",
       "      <td>6725</td>\n",
       "      <td>8.122962</td>\n",
       "    </tr>\n",
       "  </tbody>\n",
       "</table>\n",
       "</div>"
      ],
      "text/plain": [
       "                missing_data  percentag_missing\n",
       "waist                  79908          96.518903\n",
       "size                       0           0.000000\n",
       "quality                   68           0.082136\n",
       "cup size                6255           7.555260\n",
       "hips                   26726          32.281677\n",
       "bra size                6018           7.268994\n",
       "category                   0           0.000000\n",
       "bust                   70936          85.681846\n",
       "height                  1107           1.337118\n",
       "user_name                  0           0.000000\n",
       "length                    35           0.042276\n",
       "fit                        0           0.000000\n",
       "user_id                    0           0.000000\n",
       "shoe size              54875          66.282160\n",
       "shoe width             64183          77.525063\n",
       "review_summary          6725           8.122962\n",
       "review_text             6725           8.122962"
      ]
     },
     "execution_count": 22,
     "metadata": {},
     "output_type": "execute_result"
    }
   ],
   "source": [
    "percentage_of_null"
   ]
  },
  {
   "cell_type": "code",
   "execution_count": 23,
   "id": "25396cc3",
   "metadata": {
    "execution": {
     "iopub.execute_input": "2024-03-11T00:45:08.985970Z",
     "iopub.status.busy": "2024-03-11T00:45:08.985637Z",
     "iopub.status.idle": "2024-03-11T00:45:08.990057Z",
     "shell.execute_reply": "2024-03-11T00:45:08.989214Z"
    },
    "papermill": {
     "duration": 0.021024,
     "end_time": "2024-03-11T00:45:08.991892",
     "exception": false,
     "start_time": "2024-03-11T00:45:08.970868",
     "status": "completed"
    },
    "tags": []
   },
   "outputs": [],
   "source": [
    "# modcloth_data = modcloth_data.drop(['waist', 'bust', 'shoe width'], axis = 1)"
   ]
  },
  {
   "cell_type": "code",
   "execution_count": 24,
   "id": "f4a57176",
   "metadata": {
    "execution": {
     "iopub.execute_input": "2024-03-11T00:45:09.021376Z",
     "iopub.status.busy": "2024-03-11T00:45:09.021034Z",
     "iopub.status.idle": "2024-03-11T00:45:09.026527Z",
     "shell.execute_reply": "2024-03-11T00:45:09.025613Z"
    },
    "papermill": {
     "duration": 0.022718,
     "end_time": "2024-03-11T00:45:09.028129",
     "exception": false,
     "start_time": "2024-03-11T00:45:09.005411",
     "status": "completed"
    },
    "tags": []
   },
   "outputs": [
    {
     "data": {
      "text/plain": [
       "Index(['waist', 'size', 'quality', 'cup size', 'hips', 'bra size', 'category',\n",
       "       'bust', 'height', 'user_name', 'length', 'fit', 'user_id', 'shoe size',\n",
       "       'shoe width', 'review_summary', 'review_text'],\n",
       "      dtype='object')"
      ]
     },
     "execution_count": 24,
     "metadata": {},
     "output_type": "execute_result"
    }
   ],
   "source": [
    "modcloth_data.columns"
   ]
  },
  {
   "cell_type": "code",
   "execution_count": 25,
   "id": "12b10364",
   "metadata": {
    "execution": {
     "iopub.execute_input": "2024-03-11T00:45:09.057528Z",
     "iopub.status.busy": "2024-03-11T00:45:09.057144Z",
     "iopub.status.idle": "2024-03-11T00:45:09.069663Z",
     "shell.execute_reply": "2024-03-11T00:45:09.068657Z"
    },
    "papermill": {
     "duration": 0.029477,
     "end_time": "2024-03-11T00:45:09.071497",
     "exception": false,
     "start_time": "2024-03-11T00:45:09.042020",
     "status": "completed"
    },
    "tags": []
   },
   "outputs": [
    {
     "data": {
      "text/plain": [
       "array(['d', 'b', 'dd/e', 'c', 'ddd/f', 'dddd/g', 'i', 'a', nan, 'h', 'aa',\n",
       "       'j', 'k'], dtype=object)"
      ]
     },
     "execution_count": 25,
     "metadata": {},
     "output_type": "execute_result"
    }
   ],
   "source": [
    "modcloth_data['cup size'].unique()"
   ]
  },
  {
   "cell_type": "code",
   "execution_count": 26,
   "id": "4f4ab43d",
   "metadata": {
    "execution": {
     "iopub.execute_input": "2024-03-11T00:45:09.100911Z",
     "iopub.status.busy": "2024-03-11T00:45:09.100543Z",
     "iopub.status.idle": "2024-03-11T00:45:09.122049Z",
     "shell.execute_reply": "2024-03-11T00:45:09.120890Z"
    },
    "papermill": {
     "duration": 0.039198,
     "end_time": "2024-03-11T00:45:09.124597",
     "exception": false,
     "start_time": "2024-03-11T00:45:09.085399",
     "status": "completed"
    },
    "tags": []
   },
   "outputs": [],
   "source": [
    "modcloth_data['bra size'] = modcloth_data['bra size'].fillna('Unknown')\n",
    "modcloth_data['cup size'] = modcloth_data['cup size'].fillna('Unknown')"
   ]
  },
  {
   "cell_type": "code",
   "execution_count": 27,
   "id": "34b1a2fb",
   "metadata": {
    "execution": {
     "iopub.execute_input": "2024-03-11T00:45:09.153832Z",
     "iopub.status.busy": "2024-03-11T00:45:09.153488Z",
     "iopub.status.idle": "2024-03-11T00:45:09.215968Z",
     "shell.execute_reply": "2024-03-11T00:45:09.214862Z"
    },
    "papermill": {
     "duration": 0.079778,
     "end_time": "2024-03-11T00:45:09.218313",
     "exception": false,
     "start_time": "2024-03-11T00:45:09.138535",
     "status": "completed"
    },
    "tags": []
   },
   "outputs": [],
   "source": [
    "modcloth_data['bra size'] = modcloth_data['bra size'].astype('category')\n",
    "modcloth_data['category'] = modcloth_data['category'].astype('category')\n",
    "modcloth_data['cup size'] = modcloth_data['cup size'].astype('category')\n",
    "modcloth_data['fit'] = modcloth_data['fit'].astype('category')"
   ]
  },
  {
   "cell_type": "code",
   "execution_count": 28,
   "id": "748b0c3c",
   "metadata": {
    "execution": {
     "iopub.execute_input": "2024-03-11T00:45:09.248606Z",
     "iopub.status.busy": "2024-03-11T00:45:09.248250Z",
     "iopub.status.idle": "2024-03-11T00:45:09.256445Z",
     "shell.execute_reply": "2024-03-11T00:45:09.255279Z"
    },
    "papermill": {
     "duration": 0.025473,
     "end_time": "2024-03-11T00:45:09.258307",
     "exception": false,
     "start_time": "2024-03-11T00:45:09.232834",
     "status": "completed"
    },
    "tags": []
   },
   "outputs": [
    {
     "data": {
      "text/plain": [
       "[34.0, 36.0, 32.0, 'Unknown', 38.0, ..., 44.0, 46.0, 30.0, 48.0, 28.0]\n",
       "Length: 12\n",
       "Categories (12, object): [28.0, 30.0, 32.0, 34.0, ..., 44.0, 46.0, 48.0, 'Unknown']"
      ]
     },
     "execution_count": 28,
     "metadata": {},
     "output_type": "execute_result"
    }
   ],
   "source": [
    "modcloth_data['bra size'].unique()"
   ]
  },
  {
   "cell_type": "code",
   "execution_count": 29,
   "id": "d7a673c8",
   "metadata": {
    "execution": {
     "iopub.execute_input": "2024-03-11T00:45:09.289640Z",
     "iopub.status.busy": "2024-03-11T00:45:09.289268Z",
     "iopub.status.idle": "2024-03-11T00:45:09.298678Z",
     "shell.execute_reply": "2024-03-11T00:45:09.297364Z"
    },
    "papermill": {
     "duration": 0.02893,
     "end_time": "2024-03-11T00:45:09.301116",
     "exception": false,
     "start_time": "2024-03-11T00:45:09.272186",
     "status": "completed"
    },
    "tags": []
   },
   "outputs": [
    {
     "data": {
      "text/plain": [
       "0        5ft 6in\n",
       "1        5ft 2in\n",
       "2        5ft 7in\n",
       "3            NaN\n",
       "4        5ft 2in\n",
       "          ...   \n",
       "82785    5ft 8in\n",
       "82786    5ft 5in\n",
       "82787    5ft 4in\n",
       "82788    5ft 3in\n",
       "82789        6ft\n",
       "Name: height, Length: 82790, dtype: object"
      ]
     },
     "execution_count": 29,
     "metadata": {},
     "output_type": "execute_result"
    }
   ],
   "source": [
    "modcloth_data['height']"
   ]
  },
  {
   "cell_type": "code",
   "execution_count": 30,
   "id": "935e5778",
   "metadata": {
    "execution": {
     "iopub.execute_input": "2024-03-11T00:45:09.330994Z",
     "iopub.status.busy": "2024-03-11T00:45:09.330665Z",
     "iopub.status.idle": "2024-03-11T00:45:09.621635Z",
     "shell.execute_reply": "2024-03-11T00:45:09.620426Z"
    },
    "papermill": {
     "duration": 0.308771,
     "end_time": "2024-03-11T00:45:09.624314",
     "exception": false,
     "start_time": "2024-03-11T00:45:09.315543",
     "status": "completed"
    },
    "tags": []
   },
   "outputs": [],
   "source": [
    "modcloth_data[['height_ft', 'height_in']] = modcloth_data['height'].str.split(' ', expand=True)"
   ]
  },
  {
   "cell_type": "code",
   "execution_count": 31,
   "id": "e2f81fe3",
   "metadata": {
    "execution": {
     "iopub.execute_input": "2024-03-11T00:45:09.655404Z",
     "iopub.status.busy": "2024-03-11T00:45:09.655034Z",
     "iopub.status.idle": "2024-03-11T00:45:51.488979Z",
     "shell.execute_reply": "2024-03-11T00:45:51.487686Z"
    },
    "papermill": {
     "duration": 41.852096,
     "end_time": "2024-03-11T00:45:51.491249",
     "exception": false,
     "start_time": "2024-03-11T00:45:09.639153",
     "status": "completed"
    },
    "tags": []
   },
   "outputs": [
    {
     "name": "stderr",
     "output_type": "stream",
     "text": [
      "/tmp/ipykernel_18/47024387.py:13: SettingWithCopyWarning: \n",
      "A value is trying to be set on a copy of a slice from a DataFrame\n",
      "\n",
      "See the caveats in the documentation: https://pandas.pydata.org/pandas-docs/stable/user_guide/indexing.html#returning-a-view-versus-a-copy\n",
      "  modcloth_data['height'][i] = int(modcloth_data['height_ft'][i][0])*30.48 + int(modcloth_data['height_in'][i][0])*2.54\n",
      "/tmp/ipykernel_18/47024387.py:15: SettingWithCopyWarning: \n",
      "A value is trying to be set on a copy of a slice from a DataFrame\n",
      "\n",
      "See the caveats in the documentation: https://pandas.pydata.org/pandas-docs/stable/user_guide/indexing.html#returning-a-view-versus-a-copy\n",
      "  modcloth_data['height'][i] = int(modcloth_data['height_ft'][i][0])*30.48\n"
     ]
    }
   ],
   "source": [
    "# def calculate_cm(x):\n",
    "#     try:\n",
    "#         return  (x['height_ft'][0]*30.48 + x['height_in'][0]*2.54)\n",
    "#     except:\n",
    "#         return x['height_ft'][0]*30.48\n",
    "# modcloth_data['height'] = modcloth_data[['height_ft', 'height_in']].apply(calculate_cm)\n",
    "\n",
    "\n",
    "\n",
    "for i in range(len(modcloth_data)):\n",
    "    if not pd.isna(modcloth_data['height'][i]):\n",
    "        try:\n",
    "            modcloth_data['height'][i] = int(modcloth_data['height_ft'][i][0])*30.48 + int(modcloth_data['height_in'][i][0])*2.54\n",
    "        except:\n",
    "            modcloth_data['height'][i] = int(modcloth_data['height_ft'][i][0])*30.48"
   ]
  },
  {
   "cell_type": "code",
   "execution_count": 32,
   "id": "b39e3b76",
   "metadata": {
    "execution": {
     "iopub.execute_input": "2024-03-11T00:45:51.521026Z",
     "iopub.status.busy": "2024-03-11T00:45:51.520629Z",
     "iopub.status.idle": "2024-03-11T00:45:51.528194Z",
     "shell.execute_reply": "2024-03-11T00:45:51.527249Z"
    },
    "papermill": {
     "duration": 0.024695,
     "end_time": "2024-03-11T00:45:51.530115",
     "exception": false,
     "start_time": "2024-03-11T00:45:51.505420",
     "status": "completed"
    },
    "tags": []
   },
   "outputs": [
    {
     "data": {
      "text/plain": [
       "array([38., 30., nan, 41., 42., 50., 49., 60., 36., 44., 39., 35., 34.,\n",
       "       32., 48., 52., 40., 46., 37., 45., 55., 51., 33., 53., 54., 47.,\n",
       "       59., 43., 57., 58., 31., 56.])"
      ]
     },
     "execution_count": 32,
     "metadata": {},
     "output_type": "execute_result"
    }
   ],
   "source": [
    "modcloth_data['hips'].unique()"
   ]
  },
  {
   "cell_type": "code",
   "execution_count": 33,
   "id": "7c25da2e",
   "metadata": {
    "execution": {
     "iopub.execute_input": "2024-03-11T00:45:51.560052Z",
     "iopub.status.busy": "2024-03-11T00:45:51.559188Z",
     "iopub.status.idle": "2024-03-11T00:45:51.588972Z",
     "shell.execute_reply": "2024-03-11T00:45:51.588021Z"
    },
    "papermill": {
     "duration": 0.046873,
     "end_time": "2024-03-11T00:45:51.590912",
     "exception": false,
     "start_time": "2024-03-11T00:45:51.544039",
     "status": "completed"
    },
    "tags": []
   },
   "outputs": [
    {
     "data": {
      "text/html": [
       "<div>\n",
       "<style scoped>\n",
       "    .dataframe tbody tr th:only-of-type {\n",
       "        vertical-align: middle;\n",
       "    }\n",
       "\n",
       "    .dataframe tbody tr th {\n",
       "        vertical-align: top;\n",
       "    }\n",
       "\n",
       "    .dataframe thead th {\n",
       "        text-align: right;\n",
       "    }\n",
       "</style>\n",
       "<table border=\"1\" class=\"dataframe\">\n",
       "  <thead>\n",
       "    <tr style=\"text-align: right;\">\n",
       "      <th></th>\n",
       "      <th>waist</th>\n",
       "      <th>size</th>\n",
       "      <th>quality</th>\n",
       "      <th>cup size</th>\n",
       "      <th>hips</th>\n",
       "      <th>bra size</th>\n",
       "      <th>category</th>\n",
       "      <th>bust</th>\n",
       "      <th>height</th>\n",
       "      <th>user_name</th>\n",
       "      <th>length</th>\n",
       "      <th>fit</th>\n",
       "      <th>user_id</th>\n",
       "      <th>shoe size</th>\n",
       "      <th>shoe width</th>\n",
       "      <th>review_summary</th>\n",
       "      <th>review_text</th>\n",
       "      <th>height_ft</th>\n",
       "      <th>height_in</th>\n",
       "    </tr>\n",
       "  </thead>\n",
       "  <tbody>\n",
       "    <tr>\n",
       "      <th>30450</th>\n",
       "      <td>NaN</td>\n",
       "      <td>4</td>\n",
       "      <td>2.0</td>\n",
       "      <td>a</td>\n",
       "      <td>NaN</td>\n",
       "      <td>32.0</td>\n",
       "      <td>new</td>\n",
       "      <td>NaN</td>\n",
       "      <td>157.48</td>\n",
       "      <td>alysiakjohnson</td>\n",
       "      <td>just right</td>\n",
       "      <td>fit</td>\n",
       "      <td>430473</td>\n",
       "      <td>NaN</td>\n",
       "      <td>NaN</td>\n",
       "      <td>Wore the item twice, only</td>\n",
       "      <td>Wore the item twice, only to discover a small ...</td>\n",
       "      <td>5ft</td>\n",
       "      <td>2in</td>\n",
       "    </tr>\n",
       "    <tr>\n",
       "      <th>5376</th>\n",
       "      <td>NaN</td>\n",
       "      <td>20</td>\n",
       "      <td>3.0</td>\n",
       "      <td>c</td>\n",
       "      <td>NaN</td>\n",
       "      <td>38.0</td>\n",
       "      <td>new</td>\n",
       "      <td>NaN</td>\n",
       "      <td>170.18</td>\n",
       "      <td>jamieburger</td>\n",
       "      <td>just right</td>\n",
       "      <td>fit</td>\n",
       "      <td>139975</td>\n",
       "      <td>NaN</td>\n",
       "      <td>NaN</td>\n",
       "      <td>NaN</td>\n",
       "      <td>NaN</td>\n",
       "      <td>5ft</td>\n",
       "      <td>7in</td>\n",
       "    </tr>\n",
       "    <tr>\n",
       "      <th>53966</th>\n",
       "      <td>NaN</td>\n",
       "      <td>8</td>\n",
       "      <td>2.0</td>\n",
       "      <td>b</td>\n",
       "      <td>NaN</td>\n",
       "      <td>34.0</td>\n",
       "      <td>tops</td>\n",
       "      <td>NaN</td>\n",
       "      <td>172.72</td>\n",
       "      <td>Diana</td>\n",
       "      <td>slightly long</td>\n",
       "      <td>large</td>\n",
       "      <td>311485</td>\n",
       "      <td>NaN</td>\n",
       "      <td>NaN</td>\n",
       "      <td>I didn't love this. It's</td>\n",
       "      <td>I didn't love this. It's much too loose (even ...</td>\n",
       "      <td>5ft</td>\n",
       "      <td>8in</td>\n",
       "    </tr>\n",
       "  </tbody>\n",
       "</table>\n",
       "</div>"
      ],
      "text/plain": [
       "       waist  size  quality cup size  hips bra size category bust  height  \\\n",
       "30450    NaN     4      2.0        a   NaN     32.0      new  NaN  157.48   \n",
       "5376     NaN    20      3.0        c   NaN     38.0      new  NaN  170.18   \n",
       "53966    NaN     8      2.0        b   NaN     34.0     tops  NaN  172.72   \n",
       "\n",
       "            user_name         length    fit  user_id  shoe size shoe width  \\\n",
       "30450  alysiakjohnson     just right    fit   430473        NaN        NaN   \n",
       "5376      jamieburger     just right    fit   139975        NaN        NaN   \n",
       "53966           Diana  slightly long  large   311485        NaN        NaN   \n",
       "\n",
       "                  review_summary  \\\n",
       "30450  Wore the item twice, only   \n",
       "5376                         NaN   \n",
       "53966   I didn't love this. It's   \n",
       "\n",
       "                                             review_text height_ft height_in  \n",
       "30450  Wore the item twice, only to discover a small ...       5ft       2in  \n",
       "5376                                                 NaN       5ft       7in  \n",
       "53966  I didn't love this. It's much too loose (even ...       5ft       8in  "
      ]
     },
     "execution_count": 33,
     "metadata": {},
     "output_type": "execute_result"
    }
   ],
   "source": [
    "modcloth_data[modcloth_data['hips'].isnull()].sample(3)"
   ]
  },
  {
   "cell_type": "code",
   "execution_count": 34,
   "id": "5153aa2d",
   "metadata": {
    "execution": {
     "iopub.execute_input": "2024-03-11T00:45:51.621386Z",
     "iopub.status.busy": "2024-03-11T00:45:51.621007Z",
     "iopub.status.idle": "2024-03-11T00:45:51.631841Z",
     "shell.execute_reply": "2024-03-11T00:45:51.630331Z"
    },
    "papermill": {
     "duration": 0.028047,
     "end_time": "2024-03-11T00:45:51.633489",
     "exception": false,
     "start_time": "2024-03-11T00:45:51.605442",
     "status": "completed"
    },
    "tags": []
   },
   "outputs": [
    {
     "name": "stderr",
     "output_type": "stream",
     "text": [
      "/tmp/ipykernel_18/3511358618.py:1: FutureWarning: A value is trying to be set on a copy of a DataFrame or Series through chained assignment using an inplace method.\n",
      "The behavior will change in pandas 3.0. This inplace method will never work because the intermediate object on which we are setting values always behaves as a copy.\n",
      "\n",
      "For example, when doing 'df[col].method(value, inplace=True)', try using 'df.method({col: value}, inplace=True)' or df[col] = df[col].method(value) instead, to perform the operation inplace on the original object.\n",
      "\n",
      "\n",
      "  modcloth_data['hips'].fillna(-1.0, inplace = True)\n"
     ]
    }
   ],
   "source": [
    "modcloth_data['hips'].fillna(-1.0, inplace = True)\n",
    "bins = [-5,0,31,37,40,44,75]\n",
    "labels = ['Unknown','XS','S','M', 'L','XL']\n",
    "modcloth_data['hips'] = pd.cut(modcloth_data['hips'], bins, labels = labels)"
   ]
  },
  {
   "cell_type": "code",
   "execution_count": 35,
   "id": "a4f08d67",
   "metadata": {
    "execution": {
     "iopub.execute_input": "2024-03-11T00:45:51.665414Z",
     "iopub.status.busy": "2024-03-11T00:45:51.664696Z",
     "iopub.status.idle": "2024-03-11T00:45:51.672047Z",
     "shell.execute_reply": "2024-03-11T00:45:51.671089Z"
    },
    "papermill": {
     "duration": 0.026468,
     "end_time": "2024-03-11T00:45:51.674415",
     "exception": false,
     "start_time": "2024-03-11T00:45:51.647947",
     "status": "completed"
    },
    "tags": []
   },
   "outputs": [
    {
     "data": {
      "text/plain": [
       "0           just right\n",
       "1           just right\n",
       "2        slightly long\n",
       "3           just right\n",
       "4        slightly long\n",
       "             ...      \n",
       "82785       just right\n",
       "82786    slightly long\n",
       "82787       just right\n",
       "82788       just right\n",
       "82789       just right\n",
       "Name: length, Length: 82790, dtype: object"
      ]
     },
     "execution_count": 35,
     "metadata": {},
     "output_type": "execute_result"
    }
   ],
   "source": [
    "modcloth_data['length']"
   ]
  },
  {
   "cell_type": "code",
   "execution_count": 36,
   "id": "8cca6823",
   "metadata": {
    "execution": {
     "iopub.execute_input": "2024-03-11T00:45:51.705836Z",
     "iopub.status.busy": "2024-03-11T00:45:51.705463Z",
     "iopub.status.idle": "2024-03-11T00:45:51.746090Z",
     "shell.execute_reply": "2024-03-11T00:45:51.744606Z"
    },
    "papermill": {
     "duration": 0.059221,
     "end_time": "2024-03-11T00:45:51.748485",
     "exception": false,
     "start_time": "2024-03-11T00:45:51.689264",
     "status": "completed"
    },
    "tags": []
   },
   "outputs": [],
   "source": [
    "modcloth_data.drop(modcloth_data[modcloth_data['length'].isnull()].index, axis = 0, inplace = True)"
   ]
  },
  {
   "cell_type": "code",
   "execution_count": 37,
   "id": "db520ec4",
   "metadata": {
    "execution": {
     "iopub.execute_input": "2024-03-11T00:45:51.781268Z",
     "iopub.status.busy": "2024-03-11T00:45:51.780614Z",
     "iopub.status.idle": "2024-03-11T00:45:51.811268Z",
     "shell.execute_reply": "2024-03-11T00:45:51.810502Z"
    },
    "papermill": {
     "duration": 0.049864,
     "end_time": "2024-03-11T00:45:51.813539",
     "exception": false,
     "start_time": "2024-03-11T00:45:51.763675",
     "status": "completed"
    },
    "tags": []
   },
   "outputs": [],
   "source": [
    "modcloth_data.drop(modcloth_data[modcloth_data['quality'].isnull()].index, axis = 0, inplace = True)"
   ]
  },
  {
   "cell_type": "code",
   "execution_count": 38,
   "id": "f52601e9",
   "metadata": {
    "execution": {
     "iopub.execute_input": "2024-03-11T00:45:51.845347Z",
     "iopub.status.busy": "2024-03-11T00:45:51.844747Z",
     "iopub.status.idle": "2024-03-11T00:45:51.869811Z",
     "shell.execute_reply": "2024-03-11T00:45:51.868731Z"
    },
    "papermill": {
     "duration": 0.043322,
     "end_time": "2024-03-11T00:45:51.872074",
     "exception": false,
     "start_time": "2024-03-11T00:45:51.828752",
     "status": "completed"
    },
    "tags": []
   },
   "outputs": [],
   "source": [
    "modcloth_data['quality'] = modcloth_data['quality'].astype('category')\n",
    "modcloth_data['length'] = modcloth_data['length'].astype('category')\n"
   ]
  },
  {
   "cell_type": "code",
   "execution_count": 39,
   "id": "e7715a90",
   "metadata": {
    "execution": {
     "iopub.execute_input": "2024-03-11T00:45:51.903408Z",
     "iopub.status.busy": "2024-03-11T00:45:51.903099Z",
     "iopub.status.idle": "2024-03-11T00:45:52.030917Z",
     "shell.execute_reply": "2024-03-11T00:45:52.029556Z"
    },
    "papermill": {
     "duration": 0.14645,
     "end_time": "2024-03-11T00:45:52.033378",
     "exception": false,
     "start_time": "2024-03-11T00:45:51.886928",
     "status": "completed"
    },
    "tags": []
   },
   "outputs": [],
   "source": [
    "percentage_of_null = pd.DataFrame({'missing_data': modcloth_data.isnull().sum(), 'percentag_missing': (modcloth_data.isnull().sum()*100.00)/len(modcloth_data)})"
   ]
  },
  {
   "cell_type": "code",
   "execution_count": 40,
   "id": "3bbe1e86",
   "metadata": {
    "execution": {
     "iopub.execute_input": "2024-03-11T00:45:52.066829Z",
     "iopub.status.busy": "2024-03-11T00:45:52.066443Z",
     "iopub.status.idle": "2024-03-11T00:45:52.079500Z",
     "shell.execute_reply": "2024-03-11T00:45:52.078339Z"
    },
    "papermill": {
     "duration": 0.031774,
     "end_time": "2024-03-11T00:45:52.081511",
     "exception": false,
     "start_time": "2024-03-11T00:45:52.049737",
     "status": "completed"
    },
    "tags": []
   },
   "outputs": [
    {
     "data": {
      "text/html": [
       "<div>\n",
       "<style scoped>\n",
       "    .dataframe tbody tr th:only-of-type {\n",
       "        vertical-align: middle;\n",
       "    }\n",
       "\n",
       "    .dataframe tbody tr th {\n",
       "        vertical-align: top;\n",
       "    }\n",
       "\n",
       "    .dataframe thead th {\n",
       "        text-align: right;\n",
       "    }\n",
       "</style>\n",
       "<table border=\"1\" class=\"dataframe\">\n",
       "  <thead>\n",
       "    <tr style=\"text-align: right;\">\n",
       "      <th></th>\n",
       "      <th>missing_data</th>\n",
       "      <th>percentag_missing</th>\n",
       "    </tr>\n",
       "  </thead>\n",
       "  <tbody>\n",
       "    <tr>\n",
       "      <th>waist</th>\n",
       "      <td>79865</td>\n",
       "      <td>96.575450</td>\n",
       "    </tr>\n",
       "    <tr>\n",
       "      <th>size</th>\n",
       "      <td>0</td>\n",
       "      <td>0.000000</td>\n",
       "    </tr>\n",
       "    <tr>\n",
       "      <th>quality</th>\n",
       "      <td>0</td>\n",
       "      <td>0.000000</td>\n",
       "    </tr>\n",
       "    <tr>\n",
       "      <th>cup size</th>\n",
       "      <td>0</td>\n",
       "      <td>0.000000</td>\n",
       "    </tr>\n",
       "    <tr>\n",
       "      <th>hips</th>\n",
       "      <td>0</td>\n",
       "      <td>0.000000</td>\n",
       "    </tr>\n",
       "    <tr>\n",
       "      <th>bra size</th>\n",
       "      <td>0</td>\n",
       "      <td>0.000000</td>\n",
       "    </tr>\n",
       "    <tr>\n",
       "      <th>category</th>\n",
       "      <td>0</td>\n",
       "      <td>0.000000</td>\n",
       "    </tr>\n",
       "    <tr>\n",
       "      <th>bust</th>\n",
       "      <td>70868</td>\n",
       "      <td>85.695974</td>\n",
       "    </tr>\n",
       "    <tr>\n",
       "      <th>height</th>\n",
       "      <td>1103</td>\n",
       "      <td>1.333785</td>\n",
       "    </tr>\n",
       "    <tr>\n",
       "      <th>user_name</th>\n",
       "      <td>0</td>\n",
       "      <td>0.000000</td>\n",
       "    </tr>\n",
       "    <tr>\n",
       "      <th>length</th>\n",
       "      <td>0</td>\n",
       "      <td>0.000000</td>\n",
       "    </tr>\n",
       "    <tr>\n",
       "      <th>fit</th>\n",
       "      <td>0</td>\n",
       "      <td>0.000000</td>\n",
       "    </tr>\n",
       "    <tr>\n",
       "      <th>user_id</th>\n",
       "      <td>0</td>\n",
       "      <td>0.000000</td>\n",
       "    </tr>\n",
       "    <tr>\n",
       "      <th>shoe size</th>\n",
       "      <td>54820</td>\n",
       "      <td>66.290192</td>\n",
       "    </tr>\n",
       "    <tr>\n",
       "      <th>shoe width</th>\n",
       "      <td>64116</td>\n",
       "      <td>77.531228</td>\n",
       "    </tr>\n",
       "    <tr>\n",
       "      <th>review_summary</th>\n",
       "      <td>6721</td>\n",
       "      <td>8.127260</td>\n",
       "    </tr>\n",
       "    <tr>\n",
       "      <th>review_text</th>\n",
       "      <td>6721</td>\n",
       "      <td>8.127260</td>\n",
       "    </tr>\n",
       "    <tr>\n",
       "      <th>height_ft</th>\n",
       "      <td>1103</td>\n",
       "      <td>1.333785</td>\n",
       "    </tr>\n",
       "    <tr>\n",
       "      <th>height_in</th>\n",
       "      <td>3998</td>\n",
       "      <td>4.834516</td>\n",
       "    </tr>\n",
       "  </tbody>\n",
       "</table>\n",
       "</div>"
      ],
      "text/plain": [
       "                missing_data  percentag_missing\n",
       "waist                  79865          96.575450\n",
       "size                       0           0.000000\n",
       "quality                    0           0.000000\n",
       "cup size                   0           0.000000\n",
       "hips                       0           0.000000\n",
       "bra size                   0           0.000000\n",
       "category                   0           0.000000\n",
       "bust                   70868          85.695974\n",
       "height                  1103           1.333785\n",
       "user_name                  0           0.000000\n",
       "length                     0           0.000000\n",
       "fit                        0           0.000000\n",
       "user_id                    0           0.000000\n",
       "shoe size              54820          66.290192\n",
       "shoe width             64116          77.531228\n",
       "review_summary          6721           8.127260\n",
       "review_text             6721           8.127260\n",
       "height_ft               1103           1.333785\n",
       "height_in               3998           4.834516"
      ]
     },
     "execution_count": 40,
     "metadata": {},
     "output_type": "execute_result"
    }
   ],
   "source": [
    "percentage_of_null"
   ]
  },
  {
   "cell_type": "code",
   "execution_count": 41,
   "id": "9caf47e0",
   "metadata": {
    "execution": {
     "iopub.execute_input": "2024-03-11T00:45:52.117429Z",
     "iopub.status.busy": "2024-03-11T00:45:52.117077Z",
     "iopub.status.idle": "2024-03-11T00:45:52.173162Z",
     "shell.execute_reply": "2024-03-11T00:45:52.171729Z"
    },
    "papermill": {
     "duration": 0.077438,
     "end_time": "2024-03-11T00:45:52.175742",
     "exception": false,
     "start_time": "2024-03-11T00:45:52.098304",
     "status": "completed"
    },
    "tags": []
   },
   "outputs": [],
   "source": [
    "modcloth_data['bust'] = modcloth_data['bust'].fillna('Unknown')\n",
    "modcloth_data['shoe size'] = modcloth_data['shoe size'].fillna('Unknown')\n",
    "modcloth_data['shoe width'] = modcloth_data['shoe width'].fillna('Unknown')\n",
    "modcloth_data['review_summary'] = modcloth_data['review_summary'].fillna('Unknown')\n",
    "modcloth_data['review_text'] = modcloth_data['review_text'].fillna('Unknown')"
   ]
  },
  {
   "cell_type": "code",
   "execution_count": 42,
   "id": "4337afa1",
   "metadata": {
    "execution": {
     "iopub.execute_input": "2024-03-11T00:45:52.209299Z",
     "iopub.status.busy": "2024-03-11T00:45:52.208916Z",
     "iopub.status.idle": "2024-03-11T00:45:52.239387Z",
     "shell.execute_reply": "2024-03-11T00:45:52.238284Z"
    },
    "papermill": {
     "duration": 0.050482,
     "end_time": "2024-03-11T00:45:52.241639",
     "exception": false,
     "start_time": "2024-03-11T00:45:52.191157",
     "status": "completed"
    },
    "tags": []
   },
   "outputs": [],
   "source": [
    "modcloth_data.drop(['height_ft','height_in'], axis = 1, inplace = True)"
   ]
  },
  {
   "cell_type": "code",
   "execution_count": 43,
   "id": "6124a0ea",
   "metadata": {
    "execution": {
     "iopub.execute_input": "2024-03-11T00:45:52.273383Z",
     "iopub.status.busy": "2024-03-11T00:45:52.273011Z",
     "iopub.status.idle": "2024-03-11T00:45:52.283509Z",
     "shell.execute_reply": "2024-03-11T00:45:52.282635Z"
    },
    "papermill": {
     "duration": 0.028742,
     "end_time": "2024-03-11T00:45:52.285344",
     "exception": false,
     "start_time": "2024-03-11T00:45:52.256602",
     "status": "completed"
    },
    "tags": []
   },
   "outputs": [
    {
     "data": {
      "text/plain": [
       "0           just right\n",
       "1           just right\n",
       "2        slightly long\n",
       "3           just right\n",
       "4        slightly long\n",
       "             ...      \n",
       "82785       just right\n",
       "82786    slightly long\n",
       "82787       just right\n",
       "82788       just right\n",
       "82789       just right\n",
       "Name: length, Length: 82697, dtype: category\n",
       "Categories (5, object): ['just right', 'slightly long', 'slightly short', 'very long', 'very short']"
      ]
     },
     "execution_count": 43,
     "metadata": {},
     "output_type": "execute_result"
    }
   ],
   "source": [
    "modcloth_data.length"
   ]
  },
  {
   "cell_type": "code",
   "execution_count": 44,
   "id": "a9db2b12",
   "metadata": {
    "execution": {
     "iopub.execute_input": "2024-03-11T00:45:52.319405Z",
     "iopub.status.busy": "2024-03-11T00:45:52.318856Z",
     "iopub.status.idle": "2024-03-11T00:45:52.327100Z",
     "shell.execute_reply": "2024-03-11T00:45:52.326000Z"
    },
    "papermill": {
     "duration": 0.0282,
     "end_time": "2024-03-11T00:45:52.329058",
     "exception": false,
     "start_time": "2024-03-11T00:45:52.300858",
     "status": "completed"
    },
    "tags": []
   },
   "outputs": [
    {
     "data": {
      "text/plain": [
       "['new', 'dresses', 'wedding', 'sale', 'tops', 'bottoms', 'outerwear']\n",
       "Categories (7, object): ['bottoms', 'dresses', 'new', 'outerwear', 'sale', 'tops', 'wedding']"
      ]
     },
     "execution_count": 44,
     "metadata": {},
     "output_type": "execute_result"
    }
   ],
   "source": [
    "modcloth_data['category'].unique()"
   ]
  },
  {
   "cell_type": "code",
   "execution_count": 45,
   "id": "7a8aa6b6",
   "metadata": {
    "execution": {
     "iopub.execute_input": "2024-03-11T00:45:52.361790Z",
     "iopub.status.busy": "2024-03-11T00:45:52.361490Z",
     "iopub.status.idle": "2024-03-11T00:45:52.512638Z",
     "shell.execute_reply": "2024-03-11T00:45:52.511818Z"
    },
    "papermill": {
     "duration": 0.1697,
     "end_time": "2024-03-11T00:45:52.514504",
     "exception": false,
     "start_time": "2024-03-11T00:45:52.344804",
     "status": "completed"
    },
    "tags": []
   },
   "outputs": [
    {
     "data": {
      "image/png": "[encoded data removed]",
      "text/plain": [
       "<Figure size 900x500 with 1 Axes>"
      ]
     },
     "metadata": {},
     "output_type": "display_data"
    }
   ],
   "source": [
    "color = ['lightblue', 'pink', 'yellow', 'red', 'black', 'green']\n",
    "plt.figure(figsize = (9,5))\n",
    "plt.bar(modcloth_data['category'].unique(),modcloth_data['category'].value_counts() , width = 0.5, color=color)\n",
    "\n",
    "plt.show()"
   ]
  },
  {
   "cell_type": "code",
   "execution_count": 46,
   "id": "b0338b6d",
   "metadata": {
    "execution": {
     "iopub.execute_input": "2024-03-11T00:45:52.549978Z",
     "iopub.status.busy": "2024-03-11T00:45:52.549662Z",
     "iopub.status.idle": "2024-03-11T00:45:52.570875Z",
     "shell.execute_reply": "2024-03-11T00:45:52.569781Z"
    },
    "papermill": {
     "duration": 0.040007,
     "end_time": "2024-03-11T00:45:52.572655",
     "exception": false,
     "start_time": "2024-03-11T00:45:52.532648",
     "status": "completed"
    },
    "tags": []
   },
   "outputs": [
    {
     "name": "stderr",
     "output_type": "stream",
     "text": [
      "/tmp/ipykernel_18/3340736914.py:1: FutureWarning: The default of observed=False is deprecated and will be changed to True in a future version of pandas. Pass observed=False to retain current behavior or observed=True to adopt the future default and silence this warning.\n",
      "  g_by_category = modcloth_data.groupby('category')\n"
     ]
    },
    {
     "data": {
      "text/html": [
       "<div>\n",
       "<style scoped>\n",
       "    .dataframe tbody tr th:only-of-type {\n",
       "        vertical-align: middle;\n",
       "    }\n",
       "\n",
       "    .dataframe tbody tr th {\n",
       "        vertical-align: top;\n",
       "    }\n",
       "\n",
       "    .dataframe thead th {\n",
       "        text-align: right;\n",
       "    }\n",
       "</style>\n",
       "<table border=\"1\" class=\"dataframe\">\n",
       "  <thead>\n",
       "    <tr style=\"text-align: right;\">\n",
       "      <th>fit</th>\n",
       "      <th>fit</th>\n",
       "      <th>large</th>\n",
       "      <th>small</th>\n",
       "    </tr>\n",
       "    <tr>\n",
       "      <th>category</th>\n",
       "      <th></th>\n",
       "      <th></th>\n",
       "      <th></th>\n",
       "    </tr>\n",
       "  </thead>\n",
       "  <tbody>\n",
       "    <tr>\n",
       "      <th>bottoms</th>\n",
       "      <td>10648</td>\n",
       "      <td>2055</td>\n",
       "      <td>2541</td>\n",
       "    </tr>\n",
       "    <tr>\n",
       "      <th>dresses</th>\n",
       "      <td>13567</td>\n",
       "      <td>2556</td>\n",
       "      <td>2506</td>\n",
       "    </tr>\n",
       "    <tr>\n",
       "      <th>new</th>\n",
       "      <td>14413</td>\n",
       "      <td>2977</td>\n",
       "      <td>4086</td>\n",
       "    </tr>\n",
       "    <tr>\n",
       "      <th>outerwear</th>\n",
       "      <td>2791</td>\n",
       "      <td>816</td>\n",
       "      <td>613</td>\n",
       "    </tr>\n",
       "    <tr>\n",
       "      <th>sale</th>\n",
       "      <td>1582</td>\n",
       "      <td>428</td>\n",
       "      <td>496</td>\n",
       "    </tr>\n",
       "    <tr>\n",
       "      <th>tops</th>\n",
       "      <td>13493</td>\n",
       "      <td>4161</td>\n",
       "      <td>2693</td>\n",
       "    </tr>\n",
       "    <tr>\n",
       "      <th>wedding</th>\n",
       "      <td>219</td>\n",
       "      <td>43</td>\n",
       "      <td>13</td>\n",
       "    </tr>\n",
       "  </tbody>\n",
       "</table>\n",
       "</div>"
      ],
      "text/plain": [
       "fit          fit  large  small\n",
       "category                      \n",
       "bottoms    10648   2055   2541\n",
       "dresses    13567   2556   2506\n",
       "new        14413   2977   4086\n",
       "outerwear   2791    816    613\n",
       "sale        1582    428    496\n",
       "tops       13493   4161   2693\n",
       "wedding      219     43     13"
      ]
     },
     "execution_count": 46,
     "metadata": {},
     "output_type": "execute_result"
    }
   ],
   "source": [
    "g_by_category = modcloth_data.groupby('category')\n",
    "(g_by_category['fit'].value_counts()).unstack()"
   ]
  },
  {
   "cell_type": "code",
   "execution_count": 47,
   "id": "22e47598",
   "metadata": {
    "execution": {
     "iopub.execute_input": "2024-03-11T00:45:52.606363Z",
     "iopub.status.busy": "2024-03-11T00:45:52.605978Z",
     "iopub.status.idle": "2024-03-11T00:45:52.619918Z",
     "shell.execute_reply": "2024-03-11T00:45:52.618629Z"
    },
    "papermill": {
     "duration": 0.033947,
     "end_time": "2024-03-11T00:45:52.622382",
     "exception": false,
     "start_time": "2024-03-11T00:45:52.588435",
     "status": "completed"
    },
    "tags": []
   },
   "outputs": [
    {
     "data": {
      "text/plain": [
       "category   fit  \n",
       "bottoms    fit      10648\n",
       "           small     2541\n",
       "           large     2055\n",
       "dresses    fit      13567\n",
       "           large     2556\n",
       "           small     2506\n",
       "new        fit      14413\n",
       "           small     4086\n",
       "           large     2977\n",
       "outerwear  fit       2791\n",
       "           large      816\n",
       "           small      613\n",
       "sale       fit       1582\n",
       "           small      496\n",
       "           large      428\n",
       "tops       fit      13493\n",
       "           large     4161\n",
       "           small     2693\n",
       "wedding    fit        219\n",
       "           large       43\n",
       "           small       13\n",
       "Name: count, dtype: int64"
      ]
     },
     "execution_count": 47,
     "metadata": {},
     "output_type": "execute_result"
    }
   ],
   "source": [
    "g_by_category['fit'].value_counts()"
   ]
  },
  {
   "cell_type": "code",
   "execution_count": null,
   "id": "9112fd08",
   "metadata": {
    "papermill": {
     "duration": 0.01551,
     "end_time": "2024-03-11T00:45:52.653973",
     "exception": false,
     "start_time": "2024-03-11T00:45:52.638463",
     "status": "completed"
    },
    "tags": []
   },
   "outputs": [],
   "source": []
  }
 ],
 "metadata": {
  "kaggle": {
   "accelerator": "none",
   "dataSources": [
    {
     "datasetId": 45560,
     "sourceId": 83170,
     "sourceType": "datasetVersion"
    }
   ],
   "dockerImageVersionId": 30664,
   "isGpuEnabled": false,
   "isInternetEnabled": true,
   "language": "python",
   "sourceType": "notebook"
  },
  "kernelspec": {
   "display_name": "Python 3",
   "language": "python",
   "name": "python3"
  },
  "language_info": {
   "codemirror_mode": {
    "name": "ipython",
    "version": 3
   },
   "file_extension": ".py",
   "mimetype": "text/x-python",
   "name": "python",
   "nbconvert_exporter": "python",
   "pygments_lexer": "ipython3",
   "version": "3.10.13"
  },
  "papermill": {
   "default_parameters": {},
   "duration": 58.047513,
   "end_time": "2024-03-11T00:45:53.390993",
   "environment_variables": {},
   "exception": null,
   "input_path": "__notebook__.ipynb",
   "output_path": "__notebook__.ipynb",
   "parameters": {},
   "start_time": "2024-03-11T00:44:55.343480",
   "version": "2.5.0"
  }
 },
 "nbformat": 4,
 "nbformat_minor": 5
}
