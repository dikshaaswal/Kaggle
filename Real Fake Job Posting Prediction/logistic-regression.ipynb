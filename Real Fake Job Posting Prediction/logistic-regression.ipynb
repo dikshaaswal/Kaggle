{
 "cells": [
  {
   "cell_type": "code",
   "execution_count": 1,
   "id": "1030b42d",
   "metadata": {
    "_cell_guid": "b1076dfc-b9ad-4769-8c92-a6c4dae69d19",
    "_uuid": "8f2839f25d086af736a60e9eeb907d3b93b6e0e5",
    "execution": {
     "iopub.execute_input": "2024-02-20T01:32:42.384640Z",
     "iopub.status.busy": "2024-02-20T01:32:42.383796Z",
     "iopub.status.idle": "2024-02-20T01:32:46.515030Z",
     "shell.execute_reply": "2024-02-20T01:32:46.513776Z"
    },
    "papermill": {
     "duration": 4.150127,
     "end_time": "2024-02-20T01:32:46.517407",
     "exception": false,
     "start_time": "2024-02-20T01:32:42.367280",
     "status": "completed"
    },
    "tags": []
   },
   "outputs": [
    {
     "name": "stdout",
     "output_type": "stream",
     "text": [
      "[nltk_data] Downloading package punkt to /usr/share/nltk_data...\n",
      "[nltk_data]   Package punkt is already up-to-date!\n",
      "[nltk_data] Downloading package stopwords to /usr/share/nltk_data...\n",
      "[nltk_data]   Package stopwords is already up-to-date!\n",
      "[nltk_data] Downloading package wordnet to /usr/share/nltk_data...\n",
      "[nltk_data]   Package wordnet is already up-to-date!\n"
     ]
    },
    {
     "data": {
      "text/plain": [
       "True"
      ]
     },
     "execution_count": 1,
     "metadata": {},
     "output_type": "execute_result"
    }
   ],
   "source": [
    "# This Python 3 environment comes with many helpful analytics libraries installed\n",
    "# It is defined by the kaggle/python Docker image: https://github.com/kaggle/docker-python\n",
    "# For example, here's several helpful packages to load\n",
    "\n",
    "import numpy as np # linear algebra\n",
    "import pandas as pd # data processing, CSV file I/O (e.g. pd.read_csv)\n",
    "\n",
    "# Input data files are available in the read-only \"../input/\" directory\n",
    "# For example, running this (by clicking run or pressing Shift+Enter) will list all files under the input directory\n",
    "\n",
    "import os\n",
    "import seaborn as sns\n",
    "import matplotlib.pyplot as plt\n",
    "import squarify\n",
    "import nltk\n",
    "from nltk.corpus import stopwords\n",
    "from nltk.tokenize import word_tokenize\n",
    "from nltk.stem import WordNetLemmatizer\n",
    "from nltk.tokenize import RegexpTokenizer\n",
    "import string\n",
    "from sklearn.feature_extraction.text import CountVectorizer\n",
    "from sklearn.feature_extraction.text import TfidfVectorizer\n",
    "from sklearn.model_selection import train_test_split\n",
    "from sklearn.linear_model import LogisticRegression\n",
    "from sklearn.metrics import accuracy_score\n",
    "from sklearn.metrics import confusion_matrix, ConfusionMatrixDisplay\n",
    "\n",
    "# Download necessary resources for nltk\n",
    "nltk.download('punkt')\n",
    "nltk.download('stopwords')\n",
    "nltk.download('wordnet')\n",
    "# You can write up to 20GB to the current directory (/kaggle/working/) that gets preserved as output when you create a version using \"Save & Run All\" \n",
    "# You can also write temporary files to /kaggle/temp/, but they won't be saved outside of the current session"
   ]
  },
  {
   "cell_type": "code",
   "execution_count": 2,
   "id": "a05df13e",
   "metadata": {
    "execution": {
     "iopub.execute_input": "2024-02-20T01:32:46.549145Z",
     "iopub.status.busy": "2024-02-20T01:32:46.548494Z",
     "iopub.status.idle": "2024-02-20T01:32:48.047758Z",
     "shell.execute_reply": "2024-02-20T01:32:48.046451Z"
    },
    "papermill": {
     "duration": 1.518433,
     "end_time": "2024-02-20T01:32:48.050788",
     "exception": false,
     "start_time": "2024-02-20T01:32:46.532355",
     "status": "completed"
    },
    "tags": []
   },
   "outputs": [],
   "source": [
    "data = pd.read_csv(\"/kaggle/input/real-or-fake-fake-jobposting-prediction/fake_job_postings.csv\")"
   ]
  },
  {
   "cell_type": "code",
   "execution_count": 3,
   "id": "0ab00785",
   "metadata": {
    "execution": {
     "iopub.execute_input": "2024-02-20T01:32:48.099062Z",
     "iopub.status.busy": "2024-02-20T01:32:48.098617Z",
     "iopub.status.idle": "2024-02-20T01:32:48.163143Z",
     "shell.execute_reply": "2024-02-20T01:32:48.161785Z"
    },
    "papermill": {
     "duration": 0.091975,
     "end_time": "2024-02-20T01:32:48.165987",
     "exception": false,
     "start_time": "2024-02-20T01:32:48.074012",
     "status": "completed"
    },
    "tags": []
   },
   "outputs": [
    {
     "name": "stdout",
     "output_type": "stream",
     "text": [
      "<class 'pandas.core.frame.DataFrame'>\n",
      "RangeIndex: 17880 entries, 0 to 17879\n",
      "Data columns (total 18 columns):\n",
      " #   Column               Non-Null Count  Dtype \n",
      "---  ------               --------------  ----- \n",
      " 0   job_id               17880 non-null  int64 \n",
      " 1   title                17880 non-null  object\n",
      " 2   location             17534 non-null  object\n",
      " 3   department           6333 non-null   object\n",
      " 4   salary_range         2868 non-null   object\n",
      " 5   company_profile      14572 non-null  object\n",
      " 6   description          17879 non-null  object\n",
      " 7   requirements         15184 non-null  object\n",
      " 8   benefits             10668 non-null  object\n",
      " 9   telecommuting        17880 non-null  int64 \n",
      " 10  has_company_logo     17880 non-null  int64 \n",
      " 11  has_questions        17880 non-null  int64 \n",
      " 12  employment_type      14409 non-null  object\n",
      " 13  required_experience  10830 non-null  object\n",
      " 14  required_education   9775 non-null   object\n",
      " 15  industry             12977 non-null  object\n",
      " 16  function             11425 non-null  object\n",
      " 17  fraudulent           17880 non-null  int64 \n",
      "dtypes: int64(5), object(13)\n",
      "memory usage: 2.5+ MB\n"
     ]
    }
   ],
   "source": [
    "data.info()"
   ]
  },
  {
   "cell_type": "code",
   "execution_count": 4,
   "id": "388923c8",
   "metadata": {
    "execution": {
     "iopub.execute_input": "2024-02-20T01:32:48.207809Z",
     "iopub.status.busy": "2024-02-20T01:32:48.206947Z",
     "iopub.status.idle": "2024-02-20T01:32:48.229392Z",
     "shell.execute_reply": "2024-02-20T01:32:48.228152Z"
    },
    "papermill": {
     "duration": 0.042926,
     "end_time": "2024-02-20T01:32:48.232114",
     "exception": false,
     "start_time": "2024-02-20T01:32:48.189188",
     "status": "completed"
    },
    "tags": []
   },
   "outputs": [
    {
     "data": {
      "text/html": [
       "<div>\n",
       "<style scoped>\n",
       "    .dataframe tbody tr th:only-of-type {\n",
       "        vertical-align: middle;\n",
       "    }\n",
       "\n",
       "    .dataframe tbody tr th {\n",
       "        vertical-align: top;\n",
       "    }\n",
       "\n",
       "    .dataframe thead th {\n",
       "        text-align: right;\n",
       "    }\n",
       "</style>\n",
       "<table border=\"1\" class=\"dataframe\">\n",
       "  <thead>\n",
       "    <tr style=\"text-align: right;\">\n",
       "      <th></th>\n",
       "      <th>job_id</th>\n",
       "      <th>title</th>\n",
       "      <th>location</th>\n",
       "      <th>department</th>\n",
       "      <th>salary_range</th>\n",
       "      <th>company_profile</th>\n",
       "      <th>description</th>\n",
       "      <th>requirements</th>\n",
       "      <th>benefits</th>\n",
       "      <th>telecommuting</th>\n",
       "      <th>has_company_logo</th>\n",
       "      <th>has_questions</th>\n",
       "      <th>employment_type</th>\n",
       "      <th>required_experience</th>\n",
       "      <th>required_education</th>\n",
       "      <th>industry</th>\n",
       "      <th>function</th>\n",
       "      <th>fraudulent</th>\n",
       "    </tr>\n",
       "  </thead>\n",
       "  <tbody>\n",
       "    <tr>\n",
       "      <th>0</th>\n",
       "      <td>1</td>\n",
       "      <td>Marketing Intern</td>\n",
       "      <td>US, NY, New York</td>\n",
       "      <td>Marketing</td>\n",
       "      <td>NaN</td>\n",
       "      <td>We're Food52, and we've created a groundbreaki...</td>\n",
       "      <td>Food52, a fast-growing, James Beard Award-winn...</td>\n",
       "      <td>Experience with content management systems a m...</td>\n",
       "      <td>NaN</td>\n",
       "      <td>0</td>\n",
       "      <td>1</td>\n",
       "      <td>0</td>\n",
       "      <td>Other</td>\n",
       "      <td>Internship</td>\n",
       "      <td>NaN</td>\n",
       "      <td>NaN</td>\n",
       "      <td>Marketing</td>\n",
       "      <td>0</td>\n",
       "    </tr>\n",
       "    <tr>\n",
       "      <th>1</th>\n",
       "      <td>2</td>\n",
       "      <td>Customer Service - Cloud Video Production</td>\n",
       "      <td>NZ, , Auckland</td>\n",
       "      <td>Success</td>\n",
       "      <td>NaN</td>\n",
       "      <td>90 Seconds, the worlds Cloud Video Production ...</td>\n",
       "      <td>Organised - Focused - Vibrant - Awesome!Do you...</td>\n",
       "      <td>What we expect from you:Your key responsibilit...</td>\n",
       "      <td>What you will get from usThrough being part of...</td>\n",
       "      <td>0</td>\n",
       "      <td>1</td>\n",
       "      <td>0</td>\n",
       "      <td>Full-time</td>\n",
       "      <td>Not Applicable</td>\n",
       "      <td>NaN</td>\n",
       "      <td>Marketing and Advertising</td>\n",
       "      <td>Customer Service</td>\n",
       "      <td>0</td>\n",
       "    </tr>\n",
       "  </tbody>\n",
       "</table>\n",
       "</div>"
      ],
      "text/plain": [
       "   job_id                                      title          location  \\\n",
       "0       1                           Marketing Intern  US, NY, New York   \n",
       "1       2  Customer Service - Cloud Video Production    NZ, , Auckland   \n",
       "\n",
       "  department salary_range                                    company_profile  \\\n",
       "0  Marketing          NaN  We're Food52, and we've created a groundbreaki...   \n",
       "1    Success          NaN  90 Seconds, the worlds Cloud Video Production ...   \n",
       "\n",
       "                                         description  \\\n",
       "0  Food52, a fast-growing, James Beard Award-winn...   \n",
       "1  Organised - Focused - Vibrant - Awesome!Do you...   \n",
       "\n",
       "                                        requirements  \\\n",
       "0  Experience with content management systems a m...   \n",
       "1  What we expect from you:Your key responsibilit...   \n",
       "\n",
       "                                            benefits  telecommuting  \\\n",
       "0                                                NaN              0   \n",
       "1  What you will get from usThrough being part of...              0   \n",
       "\n",
       "   has_company_logo  has_questions employment_type required_experience  \\\n",
       "0                 1              0           Other          Internship   \n",
       "1                 1              0       Full-time      Not Applicable   \n",
       "\n",
       "  required_education                   industry          function  fraudulent  \n",
       "0                NaN                        NaN         Marketing           0  \n",
       "1                NaN  Marketing and Advertising  Customer Service           0  "
      ]
     },
     "execution_count": 4,
     "metadata": {},
     "output_type": "execute_result"
    }
   ],
   "source": [
    "data.head(2)"
   ]
  },
  {
   "cell_type": "code",
   "execution_count": 5,
   "id": "85f6707e",
   "metadata": {
    "execution": {
     "iopub.execute_input": "2024-02-20T01:32:48.265772Z",
     "iopub.status.busy": "2024-02-20T01:32:48.264497Z",
     "iopub.status.idle": "2024-02-20T01:32:48.271557Z",
     "shell.execute_reply": "2024-02-20T01:32:48.270394Z"
    },
    "papermill": {
     "duration": 0.026764,
     "end_time": "2024-02-20T01:32:48.273993",
     "exception": false,
     "start_time": "2024-02-20T01:32:48.247229",
     "status": "completed"
    },
    "tags": []
   },
   "outputs": [
    {
     "data": {
      "text/plain": [
       "(17880, 18)"
      ]
     },
     "execution_count": 5,
     "metadata": {},
     "output_type": "execute_result"
    }
   ],
   "source": [
    "data.shape"
   ]
  },
  {
   "cell_type": "code",
   "execution_count": 6,
   "id": "ca45f6d4",
   "metadata": {
    "execution": {
     "iopub.execute_input": "2024-02-20T01:32:48.307466Z",
     "iopub.status.busy": "2024-02-20T01:32:48.307076Z",
     "iopub.status.idle": "2024-02-20T01:32:48.315136Z",
     "shell.execute_reply": "2024-02-20T01:32:48.313998Z"
    },
    "papermill": {
     "duration": 0.027564,
     "end_time": "2024-02-20T01:32:48.317668",
     "exception": false,
     "start_time": "2024-02-20T01:32:48.290104",
     "status": "completed"
    },
    "tags": []
   },
   "outputs": [
    {
     "data": {
      "text/plain": [
       "1338"
      ]
     },
     "execution_count": 6,
     "metadata": {},
     "output_type": "execute_result"
    }
   ],
   "source": [
    "len(data['department'].unique())"
   ]
  },
  {
   "cell_type": "code",
   "execution_count": 7,
   "id": "c228785c",
   "metadata": {
    "execution": {
     "iopub.execute_input": "2024-02-20T01:32:48.351247Z",
     "iopub.status.busy": "2024-02-20T01:32:48.350490Z",
     "iopub.status.idle": "2024-02-20T01:32:48.358980Z",
     "shell.execute_reply": "2024-02-20T01:32:48.357719Z"
    },
    "papermill": {
     "duration": 0.028233,
     "end_time": "2024-02-20T01:32:48.361428",
     "exception": false,
     "start_time": "2024-02-20T01:32:48.333195",
     "status": "completed"
    },
    "tags": []
   },
   "outputs": [
    {
     "data": {
      "text/plain": [
       "132"
      ]
     },
     "execution_count": 7,
     "metadata": {},
     "output_type": "execute_result"
    }
   ],
   "source": [
    "len(data['industry'].unique())"
   ]
  },
  {
   "cell_type": "code",
   "execution_count": 8,
   "id": "d7162799",
   "metadata": {
    "execution": {
     "iopub.execute_input": "2024-02-20T01:32:48.394165Z",
     "iopub.status.busy": "2024-02-20T01:32:48.393727Z",
     "iopub.status.idle": "2024-02-20T01:32:48.404551Z",
     "shell.execute_reply": "2024-02-20T01:32:48.403058Z"
    },
    "papermill": {
     "duration": 0.033768,
     "end_time": "2024-02-20T01:32:48.410630",
     "exception": false,
     "start_time": "2024-02-20T01:32:48.376862",
     "status": "completed"
    },
    "tags": []
   },
   "outputs": [],
   "source": [
    "# Group by 'industry' and get the size of each group\n",
    "industry_counts = data.groupby('industry').size().reset_index(name='count')\n"
   ]
  },
  {
   "cell_type": "code",
   "execution_count": 9,
   "id": "a99c86ce",
   "metadata": {
    "execution": {
     "iopub.execute_input": "2024-02-20T01:32:48.452078Z",
     "iopub.status.busy": "2024-02-20T01:32:48.451022Z",
     "iopub.status.idle": "2024-02-20T01:32:48.460410Z",
     "shell.execute_reply": "2024-02-20T01:32:48.459279Z"
    },
    "papermill": {
     "duration": 0.034791,
     "end_time": "2024-02-20T01:32:48.463050",
     "exception": false,
     "start_time": "2024-02-20T01:32:48.428259",
     "status": "completed"
    },
    "tags": []
   },
   "outputs": [],
   "source": [
    "industry_counts = industry_counts.sort_values(by='count', ascending=False)\n",
    "top_20_industry_counts= industry_counts.iloc[:int(0.20*len(industry_counts))]"
   ]
  },
  {
   "cell_type": "code",
   "execution_count": 10,
   "id": "66df9770",
   "metadata": {
    "execution": {
     "iopub.execute_input": "2024-02-20T01:32:48.495873Z",
     "iopub.status.busy": "2024-02-20T01:32:48.495443Z",
     "iopub.status.idle": "2024-02-20T01:32:48.506587Z",
     "shell.execute_reply": "2024-02-20T01:32:48.505411Z"
    },
    "papermill": {
     "duration": 0.030714,
     "end_time": "2024-02-20T01:32:48.509301",
     "exception": false,
     "start_time": "2024-02-20T01:32:48.478587",
     "status": "completed"
    },
    "tags": []
   },
   "outputs": [
    {
     "data": {
      "text/html": [
       "<div>\n",
       "<style scoped>\n",
       "    .dataframe tbody tr th:only-of-type {\n",
       "        vertical-align: middle;\n",
       "    }\n",
       "\n",
       "    .dataframe tbody tr th {\n",
       "        vertical-align: top;\n",
       "    }\n",
       "\n",
       "    .dataframe thead th {\n",
       "        text-align: right;\n",
       "    }\n",
       "</style>\n",
       "<table border=\"1\" class=\"dataframe\">\n",
       "  <thead>\n",
       "    <tr style=\"text-align: right;\">\n",
       "      <th></th>\n",
       "      <th>industry</th>\n",
       "      <th>count</th>\n",
       "    </tr>\n",
       "  </thead>\n",
       "  <tbody>\n",
       "    <tr>\n",
       "      <th>58</th>\n",
       "      <td>Information Technology and Services</td>\n",
       "      <td>1734</td>\n",
       "    </tr>\n",
       "    <tr>\n",
       "      <th>22</th>\n",
       "      <td>Computer Software</td>\n",
       "      <td>1376</td>\n",
       "    </tr>\n",
       "    <tr>\n",
       "      <th>61</th>\n",
       "      <td>Internet</td>\n",
       "      <td>1062</td>\n",
       "    </tr>\n",
       "    <tr>\n",
       "      <th>75</th>\n",
       "      <td>Marketing and Advertising</td>\n",
       "      <td>828</td>\n",
       "    </tr>\n",
       "    <tr>\n",
       "      <th>31</th>\n",
       "      <td>Education Management</td>\n",
       "      <td>822</td>\n",
       "    </tr>\n",
       "  </tbody>\n",
       "</table>\n",
       "</div>"
      ],
      "text/plain": [
       "                               industry  count\n",
       "58  Information Technology and Services   1734\n",
       "22                    Computer Software   1376\n",
       "61                             Internet   1062\n",
       "75            Marketing and Advertising    828\n",
       "31                 Education Management    822"
      ]
     },
     "execution_count": 10,
     "metadata": {},
     "output_type": "execute_result"
    }
   ],
   "source": [
    "top_20_industry_counts.head(5)"
   ]
  },
  {
   "cell_type": "code",
   "execution_count": 11,
   "id": "a2f18bef",
   "metadata": {
    "execution": {
     "iopub.execute_input": "2024-02-20T01:32:48.544935Z",
     "iopub.status.busy": "2024-02-20T01:32:48.544137Z",
     "iopub.status.idle": "2024-02-20T01:32:48.921919Z",
     "shell.execute_reply": "2024-02-20T01:32:48.920916Z"
    },
    "papermill": {
     "duration": 0.397258,
     "end_time": "2024-02-20T01:32:48.924293",
     "exception": false,
     "start_time": "2024-02-20T01:32:48.527035",
     "status": "completed"
    },
    "tags": []
   },
   "outputs": [
    {
     "data": {
      "image/png": "[encoded data removed]",
      "text/plain": [
       "<Figure size 640x480 with 1 Axes>"
      ]
     },
     "metadata": {},
     "output_type": "display_data"
    }
   ],
   "source": [
    "colors=['#fae588','#f79d65','#f9dc5c','#e8ac65','#e76f51','#ef233c','#b7094c'] #color palette\n",
    "\n",
    "sns.set_style(style=\"whitegrid\") # set seaborn plot style\n",
    "sizes= top_20_industry_counts['count']# proportions of the categories\n",
    "label= top_20_industry_counts['industry']\n",
    "squarify.plot(sizes=sizes, label=label, alpha=0.6, color=colors).set(title='Treemap with Squarify')\n",
    "\n",
    "plt.axis('off')\n",
    "plt.show()"
   ]
  },
  {
   "cell_type": "code",
   "execution_count": 12,
   "id": "02c57a0b",
   "metadata": {
    "execution": {
     "iopub.execute_input": "2024-02-20T01:32:48.961137Z",
     "iopub.status.busy": "2024-02-20T01:32:48.960369Z",
     "iopub.status.idle": "2024-02-20T01:32:49.115478Z",
     "shell.execute_reply": "2024-02-20T01:32:49.114571Z"
    },
    "papermill": {
     "duration": 0.176207,
     "end_time": "2024-02-20T01:32:49.117691",
     "exception": false,
     "start_time": "2024-02-20T01:32:48.941484",
     "status": "completed"
    },
    "tags": []
   },
   "outputs": [
    {
     "data": {
      "image/png": "[encoded data removed]",
      "text/plain": [
       "<Figure size 640x480 with 1 Axes>"
      ]
     },
     "metadata": {},
     "output_type": "display_data"
    }
   ],
   "source": [
    "data_fraud = data[data['fraudulent'] == 1]  #fraudulent\n",
    "data_non_fraud = data[data['fraudulent'] == 0]  # non fraudulent\n",
    "\n",
    "plt.title(' fraudulent vs non fraudulent')\n",
    "plt.pie([data_fraud.shape[0], data_non_fraud.shape[0]], \n",
    "        labels=['fraudulent', 'non fraudulent'], \n",
    "        explode=(0, 0.2),\n",
    "        autopct='%1.2f%%',\n",
    "       colors=['red','green'])\n",
    "plt.show()"
   ]
  },
  {
   "cell_type": "code",
   "execution_count": 13,
   "id": "9efc777e",
   "metadata": {
    "execution": {
     "iopub.execute_input": "2024-02-20T01:32:49.155949Z",
     "iopub.status.busy": "2024-02-20T01:32:49.155142Z",
     "iopub.status.idle": "2024-02-20T01:32:49.164349Z",
     "shell.execute_reply": "2024-02-20T01:32:49.163198Z"
    },
    "papermill": {
     "duration": 0.031372,
     "end_time": "2024-02-20T01:32:49.167143",
     "exception": false,
     "start_time": "2024-02-20T01:32:49.135771",
     "status": "completed"
    },
    "tags": []
   },
   "outputs": [],
   "source": [
    "data1 = data.drop(['salary_range', 'job_id'], axis=1)"
   ]
  },
  {
   "cell_type": "code",
   "execution_count": 14,
   "id": "293b1c55",
   "metadata": {
    "execution": {
     "iopub.execute_input": "2024-02-20T01:32:49.205009Z",
     "iopub.status.busy": "2024-02-20T01:32:49.203935Z",
     "iopub.status.idle": "2024-02-20T01:32:49.237006Z",
     "shell.execute_reply": "2024-02-20T01:32:49.235647Z"
    },
    "papermill": {
     "duration": 0.054423,
     "end_time": "2024-02-20T01:32:49.239622",
     "exception": false,
     "start_time": "2024-02-20T01:32:49.185199",
     "status": "completed"
    },
    "tags": []
   },
   "outputs": [
    {
     "data": {
      "text/plain": [
       "title                      0\n",
       "location                 346\n",
       "department             11547\n",
       "company_profile         3308\n",
       "description                1\n",
       "requirements            2696\n",
       "benefits                7212\n",
       "telecommuting              0\n",
       "has_company_logo           0\n",
       "has_questions              0\n",
       "employment_type         3471\n",
       "required_experience     7050\n",
       "required_education      8105\n",
       "industry                4903\n",
       "function                6455\n",
       "fraudulent                 0\n",
       "dtype: int64"
      ]
     },
     "execution_count": 14,
     "metadata": {},
     "output_type": "execute_result"
    }
   ],
   "source": [
    "data1.isnull().sum()"
   ]
  },
  {
   "cell_type": "code",
   "execution_count": 15,
   "id": "d46540b2",
   "metadata": {
    "execution": {
     "iopub.execute_input": "2024-02-20T01:32:49.278232Z",
     "iopub.status.busy": "2024-02-20T01:32:49.277178Z",
     "iopub.status.idle": "2024-02-20T01:32:49.298743Z",
     "shell.execute_reply": "2024-02-20T01:32:49.297647Z"
    },
    "papermill": {
     "duration": 0.043659,
     "end_time": "2024-02-20T01:32:49.301411",
     "exception": false,
     "start_time": "2024-02-20T01:32:49.257752",
     "status": "completed"
    },
    "tags": []
   },
   "outputs": [],
   "source": [
    "data1 = data1.fillna({'employment_type': 'unknown', 'required_experience': 'unknown', 'required_education' : 'unknown' })"
   ]
  },
  {
   "cell_type": "code",
   "execution_count": 16,
   "id": "ea9b2db4",
   "metadata": {
    "execution": {
     "iopub.execute_input": "2024-02-20T01:32:49.338682Z",
     "iopub.status.busy": "2024-02-20T01:32:49.337799Z",
     "iopub.status.idle": "2024-02-20T01:32:49.343395Z",
     "shell.execute_reply": "2024-02-20T01:32:49.342459Z"
    },
    "papermill": {
     "duration": 0.027016,
     "end_time": "2024-02-20T01:32:49.345828",
     "exception": false,
     "start_time": "2024-02-20T01:32:49.318812",
     "status": "completed"
    },
    "tags": []
   },
   "outputs": [],
   "source": [
    "text_col = ['title', 'location', 'department', 'company_profile', 'description', 'requirements', 'benefits', 'industry', 'function'  ]\n"
   ]
  },
  {
   "cell_type": "code",
   "execution_count": 17,
   "id": "6e2f6afc",
   "metadata": {
    "execution": {
     "iopub.execute_input": "2024-02-20T01:32:49.383006Z",
     "iopub.status.busy": "2024-02-20T01:32:49.382157Z",
     "iopub.status.idle": "2024-02-20T01:32:49.422924Z",
     "shell.execute_reply": "2024-02-20T01:32:49.421808Z"
    },
    "papermill": {
     "duration": 0.062741,
     "end_time": "2024-02-20T01:32:49.425936",
     "exception": false,
     "start_time": "2024-02-20T01:32:49.363195",
     "status": "completed"
    },
    "tags": []
   },
   "outputs": [],
   "source": [
    "data2 = data1.fillna(\" \")"
   ]
  },
  {
   "cell_type": "code",
   "execution_count": 18,
   "id": "09ec20a3",
   "metadata": {
    "execution": {
     "iopub.execute_input": "2024-02-20T01:32:49.462861Z",
     "iopub.status.busy": "2024-02-20T01:32:49.462129Z",
     "iopub.status.idle": "2024-02-20T01:32:49.496485Z",
     "shell.execute_reply": "2024-02-20T01:32:49.495396Z"
    },
    "papermill": {
     "duration": 0.056174,
     "end_time": "2024-02-20T01:32:49.499564",
     "exception": false,
     "start_time": "2024-02-20T01:32:49.443390",
     "status": "completed"
    },
    "tags": []
   },
   "outputs": [
    {
     "data": {
      "text/plain": [
       "title                  0\n",
       "location               0\n",
       "department             0\n",
       "company_profile        0\n",
       "description            0\n",
       "requirements           0\n",
       "benefits               0\n",
       "telecommuting          0\n",
       "has_company_logo       0\n",
       "has_questions          0\n",
       "employment_type        0\n",
       "required_experience    0\n",
       "required_education     0\n",
       "industry               0\n",
       "function               0\n",
       "fraudulent             0\n",
       "dtype: int64"
      ]
     },
     "execution_count": 18,
     "metadata": {},
     "output_type": "execute_result"
    }
   ],
   "source": [
    "data2.isnull().sum()"
   ]
  },
  {
   "cell_type": "code",
   "execution_count": 19,
   "id": "8f834130",
   "metadata": {
    "execution": {
     "iopub.execute_input": "2024-02-20T01:32:49.537824Z",
     "iopub.status.busy": "2024-02-20T01:32:49.537414Z",
     "iopub.status.idle": "2024-02-20T01:32:50.059627Z",
     "shell.execute_reply": "2024-02-20T01:32:50.058401Z"
    },
    "papermill": {
     "duration": 0.54444,
     "end_time": "2024-02-20T01:32:50.062452",
     "exception": false,
     "start_time": "2024-02-20T01:32:49.518012",
     "status": "completed"
    },
    "tags": []
   },
   "outputs": [],
   "source": [
    "data2['combined_description'] = data2['title'] + \" \" + data2['location'] + \" \" + data2['department']+ \" \" + data2['company_profile'] + \" \" + data2['description'] + \" \" + data2['requirements'] + \" \" + data2['benefits']+ \" \" + data2[ 'industry'] + \" \" + data2['function']                    "
   ]
  },
  {
   "cell_type": "code",
   "execution_count": 20,
   "id": "de5eb0e2",
   "metadata": {
    "execution": {
     "iopub.execute_input": "2024-02-20T01:32:50.101999Z",
     "iopub.status.busy": "2024-02-20T01:32:50.101514Z",
     "iopub.status.idle": "2024-02-20T01:32:50.119554Z",
     "shell.execute_reply": "2024-02-20T01:32:50.118464Z"
    },
    "papermill": {
     "duration": 0.040218,
     "end_time": "2024-02-20T01:32:50.122093",
     "exception": false,
     "start_time": "2024-02-20T01:32:50.081875",
     "status": "completed"
    },
    "tags": []
   },
   "outputs": [
    {
     "data": {
      "text/html": [
       "<div>\n",
       "<style scoped>\n",
       "    .dataframe tbody tr th:only-of-type {\n",
       "        vertical-align: middle;\n",
       "    }\n",
       "\n",
       "    .dataframe tbody tr th {\n",
       "        vertical-align: top;\n",
       "    }\n",
       "\n",
       "    .dataframe thead th {\n",
       "        text-align: right;\n",
       "    }\n",
       "</style>\n",
       "<table border=\"1\" class=\"dataframe\">\n",
       "  <thead>\n",
       "    <tr style=\"text-align: right;\">\n",
       "      <th></th>\n",
       "      <th>title</th>\n",
       "      <th>location</th>\n",
       "      <th>department</th>\n",
       "      <th>company_profile</th>\n",
       "      <th>description</th>\n",
       "      <th>requirements</th>\n",
       "      <th>benefits</th>\n",
       "      <th>telecommuting</th>\n",
       "      <th>has_company_logo</th>\n",
       "      <th>has_questions</th>\n",
       "      <th>employment_type</th>\n",
       "      <th>required_experience</th>\n",
       "      <th>required_education</th>\n",
       "      <th>industry</th>\n",
       "      <th>function</th>\n",
       "      <th>fraudulent</th>\n",
       "      <th>combined_description</th>\n",
       "    </tr>\n",
       "  </thead>\n",
       "  <tbody>\n",
       "    <tr>\n",
       "      <th>0</th>\n",
       "      <td>Marketing Intern</td>\n",
       "      <td>US, NY, New York</td>\n",
       "      <td>Marketing</td>\n",
       "      <td>We're Food52, and we've created a groundbreaki...</td>\n",
       "      <td>Food52, a fast-growing, James Beard Award-winn...</td>\n",
       "      <td>Experience with content management systems a m...</td>\n",
       "      <td></td>\n",
       "      <td>0</td>\n",
       "      <td>1</td>\n",
       "      <td>0</td>\n",
       "      <td>Other</td>\n",
       "      <td>Internship</td>\n",
       "      <td>unknown</td>\n",
       "      <td></td>\n",
       "      <td>Marketing</td>\n",
       "      <td>0</td>\n",
       "      <td>Marketing Intern US, NY, New York Marketing We...</td>\n",
       "    </tr>\n",
       "  </tbody>\n",
       "</table>\n",
       "</div>"
      ],
      "text/plain": [
       "              title          location department  \\\n",
       "0  Marketing Intern  US, NY, New York  Marketing   \n",
       "\n",
       "                                     company_profile  \\\n",
       "0  We're Food52, and we've created a groundbreaki...   \n",
       "\n",
       "                                         description  \\\n",
       "0  Food52, a fast-growing, James Beard Award-winn...   \n",
       "\n",
       "                                        requirements benefits  telecommuting  \\\n",
       "0  Experience with content management systems a m...                       0   \n",
       "\n",
       "   has_company_logo  has_questions employment_type required_experience  \\\n",
       "0                 1              0           Other          Internship   \n",
       "\n",
       "  required_education industry   function  fraudulent  \\\n",
       "0            unknown           Marketing           0   \n",
       "\n",
       "                                combined_description  \n",
       "0  Marketing Intern US, NY, New York Marketing We...  "
      ]
     },
     "execution_count": 20,
     "metadata": {},
     "output_type": "execute_result"
    }
   ],
   "source": [
    "data2.head(1)"
   ]
  },
  {
   "cell_type": "code",
   "execution_count": 21,
   "id": "4e5e6bc3",
   "metadata": {
    "execution": {
     "iopub.execute_input": "2024-02-20T01:32:50.160362Z",
     "iopub.status.busy": "2024-02-20T01:32:50.159936Z",
     "iopub.status.idle": "2024-02-20T01:32:50.168692Z",
     "shell.execute_reply": "2024-02-20T01:32:50.167201Z"
    },
    "papermill": {
     "duration": 0.030769,
     "end_time": "2024-02-20T01:32:50.171269",
     "exception": false,
     "start_time": "2024-02-20T01:32:50.140500",
     "status": "completed"
    },
    "tags": []
   },
   "outputs": [],
   "source": [
    "data3 = data2.drop(text_col, axis=1)"
   ]
  },
  {
   "cell_type": "code",
   "execution_count": 22,
   "id": "c5918ee0",
   "metadata": {
    "execution": {
     "iopub.execute_input": "2024-02-20T01:32:50.210632Z",
     "iopub.status.busy": "2024-02-20T01:32:50.210229Z",
     "iopub.status.idle": "2024-02-20T01:32:50.224954Z",
     "shell.execute_reply": "2024-02-20T01:32:50.223870Z"
    },
    "papermill": {
     "duration": 0.03736,
     "end_time": "2024-02-20T01:32:50.227467",
     "exception": false,
     "start_time": "2024-02-20T01:32:50.190107",
     "status": "completed"
    },
    "tags": []
   },
   "outputs": [
    {
     "data": {
      "text/html": [
       "<div>\n",
       "<style scoped>\n",
       "    .dataframe tbody tr th:only-of-type {\n",
       "        vertical-align: middle;\n",
       "    }\n",
       "\n",
       "    .dataframe tbody tr th {\n",
       "        vertical-align: top;\n",
       "    }\n",
       "\n",
       "    .dataframe thead th {\n",
       "        text-align: right;\n",
       "    }\n",
       "</style>\n",
       "<table border=\"1\" class=\"dataframe\">\n",
       "  <thead>\n",
       "    <tr style=\"text-align: right;\">\n",
       "      <th></th>\n",
       "      <th>telecommuting</th>\n",
       "      <th>has_company_logo</th>\n",
       "      <th>has_questions</th>\n",
       "      <th>employment_type</th>\n",
       "      <th>required_experience</th>\n",
       "      <th>required_education</th>\n",
       "      <th>fraudulent</th>\n",
       "      <th>combined_description</th>\n",
       "    </tr>\n",
       "  </thead>\n",
       "  <tbody>\n",
       "    <tr>\n",
       "      <th>0</th>\n",
       "      <td>0</td>\n",
       "      <td>1</td>\n",
       "      <td>0</td>\n",
       "      <td>Other</td>\n",
       "      <td>Internship</td>\n",
       "      <td>unknown</td>\n",
       "      <td>0</td>\n",
       "      <td>Marketing Intern US, NY, New York Marketing We...</td>\n",
       "    </tr>\n",
       "    <tr>\n",
       "      <th>1</th>\n",
       "      <td>0</td>\n",
       "      <td>1</td>\n",
       "      <td>0</td>\n",
       "      <td>Full-time</td>\n",
       "      <td>Not Applicable</td>\n",
       "      <td>unknown</td>\n",
       "      <td>0</td>\n",
       "      <td>Customer Service - Cloud Video Production NZ, ...</td>\n",
       "    </tr>\n",
       "    <tr>\n",
       "      <th>2</th>\n",
       "      <td>0</td>\n",
       "      <td>1</td>\n",
       "      <td>0</td>\n",
       "      <td>unknown</td>\n",
       "      <td>unknown</td>\n",
       "      <td>unknown</td>\n",
       "      <td>0</td>\n",
       "      <td>Commissioning Machinery Assistant (CMA) US, IA...</td>\n",
       "    </tr>\n",
       "    <tr>\n",
       "      <th>3</th>\n",
       "      <td>0</td>\n",
       "      <td>1</td>\n",
       "      <td>0</td>\n",
       "      <td>Full-time</td>\n",
       "      <td>Mid-Senior level</td>\n",
       "      <td>Bachelor's Degree</td>\n",
       "      <td>0</td>\n",
       "      <td>Account Executive - Washington DC US, DC, Wash...</td>\n",
       "    </tr>\n",
       "  </tbody>\n",
       "</table>\n",
       "</div>"
      ],
      "text/plain": [
       "   telecommuting  has_company_logo  has_questions employment_type  \\\n",
       "0              0                 1              0           Other   \n",
       "1              0                 1              0       Full-time   \n",
       "2              0                 1              0         unknown   \n",
       "3              0                 1              0       Full-time   \n",
       "\n",
       "  required_experience required_education  fraudulent  \\\n",
       "0          Internship            unknown           0   \n",
       "1      Not Applicable            unknown           0   \n",
       "2             unknown            unknown           0   \n",
       "3    Mid-Senior level  Bachelor's Degree           0   \n",
       "\n",
       "                                combined_description  \n",
       "0  Marketing Intern US, NY, New York Marketing We...  \n",
       "1  Customer Service - Cloud Video Production NZ, ...  \n",
       "2  Commissioning Machinery Assistant (CMA) US, IA...  \n",
       "3  Account Executive - Washington DC US, DC, Wash...  "
      ]
     },
     "execution_count": 22,
     "metadata": {},
     "output_type": "execute_result"
    }
   ],
   "source": [
    "data3.head(4)"
   ]
  },
  {
   "cell_type": "code",
   "execution_count": 23,
   "id": "75a403b8",
   "metadata": {
    "execution": {
     "iopub.execute_input": "2024-02-20T01:32:50.331776Z",
     "iopub.status.busy": "2024-02-20T01:32:50.331103Z",
     "iopub.status.idle": "2024-02-20T01:32:50.339804Z",
     "shell.execute_reply": "2024-02-20T01:32:50.338528Z"
    },
    "papermill": {
     "duration": 0.031741,
     "end_time": "2024-02-20T01:32:50.342245",
     "exception": false,
     "start_time": "2024-02-20T01:32:50.310504",
     "status": "completed"
    },
    "tags": []
   },
   "outputs": [
    {
     "data": {
      "text/plain": [
       "fraudulent\n",
       "0    17014\n",
       "1      866\n",
       "dtype: int64"
      ]
     },
     "execution_count": 23,
     "metadata": {},
     "output_type": "execute_result"
    }
   ],
   "source": [
    "data3.groupby('fraudulent').size()"
   ]
  },
  {
   "cell_type": "code",
   "execution_count": 24,
   "id": "27869ff1",
   "metadata": {
    "execution": {
     "iopub.execute_input": "2024-02-20T01:32:50.381329Z",
     "iopub.status.busy": "2024-02-20T01:32:50.380851Z",
     "iopub.status.idle": "2024-02-20T01:32:50.401563Z",
     "shell.execute_reply": "2024-02-20T01:32:50.400454Z"
    },
    "papermill": {
     "duration": 0.043411,
     "end_time": "2024-02-20T01:32:50.404184",
     "exception": false,
     "start_time": "2024-02-20T01:32:50.360773",
     "status": "completed"
    },
    "tags": []
   },
   "outputs": [],
   "source": [
    "data4 = pd.get_dummies(data3, columns = ['employment_type','required_experience','required_education']) \n"
   ]
  },
  {
   "cell_type": "code",
   "execution_count": 25,
   "id": "a3cd4c91",
   "metadata": {
    "execution": {
     "iopub.execute_input": "2024-02-20T01:32:50.443380Z",
     "iopub.status.busy": "2024-02-20T01:32:50.442979Z",
     "iopub.status.idle": "2024-02-20T01:32:50.465917Z",
     "shell.execute_reply": "2024-02-20T01:32:50.464785Z"
    },
    "papermill": {
     "duration": 0.045331,
     "end_time": "2024-02-20T01:32:50.468289",
     "exception": false,
     "start_time": "2024-02-20T01:32:50.422958",
     "status": "completed"
    },
    "tags": []
   },
   "outputs": [
    {
     "data": {
      "text/html": [
       "<div>\n",
       "<style scoped>\n",
       "    .dataframe tbody tr th:only-of-type {\n",
       "        vertical-align: middle;\n",
       "    }\n",
       "\n",
       "    .dataframe tbody tr th {\n",
       "        vertical-align: top;\n",
       "    }\n",
       "\n",
       "    .dataframe thead th {\n",
       "        text-align: right;\n",
       "    }\n",
       "</style>\n",
       "<table border=\"1\" class=\"dataframe\">\n",
       "  <thead>\n",
       "    <tr style=\"text-align: right;\">\n",
       "      <th></th>\n",
       "      <th>telecommuting</th>\n",
       "      <th>has_company_logo</th>\n",
       "      <th>has_questions</th>\n",
       "      <th>fraudulent</th>\n",
       "      <th>combined_description</th>\n",
       "      <th>employment_type_Contract</th>\n",
       "      <th>employment_type_Full-time</th>\n",
       "      <th>employment_type_Other</th>\n",
       "      <th>employment_type_Part-time</th>\n",
       "      <th>employment_type_Temporary</th>\n",
       "      <th>...</th>\n",
       "      <th>required_education_High School or equivalent</th>\n",
       "      <th>required_education_Master's Degree</th>\n",
       "      <th>required_education_Professional</th>\n",
       "      <th>required_education_Some College Coursework Completed</th>\n",
       "      <th>required_education_Some High School Coursework</th>\n",
       "      <th>required_education_Unspecified</th>\n",
       "      <th>required_education_Vocational</th>\n",
       "      <th>required_education_Vocational - Degree</th>\n",
       "      <th>required_education_Vocational - HS Diploma</th>\n",
       "      <th>required_education_unknown</th>\n",
       "    </tr>\n",
       "  </thead>\n",
       "  <tbody>\n",
       "    <tr>\n",
       "      <th>0</th>\n",
       "      <td>0</td>\n",
       "      <td>1</td>\n",
       "      <td>0</td>\n",
       "      <td>0</td>\n",
       "      <td>Marketing Intern US, NY, New York Marketing We...</td>\n",
       "      <td>False</td>\n",
       "      <td>False</td>\n",
       "      <td>True</td>\n",
       "      <td>False</td>\n",
       "      <td>False</td>\n",
       "      <td>...</td>\n",
       "      <td>False</td>\n",
       "      <td>False</td>\n",
       "      <td>False</td>\n",
       "      <td>False</td>\n",
       "      <td>False</td>\n",
       "      <td>False</td>\n",
       "      <td>False</td>\n",
       "      <td>False</td>\n",
       "      <td>False</td>\n",
       "      <td>True</td>\n",
       "    </tr>\n",
       "    <tr>\n",
       "      <th>1</th>\n",
       "      <td>0</td>\n",
       "      <td>1</td>\n",
       "      <td>0</td>\n",
       "      <td>0</td>\n",
       "      <td>Customer Service - Cloud Video Production NZ, ...</td>\n",
       "      <td>False</td>\n",
       "      <td>True</td>\n",
       "      <td>False</td>\n",
       "      <td>False</td>\n",
       "      <td>False</td>\n",
       "      <td>...</td>\n",
       "      <td>False</td>\n",
       "      <td>False</td>\n",
       "      <td>False</td>\n",
       "      <td>False</td>\n",
       "      <td>False</td>\n",
       "      <td>False</td>\n",
       "      <td>False</td>\n",
       "      <td>False</td>\n",
       "      <td>False</td>\n",
       "      <td>True</td>\n",
       "    </tr>\n",
       "    <tr>\n",
       "      <th>2</th>\n",
       "      <td>0</td>\n",
       "      <td>1</td>\n",
       "      <td>0</td>\n",
       "      <td>0</td>\n",
       "      <td>Commissioning Machinery Assistant (CMA) US, IA...</td>\n",
       "      <td>False</td>\n",
       "      <td>False</td>\n",
       "      <td>False</td>\n",
       "      <td>False</td>\n",
       "      <td>False</td>\n",
       "      <td>...</td>\n",
       "      <td>False</td>\n",
       "      <td>False</td>\n",
       "      <td>False</td>\n",
       "      <td>False</td>\n",
       "      <td>False</td>\n",
       "      <td>False</td>\n",
       "      <td>False</td>\n",
       "      <td>False</td>\n",
       "      <td>False</td>\n",
       "      <td>True</td>\n",
       "    </tr>\n",
       "    <tr>\n",
       "      <th>3</th>\n",
       "      <td>0</td>\n",
       "      <td>1</td>\n",
       "      <td>0</td>\n",
       "      <td>0</td>\n",
       "      <td>Account Executive - Washington DC US, DC, Wash...</td>\n",
       "      <td>False</td>\n",
       "      <td>True</td>\n",
       "      <td>False</td>\n",
       "      <td>False</td>\n",
       "      <td>False</td>\n",
       "      <td>...</td>\n",
       "      <td>False</td>\n",
       "      <td>False</td>\n",
       "      <td>False</td>\n",
       "      <td>False</td>\n",
       "      <td>False</td>\n",
       "      <td>False</td>\n",
       "      <td>False</td>\n",
       "      <td>False</td>\n",
       "      <td>False</td>\n",
       "      <td>False</td>\n",
       "    </tr>\n",
       "  </tbody>\n",
       "</table>\n",
       "<p>4 rows × 33 columns</p>\n",
       "</div>"
      ],
      "text/plain": [
       "   telecommuting  has_company_logo  has_questions  fraudulent  \\\n",
       "0              0                 1              0           0   \n",
       "1              0                 1              0           0   \n",
       "2              0                 1              0           0   \n",
       "3              0                 1              0           0   \n",
       "\n",
       "                                combined_description  \\\n",
       "0  Marketing Intern US, NY, New York Marketing We...   \n",
       "1  Customer Service - Cloud Video Production NZ, ...   \n",
       "2  Commissioning Machinery Assistant (CMA) US, IA...   \n",
       "3  Account Executive - Washington DC US, DC, Wash...   \n",
       "\n",
       "   employment_type_Contract  employment_type_Full-time  employment_type_Other  \\\n",
       "0                     False                      False                   True   \n",
       "1                     False                       True                  False   \n",
       "2                     False                      False                  False   \n",
       "3                     False                       True                  False   \n",
       "\n",
       "   employment_type_Part-time  employment_type_Temporary  ...  \\\n",
       "0                      False                      False  ...   \n",
       "1                      False                      False  ...   \n",
       "2                      False                      False  ...   \n",
       "3                      False                      False  ...   \n",
       "\n",
       "   required_education_High School or equivalent  \\\n",
       "0                                         False   \n",
       "1                                         False   \n",
       "2                                         False   \n",
       "3                                         False   \n",
       "\n",
       "   required_education_Master's Degree  required_education_Professional  \\\n",
       "0                               False                            False   \n",
       "1                               False                            False   \n",
       "2                               False                            False   \n",
       "3                               False                            False   \n",
       "\n",
       "   required_education_Some College Coursework Completed  \\\n",
       "0                                              False      \n",
       "1                                              False      \n",
       "2                                              False      \n",
       "3                                              False      \n",
       "\n",
       "   required_education_Some High School Coursework  \\\n",
       "0                                           False   \n",
       "1                                           False   \n",
       "2                                           False   \n",
       "3                                           False   \n",
       "\n",
       "   required_education_Unspecified  required_education_Vocational  \\\n",
       "0                           False                          False   \n",
       "1                           False                          False   \n",
       "2                           False                          False   \n",
       "3                           False                          False   \n",
       "\n",
       "   required_education_Vocational - Degree  \\\n",
       "0                                   False   \n",
       "1                                   False   \n",
       "2                                   False   \n",
       "3                                   False   \n",
       "\n",
       "   required_education_Vocational - HS Diploma  required_education_unknown  \n",
       "0                                       False                        True  \n",
       "1                                       False                        True  \n",
       "2                                       False                        True  \n",
       "3                                       False                       False  \n",
       "\n",
       "[4 rows x 33 columns]"
      ]
     },
     "execution_count": 25,
     "metadata": {},
     "output_type": "execute_result"
    }
   ],
   "source": [
    "data4.head(4)"
   ]
  },
  {
   "cell_type": "code",
   "execution_count": 26,
   "id": "6c68b094",
   "metadata": {
    "execution": {
     "iopub.execute_input": "2024-02-20T01:32:50.509848Z",
     "iopub.status.busy": "2024-02-20T01:32:50.509073Z",
     "iopub.status.idle": "2024-02-20T01:32:50.526728Z",
     "shell.execute_reply": "2024-02-20T01:32:50.525553Z"
    },
    "papermill": {
     "duration": 0.041525,
     "end_time": "2024-02-20T01:32:50.529274",
     "exception": false,
     "start_time": "2024-02-20T01:32:50.487749",
     "status": "completed"
    },
    "tags": []
   },
   "outputs": [
    {
     "name": "stdout",
     "output_type": "stream",
     "text": [
      "<class 'pandas.core.frame.DataFrame'>\n",
      "RangeIndex: 17880 entries, 0 to 17879\n",
      "Data columns (total 33 columns):\n",
      " #   Column                                                Non-Null Count  Dtype \n",
      "---  ------                                                --------------  ----- \n",
      " 0   telecommuting                                         17880 non-null  int64 \n",
      " 1   has_company_logo                                      17880 non-null  int64 \n",
      " 2   has_questions                                         17880 non-null  int64 \n",
      " 3   fraudulent                                            17880 non-null  int64 \n",
      " 4   combined_description                                  17880 non-null  object\n",
      " 5   employment_type_Contract                              17880 non-null  bool  \n",
      " 6   employment_type_Full-time                             17880 non-null  bool  \n",
      " 7   employment_type_Other                                 17880 non-null  bool  \n",
      " 8   employment_type_Part-time                             17880 non-null  bool  \n",
      " 9   employment_type_Temporary                             17880 non-null  bool  \n",
      " 10  employment_type_unknown                               17880 non-null  bool  \n",
      " 11  required_experience_Associate                         17880 non-null  bool  \n",
      " 12  required_experience_Director                          17880 non-null  bool  \n",
      " 13  required_experience_Entry level                       17880 non-null  bool  \n",
      " 14  required_experience_Executive                         17880 non-null  bool  \n",
      " 15  required_experience_Internship                        17880 non-null  bool  \n",
      " 16  required_experience_Mid-Senior level                  17880 non-null  bool  \n",
      " 17  required_experience_Not Applicable                    17880 non-null  bool  \n",
      " 18  required_experience_unknown                           17880 non-null  bool  \n",
      " 19  required_education_Associate Degree                   17880 non-null  bool  \n",
      " 20  required_education_Bachelor's Degree                  17880 non-null  bool  \n",
      " 21  required_education_Certification                      17880 non-null  bool  \n",
      " 22  required_education_Doctorate                          17880 non-null  bool  \n",
      " 23  required_education_High School or equivalent          17880 non-null  bool  \n",
      " 24  required_education_Master's Degree                    17880 non-null  bool  \n",
      " 25  required_education_Professional                       17880 non-null  bool  \n",
      " 26  required_education_Some College Coursework Completed  17880 non-null  bool  \n",
      " 27  required_education_Some High School Coursework        17880 non-null  bool  \n",
      " 28  required_education_Unspecified                        17880 non-null  bool  \n",
      " 29  required_education_Vocational                         17880 non-null  bool  \n",
      " 30  required_education_Vocational - Degree                17880 non-null  bool  \n",
      " 31  required_education_Vocational - HS Diploma            17880 non-null  bool  \n",
      " 32  required_education_unknown                            17880 non-null  bool  \n",
      "dtypes: bool(28), int64(4), object(1)\n",
      "memory usage: 1.2+ MB\n"
     ]
    }
   ],
   "source": [
    "data4.info()"
   ]
  },
  {
   "cell_type": "code",
   "execution_count": 27,
   "id": "22e0780d",
   "metadata": {
    "execution": {
     "iopub.execute_input": "2024-02-20T01:32:50.570860Z",
     "iopub.status.busy": "2024-02-20T01:32:50.570060Z",
     "iopub.status.idle": "2024-02-20T01:32:52.072557Z",
     "shell.execute_reply": "2024-02-20T01:32:52.070941Z"
    },
    "papermill": {
     "duration": 1.526346,
     "end_time": "2024-02-20T01:32:52.075626",
     "exception": false,
     "start_time": "2024-02-20T01:32:50.549280",
     "status": "completed"
    },
    "tags": []
   },
   "outputs": [
    {
     "name": "stdout",
     "output_type": "stream",
     "text": [
      "Archive:  /usr/share/nltk_data/corpora/wordnet.zip\r\n",
      "   creating: /usr/share/nltk_data/corpora/wordnet/\r\n",
      "  inflating: /usr/share/nltk_data/corpora/wordnet/lexnames  \r\n",
      "  inflating: /usr/share/nltk_data/corpora/wordnet/data.verb  \r\n",
      "  inflating: /usr/share/nltk_data/corpora/wordnet/index.adv  \r\n",
      "  inflating: /usr/share/nltk_data/corpora/wordnet/adv.exc  \r\n",
      "  inflating: /usr/share/nltk_data/corpora/wordnet/index.verb  \r\n",
      "  inflating: /usr/share/nltk_data/corpora/wordnet/cntlist.rev  \r\n",
      "  inflating: /usr/share/nltk_data/corpora/wordnet/data.adj  \r\n",
      "  inflating: /usr/share/nltk_data/corpora/wordnet/index.adj  \r\n",
      "  inflating: /usr/share/nltk_data/corpora/wordnet/LICENSE  \r\n",
      "  inflating: /usr/share/nltk_data/corpora/wordnet/citation.bib  \r\n",
      "  inflating: /usr/share/nltk_data/corpora/wordnet/noun.exc  \r\n",
      "  inflating: /usr/share/nltk_data/corpora/wordnet/verb.exc  \r\n",
      "  inflating: /usr/share/nltk_data/corpora/wordnet/README  \r\n",
      "  inflating: /usr/share/nltk_data/corpora/wordnet/index.sense  \r\n",
      "  inflating: /usr/share/nltk_data/corpora/wordnet/data.noun  \r\n",
      "  inflating: /usr/share/nltk_data/corpora/wordnet/data.adv  \r\n",
      "  inflating: /usr/share/nltk_data/corpora/wordnet/index.noun  \r\n",
      "  inflating: /usr/share/nltk_data/corpora/wordnet/adj.exc  \r\n"
     ]
    }
   ],
   "source": [
    "!unzip /usr/share/nltk_data/corpora/wordnet.zip -d /usr/share/nltk_data/corpora/"
   ]
  },
  {
   "cell_type": "code",
   "execution_count": 28,
   "id": "8228f22d",
   "metadata": {
    "execution": {
     "iopub.execute_input": "2024-02-20T01:32:52.118930Z",
     "iopub.status.busy": "2024-02-20T01:32:52.118457Z",
     "iopub.status.idle": "2024-02-20T01:32:52.128518Z",
     "shell.execute_reply": "2024-02-20T01:32:52.127311Z"
    },
    "papermill": {
     "duration": 0.033521,
     "end_time": "2024-02-20T01:32:52.130757",
     "exception": false,
     "start_time": "2024-02-20T01:32:52.097236",
     "status": "completed"
    },
    "tags": []
   },
   "outputs": [],
   "source": [
    "stop_words = set(stopwords.words('english'))\n",
    "punctuation = list(string.punctuation)\n",
    "stop_words.update(punctuation)"
   ]
  },
  {
   "cell_type": "code",
   "execution_count": 29,
   "id": "6a0c04dc",
   "metadata": {
    "execution": {
     "iopub.execute_input": "2024-02-20T01:32:52.174121Z",
     "iopub.status.busy": "2024-02-20T01:32:52.173677Z",
     "iopub.status.idle": "2024-02-20T01:32:52.180513Z",
     "shell.execute_reply": "2024-02-20T01:32:52.179488Z"
    },
    "papermill": {
     "duration": 0.03148,
     "end_time": "2024-02-20T01:32:52.182717",
     "exception": false,
     "start_time": "2024-02-20T01:32:52.151237",
     "status": "completed"
    },
    "tags": []
   },
   "outputs": [],
   "source": [
    "wordnet_lemmatizer = WordNetLemmatizer()\n",
    "\n",
    "def preprocess_text(text):\n",
    "    \n",
    "#     wordnet_lemmatizer = WordNetLemmatizer()\n",
    "    # Tokenize the text\n",
    "    \n",
    "\n",
    "    \n",
    "    tokens = word_tokenize(text)\n",
    "    \n",
    "    # Remove stop words and lemmatize the tokens\n",
    "    filtered_tokens = [wordnet_lemmatizer.lemmatize(token) for token in tokens if token.lower() not in stop_words]\n",
    "    \n",
    "    # Join the tokens back into a single string\n",
    "    return \" \".join(filtered_tokens) \n"
   ]
  },
  {
   "cell_type": "code",
   "execution_count": 30,
   "id": "939ff6b9",
   "metadata": {
    "execution": {
     "iopub.execute_input": "2024-02-20T01:32:52.226865Z",
     "iopub.status.busy": "2024-02-20T01:32:52.226416Z",
     "iopub.status.idle": "2024-02-20T01:35:11.861533Z",
     "shell.execute_reply": "2024-02-20T01:35:11.860536Z"
    },
    "papermill": {
     "duration": 139.660786,
     "end_time": "2024-02-20T01:35:11.864345",
     "exception": false,
     "start_time": "2024-02-20T01:32:52.203559",
     "status": "completed"
    },
    "tags": []
   },
   "outputs": [],
   "source": [
    "data4['processed_text'] = data4['combined_description'].apply(preprocess_text)"
   ]
  },
  {
   "cell_type": "code",
   "execution_count": 31,
   "id": "9b659cc6",
   "metadata": {
    "execution": {
     "iopub.execute_input": "2024-02-20T01:35:11.906707Z",
     "iopub.status.busy": "2024-02-20T01:35:11.905644Z",
     "iopub.status.idle": "2024-02-20T01:35:11.926727Z",
     "shell.execute_reply": "2024-02-20T01:35:11.925839Z"
    },
    "papermill": {
     "duration": 0.044582,
     "end_time": "2024-02-20T01:35:11.928999",
     "exception": false,
     "start_time": "2024-02-20T01:35:11.884417",
     "status": "completed"
    },
    "tags": []
   },
   "outputs": [
    {
     "data": {
      "text/html": [
       "<div>\n",
       "<style scoped>\n",
       "    .dataframe tbody tr th:only-of-type {\n",
       "        vertical-align: middle;\n",
       "    }\n",
       "\n",
       "    .dataframe tbody tr th {\n",
       "        vertical-align: top;\n",
       "    }\n",
       "\n",
       "    .dataframe thead th {\n",
       "        text-align: right;\n",
       "    }\n",
       "</style>\n",
       "<table border=\"1\" class=\"dataframe\">\n",
       "  <thead>\n",
       "    <tr style=\"text-align: right;\">\n",
       "      <th></th>\n",
       "      <th>telecommuting</th>\n",
       "      <th>has_company_logo</th>\n",
       "      <th>has_questions</th>\n",
       "      <th>fraudulent</th>\n",
       "      <th>combined_description</th>\n",
       "      <th>employment_type_Contract</th>\n",
       "      <th>employment_type_Full-time</th>\n",
       "      <th>employment_type_Other</th>\n",
       "      <th>employment_type_Part-time</th>\n",
       "      <th>employment_type_Temporary</th>\n",
       "      <th>...</th>\n",
       "      <th>required_education_Master's Degree</th>\n",
       "      <th>required_education_Professional</th>\n",
       "      <th>required_education_Some College Coursework Completed</th>\n",
       "      <th>required_education_Some High School Coursework</th>\n",
       "      <th>required_education_Unspecified</th>\n",
       "      <th>required_education_Vocational</th>\n",
       "      <th>required_education_Vocational - Degree</th>\n",
       "      <th>required_education_Vocational - HS Diploma</th>\n",
       "      <th>required_education_unknown</th>\n",
       "      <th>processed_text</th>\n",
       "    </tr>\n",
       "  </thead>\n",
       "  <tbody>\n",
       "    <tr>\n",
       "      <th>0</th>\n",
       "      <td>0</td>\n",
       "      <td>1</td>\n",
       "      <td>0</td>\n",
       "      <td>0</td>\n",
       "      <td>Marketing Intern US, NY, New York Marketing We...</td>\n",
       "      <td>False</td>\n",
       "      <td>False</td>\n",
       "      <td>True</td>\n",
       "      <td>False</td>\n",
       "      <td>False</td>\n",
       "      <td>...</td>\n",
       "      <td>False</td>\n",
       "      <td>False</td>\n",
       "      <td>False</td>\n",
       "      <td>False</td>\n",
       "      <td>False</td>\n",
       "      <td>False</td>\n",
       "      <td>False</td>\n",
       "      <td>False</td>\n",
       "      <td>True</td>\n",
       "      <td>Marketing Intern US NY New York Marketing 're ...</td>\n",
       "    </tr>\n",
       "  </tbody>\n",
       "</table>\n",
       "<p>1 rows × 34 columns</p>\n",
       "</div>"
      ],
      "text/plain": [
       "   telecommuting  has_company_logo  has_questions  fraudulent  \\\n",
       "0              0                 1              0           0   \n",
       "\n",
       "                                combined_description  \\\n",
       "0  Marketing Intern US, NY, New York Marketing We...   \n",
       "\n",
       "   employment_type_Contract  employment_type_Full-time  employment_type_Other  \\\n",
       "0                     False                      False                   True   \n",
       "\n",
       "   employment_type_Part-time  employment_type_Temporary  ...  \\\n",
       "0                      False                      False  ...   \n",
       "\n",
       "   required_education_Master's Degree  required_education_Professional  \\\n",
       "0                               False                            False   \n",
       "\n",
       "   required_education_Some College Coursework Completed  \\\n",
       "0                                              False      \n",
       "\n",
       "   required_education_Some High School Coursework  \\\n",
       "0                                           False   \n",
       "\n",
       "   required_education_Unspecified  required_education_Vocational  \\\n",
       "0                           False                          False   \n",
       "\n",
       "   required_education_Vocational - Degree  \\\n",
       "0                                   False   \n",
       "\n",
       "   required_education_Vocational - HS Diploma  required_education_unknown  \\\n",
       "0                                       False                        True   \n",
       "\n",
       "                                      processed_text  \n",
       "0  Marketing Intern US NY New York Marketing 're ...  \n",
       "\n",
       "[1 rows x 34 columns]"
      ]
     },
     "execution_count": 31,
     "metadata": {},
     "output_type": "execute_result"
    }
   ],
   "source": [
    "data4.head(1)"
   ]
  },
  {
   "cell_type": "code",
   "execution_count": 32,
   "id": "547f183f",
   "metadata": {
    "execution": {
     "iopub.execute_input": "2024-02-20T01:35:11.971142Z",
     "iopub.status.busy": "2024-02-20T01:35:11.970302Z",
     "iopub.status.idle": "2024-02-20T01:35:11.978211Z",
     "shell.execute_reply": "2024-02-20T01:35:11.977347Z"
    },
    "papermill": {
     "duration": 0.031792,
     "end_time": "2024-02-20T01:35:11.980650",
     "exception": false,
     "start_time": "2024-02-20T01:35:11.948858",
     "status": "completed"
    },
    "tags": []
   },
   "outputs": [],
   "source": [
    "data4 = data4.drop(['combined_description'], axis=1)"
   ]
  },
  {
   "cell_type": "code",
   "execution_count": 33,
   "id": "6d596cc3",
   "metadata": {
    "execution": {
     "iopub.execute_input": "2024-02-20T01:35:12.022524Z",
     "iopub.status.busy": "2024-02-20T01:35:12.022088Z",
     "iopub.status.idle": "2024-02-20T01:35:12.033339Z",
     "shell.execute_reply": "2024-02-20T01:35:12.032165Z"
    },
    "papermill": {
     "duration": 0.035136,
     "end_time": "2024-02-20T01:35:12.035937",
     "exception": false,
     "start_time": "2024-02-20T01:35:12.000801",
     "status": "completed"
    },
    "tags": []
   },
   "outputs": [],
   "source": [
    "train_X , test_X ,train_Y , test_Y = train_test_split(data4['processed_text'],data4['fraudulent'] , test_size = 0.2 , random_state = 0)"
   ]
  },
  {
   "cell_type": "code",
   "execution_count": 34,
   "id": "4f907e35",
   "metadata": {
    "execution": {
     "iopub.execute_input": "2024-02-20T01:35:12.079306Z",
     "iopub.status.busy": "2024-02-20T01:35:12.078479Z",
     "iopub.status.idle": "2024-02-20T01:35:44.557149Z",
     "shell.execute_reply": "2024-02-20T01:35:44.556102Z"
    },
    "papermill": {
     "duration": 32.504159,
     "end_time": "2024-02-20T01:35:44.560179",
     "exception": false,
     "start_time": "2024-02-20T01:35:12.056020",
     "status": "completed"
    },
    "tags": []
   },
   "outputs": [],
   "source": [
    "cv=TfidfVectorizer(min_df=0,max_df=1,binary=False,ngram_range=(1,3))\n",
    "cv_train = cv.fit_transform(train_X)\n",
    "cv_test = cv.transform(test_X)"
   ]
  },
  {
   "cell_type": "code",
   "execution_count": 35,
   "id": "63197625",
   "metadata": {
    "execution": {
     "iopub.execute_input": "2024-02-20T01:35:44.602440Z",
     "iopub.status.busy": "2024-02-20T01:35:44.601602Z",
     "iopub.status.idle": "2024-02-20T01:35:44.608668Z",
     "shell.execute_reply": "2024-02-20T01:35:44.607556Z"
    },
    "papermill": {
     "duration": 0.031053,
     "end_time": "2024-02-20T01:35:44.611286",
     "exception": false,
     "start_time": "2024-02-20T01:35:44.580233",
     "status": "completed"
    },
    "tags": []
   },
   "outputs": [
    {
     "data": {
      "text/plain": [
       "(14304,)"
      ]
     },
     "execution_count": 35,
     "metadata": {},
     "output_type": "execute_result"
    }
   ],
   "source": [
    "train_X.shape"
   ]
  },
  {
   "cell_type": "code",
   "execution_count": 36,
   "id": "d573d3a1",
   "metadata": {
    "execution": {
     "iopub.execute_input": "2024-02-20T01:35:44.653976Z",
     "iopub.status.busy": "2024-02-20T01:35:44.653156Z",
     "iopub.status.idle": "2024-02-20T01:35:44.660423Z",
     "shell.execute_reply": "2024-02-20T01:35:44.659223Z"
    },
    "papermill": {
     "duration": 0.031508,
     "end_time": "2024-02-20T01:35:44.662970",
     "exception": false,
     "start_time": "2024-02-20T01:35:44.631462",
     "status": "completed"
    },
    "tags": []
   },
   "outputs": [
    {
     "data": {
      "text/plain": [
       "(14304, 1667216)"
      ]
     },
     "execution_count": 36,
     "metadata": {},
     "output_type": "execute_result"
    }
   ],
   "source": [
    "cv_train.shape"
   ]
  },
  {
   "cell_type": "code",
   "execution_count": 37,
   "id": "619b77ba",
   "metadata": {
    "execution": {
     "iopub.execute_input": "2024-02-20T01:35:44.706135Z",
     "iopub.status.busy": "2024-02-20T01:35:44.704977Z",
     "iopub.status.idle": "2024-02-20T01:35:44.710907Z",
     "shell.execute_reply": "2024-02-20T01:35:44.710120Z"
    },
    "papermill": {
     "duration": 0.029867,
     "end_time": "2024-02-20T01:35:44.713059",
     "exception": false,
     "start_time": "2024-02-20T01:35:44.683192",
     "status": "completed"
    },
    "tags": []
   },
   "outputs": [
    {
     "data": {
      "text/plain": [
       "(3576, 1667216)"
      ]
     },
     "execution_count": 37,
     "metadata": {},
     "output_type": "execute_result"
    }
   ],
   "source": [
    "cv_test.shape"
   ]
  },
  {
   "cell_type": "code",
   "execution_count": 38,
   "id": "6a79dac4",
   "metadata": {
    "execution": {
     "iopub.execute_input": "2024-02-20T01:35:44.756059Z",
     "iopub.status.busy": "2024-02-20T01:35:44.755328Z",
     "iopub.status.idle": "2024-02-20T01:35:44.762496Z",
     "shell.execute_reply": "2024-02-20T01:35:44.761384Z"
    },
    "papermill": {
     "duration": 0.031608,
     "end_time": "2024-02-20T01:35:44.765000",
     "exception": false,
     "start_time": "2024-02-20T01:35:44.733392",
     "status": "completed"
    },
    "tags": []
   },
   "outputs": [
    {
     "data": {
      "text/plain": [
       "<14304x1667216 sparse matrix of type '<class 'numpy.float64'>'\n",
       "\twith 1667216 stored elements in Compressed Sparse Row format>"
      ]
     },
     "execution_count": 38,
     "metadata": {},
     "output_type": "execute_result"
    }
   ],
   "source": [
    "cv_train"
   ]
  },
  {
   "cell_type": "code",
   "execution_count": 39,
   "id": "5006acfd",
   "metadata": {
    "execution": {
     "iopub.execute_input": "2024-02-20T01:35:44.809778Z",
     "iopub.status.busy": "2024-02-20T01:35:44.809390Z",
     "iopub.status.idle": "2024-02-20T01:35:56.483226Z",
     "shell.execute_reply": "2024-02-20T01:35:56.481962Z"
    },
    "papermill": {
     "duration": 11.698754,
     "end_time": "2024-02-20T01:35:56.486188",
     "exception": false,
     "start_time": "2024-02-20T01:35:44.787434",
     "status": "completed"
    },
    "tags": []
   },
   "outputs": [],
   "source": [
    "clf = LogisticRegression(random_state=0).fit(cv_train, train_Y)"
   ]
  },
  {
   "cell_type": "code",
   "execution_count": 40,
   "id": "fec7631d",
   "metadata": {
    "execution": {
     "iopub.execute_input": "2024-02-20T01:35:56.529850Z",
     "iopub.status.busy": "2024-02-20T01:35:56.529396Z",
     "iopub.status.idle": "2024-02-20T01:35:56.536756Z",
     "shell.execute_reply": "2024-02-20T01:35:56.535869Z"
    },
    "papermill": {
     "duration": 0.031955,
     "end_time": "2024-02-20T01:35:56.539083",
     "exception": false,
     "start_time": "2024-02-20T01:35:56.507128",
     "status": "completed"
    },
    "tags": []
   },
   "outputs": [],
   "source": [
    "predict_test = clf.predict(cv_test)"
   ]
  },
  {
   "cell_type": "code",
   "execution_count": 41,
   "id": "34c4e9af",
   "metadata": {
    "execution": {
     "iopub.execute_input": "2024-02-20T01:35:56.583315Z",
     "iopub.status.busy": "2024-02-20T01:35:56.582487Z",
     "iopub.status.idle": "2024-02-20T01:35:56.603805Z",
     "shell.execute_reply": "2024-02-20T01:35:56.602669Z"
    },
    "papermill": {
     "duration": 0.046757,
     "end_time": "2024-02-20T01:35:56.606733",
     "exception": false,
     "start_time": "2024-02-20T01:35:56.559976",
     "status": "completed"
    },
    "tags": []
   },
   "outputs": [],
   "source": [
    "predict_train = clf.predict(cv_train)"
   ]
  },
  {
   "cell_type": "code",
   "execution_count": 42,
   "id": "4e1ff7bd",
   "metadata": {
    "execution": {
     "iopub.execute_input": "2024-02-20T01:35:56.650055Z",
     "iopub.status.busy": "2024-02-20T01:35:56.649595Z",
     "iopub.status.idle": "2024-02-20T01:35:56.659192Z",
     "shell.execute_reply": "2024-02-20T01:35:56.658079Z"
    },
    "papermill": {
     "duration": 0.034168,
     "end_time": "2024-02-20T01:35:56.661630",
     "exception": false,
     "start_time": "2024-02-20T01:35:56.627462",
     "status": "completed"
    },
    "tags": []
   },
   "outputs": [
    {
     "data": {
      "text/plain": [
       "0.9572147651006712"
      ]
     },
     "execution_count": 42,
     "metadata": {},
     "output_type": "execute_result"
    }
   ],
   "source": [
    "accuracy_score(test_Y, predict_test)"
   ]
  },
  {
   "cell_type": "code",
   "execution_count": 43,
   "id": "16849b60",
   "metadata": {
    "execution": {
     "iopub.execute_input": "2024-02-20T01:35:56.705179Z",
     "iopub.status.busy": "2024-02-20T01:35:56.704733Z",
     "iopub.status.idle": "2024-02-20T01:35:56.715683Z",
     "shell.execute_reply": "2024-02-20T01:35:56.714366Z"
    },
    "papermill": {
     "duration": 0.035898,
     "end_time": "2024-02-20T01:35:56.718266",
     "exception": false,
     "start_time": "2024-02-20T01:35:56.682368",
     "status": "completed"
    },
    "tags": []
   },
   "outputs": [
    {
     "data": {
      "text/plain": [
       "0.950153803131991"
      ]
     },
     "execution_count": 43,
     "metadata": {},
     "output_type": "execute_result"
    }
   ],
   "source": [
    "accuracy_score(train_Y, predict_train)"
   ]
  },
  {
   "cell_type": "code",
   "execution_count": 44,
   "id": "5cfa374b",
   "metadata": {
    "execution": {
     "iopub.execute_input": "2024-02-20T01:35:56.762490Z",
     "iopub.status.busy": "2024-02-20T01:35:56.761572Z",
     "iopub.status.idle": "2024-02-20T01:35:56.771578Z",
     "shell.execute_reply": "2024-02-20T01:35:56.770409Z"
    },
    "papermill": {
     "duration": 0.034829,
     "end_time": "2024-02-20T01:35:56.774060",
     "exception": false,
     "start_time": "2024-02-20T01:35:56.739231",
     "status": "completed"
    },
    "tags": []
   },
   "outputs": [
    {
     "data": {
      "text/plain": [
       "array([[3423,    0],\n",
       "       [ 153,    0]])"
      ]
     },
     "execution_count": 44,
     "metadata": {},
     "output_type": "execute_result"
    }
   ],
   "source": [
    "confusion_matrix(test_Y, predict_test)"
   ]
  },
  {
   "cell_type": "code",
   "execution_count": 45,
   "id": "b901a2ad",
   "metadata": {
    "execution": {
     "iopub.execute_input": "2024-02-20T01:35:56.817974Z",
     "iopub.status.busy": "2024-02-20T01:35:56.817510Z",
     "iopub.status.idle": "2024-02-20T01:35:57.086560Z",
     "shell.execute_reply": "2024-02-20T01:35:57.085371Z"
    },
    "papermill": {
     "duration": 0.293755,
     "end_time": "2024-02-20T01:35:57.089011",
     "exception": false,
     "start_time": "2024-02-20T01:35:56.795256",
     "status": "completed"
    },
    "tags": []
   },
   "outputs": [
    {
     "data": {
      "image/png": "[encoded data removed]",
      "text/plain": [
       "<Figure size 640x480 with 2 Axes>"
      ]
     },
     "metadata": {},
     "output_type": "display_data"
    }
   ],
   "source": [
    "cm = confusion_matrix(test_Y, predict_test, labels=clf.classes_)\n",
    "disp = ConfusionMatrixDisplay(confusion_matrix=cm)\n",
    "disp.plot()\n",
    "plt.show()"
   ]
  },
  {
   "cell_type": "code",
   "execution_count": null,
   "id": "132e5f15",
   "metadata": {
    "papermill": {
     "duration": 0.021239,
     "end_time": "2024-02-20T01:35:57.131924",
     "exception": false,
     "start_time": "2024-02-20T01:35:57.110685",
     "status": "completed"
    },
    "tags": []
   },
   "outputs": [],
   "source": []
  }
 ],
 "metadata": {
  "kaggle": {
   "accelerator": "none",
   "dataSources": [
    {
     "datasetId": 533871,
     "sourceId": 976879,
     "sourceType": "datasetVersion"
    }
   ],
   "dockerImageVersionId": 30646,
   "isGpuEnabled": false,
   "isInternetEnabled": true,
   "language": "python",
   "sourceType": "notebook"
  },
  "kernelspec": {
   "display_name": "Python 3",
   "language": "python",
   "name": "python3"
  },
  "language_info": {
   "codemirror_mode": {
    "name": "ipython",
    "version": 3
   },
   "file_extension": ".py",
   "mimetype": "text/x-python",
   "name": "python",
   "nbconvert_exporter": "python",
   "pygments_lexer": "ipython3",
   "version": "3.10.13"
  },
  "papermill": {
   "default_parameters": {},
   "duration": 199.525427,
   "end_time": "2024-02-20T01:35:58.578451",
   "environment_variables": {},
   "exception": null,
   "input_path": "__notebook__.ipynb",
   "output_path": "__notebook__.ipynb",
   "parameters": {},
   "start_time": "2024-02-20T01:32:39.053024",
   "version": "2.5.0"
  }
 },
 "nbformat": 4,
 "nbformat_minor": 5
}
