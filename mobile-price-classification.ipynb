{
 "cells": [
  {
   "cell_type": "code",
   "execution_count": 1,
   "id": "17aca4cb",
   "metadata": {
    "_cell_guid": "b1076dfc-b9ad-4769-8c92-a6c4dae69d19",
    "_uuid": "8f2839f25d086af736a60e9eeb907d3b93b6e0e5",
    "execution": {
     "iopub.execute_input": "2024-03-20T21:26:02.084943Z",
     "iopub.status.busy": "2024-03-20T21:26:02.084501Z",
     "iopub.status.idle": "2024-03-20T21:26:05.873354Z",
     "shell.execute_reply": "2024-03-20T21:26:05.871764Z"
    },
    "papermill": {
     "duration": 3.80608,
     "end_time": "2024-03-20T21:26:05.876019",
     "exception": false,
     "start_time": "2024-03-20T21:26:02.069939",
     "status": "completed"
    },
    "tags": []
   },
   "outputs": [
    {
     "name": "stdout",
     "output_type": "stream",
     "text": [
      "/kaggle/input/mobile-price-classification/train.csv\n",
      "/kaggle/input/mobile-price-classification/test.csv\n"
     ]
    }
   ],
   "source": [
    "# This Python 3 environment comes with many helpful analytics libraries installed\n",
    "# It is defined by the kaggle/python Docker image: https://github.com/kaggle/docker-python\n",
    "# For example, here's several helpful packages to load\n",
    "\n",
    "import numpy as np # linear algebra\n",
    "import pandas as pd # data processing, CSV file I/O (e.g. pd.read_csv)\n",
    "import matplotlib.pyplot as plt\n",
    "import seaborn as sns\n",
    "from scipy.stats import spearmanr\n",
    "from sklearn.model_selection import train_test_split\n",
    "from sklearn.linear_model import LogisticRegression\n",
    "from sklearn.ensemble import RandomForestRegressor\n",
    "# Input data files are available in the read-only \"../input/\" directory\n",
    "# For example, running this (by clicking run or pressing Shift+Enter) will list all files under the input directory\n",
    "\n",
    "import os\n",
    "for dirname, _, filenames in os.walk('/kaggle/input'):\n",
    "    for filename in filenames:\n",
    "        print(os.path.join(dirname, filename))\n",
    "\n",
    "# You can write up to 20GB to the current directory (/kaggle/working/) that gets preserved as output when you create a version using \"Save & Run All\" \n",
    "# You can also write temporary files to /kaggle/temp/, but they won't be saved outside of the current session"
   ]
  },
  {
   "cell_type": "code",
   "execution_count": 2,
   "id": "773ccb86",
   "metadata": {
    "execution": {
     "iopub.execute_input": "2024-03-20T21:26:05.905216Z",
     "iopub.status.busy": "2024-03-20T21:26:05.904130Z",
     "iopub.status.idle": "2024-03-20T21:26:05.938721Z",
     "shell.execute_reply": "2024-03-20T21:26:05.935930Z"
    },
    "papermill": {
     "duration": 0.051908,
     "end_time": "2024-03-20T21:26:05.941691",
     "exception": false,
     "start_time": "2024-03-20T21:26:05.889783",
     "status": "completed"
    },
    "tags": []
   },
   "outputs": [],
   "source": [
    "train_data = pd.read_csv(\"/kaggle/input/mobile-price-classification/train.csv\")"
   ]
  },
  {
   "cell_type": "code",
   "execution_count": 3,
   "id": "80d1635a",
   "metadata": {
    "execution": {
     "iopub.execute_input": "2024-03-20T21:26:05.969096Z",
     "iopub.status.busy": "2024-03-20T21:26:05.968592Z",
     "iopub.status.idle": "2024-03-20T21:26:05.987445Z",
     "shell.execute_reply": "2024-03-20T21:26:05.986040Z"
    },
    "papermill": {
     "duration": 0.035721,
     "end_time": "2024-03-20T21:26:05.990247",
     "exception": false,
     "start_time": "2024-03-20T21:26:05.954526",
     "status": "completed"
    },
    "tags": []
   },
   "outputs": [],
   "source": [
    "test_data = pd.read_csv(\"/kaggle/input/mobile-price-classification/test.csv\")"
   ]
  },
  {
   "cell_type": "code",
   "execution_count": 4,
   "id": "a4b62a5a",
   "metadata": {
    "execution": {
     "iopub.execute_input": "2024-03-20T21:26:06.018138Z",
     "iopub.status.busy": "2024-03-20T21:26:06.017721Z",
     "iopub.status.idle": "2024-03-20T21:26:06.026615Z",
     "shell.execute_reply": "2024-03-20T21:26:06.025347Z"
    },
    "papermill": {
     "duration": 0.025442,
     "end_time": "2024-03-20T21:26:06.029036",
     "exception": false,
     "start_time": "2024-03-20T21:26:06.003594",
     "status": "completed"
    },
    "tags": []
   },
   "outputs": [
    {
     "data": {
      "text/plain": [
       "(2000, 21)"
      ]
     },
     "execution_count": 4,
     "metadata": {},
     "output_type": "execute_result"
    }
   ],
   "source": [
    "train_data.shape"
   ]
  },
  {
   "cell_type": "code",
   "execution_count": 5,
   "id": "8f1a18bf",
   "metadata": {
    "execution": {
     "iopub.execute_input": "2024-03-20T21:26:06.059627Z",
     "iopub.status.busy": "2024-03-20T21:26:06.058093Z",
     "iopub.status.idle": "2024-03-20T21:26:06.066623Z",
     "shell.execute_reply": "2024-03-20T21:26:06.065493Z"
    },
    "papermill": {
     "duration": 0.025608,
     "end_time": "2024-03-20T21:26:06.069180",
     "exception": false,
     "start_time": "2024-03-20T21:26:06.043572",
     "status": "completed"
    },
    "tags": []
   },
   "outputs": [
    {
     "data": {
      "text/plain": [
       "(1000, 21)"
      ]
     },
     "execution_count": 5,
     "metadata": {},
     "output_type": "execute_result"
    }
   ],
   "source": [
    "test_data.shape"
   ]
  },
  {
   "cell_type": "code",
   "execution_count": 6,
   "id": "77ad193d",
   "metadata": {
    "execution": {
     "iopub.execute_input": "2024-03-20T21:26:06.097453Z",
     "iopub.status.busy": "2024-03-20T21:26:06.096213Z",
     "iopub.status.idle": "2024-03-20T21:26:06.130840Z",
     "shell.execute_reply": "2024-03-20T21:26:06.129621Z"
    },
    "papermill": {
     "duration": 0.051548,
     "end_time": "2024-03-20T21:26:06.133521",
     "exception": false,
     "start_time": "2024-03-20T21:26:06.081973",
     "status": "completed"
    },
    "tags": []
   },
   "outputs": [
    {
     "name": "stdout",
     "output_type": "stream",
     "text": [
      "<class 'pandas.core.frame.DataFrame'>\n",
      "RangeIndex: 2000 entries, 0 to 1999\n",
      "Data columns (total 21 columns):\n",
      " #   Column         Non-Null Count  Dtype  \n",
      "---  ------         --------------  -----  \n",
      " 0   battery_power  2000 non-null   int64  \n",
      " 1   blue           2000 non-null   int64  \n",
      " 2   clock_speed    2000 non-null   float64\n",
      " 3   dual_sim       2000 non-null   int64  \n",
      " 4   fc             2000 non-null   int64  \n",
      " 5   four_g         2000 non-null   int64  \n",
      " 6   int_memory     2000 non-null   int64  \n",
      " 7   m_dep          2000 non-null   float64\n",
      " 8   mobile_wt      2000 non-null   int64  \n",
      " 9   n_cores        2000 non-null   int64  \n",
      " 10  pc             2000 non-null   int64  \n",
      " 11  px_height      2000 non-null   int64  \n",
      " 12  px_width       2000 non-null   int64  \n",
      " 13  ram            2000 non-null   int64  \n",
      " 14  sc_h           2000 non-null   int64  \n",
      " 15  sc_w           2000 non-null   int64  \n",
      " 16  talk_time      2000 non-null   int64  \n",
      " 17  three_g        2000 non-null   int64  \n",
      " 18  touch_screen   2000 non-null   int64  \n",
      " 19  wifi           2000 non-null   int64  \n",
      " 20  price_range    2000 non-null   int64  \n",
      "dtypes: float64(2), int64(19)\n",
      "memory usage: 328.2 KB\n"
     ]
    }
   ],
   "source": [
    "train_data.info()"
   ]
  },
  {
   "cell_type": "code",
   "execution_count": 7,
   "id": "b48b7574",
   "metadata": {
    "execution": {
     "iopub.execute_input": "2024-03-20T21:26:06.162100Z",
     "iopub.status.busy": "2024-03-20T21:26:06.161106Z",
     "iopub.status.idle": "2024-03-20T21:26:06.193590Z",
     "shell.execute_reply": "2024-03-20T21:26:06.192336Z"
    },
    "papermill": {
     "duration": 0.049721,
     "end_time": "2024-03-20T21:26:06.196251",
     "exception": false,
     "start_time": "2024-03-20T21:26:06.146530",
     "status": "completed"
    },
    "tags": []
   },
   "outputs": [
    {
     "data": {
      "text/html": [
       "<div>\n",
       "<style scoped>\n",
       "    .dataframe tbody tr th:only-of-type {\n",
       "        vertical-align: middle;\n",
       "    }\n",
       "\n",
       "    .dataframe tbody tr th {\n",
       "        vertical-align: top;\n",
       "    }\n",
       "\n",
       "    .dataframe thead th {\n",
       "        text-align: right;\n",
       "    }\n",
       "</style>\n",
       "<table border=\"1\" class=\"dataframe\">\n",
       "  <thead>\n",
       "    <tr style=\"text-align: right;\">\n",
       "      <th></th>\n",
       "      <th>battery_power</th>\n",
       "      <th>blue</th>\n",
       "      <th>clock_speed</th>\n",
       "      <th>dual_sim</th>\n",
       "      <th>fc</th>\n",
       "      <th>four_g</th>\n",
       "      <th>int_memory</th>\n",
       "      <th>m_dep</th>\n",
       "      <th>mobile_wt</th>\n",
       "      <th>n_cores</th>\n",
       "      <th>...</th>\n",
       "      <th>px_height</th>\n",
       "      <th>px_width</th>\n",
       "      <th>ram</th>\n",
       "      <th>sc_h</th>\n",
       "      <th>sc_w</th>\n",
       "      <th>talk_time</th>\n",
       "      <th>three_g</th>\n",
       "      <th>touch_screen</th>\n",
       "      <th>wifi</th>\n",
       "      <th>price_range</th>\n",
       "    </tr>\n",
       "  </thead>\n",
       "  <tbody>\n",
       "    <tr>\n",
       "      <th>0</th>\n",
       "      <td>842</td>\n",
       "      <td>0</td>\n",
       "      <td>2.2</td>\n",
       "      <td>0</td>\n",
       "      <td>1</td>\n",
       "      <td>0</td>\n",
       "      <td>7</td>\n",
       "      <td>0.6</td>\n",
       "      <td>188</td>\n",
       "      <td>2</td>\n",
       "      <td>...</td>\n",
       "      <td>20</td>\n",
       "      <td>756</td>\n",
       "      <td>2549</td>\n",
       "      <td>9</td>\n",
       "      <td>7</td>\n",
       "      <td>19</td>\n",
       "      <td>0</td>\n",
       "      <td>0</td>\n",
       "      <td>1</td>\n",
       "      <td>1</td>\n",
       "    </tr>\n",
       "    <tr>\n",
       "      <th>1</th>\n",
       "      <td>1021</td>\n",
       "      <td>1</td>\n",
       "      <td>0.5</td>\n",
       "      <td>1</td>\n",
       "      <td>0</td>\n",
       "      <td>1</td>\n",
       "      <td>53</td>\n",
       "      <td>0.7</td>\n",
       "      <td>136</td>\n",
       "      <td>3</td>\n",
       "      <td>...</td>\n",
       "      <td>905</td>\n",
       "      <td>1988</td>\n",
       "      <td>2631</td>\n",
       "      <td>17</td>\n",
       "      <td>3</td>\n",
       "      <td>7</td>\n",
       "      <td>1</td>\n",
       "      <td>1</td>\n",
       "      <td>0</td>\n",
       "      <td>2</td>\n",
       "    </tr>\n",
       "    <tr>\n",
       "      <th>2</th>\n",
       "      <td>563</td>\n",
       "      <td>1</td>\n",
       "      <td>0.5</td>\n",
       "      <td>1</td>\n",
       "      <td>2</td>\n",
       "      <td>1</td>\n",
       "      <td>41</td>\n",
       "      <td>0.9</td>\n",
       "      <td>145</td>\n",
       "      <td>5</td>\n",
       "      <td>...</td>\n",
       "      <td>1263</td>\n",
       "      <td>1716</td>\n",
       "      <td>2603</td>\n",
       "      <td>11</td>\n",
       "      <td>2</td>\n",
       "      <td>9</td>\n",
       "      <td>1</td>\n",
       "      <td>1</td>\n",
       "      <td>0</td>\n",
       "      <td>2</td>\n",
       "    </tr>\n",
       "    <tr>\n",
       "      <th>3</th>\n",
       "      <td>615</td>\n",
       "      <td>1</td>\n",
       "      <td>2.5</td>\n",
       "      <td>0</td>\n",
       "      <td>0</td>\n",
       "      <td>0</td>\n",
       "      <td>10</td>\n",
       "      <td>0.8</td>\n",
       "      <td>131</td>\n",
       "      <td>6</td>\n",
       "      <td>...</td>\n",
       "      <td>1216</td>\n",
       "      <td>1786</td>\n",
       "      <td>2769</td>\n",
       "      <td>16</td>\n",
       "      <td>8</td>\n",
       "      <td>11</td>\n",
       "      <td>1</td>\n",
       "      <td>0</td>\n",
       "      <td>0</td>\n",
       "      <td>2</td>\n",
       "    </tr>\n",
       "    <tr>\n",
       "      <th>4</th>\n",
       "      <td>1821</td>\n",
       "      <td>1</td>\n",
       "      <td>1.2</td>\n",
       "      <td>0</td>\n",
       "      <td>13</td>\n",
       "      <td>1</td>\n",
       "      <td>44</td>\n",
       "      <td>0.6</td>\n",
       "      <td>141</td>\n",
       "      <td>2</td>\n",
       "      <td>...</td>\n",
       "      <td>1208</td>\n",
       "      <td>1212</td>\n",
       "      <td>1411</td>\n",
       "      <td>8</td>\n",
       "      <td>2</td>\n",
       "      <td>15</td>\n",
       "      <td>1</td>\n",
       "      <td>1</td>\n",
       "      <td>0</td>\n",
       "      <td>1</td>\n",
       "    </tr>\n",
       "  </tbody>\n",
       "</table>\n",
       "<p>5 rows × 21 columns</p>\n",
       "</div>"
      ],
      "text/plain": [
       "   battery_power  blue  clock_speed  dual_sim  fc  four_g  int_memory  m_dep  \\\n",
       "0            842     0          2.2         0   1       0           7    0.6   \n",
       "1           1021     1          0.5         1   0       1          53    0.7   \n",
       "2            563     1          0.5         1   2       1          41    0.9   \n",
       "3            615     1          2.5         0   0       0          10    0.8   \n",
       "4           1821     1          1.2         0  13       1          44    0.6   \n",
       "\n",
       "   mobile_wt  n_cores  ...  px_height  px_width   ram  sc_h  sc_w  talk_time  \\\n",
       "0        188        2  ...         20       756  2549     9     7         19   \n",
       "1        136        3  ...        905      1988  2631    17     3          7   \n",
       "2        145        5  ...       1263      1716  2603    11     2          9   \n",
       "3        131        6  ...       1216      1786  2769    16     8         11   \n",
       "4        141        2  ...       1208      1212  1411     8     2         15   \n",
       "\n",
       "   three_g  touch_screen  wifi  price_range  \n",
       "0        0             0     1            1  \n",
       "1        1             1     0            2  \n",
       "2        1             1     0            2  \n",
       "3        1             0     0            2  \n",
       "4        1             1     0            1  \n",
       "\n",
       "[5 rows x 21 columns]"
      ]
     },
     "execution_count": 7,
     "metadata": {},
     "output_type": "execute_result"
    }
   ],
   "source": [
    "train_data.head(5)"
   ]
  },
  {
   "cell_type": "code",
   "execution_count": 8,
   "id": "7b642581",
   "metadata": {
    "execution": {
     "iopub.execute_input": "2024-03-20T21:26:06.225384Z",
     "iopub.status.busy": "2024-03-20T21:26:06.224903Z",
     "iopub.status.idle": "2024-03-20T21:26:06.236424Z",
     "shell.execute_reply": "2024-03-20T21:26:06.235115Z"
    },
    "papermill": {
     "duration": 0.029312,
     "end_time": "2024-03-20T21:26:06.239151",
     "exception": false,
     "start_time": "2024-03-20T21:26:06.209839",
     "status": "completed"
    },
    "tags": []
   },
   "outputs": [
    {
     "data": {
      "text/plain": [
       "price_range\n",
       "1    500\n",
       "2    500\n",
       "3    500\n",
       "0    500\n",
       "Name: count, dtype: int64"
      ]
     },
     "execution_count": 8,
     "metadata": {},
     "output_type": "execute_result"
    }
   ],
   "source": [
    "train_data.price_range.value_counts()"
   ]
  },
  {
   "cell_type": "code",
   "execution_count": 9,
   "id": "ddf8ba6f",
   "metadata": {
    "execution": {
     "iopub.execute_input": "2024-03-20T21:26:06.276578Z",
     "iopub.status.busy": "2024-03-20T21:26:06.275350Z",
     "iopub.status.idle": "2024-03-20T21:26:06.288100Z",
     "shell.execute_reply": "2024-03-20T21:26:06.286469Z"
    },
    "papermill": {
     "duration": 0.038128,
     "end_time": "2024-03-20T21:26:06.292017",
     "exception": false,
     "start_time": "2024-03-20T21:26:06.253889",
     "status": "completed"
    },
    "tags": []
   },
   "outputs": [
    {
     "data": {
      "text/plain": [
       "battery_power    0\n",
       "blue             0\n",
       "clock_speed      0\n",
       "dual_sim         0\n",
       "fc               0\n",
       "four_g           0\n",
       "int_memory       0\n",
       "m_dep            0\n",
       "mobile_wt        0\n",
       "n_cores          0\n",
       "pc               0\n",
       "px_height        0\n",
       "px_width         0\n",
       "ram              0\n",
       "sc_h             0\n",
       "sc_w             0\n",
       "talk_time        0\n",
       "three_g          0\n",
       "touch_screen     0\n",
       "wifi             0\n",
       "price_range      0\n",
       "dtype: int64"
      ]
     },
     "execution_count": 9,
     "metadata": {},
     "output_type": "execute_result"
    }
   ],
   "source": [
    "train_data.isnull().sum()"
   ]
  },
  {
   "cell_type": "code",
   "execution_count": 10,
   "id": "915a3fd9",
   "metadata": {
    "execution": {
     "iopub.execute_input": "2024-03-20T21:26:06.333720Z",
     "iopub.status.busy": "2024-03-20T21:26:06.332924Z",
     "iopub.status.idle": "2024-03-20T21:26:06.342687Z",
     "shell.execute_reply": "2024-03-20T21:26:06.341330Z"
    },
    "papermill": {
     "duration": 0.034553,
     "end_time": "2024-03-20T21:26:06.345937",
     "exception": false,
     "start_time": "2024-03-20T21:26:06.311384",
     "status": "completed"
    },
    "tags": []
   },
   "outputs": [
    {
     "data": {
      "text/plain": [
       "array([ 2,  6,  9, 14,  7, 10,  0, 15,  1, 18, 17, 11, 16,  4, 20, 13,  3,\n",
       "       19,  8,  5, 12])"
      ]
     },
     "execution_count": 10,
     "metadata": {},
     "output_type": "execute_result"
    }
   ],
   "source": [
    "train_data.pc.unique()"
   ]
  },
  {
   "cell_type": "code",
   "execution_count": 11,
   "id": "2428212c",
   "metadata": {
    "execution": {
     "iopub.execute_input": "2024-03-20T21:26:06.389062Z",
     "iopub.status.busy": "2024-03-20T21:26:06.388190Z",
     "iopub.status.idle": "2024-03-20T21:26:07.190669Z",
     "shell.execute_reply": "2024-03-20T21:26:07.189193Z"
    },
    "papermill": {
     "duration": 0.828125,
     "end_time": "2024-03-20T21:26:07.194231",
     "exception": false,
     "start_time": "2024-03-20T21:26:06.366106",
     "status": "completed"
    },
    "tags": []
   },
   "outputs": [
    {
     "data": {
      "image/png": "[encoded data removed]",
      "text/plain": [
       "<Figure size 1000x500 with 1 Axes>"
      ]
     },
     "metadata": {},
     "output_type": "display_data"
    }
   ],
   "source": [
    "plt.figure(figsize = (10,5))\n",
    "sns.countplot(data = train_data, x = 'pc', hue = 'price_range')\n",
    "plt.show()"
   ]
  },
  {
   "cell_type": "code",
   "execution_count": 12,
   "id": "6bc68c37",
   "metadata": {
    "execution": {
     "iopub.execute_input": "2024-03-20T21:26:07.234040Z",
     "iopub.status.busy": "2024-03-20T21:26:07.232832Z",
     "iopub.status.idle": "2024-03-20T21:26:07.244950Z",
     "shell.execute_reply": "2024-03-20T21:26:07.243162Z"
    },
    "papermill": {
     "duration": 0.031906,
     "end_time": "2024-03-20T21:26:07.247977",
     "exception": false,
     "start_time": "2024-03-20T21:26:07.216071",
     "status": "completed"
    },
    "tags": []
   },
   "outputs": [
    {
     "data": {
      "text/plain": [
       "array([2.2, 0.5, 2.5, 1.2, 1.7, 0.6, 2.9, 2.8, 2.1, 1. , 0.9, 1.1, 2.6,\n",
       "       1.4, 1.6, 2.7, 1.3, 2.3, 2. , 1.8, 3. , 1.5, 1.9, 2.4, 0.8, 0.7])"
      ]
     },
     "execution_count": 12,
     "metadata": {},
     "output_type": "execute_result"
    }
   ],
   "source": [
    "train_data.clock_speed.unique()"
   ]
  },
  {
   "cell_type": "code",
   "execution_count": 13,
   "id": "04fb75e9",
   "metadata": {
    "execution": {
     "iopub.execute_input": "2024-03-20T21:26:07.283042Z",
     "iopub.status.busy": "2024-03-20T21:26:07.282051Z",
     "iopub.status.idle": "2024-03-20T21:26:07.291821Z",
     "shell.execute_reply": "2024-03-20T21:26:07.290510Z"
    },
    "papermill": {
     "duration": 0.032456,
     "end_time": "2024-03-20T21:26:07.295023",
     "exception": false,
     "start_time": "2024-03-20T21:26:07.262567",
     "status": "completed"
    },
    "tags": []
   },
   "outputs": [
    {
     "data": {
      "text/plain": [
       "array([2549, 2631, 2603, ..., 2032, 3057, 3919])"
      ]
     },
     "execution_count": 13,
     "metadata": {},
     "output_type": "execute_result"
    }
   ],
   "source": [
    "train_data.ram.unique()"
   ]
  },
  {
   "cell_type": "code",
   "execution_count": 14,
   "id": "f42a4c5b",
   "metadata": {
    "execution": {
     "iopub.execute_input": "2024-03-20T21:26:07.342476Z",
     "iopub.status.busy": "2024-03-20T21:26:07.341360Z",
     "iopub.status.idle": "2024-03-20T21:26:07.350692Z",
     "shell.execute_reply": "2024-03-20T21:26:07.348895Z"
    },
    "papermill": {
     "duration": 0.035726,
     "end_time": "2024-03-20T21:26:07.354322",
     "exception": false,
     "start_time": "2024-03-20T21:26:07.318596",
     "status": "completed"
    },
    "tags": []
   },
   "outputs": [
    {
     "data": {
      "text/plain": [
       "array([0, 1])"
      ]
     },
     "execution_count": 14,
     "metadata": {},
     "output_type": "execute_result"
    }
   ],
   "source": [
    "train_data.three_g.unique()"
   ]
  },
  {
   "cell_type": "code",
   "execution_count": 15,
   "id": "5b12304e",
   "metadata": {
    "execution": {
     "iopub.execute_input": "2024-03-20T21:26:07.390580Z",
     "iopub.status.busy": "2024-03-20T21:26:07.390100Z",
     "iopub.status.idle": "2024-03-20T21:26:07.684856Z",
     "shell.execute_reply": "2024-03-20T21:26:07.683491Z"
    },
    "papermill": {
     "duration": 0.313833,
     "end_time": "2024-03-20T21:26:07.687434",
     "exception": false,
     "start_time": "2024-03-20T21:26:07.373601",
     "status": "completed"
    },
    "tags": []
   },
   "outputs": [
    {
     "data": {
      "image/png": "[encoded data removed]",
      "text/plain": [
       "<Figure size 500x500 with 1 Axes>"
      ]
     },
     "metadata": {},
     "output_type": "display_data"
    }
   ],
   "source": [
    "plt.figure(figsize = (5,5))\n",
    "sns.countplot(data = train_data, x = 'three_g', hue = 'price_range')\n",
    "plt.show()"
   ]
  },
  {
   "cell_type": "code",
   "execution_count": 16,
   "id": "67c797d3",
   "metadata": {
    "execution": {
     "iopub.execute_input": "2024-03-20T21:26:07.720949Z",
     "iopub.status.busy": "2024-03-20T21:26:07.720497Z",
     "iopub.status.idle": "2024-03-20T21:26:07.769026Z",
     "shell.execute_reply": "2024-03-20T21:26:07.767854Z"
    },
    "papermill": {
     "duration": 0.069088,
     "end_time": "2024-03-20T21:26:07.771823",
     "exception": false,
     "start_time": "2024-03-20T21:26:07.702735",
     "status": "completed"
    },
    "tags": []
   },
   "outputs": [
    {
     "data": {
      "text/html": [
       "<div>\n",
       "<style scoped>\n",
       "    .dataframe tbody tr th:only-of-type {\n",
       "        vertical-align: middle;\n",
       "    }\n",
       "\n",
       "    .dataframe tbody tr th {\n",
       "        vertical-align: top;\n",
       "    }\n",
       "\n",
       "    .dataframe thead th {\n",
       "        text-align: right;\n",
       "    }\n",
       "</style>\n",
       "<table border=\"1\" class=\"dataframe\">\n",
       "  <thead>\n",
       "    <tr style=\"text-align: right;\">\n",
       "      <th></th>\n",
       "      <th>battery_power</th>\n",
       "      <th>blue</th>\n",
       "      <th>clock_speed</th>\n",
       "      <th>dual_sim</th>\n",
       "      <th>fc</th>\n",
       "      <th>four_g</th>\n",
       "      <th>int_memory</th>\n",
       "      <th>m_dep</th>\n",
       "      <th>mobile_wt</th>\n",
       "      <th>n_cores</th>\n",
       "      <th>...</th>\n",
       "      <th>px_height</th>\n",
       "      <th>px_width</th>\n",
       "      <th>ram</th>\n",
       "      <th>sc_h</th>\n",
       "      <th>sc_w</th>\n",
       "      <th>talk_time</th>\n",
       "      <th>three_g</th>\n",
       "      <th>touch_screen</th>\n",
       "      <th>wifi</th>\n",
       "      <th>price_range</th>\n",
       "    </tr>\n",
       "  </thead>\n",
       "  <tbody>\n",
       "    <tr>\n",
       "      <th>battery_power</th>\n",
       "      <td>1.000000</td>\n",
       "      <td>0.011252</td>\n",
       "      <td>0.011482</td>\n",
       "      <td>-0.041847</td>\n",
       "      <td>0.033334</td>\n",
       "      <td>0.015665</td>\n",
       "      <td>-0.004004</td>\n",
       "      <td>0.034085</td>\n",
       "      <td>0.001844</td>\n",
       "      <td>-0.029727</td>\n",
       "      <td>...</td>\n",
       "      <td>0.014901</td>\n",
       "      <td>-0.008402</td>\n",
       "      <td>-0.000653</td>\n",
       "      <td>-0.029959</td>\n",
       "      <td>-0.021421</td>\n",
       "      <td>0.052510</td>\n",
       "      <td>0.011522</td>\n",
       "      <td>-0.010516</td>\n",
       "      <td>-0.008343</td>\n",
       "      <td>0.200723</td>\n",
       "    </tr>\n",
       "    <tr>\n",
       "      <th>blue</th>\n",
       "      <td>0.011252</td>\n",
       "      <td>1.000000</td>\n",
       "      <td>0.021419</td>\n",
       "      <td>0.035198</td>\n",
       "      <td>0.003593</td>\n",
       "      <td>0.013443</td>\n",
       "      <td>0.041177</td>\n",
       "      <td>0.004049</td>\n",
       "      <td>-0.008605</td>\n",
       "      <td>0.036161</td>\n",
       "      <td>...</td>\n",
       "      <td>-0.006872</td>\n",
       "      <td>-0.041533</td>\n",
       "      <td>0.026351</td>\n",
       "      <td>-0.002952</td>\n",
       "      <td>0.000613</td>\n",
       "      <td>0.013934</td>\n",
       "      <td>-0.030236</td>\n",
       "      <td>0.010061</td>\n",
       "      <td>-0.021863</td>\n",
       "      <td>0.020573</td>\n",
       "    </tr>\n",
       "    <tr>\n",
       "      <th>clock_speed</th>\n",
       "      <td>0.011482</td>\n",
       "      <td>0.021419</td>\n",
       "      <td>1.000000</td>\n",
       "      <td>-0.001315</td>\n",
       "      <td>-0.000434</td>\n",
       "      <td>-0.043073</td>\n",
       "      <td>0.006545</td>\n",
       "      <td>-0.014364</td>\n",
       "      <td>0.012350</td>\n",
       "      <td>-0.005724</td>\n",
       "      <td>...</td>\n",
       "      <td>-0.014523</td>\n",
       "      <td>-0.009476</td>\n",
       "      <td>0.003443</td>\n",
       "      <td>-0.029078</td>\n",
       "      <td>-0.007378</td>\n",
       "      <td>-0.011432</td>\n",
       "      <td>-0.046433</td>\n",
       "      <td>0.019756</td>\n",
       "      <td>-0.024471</td>\n",
       "      <td>-0.006606</td>\n",
       "    </tr>\n",
       "    <tr>\n",
       "      <th>dual_sim</th>\n",
       "      <td>-0.041847</td>\n",
       "      <td>0.035198</td>\n",
       "      <td>-0.001315</td>\n",
       "      <td>1.000000</td>\n",
       "      <td>-0.029123</td>\n",
       "      <td>0.003187</td>\n",
       "      <td>-0.015679</td>\n",
       "      <td>-0.022142</td>\n",
       "      <td>-0.008979</td>\n",
       "      <td>-0.024658</td>\n",
       "      <td>...</td>\n",
       "      <td>-0.020875</td>\n",
       "      <td>0.014291</td>\n",
       "      <td>0.041072</td>\n",
       "      <td>-0.011949</td>\n",
       "      <td>-0.016666</td>\n",
       "      <td>-0.039404</td>\n",
       "      <td>-0.014008</td>\n",
       "      <td>-0.017117</td>\n",
       "      <td>0.022740</td>\n",
       "      <td>0.017444</td>\n",
       "    </tr>\n",
       "    <tr>\n",
       "      <th>fc</th>\n",
       "      <td>0.033334</td>\n",
       "      <td>0.003593</td>\n",
       "      <td>-0.000434</td>\n",
       "      <td>-0.029123</td>\n",
       "      <td>1.000000</td>\n",
       "      <td>-0.016560</td>\n",
       "      <td>-0.029133</td>\n",
       "      <td>-0.001791</td>\n",
       "      <td>0.023618</td>\n",
       "      <td>-0.013356</td>\n",
       "      <td>...</td>\n",
       "      <td>-0.009990</td>\n",
       "      <td>-0.005176</td>\n",
       "      <td>0.015099</td>\n",
       "      <td>-0.011014</td>\n",
       "      <td>-0.012373</td>\n",
       "      <td>-0.006829</td>\n",
       "      <td>0.001793</td>\n",
       "      <td>-0.014828</td>\n",
       "      <td>0.020085</td>\n",
       "      <td>0.021998</td>\n",
       "    </tr>\n",
       "    <tr>\n",
       "      <th>four_g</th>\n",
       "      <td>0.015665</td>\n",
       "      <td>0.013443</td>\n",
       "      <td>-0.043073</td>\n",
       "      <td>0.003187</td>\n",
       "      <td>-0.016560</td>\n",
       "      <td>1.000000</td>\n",
       "      <td>0.008690</td>\n",
       "      <td>-0.001823</td>\n",
       "      <td>-0.016537</td>\n",
       "      <td>-0.029706</td>\n",
       "      <td>...</td>\n",
       "      <td>-0.019236</td>\n",
       "      <td>0.007448</td>\n",
       "      <td>0.007313</td>\n",
       "      <td>0.027166</td>\n",
       "      <td>0.037005</td>\n",
       "      <td>-0.046628</td>\n",
       "      <td>0.584246</td>\n",
       "      <td>0.016758</td>\n",
       "      <td>-0.017620</td>\n",
       "      <td>0.014772</td>\n",
       "    </tr>\n",
       "    <tr>\n",
       "      <th>int_memory</th>\n",
       "      <td>-0.004004</td>\n",
       "      <td>0.041177</td>\n",
       "      <td>0.006545</td>\n",
       "      <td>-0.015679</td>\n",
       "      <td>-0.029133</td>\n",
       "      <td>0.008690</td>\n",
       "      <td>1.000000</td>\n",
       "      <td>0.006886</td>\n",
       "      <td>-0.034214</td>\n",
       "      <td>-0.028310</td>\n",
       "      <td>...</td>\n",
       "      <td>0.010441</td>\n",
       "      <td>-0.008335</td>\n",
       "      <td>0.032813</td>\n",
       "      <td>0.037771</td>\n",
       "      <td>0.011731</td>\n",
       "      <td>-0.002790</td>\n",
       "      <td>-0.009366</td>\n",
       "      <td>-0.026999</td>\n",
       "      <td>0.006993</td>\n",
       "      <td>0.044435</td>\n",
       "    </tr>\n",
       "    <tr>\n",
       "      <th>m_dep</th>\n",
       "      <td>0.034085</td>\n",
       "      <td>0.004049</td>\n",
       "      <td>-0.014364</td>\n",
       "      <td>-0.022142</td>\n",
       "      <td>-0.001791</td>\n",
       "      <td>-0.001823</td>\n",
       "      <td>0.006886</td>\n",
       "      <td>1.000000</td>\n",
       "      <td>0.021756</td>\n",
       "      <td>-0.003504</td>\n",
       "      <td>...</td>\n",
       "      <td>0.025263</td>\n",
       "      <td>0.023566</td>\n",
       "      <td>-0.009434</td>\n",
       "      <td>-0.025348</td>\n",
       "      <td>-0.018388</td>\n",
       "      <td>0.017003</td>\n",
       "      <td>-0.012065</td>\n",
       "      <td>-0.002638</td>\n",
       "      <td>-0.028353</td>\n",
       "      <td>0.000853</td>\n",
       "    </tr>\n",
       "    <tr>\n",
       "      <th>mobile_wt</th>\n",
       "      <td>0.001844</td>\n",
       "      <td>-0.008605</td>\n",
       "      <td>0.012350</td>\n",
       "      <td>-0.008979</td>\n",
       "      <td>0.023618</td>\n",
       "      <td>-0.016537</td>\n",
       "      <td>-0.034214</td>\n",
       "      <td>0.021756</td>\n",
       "      <td>1.000000</td>\n",
       "      <td>-0.018989</td>\n",
       "      <td>...</td>\n",
       "      <td>0.000939</td>\n",
       "      <td>0.000090</td>\n",
       "      <td>-0.002581</td>\n",
       "      <td>-0.033855</td>\n",
       "      <td>-0.020761</td>\n",
       "      <td>0.006209</td>\n",
       "      <td>0.001551</td>\n",
       "      <td>-0.014368</td>\n",
       "      <td>-0.000409</td>\n",
       "      <td>-0.030302</td>\n",
       "    </tr>\n",
       "    <tr>\n",
       "      <th>n_cores</th>\n",
       "      <td>-0.029727</td>\n",
       "      <td>0.036161</td>\n",
       "      <td>-0.005724</td>\n",
       "      <td>-0.024658</td>\n",
       "      <td>-0.013356</td>\n",
       "      <td>-0.029706</td>\n",
       "      <td>-0.028310</td>\n",
       "      <td>-0.003504</td>\n",
       "      <td>-0.018989</td>\n",
       "      <td>1.000000</td>\n",
       "      <td>...</td>\n",
       "      <td>-0.006872</td>\n",
       "      <td>0.024480</td>\n",
       "      <td>0.004868</td>\n",
       "      <td>-0.000315</td>\n",
       "      <td>0.025826</td>\n",
       "      <td>0.013148</td>\n",
       "      <td>-0.014733</td>\n",
       "      <td>0.023774</td>\n",
       "      <td>-0.009964</td>\n",
       "      <td>0.004399</td>\n",
       "    </tr>\n",
       "    <tr>\n",
       "      <th>pc</th>\n",
       "      <td>0.031441</td>\n",
       "      <td>-0.009952</td>\n",
       "      <td>-0.005245</td>\n",
       "      <td>-0.017143</td>\n",
       "      <td>0.644595</td>\n",
       "      <td>-0.005598</td>\n",
       "      <td>-0.033273</td>\n",
       "      <td>0.026282</td>\n",
       "      <td>0.018844</td>\n",
       "      <td>-0.001193</td>\n",
       "      <td>...</td>\n",
       "      <td>-0.018465</td>\n",
       "      <td>0.004196</td>\n",
       "      <td>0.028984</td>\n",
       "      <td>0.004938</td>\n",
       "      <td>-0.023819</td>\n",
       "      <td>0.014657</td>\n",
       "      <td>-0.001322</td>\n",
       "      <td>-0.008742</td>\n",
       "      <td>0.005389</td>\n",
       "      <td>0.033599</td>\n",
       "    </tr>\n",
       "    <tr>\n",
       "      <th>px_height</th>\n",
       "      <td>0.014901</td>\n",
       "      <td>-0.006872</td>\n",
       "      <td>-0.014523</td>\n",
       "      <td>-0.020875</td>\n",
       "      <td>-0.009990</td>\n",
       "      <td>-0.019236</td>\n",
       "      <td>0.010441</td>\n",
       "      <td>0.025263</td>\n",
       "      <td>0.000939</td>\n",
       "      <td>-0.006872</td>\n",
       "      <td>...</td>\n",
       "      <td>1.000000</td>\n",
       "      <td>0.510664</td>\n",
       "      <td>-0.020352</td>\n",
       "      <td>0.059615</td>\n",
       "      <td>0.043038</td>\n",
       "      <td>-0.010645</td>\n",
       "      <td>-0.031174</td>\n",
       "      <td>0.021891</td>\n",
       "      <td>0.051824</td>\n",
       "      <td>0.148858</td>\n",
       "    </tr>\n",
       "    <tr>\n",
       "      <th>px_width</th>\n",
       "      <td>-0.008402</td>\n",
       "      <td>-0.041533</td>\n",
       "      <td>-0.009476</td>\n",
       "      <td>0.014291</td>\n",
       "      <td>-0.005176</td>\n",
       "      <td>0.007448</td>\n",
       "      <td>-0.008335</td>\n",
       "      <td>0.023566</td>\n",
       "      <td>0.000090</td>\n",
       "      <td>0.024480</td>\n",
       "      <td>...</td>\n",
       "      <td>0.510664</td>\n",
       "      <td>1.000000</td>\n",
       "      <td>0.004105</td>\n",
       "      <td>0.021599</td>\n",
       "      <td>0.034699</td>\n",
       "      <td>0.006720</td>\n",
       "      <td>0.000350</td>\n",
       "      <td>-0.001628</td>\n",
       "      <td>0.030319</td>\n",
       "      <td>0.165818</td>\n",
       "    </tr>\n",
       "    <tr>\n",
       "      <th>ram</th>\n",
       "      <td>-0.000653</td>\n",
       "      <td>0.026351</td>\n",
       "      <td>0.003443</td>\n",
       "      <td>0.041072</td>\n",
       "      <td>0.015099</td>\n",
       "      <td>0.007313</td>\n",
       "      <td>0.032813</td>\n",
       "      <td>-0.009434</td>\n",
       "      <td>-0.002581</td>\n",
       "      <td>0.004868</td>\n",
       "      <td>...</td>\n",
       "      <td>-0.020352</td>\n",
       "      <td>0.004105</td>\n",
       "      <td>1.000000</td>\n",
       "      <td>0.015996</td>\n",
       "      <td>0.035576</td>\n",
       "      <td>0.010820</td>\n",
       "      <td>0.015795</td>\n",
       "      <td>-0.030455</td>\n",
       "      <td>0.022669</td>\n",
       "      <td>0.917046</td>\n",
       "    </tr>\n",
       "    <tr>\n",
       "      <th>sc_h</th>\n",
       "      <td>-0.029959</td>\n",
       "      <td>-0.002952</td>\n",
       "      <td>-0.029078</td>\n",
       "      <td>-0.011949</td>\n",
       "      <td>-0.011014</td>\n",
       "      <td>0.027166</td>\n",
       "      <td>0.037771</td>\n",
       "      <td>-0.025348</td>\n",
       "      <td>-0.033855</td>\n",
       "      <td>-0.000315</td>\n",
       "      <td>...</td>\n",
       "      <td>0.059615</td>\n",
       "      <td>0.021599</td>\n",
       "      <td>0.015996</td>\n",
       "      <td>1.000000</td>\n",
       "      <td>0.506144</td>\n",
       "      <td>-0.017335</td>\n",
       "      <td>0.012033</td>\n",
       "      <td>-0.020023</td>\n",
       "      <td>0.025929</td>\n",
       "      <td>0.022986</td>\n",
       "    </tr>\n",
       "    <tr>\n",
       "      <th>sc_w</th>\n",
       "      <td>-0.021421</td>\n",
       "      <td>0.000613</td>\n",
       "      <td>-0.007378</td>\n",
       "      <td>-0.016666</td>\n",
       "      <td>-0.012373</td>\n",
       "      <td>0.037005</td>\n",
       "      <td>0.011731</td>\n",
       "      <td>-0.018388</td>\n",
       "      <td>-0.020761</td>\n",
       "      <td>0.025826</td>\n",
       "      <td>...</td>\n",
       "      <td>0.043038</td>\n",
       "      <td>0.034699</td>\n",
       "      <td>0.035576</td>\n",
       "      <td>0.506144</td>\n",
       "      <td>1.000000</td>\n",
       "      <td>-0.022821</td>\n",
       "      <td>0.030941</td>\n",
       "      <td>0.012720</td>\n",
       "      <td>0.035423</td>\n",
       "      <td>0.038711</td>\n",
       "    </tr>\n",
       "    <tr>\n",
       "      <th>talk_time</th>\n",
       "      <td>0.052510</td>\n",
       "      <td>0.013934</td>\n",
       "      <td>-0.011432</td>\n",
       "      <td>-0.039404</td>\n",
       "      <td>-0.006829</td>\n",
       "      <td>-0.046628</td>\n",
       "      <td>-0.002790</td>\n",
       "      <td>0.017003</td>\n",
       "      <td>0.006209</td>\n",
       "      <td>0.013148</td>\n",
       "      <td>...</td>\n",
       "      <td>-0.010645</td>\n",
       "      <td>0.006720</td>\n",
       "      <td>0.010820</td>\n",
       "      <td>-0.017335</td>\n",
       "      <td>-0.022821</td>\n",
       "      <td>1.000000</td>\n",
       "      <td>-0.042688</td>\n",
       "      <td>0.017196</td>\n",
       "      <td>-0.029504</td>\n",
       "      <td>0.021859</td>\n",
       "    </tr>\n",
       "    <tr>\n",
       "      <th>three_g</th>\n",
       "      <td>0.011522</td>\n",
       "      <td>-0.030236</td>\n",
       "      <td>-0.046433</td>\n",
       "      <td>-0.014008</td>\n",
       "      <td>0.001793</td>\n",
       "      <td>0.584246</td>\n",
       "      <td>-0.009366</td>\n",
       "      <td>-0.012065</td>\n",
       "      <td>0.001551</td>\n",
       "      <td>-0.014733</td>\n",
       "      <td>...</td>\n",
       "      <td>-0.031174</td>\n",
       "      <td>0.000350</td>\n",
       "      <td>0.015795</td>\n",
       "      <td>0.012033</td>\n",
       "      <td>0.030941</td>\n",
       "      <td>-0.042688</td>\n",
       "      <td>1.000000</td>\n",
       "      <td>0.013917</td>\n",
       "      <td>0.004316</td>\n",
       "      <td>0.023611</td>\n",
       "    </tr>\n",
       "    <tr>\n",
       "      <th>touch_screen</th>\n",
       "      <td>-0.010516</td>\n",
       "      <td>0.010061</td>\n",
       "      <td>0.019756</td>\n",
       "      <td>-0.017117</td>\n",
       "      <td>-0.014828</td>\n",
       "      <td>0.016758</td>\n",
       "      <td>-0.026999</td>\n",
       "      <td>-0.002638</td>\n",
       "      <td>-0.014368</td>\n",
       "      <td>0.023774</td>\n",
       "      <td>...</td>\n",
       "      <td>0.021891</td>\n",
       "      <td>-0.001628</td>\n",
       "      <td>-0.030455</td>\n",
       "      <td>-0.020023</td>\n",
       "      <td>0.012720</td>\n",
       "      <td>0.017196</td>\n",
       "      <td>0.013917</td>\n",
       "      <td>1.000000</td>\n",
       "      <td>0.011917</td>\n",
       "      <td>-0.030411</td>\n",
       "    </tr>\n",
       "    <tr>\n",
       "      <th>wifi</th>\n",
       "      <td>-0.008343</td>\n",
       "      <td>-0.021863</td>\n",
       "      <td>-0.024471</td>\n",
       "      <td>0.022740</td>\n",
       "      <td>0.020085</td>\n",
       "      <td>-0.017620</td>\n",
       "      <td>0.006993</td>\n",
       "      <td>-0.028353</td>\n",
       "      <td>-0.000409</td>\n",
       "      <td>-0.009964</td>\n",
       "      <td>...</td>\n",
       "      <td>0.051824</td>\n",
       "      <td>0.030319</td>\n",
       "      <td>0.022669</td>\n",
       "      <td>0.025929</td>\n",
       "      <td>0.035423</td>\n",
       "      <td>-0.029504</td>\n",
       "      <td>0.004316</td>\n",
       "      <td>0.011917</td>\n",
       "      <td>1.000000</td>\n",
       "      <td>0.018785</td>\n",
       "    </tr>\n",
       "    <tr>\n",
       "      <th>price_range</th>\n",
       "      <td>0.200723</td>\n",
       "      <td>0.020573</td>\n",
       "      <td>-0.006606</td>\n",
       "      <td>0.017444</td>\n",
       "      <td>0.021998</td>\n",
       "      <td>0.014772</td>\n",
       "      <td>0.044435</td>\n",
       "      <td>0.000853</td>\n",
       "      <td>-0.030302</td>\n",
       "      <td>0.004399</td>\n",
       "      <td>...</td>\n",
       "      <td>0.148858</td>\n",
       "      <td>0.165818</td>\n",
       "      <td>0.917046</td>\n",
       "      <td>0.022986</td>\n",
       "      <td>0.038711</td>\n",
       "      <td>0.021859</td>\n",
       "      <td>0.023611</td>\n",
       "      <td>-0.030411</td>\n",
       "      <td>0.018785</td>\n",
       "      <td>1.000000</td>\n",
       "    </tr>\n",
       "  </tbody>\n",
       "</table>\n",
       "<p>21 rows × 21 columns</p>\n",
       "</div>"
      ],
      "text/plain": [
       "               battery_power      blue  clock_speed  dual_sim        fc  \\\n",
       "battery_power       1.000000  0.011252     0.011482 -0.041847  0.033334   \n",
       "blue                0.011252  1.000000     0.021419  0.035198  0.003593   \n",
       "clock_speed         0.011482  0.021419     1.000000 -0.001315 -0.000434   \n",
       "dual_sim           -0.041847  0.035198    -0.001315  1.000000 -0.029123   \n",
       "fc                  0.033334  0.003593    -0.000434 -0.029123  1.000000   \n",
       "four_g              0.015665  0.013443    -0.043073  0.003187 -0.016560   \n",
       "int_memory         -0.004004  0.041177     0.006545 -0.015679 -0.029133   \n",
       "m_dep               0.034085  0.004049    -0.014364 -0.022142 -0.001791   \n",
       "mobile_wt           0.001844 -0.008605     0.012350 -0.008979  0.023618   \n",
       "n_cores            -0.029727  0.036161    -0.005724 -0.024658 -0.013356   \n",
       "pc                  0.031441 -0.009952    -0.005245 -0.017143  0.644595   \n",
       "px_height           0.014901 -0.006872    -0.014523 -0.020875 -0.009990   \n",
       "px_width           -0.008402 -0.041533    -0.009476  0.014291 -0.005176   \n",
       "ram                -0.000653  0.026351     0.003443  0.041072  0.015099   \n",
       "sc_h               -0.029959 -0.002952    -0.029078 -0.011949 -0.011014   \n",
       "sc_w               -0.021421  0.000613    -0.007378 -0.016666 -0.012373   \n",
       "talk_time           0.052510  0.013934    -0.011432 -0.039404 -0.006829   \n",
       "three_g             0.011522 -0.030236    -0.046433 -0.014008  0.001793   \n",
       "touch_screen       -0.010516  0.010061     0.019756 -0.017117 -0.014828   \n",
       "wifi               -0.008343 -0.021863    -0.024471  0.022740  0.020085   \n",
       "price_range         0.200723  0.020573    -0.006606  0.017444  0.021998   \n",
       "\n",
       "                 four_g  int_memory     m_dep  mobile_wt   n_cores  ...  \\\n",
       "battery_power  0.015665   -0.004004  0.034085   0.001844 -0.029727  ...   \n",
       "blue           0.013443    0.041177  0.004049  -0.008605  0.036161  ...   \n",
       "clock_speed   -0.043073    0.006545 -0.014364   0.012350 -0.005724  ...   \n",
       "dual_sim       0.003187   -0.015679 -0.022142  -0.008979 -0.024658  ...   \n",
       "fc            -0.016560   -0.029133 -0.001791   0.023618 -0.013356  ...   \n",
       "four_g         1.000000    0.008690 -0.001823  -0.016537 -0.029706  ...   \n",
       "int_memory     0.008690    1.000000  0.006886  -0.034214 -0.028310  ...   \n",
       "m_dep         -0.001823    0.006886  1.000000   0.021756 -0.003504  ...   \n",
       "mobile_wt     -0.016537   -0.034214  0.021756   1.000000 -0.018989  ...   \n",
       "n_cores       -0.029706   -0.028310 -0.003504  -0.018989  1.000000  ...   \n",
       "pc            -0.005598   -0.033273  0.026282   0.018844 -0.001193  ...   \n",
       "px_height     -0.019236    0.010441  0.025263   0.000939 -0.006872  ...   \n",
       "px_width       0.007448   -0.008335  0.023566   0.000090  0.024480  ...   \n",
       "ram            0.007313    0.032813 -0.009434  -0.002581  0.004868  ...   \n",
       "sc_h           0.027166    0.037771 -0.025348  -0.033855 -0.000315  ...   \n",
       "sc_w           0.037005    0.011731 -0.018388  -0.020761  0.025826  ...   \n",
       "talk_time     -0.046628   -0.002790  0.017003   0.006209  0.013148  ...   \n",
       "three_g        0.584246   -0.009366 -0.012065   0.001551 -0.014733  ...   \n",
       "touch_screen   0.016758   -0.026999 -0.002638  -0.014368  0.023774  ...   \n",
       "wifi          -0.017620    0.006993 -0.028353  -0.000409 -0.009964  ...   \n",
       "price_range    0.014772    0.044435  0.000853  -0.030302  0.004399  ...   \n",
       "\n",
       "               px_height  px_width       ram      sc_h      sc_w  talk_time  \\\n",
       "battery_power   0.014901 -0.008402 -0.000653 -0.029959 -0.021421   0.052510   \n",
       "blue           -0.006872 -0.041533  0.026351 -0.002952  0.000613   0.013934   \n",
       "clock_speed    -0.014523 -0.009476  0.003443 -0.029078 -0.007378  -0.011432   \n",
       "dual_sim       -0.020875  0.014291  0.041072 -0.011949 -0.016666  -0.039404   \n",
       "fc             -0.009990 -0.005176  0.015099 -0.011014 -0.012373  -0.006829   \n",
       "four_g         -0.019236  0.007448  0.007313  0.027166  0.037005  -0.046628   \n",
       "int_memory      0.010441 -0.008335  0.032813  0.037771  0.011731  -0.002790   \n",
       "m_dep           0.025263  0.023566 -0.009434 -0.025348 -0.018388   0.017003   \n",
       "mobile_wt       0.000939  0.000090 -0.002581 -0.033855 -0.020761   0.006209   \n",
       "n_cores        -0.006872  0.024480  0.004868 -0.000315  0.025826   0.013148   \n",
       "pc             -0.018465  0.004196  0.028984  0.004938 -0.023819   0.014657   \n",
       "px_height       1.000000  0.510664 -0.020352  0.059615  0.043038  -0.010645   \n",
       "px_width        0.510664  1.000000  0.004105  0.021599  0.034699   0.006720   \n",
       "ram            -0.020352  0.004105  1.000000  0.015996  0.035576   0.010820   \n",
       "sc_h            0.059615  0.021599  0.015996  1.000000  0.506144  -0.017335   \n",
       "sc_w            0.043038  0.034699  0.035576  0.506144  1.000000  -0.022821   \n",
       "talk_time      -0.010645  0.006720  0.010820 -0.017335 -0.022821   1.000000   \n",
       "three_g        -0.031174  0.000350  0.015795  0.012033  0.030941  -0.042688   \n",
       "touch_screen    0.021891 -0.001628 -0.030455 -0.020023  0.012720   0.017196   \n",
       "wifi            0.051824  0.030319  0.022669  0.025929  0.035423  -0.029504   \n",
       "price_range     0.148858  0.165818  0.917046  0.022986  0.038711   0.021859   \n",
       "\n",
       "                three_g  touch_screen      wifi  price_range  \n",
       "battery_power  0.011522     -0.010516 -0.008343     0.200723  \n",
       "blue          -0.030236      0.010061 -0.021863     0.020573  \n",
       "clock_speed   -0.046433      0.019756 -0.024471    -0.006606  \n",
       "dual_sim      -0.014008     -0.017117  0.022740     0.017444  \n",
       "fc             0.001793     -0.014828  0.020085     0.021998  \n",
       "four_g         0.584246      0.016758 -0.017620     0.014772  \n",
       "int_memory    -0.009366     -0.026999  0.006993     0.044435  \n",
       "m_dep         -0.012065     -0.002638 -0.028353     0.000853  \n",
       "mobile_wt      0.001551     -0.014368 -0.000409    -0.030302  \n",
       "n_cores       -0.014733      0.023774 -0.009964     0.004399  \n",
       "pc            -0.001322     -0.008742  0.005389     0.033599  \n",
       "px_height     -0.031174      0.021891  0.051824     0.148858  \n",
       "px_width       0.000350     -0.001628  0.030319     0.165818  \n",
       "ram            0.015795     -0.030455  0.022669     0.917046  \n",
       "sc_h           0.012033     -0.020023  0.025929     0.022986  \n",
       "sc_w           0.030941      0.012720  0.035423     0.038711  \n",
       "talk_time     -0.042688      0.017196 -0.029504     0.021859  \n",
       "three_g        1.000000      0.013917  0.004316     0.023611  \n",
       "touch_screen   0.013917      1.000000  0.011917    -0.030411  \n",
       "wifi           0.004316      0.011917  1.000000     0.018785  \n",
       "price_range    0.023611     -0.030411  0.018785     1.000000  \n",
       "\n",
       "[21 rows x 21 columns]"
      ]
     },
     "execution_count": 16,
     "metadata": {},
     "output_type": "execute_result"
    }
   ],
   "source": [
    "train_data.corr()"
   ]
  },
  {
   "cell_type": "code",
   "execution_count": 17,
   "id": "cf7f912d",
   "metadata": {
    "execution": {
     "iopub.execute_input": "2024-03-20T21:26:07.812199Z",
     "iopub.status.busy": "2024-03-20T21:26:07.810927Z",
     "iopub.status.idle": "2024-03-20T21:26:08.514533Z",
     "shell.execute_reply": "2024-03-20T21:26:08.513501Z"
    },
    "papermill": {
     "duration": 0.725142,
     "end_time": "2024-03-20T21:26:08.517101",
     "exception": false,
     "start_time": "2024-03-20T21:26:07.791959",
     "status": "completed"
    },
    "tags": []
   },
   "outputs": [
    {
     "data": {
      "text/plain": [
       "<Axes: >"
      ]
     },
     "execution_count": 17,
     "metadata": {},
     "output_type": "execute_result"
    },
    {
     "data": {
      "image/png": "[encoded data removed]",
      "text/plain": [
       "<Figure size 640x480 with 2 Axes>"
      ]
     },
     "metadata": {},
     "output_type": "display_data"
    }
   ],
   "source": [
    "sns.heatmap(train_data.corr(), cmap=\"YlGnBu\")"
   ]
  },
  {
   "cell_type": "code",
   "execution_count": 18,
   "id": "62f55d0f",
   "metadata": {
    "execution": {
     "iopub.execute_input": "2024-03-20T21:26:08.553964Z",
     "iopub.status.busy": "2024-03-20T21:26:08.553541Z",
     "iopub.status.idle": "2024-03-20T21:26:08.927828Z",
     "shell.execute_reply": "2024-03-20T21:26:08.926479Z"
    },
    "papermill": {
     "duration": 0.396165,
     "end_time": "2024-03-20T21:26:08.930832",
     "exception": false,
     "start_time": "2024-03-20T21:26:08.534667",
     "status": "completed"
    },
    "tags": []
   },
   "outputs": [
    {
     "data": {
      "text/plain": [
       "<Axes: xlabel='price_range', ylabel='ram'>"
      ]
     },
     "execution_count": 18,
     "metadata": {},
     "output_type": "execute_result"
    },
    {
     "data": {
      "image/png": "[encoded data removed]",
      "text/plain": [
       "<Figure size 640x480 with 1 Axes>"
      ]
     },
     "metadata": {},
     "output_type": "display_data"
    }
   ],
   "source": [
    "sns.scatterplot(data= train_data, x = 'price_range', y = 'ram')"
   ]
  },
  {
   "cell_type": "code",
   "execution_count": 19,
   "id": "882afcaf",
   "metadata": {
    "execution": {
     "iopub.execute_input": "2024-03-20T21:26:08.969462Z",
     "iopub.status.busy": "2024-03-20T21:26:08.968970Z",
     "iopub.status.idle": "2024-03-20T21:26:08.976327Z",
     "shell.execute_reply": "2024-03-20T21:26:08.975441Z"
    },
    "papermill": {
     "duration": 0.029478,
     "end_time": "2024-03-20T21:26:08.978567",
     "exception": false,
     "start_time": "2024-03-20T21:26:08.949089",
     "status": "completed"
    },
    "tags": []
   },
   "outputs": [
    {
     "data": {
      "text/plain": [
       "Index(['battery_power', 'blue', 'clock_speed', 'dual_sim', 'fc', 'four_g',\n",
       "       'int_memory', 'm_dep', 'mobile_wt', 'n_cores', 'pc', 'px_height',\n",
       "       'px_width', 'ram', 'sc_h', 'sc_w', 'talk_time', 'three_g',\n",
       "       'touch_screen', 'wifi', 'price_range'],\n",
       "      dtype='object')"
      ]
     },
     "execution_count": 19,
     "metadata": {},
     "output_type": "execute_result"
    }
   ],
   "source": [
    "train_data.columns"
   ]
  },
  {
   "cell_type": "code",
   "execution_count": 20,
   "id": "d3cffd5e",
   "metadata": {
    "execution": {
     "iopub.execute_input": "2024-03-20T21:26:09.018017Z",
     "iopub.status.busy": "2024-03-20T21:26:09.016871Z",
     "iopub.status.idle": "2024-03-20T21:26:09.022583Z",
     "shell.execute_reply": "2024-03-20T21:26:09.021563Z"
    },
    "papermill": {
     "duration": 0.028166,
     "end_time": "2024-03-20T21:26:09.025026",
     "exception": false,
     "start_time": "2024-03-20T21:26:08.996860",
     "status": "completed"
    },
    "tags": []
   },
   "outputs": [],
   "source": [
    "numerical_columns = ['battery_power',  'clock_speed',  'fc',\n",
    "       'int_memory', 'm_dep', 'mobile_wt', 'n_cores', 'pc', 'px_height',\n",
    "       'px_width', 'ram', 'sc_h', 'sc_w', 'talk_time']"
   ]
  },
  {
   "cell_type": "code",
   "execution_count": 21,
   "id": "65912ff6",
   "metadata": {
    "execution": {
     "iopub.execute_input": "2024-03-20T21:26:09.064886Z",
     "iopub.status.busy": "2024-03-20T21:26:09.064322Z",
     "iopub.status.idle": "2024-03-20T21:26:09.072895Z",
     "shell.execute_reply": "2024-03-20T21:26:09.071650Z"
    },
    "papermill": {
     "duration": 0.031815,
     "end_time": "2024-03-20T21:26:09.075350",
     "exception": false,
     "start_time": "2024-03-20T21:26:09.043535",
     "status": "completed"
    },
    "tags": []
   },
   "outputs": [
    {
     "data": {
      "text/plain": [
       "array([2.2, 0.5, 2.5, 1.2, 1.7, 0.6, 2.9, 2.8, 2.1, 1. , 0.9, 1.1, 2.6,\n",
       "       1.4, 1.6, 2.7, 1.3, 2.3, 2. , 1.8, 3. , 1.5, 1.9, 2.4, 0.8, 0.7])"
      ]
     },
     "execution_count": 21,
     "metadata": {},
     "output_type": "execute_result"
    }
   ],
   "source": [
    "train_data.clock_speed.unique()"
   ]
  },
  {
   "cell_type": "code",
   "execution_count": 22,
   "id": "be1b1b8c",
   "metadata": {
    "execution": {
     "iopub.execute_input": "2024-03-20T21:26:09.115652Z",
     "iopub.status.busy": "2024-03-20T21:26:09.114897Z",
     "iopub.status.idle": "2024-03-20T21:26:09.121924Z",
     "shell.execute_reply": "2024-03-20T21:26:09.120747Z"
    },
    "papermill": {
     "duration": 0.029755,
     "end_time": "2024-03-20T21:26:09.124264",
     "exception": false,
     "start_time": "2024-03-20T21:26:09.094509",
     "status": "completed"
    },
    "tags": []
   },
   "outputs": [],
   "source": [
    "def normalize(train_data, test_data, numerical_columns):\n",
    "    \n",
    "    max_ = train_data[numerical_columns].max()\n",
    "    min_ = train_data[numerical_columns].min()\n",
    "    train_data[numerical_columns] = (train_data[numerical_columns] - min_)/(max_ - min_)\n",
    "    test_data[numerical_columns] = (test_data[numerical_columns] - min_)/(max_ - min_)\n",
    "    return train_data, test_data"
   ]
  },
  {
   "cell_type": "code",
   "execution_count": 23,
   "id": "8466f4f6",
   "metadata": {
    "execution": {
     "iopub.execute_input": "2024-03-20T21:26:09.164792Z",
     "iopub.status.busy": "2024-03-20T21:26:09.163956Z",
     "iopub.status.idle": "2024-03-20T21:26:09.184947Z",
     "shell.execute_reply": "2024-03-20T21:26:09.183448Z"
    },
    "papermill": {
     "duration": 0.044513,
     "end_time": "2024-03-20T21:26:09.188035",
     "exception": false,
     "start_time": "2024-03-20T21:26:09.143522",
     "status": "completed"
    },
    "tags": []
   },
   "outputs": [],
   "source": [
    "train_data, test_data = normalize(train_data, test_data, numerical_columns)"
   ]
  },
  {
   "cell_type": "code",
   "execution_count": 24,
   "id": "96d6bff7",
   "metadata": {
    "execution": {
     "iopub.execute_input": "2024-03-20T21:26:09.230674Z",
     "iopub.status.busy": "2024-03-20T21:26:09.229285Z",
     "iopub.status.idle": "2024-03-20T21:26:09.308049Z",
     "shell.execute_reply": "2024-03-20T21:26:09.306775Z"
    },
    "papermill": {
     "duration": 0.103066,
     "end_time": "2024-03-20T21:26:09.310885",
     "exception": false,
     "start_time": "2024-03-20T21:26:09.207819",
     "status": "completed"
    },
    "tags": []
   },
   "outputs": [
    {
     "data": {
      "text/html": [
       "<div>\n",
       "<style scoped>\n",
       "    .dataframe tbody tr th:only-of-type {\n",
       "        vertical-align: middle;\n",
       "    }\n",
       "\n",
       "    .dataframe tbody tr th {\n",
       "        vertical-align: top;\n",
       "    }\n",
       "\n",
       "    .dataframe thead th {\n",
       "        text-align: right;\n",
       "    }\n",
       "</style>\n",
       "<table border=\"1\" class=\"dataframe\">\n",
       "  <thead>\n",
       "    <tr style=\"text-align: right;\">\n",
       "      <th></th>\n",
       "      <th>battery_power</th>\n",
       "      <th>blue</th>\n",
       "      <th>clock_speed</th>\n",
       "      <th>dual_sim</th>\n",
       "      <th>fc</th>\n",
       "      <th>four_g</th>\n",
       "      <th>int_memory</th>\n",
       "      <th>m_dep</th>\n",
       "      <th>mobile_wt</th>\n",
       "      <th>n_cores</th>\n",
       "      <th>...</th>\n",
       "      <th>px_height</th>\n",
       "      <th>px_width</th>\n",
       "      <th>ram</th>\n",
       "      <th>sc_h</th>\n",
       "      <th>sc_w</th>\n",
       "      <th>talk_time</th>\n",
       "      <th>three_g</th>\n",
       "      <th>touch_screen</th>\n",
       "      <th>wifi</th>\n",
       "      <th>price_range</th>\n",
       "    </tr>\n",
       "  </thead>\n",
       "  <tbody>\n",
       "    <tr>\n",
       "      <th>count</th>\n",
       "      <td>2000.000000</td>\n",
       "      <td>2000.0000</td>\n",
       "      <td>2000.000000</td>\n",
       "      <td>2000.000000</td>\n",
       "      <td>2000.000000</td>\n",
       "      <td>2000.000000</td>\n",
       "      <td>2000.000000</td>\n",
       "      <td>2000.000000</td>\n",
       "      <td>2000.000000</td>\n",
       "      <td>2000.000000</td>\n",
       "      <td>...</td>\n",
       "      <td>2000.000000</td>\n",
       "      <td>2000.000000</td>\n",
       "      <td>2000.000000</td>\n",
       "      <td>2000.000000</td>\n",
       "      <td>2000.000000</td>\n",
       "      <td>2000.000000</td>\n",
       "      <td>2000.000000</td>\n",
       "      <td>2000.000000</td>\n",
       "      <td>2000.000000</td>\n",
       "      <td>2000.000000</td>\n",
       "    </tr>\n",
       "    <tr>\n",
       "      <th>mean</th>\n",
       "      <td>0.492664</td>\n",
       "      <td>0.4950</td>\n",
       "      <td>0.408900</td>\n",
       "      <td>0.509500</td>\n",
       "      <td>0.226816</td>\n",
       "      <td>0.521500</td>\n",
       "      <td>0.484621</td>\n",
       "      <td>0.446389</td>\n",
       "      <td>0.502075</td>\n",
       "      <td>0.502929</td>\n",
       "      <td>...</td>\n",
       "      <td>0.329137</td>\n",
       "      <td>0.501679</td>\n",
       "      <td>0.499255</td>\n",
       "      <td>0.521893</td>\n",
       "      <td>0.320389</td>\n",
       "      <td>0.500611</td>\n",
       "      <td>0.761500</td>\n",
       "      <td>0.503000</td>\n",
       "      <td>0.507000</td>\n",
       "      <td>1.500000</td>\n",
       "    </tr>\n",
       "    <tr>\n",
       "      <th>std</th>\n",
       "      <td>0.293533</td>\n",
       "      <td>0.5001</td>\n",
       "      <td>0.326402</td>\n",
       "      <td>0.500035</td>\n",
       "      <td>0.228497</td>\n",
       "      <td>0.499662</td>\n",
       "      <td>0.292673</td>\n",
       "      <td>0.320462</td>\n",
       "      <td>0.294997</td>\n",
       "      <td>0.326834</td>\n",
       "      <td>...</td>\n",
       "      <td>0.226419</td>\n",
       "      <td>0.288518</td>\n",
       "      <td>0.289880</td>\n",
       "      <td>0.300946</td>\n",
       "      <td>0.242022</td>\n",
       "      <td>0.303553</td>\n",
       "      <td>0.426273</td>\n",
       "      <td>0.500116</td>\n",
       "      <td>0.500076</td>\n",
       "      <td>1.118314</td>\n",
       "    </tr>\n",
       "    <tr>\n",
       "      <th>min</th>\n",
       "      <td>0.000000</td>\n",
       "      <td>0.0000</td>\n",
       "      <td>0.000000</td>\n",
       "      <td>0.000000</td>\n",
       "      <td>0.000000</td>\n",
       "      <td>0.000000</td>\n",
       "      <td>0.000000</td>\n",
       "      <td>0.000000</td>\n",
       "      <td>0.000000</td>\n",
       "      <td>0.000000</td>\n",
       "      <td>...</td>\n",
       "      <td>0.000000</td>\n",
       "      <td>0.000000</td>\n",
       "      <td>0.000000</td>\n",
       "      <td>0.000000</td>\n",
       "      <td>0.000000</td>\n",
       "      <td>0.000000</td>\n",
       "      <td>0.000000</td>\n",
       "      <td>0.000000</td>\n",
       "      <td>0.000000</td>\n",
       "      <td>0.000000</td>\n",
       "    </tr>\n",
       "    <tr>\n",
       "      <th>25%</th>\n",
       "      <td>0.234302</td>\n",
       "      <td>0.0000</td>\n",
       "      <td>0.080000</td>\n",
       "      <td>0.000000</td>\n",
       "      <td>0.052632</td>\n",
       "      <td>0.000000</td>\n",
       "      <td>0.225806</td>\n",
       "      <td>0.111111</td>\n",
       "      <td>0.241667</td>\n",
       "      <td>0.285714</td>\n",
       "      <td>...</td>\n",
       "      <td>0.144260</td>\n",
       "      <td>0.250167</td>\n",
       "      <td>0.254276</td>\n",
       "      <td>0.285714</td>\n",
       "      <td>0.111111</td>\n",
       "      <td>0.222222</td>\n",
       "      <td>1.000000</td>\n",
       "      <td>0.000000</td>\n",
       "      <td>0.000000</td>\n",
       "      <td>0.750000</td>\n",
       "    </tr>\n",
       "    <tr>\n",
       "      <th>50%</th>\n",
       "      <td>0.484302</td>\n",
       "      <td>0.0000</td>\n",
       "      <td>0.400000</td>\n",
       "      <td>1.000000</td>\n",
       "      <td>0.157895</td>\n",
       "      <td>1.000000</td>\n",
       "      <td>0.483871</td>\n",
       "      <td>0.444444</td>\n",
       "      <td>0.508333</td>\n",
       "      <td>0.428571</td>\n",
       "      <td>...</td>\n",
       "      <td>0.287755</td>\n",
       "      <td>0.498665</td>\n",
       "      <td>0.505211</td>\n",
       "      <td>0.500000</td>\n",
       "      <td>0.277778</td>\n",
       "      <td>0.500000</td>\n",
       "      <td>1.000000</td>\n",
       "      <td>1.000000</td>\n",
       "      <td>1.000000</td>\n",
       "      <td>1.500000</td>\n",
       "    </tr>\n",
       "    <tr>\n",
       "      <th>75%</th>\n",
       "      <td>0.744322</td>\n",
       "      <td>1.0000</td>\n",
       "      <td>0.680000</td>\n",
       "      <td>1.000000</td>\n",
       "      <td>0.368421</td>\n",
       "      <td>1.000000</td>\n",
       "      <td>0.741935</td>\n",
       "      <td>0.777778</td>\n",
       "      <td>0.750000</td>\n",
       "      <td>0.857143</td>\n",
       "      <td>...</td>\n",
       "      <td>0.483291</td>\n",
       "      <td>0.756342</td>\n",
       "      <td>0.750534</td>\n",
       "      <td>0.785714</td>\n",
       "      <td>0.500000</td>\n",
       "      <td>0.777778</td>\n",
       "      <td>1.000000</td>\n",
       "      <td>1.000000</td>\n",
       "      <td>1.000000</td>\n",
       "      <td>2.250000</td>\n",
       "    </tr>\n",
       "    <tr>\n",
       "      <th>max</th>\n",
       "      <td>1.000000</td>\n",
       "      <td>1.0000</td>\n",
       "      <td>1.000000</td>\n",
       "      <td>1.000000</td>\n",
       "      <td>1.000000</td>\n",
       "      <td>1.000000</td>\n",
       "      <td>1.000000</td>\n",
       "      <td>1.000000</td>\n",
       "      <td>1.000000</td>\n",
       "      <td>1.000000</td>\n",
       "      <td>...</td>\n",
       "      <td>1.000000</td>\n",
       "      <td>1.000000</td>\n",
       "      <td>1.000000</td>\n",
       "      <td>1.000000</td>\n",
       "      <td>1.000000</td>\n",
       "      <td>1.000000</td>\n",
       "      <td>1.000000</td>\n",
       "      <td>1.000000</td>\n",
       "      <td>1.000000</td>\n",
       "      <td>3.000000</td>\n",
       "    </tr>\n",
       "  </tbody>\n",
       "</table>\n",
       "<p>8 rows × 21 columns</p>\n",
       "</div>"
      ],
      "text/plain": [
       "       battery_power       blue  clock_speed     dual_sim           fc  \\\n",
       "count    2000.000000  2000.0000  2000.000000  2000.000000  2000.000000   \n",
       "mean        0.492664     0.4950     0.408900     0.509500     0.226816   \n",
       "std         0.293533     0.5001     0.326402     0.500035     0.228497   \n",
       "min         0.000000     0.0000     0.000000     0.000000     0.000000   \n",
       "25%         0.234302     0.0000     0.080000     0.000000     0.052632   \n",
       "50%         0.484302     0.0000     0.400000     1.000000     0.157895   \n",
       "75%         0.744322     1.0000     0.680000     1.000000     0.368421   \n",
       "max         1.000000     1.0000     1.000000     1.000000     1.000000   \n",
       "\n",
       "            four_g   int_memory        m_dep    mobile_wt      n_cores  ...  \\\n",
       "count  2000.000000  2000.000000  2000.000000  2000.000000  2000.000000  ...   \n",
       "mean      0.521500     0.484621     0.446389     0.502075     0.502929  ...   \n",
       "std       0.499662     0.292673     0.320462     0.294997     0.326834  ...   \n",
       "min       0.000000     0.000000     0.000000     0.000000     0.000000  ...   \n",
       "25%       0.000000     0.225806     0.111111     0.241667     0.285714  ...   \n",
       "50%       1.000000     0.483871     0.444444     0.508333     0.428571  ...   \n",
       "75%       1.000000     0.741935     0.777778     0.750000     0.857143  ...   \n",
       "max       1.000000     1.000000     1.000000     1.000000     1.000000  ...   \n",
       "\n",
       "         px_height     px_width          ram         sc_h         sc_w  \\\n",
       "count  2000.000000  2000.000000  2000.000000  2000.000000  2000.000000   \n",
       "mean      0.329137     0.501679     0.499255     0.521893     0.320389   \n",
       "std       0.226419     0.288518     0.289880     0.300946     0.242022   \n",
       "min       0.000000     0.000000     0.000000     0.000000     0.000000   \n",
       "25%       0.144260     0.250167     0.254276     0.285714     0.111111   \n",
       "50%       0.287755     0.498665     0.505211     0.500000     0.277778   \n",
       "75%       0.483291     0.756342     0.750534     0.785714     0.500000   \n",
       "max       1.000000     1.000000     1.000000     1.000000     1.000000   \n",
       "\n",
       "         talk_time      three_g  touch_screen         wifi  price_range  \n",
       "count  2000.000000  2000.000000   2000.000000  2000.000000  2000.000000  \n",
       "mean      0.500611     0.761500      0.503000     0.507000     1.500000  \n",
       "std       0.303553     0.426273      0.500116     0.500076     1.118314  \n",
       "min       0.000000     0.000000      0.000000     0.000000     0.000000  \n",
       "25%       0.222222     1.000000      0.000000     0.000000     0.750000  \n",
       "50%       0.500000     1.000000      1.000000     1.000000     1.500000  \n",
       "75%       0.777778     1.000000      1.000000     1.000000     2.250000  \n",
       "max       1.000000     1.000000      1.000000     1.000000     3.000000  \n",
       "\n",
       "[8 rows x 21 columns]"
      ]
     },
     "execution_count": 24,
     "metadata": {},
     "output_type": "execute_result"
    }
   ],
   "source": [
    "train_data.describe()"
   ]
  },
  {
   "cell_type": "code",
   "execution_count": 25,
   "id": "9d78508f",
   "metadata": {
    "execution": {
     "iopub.execute_input": "2024-03-20T21:26:09.351378Z",
     "iopub.status.busy": "2024-03-20T21:26:09.350297Z",
     "iopub.status.idle": "2024-03-20T21:26:10.053610Z",
     "shell.execute_reply": "2024-03-20T21:26:10.052268Z"
    },
    "papermill": {
     "duration": 0.726511,
     "end_time": "2024-03-20T21:26:10.056380",
     "exception": false,
     "start_time": "2024-03-20T21:26:09.329869",
     "status": "completed"
    },
    "tags": []
   },
   "outputs": [
    {
     "data": {
      "text/plain": [
       "<Axes: >"
      ]
     },
     "execution_count": 25,
     "metadata": {},
     "output_type": "execute_result"
    },
    {
     "data": {
      "image/png": "[encoded data removed]",
      "text/plain": [
       "<Figure size 640x480 with 2 Axes>"
      ]
     },
     "metadata": {},
     "output_type": "display_data"
    }
   ],
   "source": [
    "sns.heatmap(train_data.corr(), cmap=\"YlGnBu\")"
   ]
  },
  {
   "cell_type": "code",
   "execution_count": 26,
   "id": "8d00cefe",
   "metadata": {
    "execution": {
     "iopub.execute_input": "2024-03-20T21:26:10.101020Z",
     "iopub.status.busy": "2024-03-20T21:26:10.100586Z",
     "iopub.status.idle": "2024-03-20T21:26:10.138792Z",
     "shell.execute_reply": "2024-03-20T21:26:10.136684Z"
    },
    "papermill": {
     "duration": 0.064688,
     "end_time": "2024-03-20T21:26:10.141933",
     "exception": false,
     "start_time": "2024-03-20T21:26:10.077245",
     "status": "completed"
    },
    "tags": []
   },
   "outputs": [
    {
     "name": "stdout",
     "output_type": "stream",
     "text": [
      "battery_power : 0.19999095450908858 - 1.7223057044179651e-19\n",
      "blue : 0.02057285406141849 - 0.3577984898948863\n",
      "clock_speed : -0.005436141356967046 - 0.8080352698801724\n",
      "dual_sim : 0.017444479237224732 - 0.4355601630195083\n",
      "fc : 0.024166831194135433 - 0.2800283622070244\n",
      "four_g : 0.014771711417239406 - 0.5091036529765862\n",
      "int_memory : 0.04427752850862638 - 0.04771653000554717\n",
      "m_dep : -0.0003218393921890176 - 0.9885235466145562\n",
      "mobile_wt : -0.030214005836468483 - 0.17679955873002617\n",
      "n_cores : 0.004651406909122466 - 0.83531617148015\n",
      "pc : 0.03282366022033268 - 0.1422682590465307\n",
      "px_height : 0.13188410283565175 - 3.2150109040420085e-09\n",
      "px_width : 0.1651336945326619 - 1.0740563666925509e-13\n",
      "ram : 0.9170797841496084 - 0.0\n",
      "sc_h : 0.023726584744656682 - 0.2888848842628786\n",
      "sc_w : 0.024775829231710497 - 0.2680838379943398\n",
      "talk_time : 0.022137565690070568 - 0.3224066623403745\n",
      "three_g : 0.023611216880045027 - 0.29123661631673065\n",
      "touch_screen : -0.030411071898217987 - 0.17399179859449332\n",
      "wifi : 0.018784812012788994 - 0.40111519435551646\n",
      "price_range : 1.0 - 0.0\n"
     ]
    }
   ],
   "source": [
    "select_columns = []\n",
    "for column in train_data.columns:\n",
    "    corr, p_value = spearmanr(train_data['price_range'], train_data[column])\n",
    "    print(f\"{column} : {corr} - {p_value}\")\n",
    "    if p_value <= 0.1 and column != 'price_range':\n",
    "        select_columns.append(column)"
   ]
  },
  {
   "cell_type": "code",
   "execution_count": 27,
   "id": "46334595",
   "metadata": {
    "execution": {
     "iopub.execute_input": "2024-03-20T21:26:10.185631Z",
     "iopub.status.busy": "2024-03-20T21:26:10.185122Z",
     "iopub.status.idle": "2024-03-20T21:26:10.192988Z",
     "shell.execute_reply": "2024-03-20T21:26:10.191802Z"
    },
    "papermill": {
     "duration": 0.033021,
     "end_time": "2024-03-20T21:26:10.195554",
     "exception": false,
     "start_time": "2024-03-20T21:26:10.162533",
     "status": "completed"
    },
    "tags": []
   },
   "outputs": [
    {
     "data": {
      "text/plain": [
       "['battery_power', 'int_memory', 'px_height', 'px_width', 'ram']"
      ]
     },
     "execution_count": 27,
     "metadata": {},
     "output_type": "execute_result"
    }
   ],
   "source": [
    "select_columns"
   ]
  },
  {
   "cell_type": "code",
   "execution_count": 28,
   "id": "2c620cc5",
   "metadata": {
    "execution": {
     "iopub.execute_input": "2024-03-20T21:26:10.242937Z",
     "iopub.status.busy": "2024-03-20T21:26:10.242458Z",
     "iopub.status.idle": "2024-03-20T21:26:10.525022Z",
     "shell.execute_reply": "2024-03-20T21:26:10.523933Z"
    },
    "papermill": {
     "duration": 0.309946,
     "end_time": "2024-03-20T21:26:10.527623",
     "exception": false,
     "start_time": "2024-03-20T21:26:10.217677",
     "status": "completed"
    },
    "tags": []
   },
   "outputs": [
    {
     "data": {
      "image/png": "[encoded data removed]",
      "text/plain": [
       "<Figure size 500x500 with 1 Axes>"
      ]
     },
     "metadata": {},
     "output_type": "display_data"
    }
   ],
   "source": [
    "plt.figure(figsize = (5,5))\n",
    "sns.countplot(data = train_data, x = 'touch_screen', hue = 'price_range')\n",
    "plt.show()"
   ]
  },
  {
   "cell_type": "code",
   "execution_count": 29,
   "id": "4d4567ca",
   "metadata": {
    "execution": {
     "iopub.execute_input": "2024-03-20T21:26:10.639348Z",
     "iopub.status.busy": "2024-03-20T21:26:10.637686Z",
     "iopub.status.idle": "2024-03-20T21:26:10.645535Z",
     "shell.execute_reply": "2024-03-20T21:26:10.644332Z"
    },
    "papermill": {
     "duration": 0.035006,
     "end_time": "2024-03-20T21:26:10.648481",
     "exception": false,
     "start_time": "2024-03-20T21:26:10.613475",
     "status": "completed"
    },
    "tags": []
   },
   "outputs": [],
   "source": [
    "X = train_data[select_columns]\n",
    "Y = train_data['price_range']"
   ]
  },
  {
   "cell_type": "code",
   "execution_count": 30,
   "id": "b5bd64f2",
   "metadata": {
    "execution": {
     "iopub.execute_input": "2024-03-20T21:26:10.692758Z",
     "iopub.status.busy": "2024-03-20T21:26:10.691640Z",
     "iopub.status.idle": "2024-03-20T21:26:10.702076Z",
     "shell.execute_reply": "2024-03-20T21:26:10.700922Z"
    },
    "papermill": {
     "duration": 0.035377,
     "end_time": "2024-03-20T21:26:10.704714",
     "exception": false,
     "start_time": "2024-03-20T21:26:10.669337",
     "status": "completed"
    },
    "tags": []
   },
   "outputs": [],
   "source": [
    "X_train, X_test, y_train, y_test = train_test_split(X,Y, test_size=0.30, random_state=42)"
   ]
  },
  {
   "cell_type": "code",
   "execution_count": 31,
   "id": "8a989f96",
   "metadata": {
    "execution": {
     "iopub.execute_input": "2024-03-20T21:26:10.749246Z",
     "iopub.status.busy": "2024-03-20T21:26:10.747879Z",
     "iopub.status.idle": "2024-03-20T21:26:10.791117Z",
     "shell.execute_reply": "2024-03-20T21:26:10.789679Z"
    },
    "papermill": {
     "duration": 0.068297,
     "end_time": "2024-03-20T21:26:10.793886",
     "exception": false,
     "start_time": "2024-03-20T21:26:10.725589",
     "status": "completed"
    },
    "tags": []
   },
   "outputs": [],
   "source": [
    "model1 = LogisticRegression().fit(X_train, y_train)"
   ]
  },
  {
   "cell_type": "code",
   "execution_count": 32,
   "id": "ef9c3988",
   "metadata": {
    "execution": {
     "iopub.execute_input": "2024-03-20T21:26:10.838325Z",
     "iopub.status.busy": "2024-03-20T21:26:10.837911Z",
     "iopub.status.idle": "2024-03-20T21:26:10.848857Z",
     "shell.execute_reply": "2024-03-20T21:26:10.847250Z"
    },
    "papermill": {
     "duration": 0.036473,
     "end_time": "2024-03-20T21:26:10.851550",
     "exception": false,
     "start_time": "2024-03-20T21:26:10.815077",
     "status": "completed"
    },
    "tags": []
   },
   "outputs": [],
   "source": [
    "predicted_train = model1.predict(X_train)\n",
    "predicted_test = model1.predict(X_test)"
   ]
  },
  {
   "cell_type": "code",
   "execution_count": 33,
   "id": "5fb8b0d1",
   "metadata": {
    "execution": {
     "iopub.execute_input": "2024-03-20T21:26:10.895214Z",
     "iopub.status.busy": "2024-03-20T21:26:10.894762Z",
     "iopub.status.idle": "2024-03-20T21:26:10.906089Z",
     "shell.execute_reply": "2024-03-20T21:26:10.904824Z"
    },
    "papermill": {
     "duration": 0.036804,
     "end_time": "2024-03-20T21:26:10.909167",
     "exception": false,
     "start_time": "2024-03-20T21:26:10.872363",
     "status": "completed"
    },
    "tags": []
   },
   "outputs": [
    {
     "data": {
      "text/plain": [
       "0.935"
      ]
     },
     "execution_count": 33,
     "metadata": {},
     "output_type": "execute_result"
    }
   ],
   "source": [
    "model1.score(X_train, y_train)"
   ]
  },
  {
   "cell_type": "code",
   "execution_count": 34,
   "id": "5c20c3c4",
   "metadata": {
    "execution": {
     "iopub.execute_input": "2024-03-20T21:26:10.954387Z",
     "iopub.status.busy": "2024-03-20T21:26:10.953529Z",
     "iopub.status.idle": "2024-03-20T21:26:10.964368Z",
     "shell.execute_reply": "2024-03-20T21:26:10.963215Z"
    },
    "papermill": {
     "duration": 0.036526,
     "end_time": "2024-03-20T21:26:10.966866",
     "exception": false,
     "start_time": "2024-03-20T21:26:10.930340",
     "status": "completed"
    },
    "tags": []
   },
   "outputs": [
    {
     "data": {
      "text/plain": [
       "0.9383333333333334"
      ]
     },
     "execution_count": 34,
     "metadata": {},
     "output_type": "execute_result"
    }
   ],
   "source": [
    "model1.score(X_test, y_test)"
   ]
  },
  {
   "cell_type": "code",
   "execution_count": 35,
   "id": "5a3a56c4",
   "metadata": {
    "execution": {
     "iopub.execute_input": "2024-03-20T21:26:11.011165Z",
     "iopub.status.busy": "2024-03-20T21:26:11.010696Z",
     "iopub.status.idle": "2024-03-20T21:26:12.521790Z",
     "shell.execute_reply": "2024-03-20T21:26:12.520554Z"
    },
    "papermill": {
     "duration": 1.536515,
     "end_time": "2024-03-20T21:26:12.524713",
     "exception": false,
     "start_time": "2024-03-20T21:26:10.988198",
     "status": "completed"
    },
    "tags": []
   },
   "outputs": [],
   "source": [
    "model2 = RandomForestRegressor(n_estimators=300).fit(X_train, y_train)"
   ]
  },
  {
   "cell_type": "code",
   "execution_count": 36,
   "id": "c16829bc",
   "metadata": {
    "execution": {
     "iopub.execute_input": "2024-03-20T21:26:12.573345Z",
     "iopub.status.busy": "2024-03-20T21:26:12.572915Z",
     "iopub.status.idle": "2024-03-20T21:26:12.658592Z",
     "shell.execute_reply": "2024-03-20T21:26:12.657016Z"
    },
    "papermill": {
     "duration": 0.1138,
     "end_time": "2024-03-20T21:26:12.661492",
     "exception": false,
     "start_time": "2024-03-20T21:26:12.547692",
     "status": "completed"
    },
    "tags": []
   },
   "outputs": [],
   "source": [
    "predicted_train = model2.predict(X_train)\n",
    "predicted_test = model2.predict(X_test)"
   ]
  },
  {
   "cell_type": "code",
   "execution_count": 37,
   "id": "149ea755",
   "metadata": {
    "execution": {
     "iopub.execute_input": "2024-03-20T21:26:12.706506Z",
     "iopub.status.busy": "2024-03-20T21:26:12.706086Z",
     "iopub.status.idle": "2024-03-20T21:26:12.761745Z",
     "shell.execute_reply": "2024-03-20T21:26:12.760297Z"
    },
    "papermill": {
     "duration": 0.082072,
     "end_time": "2024-03-20T21:26:12.765014",
     "exception": false,
     "start_time": "2024-03-20T21:26:12.682942",
     "status": "completed"
    },
    "tags": []
   },
   "outputs": [
    {
     "data": {
      "text/plain": [
       "0.9921051408463986"
      ]
     },
     "execution_count": 37,
     "metadata": {},
     "output_type": "execute_result"
    }
   ],
   "source": [
    "model2.score(X_train, y_train)"
   ]
  },
  {
   "cell_type": "code",
   "execution_count": 38,
   "id": "114090a0",
   "metadata": {
    "execution": {
     "iopub.execute_input": "2024-03-20T21:26:12.812746Z",
     "iopub.status.busy": "2024-03-20T21:26:12.812229Z",
     "iopub.status.idle": "2024-03-20T21:26:12.853745Z",
     "shell.execute_reply": "2024-03-20T21:26:12.852500Z"
    },
    "papermill": {
     "duration": 0.068219,
     "end_time": "2024-03-20T21:26:12.856242",
     "exception": false,
     "start_time": "2024-03-20T21:26:12.788023",
     "status": "completed"
    },
    "tags": []
   },
   "outputs": [
    {
     "data": {
      "text/plain": [
       "0.9427853233030954"
      ]
     },
     "execution_count": 38,
     "metadata": {},
     "output_type": "execute_result"
    }
   ],
   "source": [
    "model2.score(X_test, y_test)"
   ]
  },
  {
   "cell_type": "code",
   "execution_count": null,
   "id": "9a589ccb",
   "metadata": {
    "papermill": {
     "duration": 0.021304,
     "end_time": "2024-03-20T21:26:12.899248",
     "exception": false,
     "start_time": "2024-03-20T21:26:12.877944",
     "status": "completed"
    },
    "tags": []
   },
   "outputs": [],
   "source": []
  }
 ],
 "metadata": {
  "kaggle": {
   "accelerator": "none",
   "dataSources": [
    {
     "datasetId": 11167,
     "sourceId": 15520,
     "sourceType": "datasetVersion"
    }
   ],
   "dockerImageVersionId": 30664,
   "isGpuEnabled": false,
   "isInternetEnabled": true,
   "language": "python",
   "sourceType": "notebook"
  },
  "kernelspec": {
   "display_name": "Python 3",
   "language": "python",
   "name": "python3"
  },
  "language_info": {
   "codemirror_mode": {
    "name": "ipython",
    "version": 3
   },
   "file_extension": ".py",
   "mimetype": "text/x-python",
   "name": "python",
   "nbconvert_exporter": "python",
   "pygments_lexer": "ipython3",
   "version": "3.10.13"
  },
  "papermill": {
   "default_parameters": {},
   "duration": 15.324411,
   "end_time": "2024-03-20T21:26:13.843855",
   "environment_variables": {},
   "exception": null,
   "input_path": "__notebook__.ipynb",
   "output_path": "__notebook__.ipynb",
   "parameters": {},
   "start_time": "2024-03-20T21:25:58.519444",
   "version": "2.5.0"
  }
 },
 "nbformat": 4,
 "nbformat_minor": 5
}
